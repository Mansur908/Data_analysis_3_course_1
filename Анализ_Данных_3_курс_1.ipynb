{
  "nbformat": 4,
  "nbformat_minor": 0,
  "metadata": {
    "colab": {
      "name": "Анализ_Данных_3_курс_1.ipynb",
      "provenance": [],
      "collapsed_sections": []
    },
    "kernelspec": {
      "name": "python3",
      "display_name": "Python 3"
    },
    "language_info": {
      "name": "python"
    }
  },
  "cells": [
    {
      "cell_type": "markdown",
      "source": [
        "# Задача обнаружения аномалий"
      ],
      "metadata": {
        "id": "1gxyzf-GXEfU"
      }
    },
    {
      "cell_type": "markdown",
      "source": [
        "Данные Ак Барс банка по транзакциям людей, имеющих кредит"
      ],
      "metadata": {
        "id": "izwFPwcxXgIo"
      }
    },
    {
      "cell_type": "code",
      "execution_count": null,
      "metadata": {
        "colab": {
          "base_uri": "https://localhost:8080/"
        },
        "id": "Fy_zRM5i0RFI",
        "outputId": "2f908caf-977f-441b-8457-71ae777a7e2a"
      },
      "outputs": [
        {
          "output_type": "stream",
          "name": "stdout",
          "text": [
            "Mounted at /content/drive\n"
          ]
        }
      ],
      "source": [
        "from google.colab import drive\n",
        "drive.mount('/content/drive')"
      ]
    },
    {
      "cell_type": "code",
      "source": [
        "import numpy as np"
      ],
      "metadata": {
        "id": "iKtl-80_0StB"
      },
      "execution_count": null,
      "outputs": []
    },
    {
      "cell_type": "code",
      "source": [
        "import pandas as pd\n",
        "transactions = pd.read_excel(\"/content/drive/MyDrive/АББ_Карты.xlsx\", sheet_name='Транзакции')"
      ],
      "metadata": {
        "id": "TW03GmGO0cta"
      },
      "execution_count": null,
      "outputs": []
    },
    {
      "cell_type": "code",
      "source": [
        "appData = pd.read_excel(\"/content/drive/MyDrive/АББ_Карты.xlsx\", sheet_name='Заявки')"
      ],
      "metadata": {
        "id": "7Nh3ySrS0g--"
      },
      "execution_count": null,
      "outputs": []
    },
    {
      "cell_type": "code",
      "source": [
        "transactions.head()"
      ],
      "metadata": {
        "id": "_VgS6W4u0kzR",
        "colab": {
          "base_uri": "https://localhost:8080/",
          "height": 565
        },
        "outputId": "be11af18-47d7-4096-a1c0-2c301f100e19"
      },
      "execution_count": null,
      "outputs": [
        {
          "output_type": "execute_result",
          "data": {
            "text/html": [
              "\n",
              "  <div id=\"df-fe2ab456-df1c-4fba-9609-12652fd20403\">\n",
              "    <div class=\"colab-df-container\">\n",
              "      <div>\n",
              "<style scoped>\n",
              "    .dataframe tbody tr th:only-of-type {\n",
              "        vertical-align: middle;\n",
              "    }\n",
              "\n",
              "    .dataframe tbody tr th {\n",
              "        vertical-align: top;\n",
              "    }\n",
              "\n",
              "    .dataframe thead th {\n",
              "        text-align: right;\n",
              "    }\n",
              "</style>\n",
              "<table border=\"1\" class=\"dataframe\">\n",
              "  <thead>\n",
              "    <tr style=\"text-align: right;\">\n",
              "      <th></th>\n",
              "      <th>Идентификатор Клиента</th>\n",
              "      <th>Тип операции</th>\n",
              "      <th>Направление транзакции</th>\n",
              "      <th>Дата транзакции</th>\n",
              "      <th>Сумма транзакции</th>\n",
              "      <th>Валюта транзакции</th>\n",
              "      <th>Сумма транзакции в валюте платежной системы</th>\n",
              "      <th>Валюта платежной системы</th>\n",
              "      <th>MCC-код транзакции</th>\n",
              "      <th>MCC-код транзакции (наименование)</th>\n",
              "      <th>Бизнес-тип операции</th>\n",
              "      <th>Признак принадлежности транзакции в банкомате АББ</th>\n",
              "      <th>Признак принадлежности транзакции в стороннем банкомате</th>\n",
              "      <th>Тип карты</th>\n",
              "    </tr>\n",
              "  </thead>\n",
              "  <tbody>\n",
              "    <tr>\n",
              "      <th>0</th>\n",
              "      <td>id_1912</td>\n",
              "      <td>Transaction</td>\n",
              "      <td>-1</td>\n",
              "      <td>2019-11-08</td>\n",
              "      <td>69.00</td>\n",
              "      <td>Russian Ruble</td>\n",
              "      <td>69.00</td>\n",
              "      <td>Russian Ruble</td>\n",
              "      <td>4899</td>\n",
              "      <td>4899 Cable Services</td>\n",
              "      <td>Покупка в ТСП через чужой POS</td>\n",
              "      <td>0</td>\n",
              "      <td>0</td>\n",
              "      <td>Дебетовая карта</td>\n",
              "    </tr>\n",
              "    <tr>\n",
              "      <th>1</th>\n",
              "      <td>id_1912</td>\n",
              "      <td>Transaction</td>\n",
              "      <td>-1</td>\n",
              "      <td>2019-11-28</td>\n",
              "      <td>80.00</td>\n",
              "      <td>Russian Ruble</td>\n",
              "      <td>80.00</td>\n",
              "      <td>Russian Ruble</td>\n",
              "      <td>6012</td>\n",
              "      <td>6012 Member Financial Institutio</td>\n",
              "      <td>Прочее</td>\n",
              "      <td>0</td>\n",
              "      <td>0</td>\n",
              "      <td>Дебетовая карта</td>\n",
              "    </tr>\n",
              "    <tr>\n",
              "      <th>2</th>\n",
              "      <td>id_0874</td>\n",
              "      <td>Transaction</td>\n",
              "      <td>1</td>\n",
              "      <td>2019-10-18</td>\n",
              "      <td>13000.00</td>\n",
              "      <td>Russian Ruble</td>\n",
              "      <td>13000.00</td>\n",
              "      <td>Russian Ruble</td>\n",
              "      <td>6012</td>\n",
              "      <td>6012 Member Financial Institutio</td>\n",
              "      <td>Зачисление средств на карточный счет через инф...</td>\n",
              "      <td>0</td>\n",
              "      <td>0</td>\n",
              "      <td>Дебетовая карта</td>\n",
              "    </tr>\n",
              "    <tr>\n",
              "      <th>3</th>\n",
              "      <td>id_0874</td>\n",
              "      <td>Transaction</td>\n",
              "      <td>-1</td>\n",
              "      <td>2019-12-03</td>\n",
              "      <td>113.24</td>\n",
              "      <td>Russian Ruble</td>\n",
              "      <td>113.24</td>\n",
              "      <td>Russian Ruble</td>\n",
              "      <td>5411</td>\n",
              "      <td>5411 Grocery Stores,supermarkets</td>\n",
              "      <td>Покупка в ТСП через POS АББ</td>\n",
              "      <td>0</td>\n",
              "      <td>0</td>\n",
              "      <td>Дебетовая карта</td>\n",
              "    </tr>\n",
              "    <tr>\n",
              "      <th>4</th>\n",
              "      <td>id_0874</td>\n",
              "      <td>Transaction</td>\n",
              "      <td>1</td>\n",
              "      <td>2019-10-30</td>\n",
              "      <td>5000.00</td>\n",
              "      <td>Russian Ruble</td>\n",
              "      <td>5000.00</td>\n",
              "      <td>Russian Ruble</td>\n",
              "      <td>6012</td>\n",
              "      <td>6012 Member Financial Institutio</td>\n",
              "      <td>Зачисление средств на карточный счет через инф...</td>\n",
              "      <td>0</td>\n",
              "      <td>0</td>\n",
              "      <td>Дебетовая карта</td>\n",
              "    </tr>\n",
              "  </tbody>\n",
              "</table>\n",
              "</div>\n",
              "      <button class=\"colab-df-convert\" onclick=\"convertToInteractive('df-fe2ab456-df1c-4fba-9609-12652fd20403')\"\n",
              "              title=\"Convert this dataframe to an interactive table.\"\n",
              "              style=\"display:none;\">\n",
              "        \n",
              "  <svg xmlns=\"http://www.w3.org/2000/svg\" height=\"24px\"viewBox=\"0 0 24 24\"\n",
              "       width=\"24px\">\n",
              "    <path d=\"M0 0h24v24H0V0z\" fill=\"none\"/>\n",
              "    <path d=\"M18.56 5.44l.94 2.06.94-2.06 2.06-.94-2.06-.94-.94-2.06-.94 2.06-2.06.94zm-11 1L8.5 8.5l.94-2.06 2.06-.94-2.06-.94L8.5 2.5l-.94 2.06-2.06.94zm10 10l.94 2.06.94-2.06 2.06-.94-2.06-.94-.94-2.06-.94 2.06-2.06.94z\"/><path d=\"M17.41 7.96l-1.37-1.37c-.4-.4-.92-.59-1.43-.59-.52 0-1.04.2-1.43.59L10.3 9.45l-7.72 7.72c-.78.78-.78 2.05 0 2.83L4 21.41c.39.39.9.59 1.41.59.51 0 1.02-.2 1.41-.59l7.78-7.78 2.81-2.81c.8-.78.8-2.07 0-2.86zM5.41 20L4 18.59l7.72-7.72 1.47 1.35L5.41 20z\"/>\n",
              "  </svg>\n",
              "      </button>\n",
              "      \n",
              "  <style>\n",
              "    .colab-df-container {\n",
              "      display:flex;\n",
              "      flex-wrap:wrap;\n",
              "      gap: 12px;\n",
              "    }\n",
              "\n",
              "    .colab-df-convert {\n",
              "      background-color: #E8F0FE;\n",
              "      border: none;\n",
              "      border-radius: 50%;\n",
              "      cursor: pointer;\n",
              "      display: none;\n",
              "      fill: #1967D2;\n",
              "      height: 32px;\n",
              "      padding: 0 0 0 0;\n",
              "      width: 32px;\n",
              "    }\n",
              "\n",
              "    .colab-df-convert:hover {\n",
              "      background-color: #E2EBFA;\n",
              "      box-shadow: 0px 1px 2px rgba(60, 64, 67, 0.3), 0px 1px 3px 1px rgba(60, 64, 67, 0.15);\n",
              "      fill: #174EA6;\n",
              "    }\n",
              "\n",
              "    [theme=dark] .colab-df-convert {\n",
              "      background-color: #3B4455;\n",
              "      fill: #D2E3FC;\n",
              "    }\n",
              "\n",
              "    [theme=dark] .colab-df-convert:hover {\n",
              "      background-color: #434B5C;\n",
              "      box-shadow: 0px 1px 3px 1px rgba(0, 0, 0, 0.15);\n",
              "      filter: drop-shadow(0px 1px 2px rgba(0, 0, 0, 0.3));\n",
              "      fill: #FFFFFF;\n",
              "    }\n",
              "  </style>\n",
              "\n",
              "      <script>\n",
              "        const buttonEl =\n",
              "          document.querySelector('#df-fe2ab456-df1c-4fba-9609-12652fd20403 button.colab-df-convert');\n",
              "        buttonEl.style.display =\n",
              "          google.colab.kernel.accessAllowed ? 'block' : 'none';\n",
              "\n",
              "        async function convertToInteractive(key) {\n",
              "          const element = document.querySelector('#df-fe2ab456-df1c-4fba-9609-12652fd20403');\n",
              "          const dataTable =\n",
              "            await google.colab.kernel.invokeFunction('convertToInteractive',\n",
              "                                                     [key], {});\n",
              "          if (!dataTable) return;\n",
              "\n",
              "          const docLinkHtml = 'Like what you see? Visit the ' +\n",
              "            '<a target=\"_blank\" href=https://colab.research.google.com/notebooks/data_table.ipynb>data table notebook</a>'\n",
              "            + ' to learn more about interactive tables.';\n",
              "          element.innerHTML = '';\n",
              "          dataTable['output_type'] = 'display_data';\n",
              "          await google.colab.output.renderOutput(dataTable, element);\n",
              "          const docLink = document.createElement('div');\n",
              "          docLink.innerHTML = docLinkHtml;\n",
              "          element.appendChild(docLink);\n",
              "        }\n",
              "      </script>\n",
              "    </div>\n",
              "  </div>\n",
              "  "
            ],
            "text/plain": [
              "  Идентификатор Клиента  ...        Тип карты\n",
              "0               id_1912  ...  Дебетовая карта\n",
              "1               id_1912  ...  Дебетовая карта\n",
              "2               id_0874  ...  Дебетовая карта\n",
              "3               id_0874  ...  Дебетовая карта\n",
              "4               id_0874  ...  Дебетовая карта\n",
              "\n",
              "[5 rows x 14 columns]"
            ]
          },
          "metadata": {},
          "execution_count": 12
        }
      ]
    },
    {
      "cell_type": "code",
      "source": [
        "appData.head()"
      ],
      "metadata": {
        "id": "GySBomZp0mx5",
        "colab": {
          "base_uri": "https://localhost:8080/",
          "height": 206
        },
        "outputId": "57e97ef9-5ae1-4a6c-83b8-37a4a255b00d"
      },
      "execution_count": null,
      "outputs": [
        {
          "output_type": "execute_result",
          "data": {
            "text/html": [
              "\n",
              "  <div id=\"df-ea8d3444-69a1-48ef-a118-1fdbfcd58a4d\">\n",
              "    <div class=\"colab-df-container\">\n",
              "      <div>\n",
              "<style scoped>\n",
              "    .dataframe tbody tr th:only-of-type {\n",
              "        vertical-align: middle;\n",
              "    }\n",
              "\n",
              "    .dataframe tbody tr th {\n",
              "        vertical-align: top;\n",
              "    }\n",
              "\n",
              "    .dataframe thead th {\n",
              "        text-align: right;\n",
              "    }\n",
              "</style>\n",
              "<table border=\"1\" class=\"dataframe\">\n",
              "  <thead>\n",
              "    <tr style=\"text-align: right;\">\n",
              "      <th></th>\n",
              "      <th>ID (Идентификатор Заявки)</th>\n",
              "      <th>ID (Идентификатор Клиента)</th>\n",
              "      <th>Дата заявки</th>\n",
              "      <th>Target (Доход)</th>\n",
              "    </tr>\n",
              "  </thead>\n",
              "  <tbody>\n",
              "    <tr>\n",
              "      <th>0</th>\n",
              "      <td>N_0001</td>\n",
              "      <td>id_0001</td>\n",
              "      <td>2018-04-25</td>\n",
              "      <td>42757.16</td>\n",
              "    </tr>\n",
              "    <tr>\n",
              "      <th>1</th>\n",
              "      <td>N_0002</td>\n",
              "      <td>id_0002</td>\n",
              "      <td>2018-04-27</td>\n",
              "      <td>75932.43</td>\n",
              "    </tr>\n",
              "    <tr>\n",
              "      <th>2</th>\n",
              "      <td>N_0003</td>\n",
              "      <td>id_0003</td>\n",
              "      <td>2018-05-23</td>\n",
              "      <td>42340.00</td>\n",
              "    </tr>\n",
              "    <tr>\n",
              "      <th>3</th>\n",
              "      <td>N_0004</td>\n",
              "      <td>id_0004</td>\n",
              "      <td>2018-06-01</td>\n",
              "      <td>355876.44</td>\n",
              "    </tr>\n",
              "    <tr>\n",
              "      <th>4</th>\n",
              "      <td>N_0005</td>\n",
              "      <td>id_0005</td>\n",
              "      <td>2018-02-27</td>\n",
              "      <td>50000.00</td>\n",
              "    </tr>\n",
              "  </tbody>\n",
              "</table>\n",
              "</div>\n",
              "      <button class=\"colab-df-convert\" onclick=\"convertToInteractive('df-ea8d3444-69a1-48ef-a118-1fdbfcd58a4d')\"\n",
              "              title=\"Convert this dataframe to an interactive table.\"\n",
              "              style=\"display:none;\">\n",
              "        \n",
              "  <svg xmlns=\"http://www.w3.org/2000/svg\" height=\"24px\"viewBox=\"0 0 24 24\"\n",
              "       width=\"24px\">\n",
              "    <path d=\"M0 0h24v24H0V0z\" fill=\"none\"/>\n",
              "    <path d=\"M18.56 5.44l.94 2.06.94-2.06 2.06-.94-2.06-.94-.94-2.06-.94 2.06-2.06.94zm-11 1L8.5 8.5l.94-2.06 2.06-.94-2.06-.94L8.5 2.5l-.94 2.06-2.06.94zm10 10l.94 2.06.94-2.06 2.06-.94-2.06-.94-.94-2.06-.94 2.06-2.06.94z\"/><path d=\"M17.41 7.96l-1.37-1.37c-.4-.4-.92-.59-1.43-.59-.52 0-1.04.2-1.43.59L10.3 9.45l-7.72 7.72c-.78.78-.78 2.05 0 2.83L4 21.41c.39.39.9.59 1.41.59.51 0 1.02-.2 1.41-.59l7.78-7.78 2.81-2.81c.8-.78.8-2.07 0-2.86zM5.41 20L4 18.59l7.72-7.72 1.47 1.35L5.41 20z\"/>\n",
              "  </svg>\n",
              "      </button>\n",
              "      \n",
              "  <style>\n",
              "    .colab-df-container {\n",
              "      display:flex;\n",
              "      flex-wrap:wrap;\n",
              "      gap: 12px;\n",
              "    }\n",
              "\n",
              "    .colab-df-convert {\n",
              "      background-color: #E8F0FE;\n",
              "      border: none;\n",
              "      border-radius: 50%;\n",
              "      cursor: pointer;\n",
              "      display: none;\n",
              "      fill: #1967D2;\n",
              "      height: 32px;\n",
              "      padding: 0 0 0 0;\n",
              "      width: 32px;\n",
              "    }\n",
              "\n",
              "    .colab-df-convert:hover {\n",
              "      background-color: #E2EBFA;\n",
              "      box-shadow: 0px 1px 2px rgba(60, 64, 67, 0.3), 0px 1px 3px 1px rgba(60, 64, 67, 0.15);\n",
              "      fill: #174EA6;\n",
              "    }\n",
              "\n",
              "    [theme=dark] .colab-df-convert {\n",
              "      background-color: #3B4455;\n",
              "      fill: #D2E3FC;\n",
              "    }\n",
              "\n",
              "    [theme=dark] .colab-df-convert:hover {\n",
              "      background-color: #434B5C;\n",
              "      box-shadow: 0px 1px 3px 1px rgba(0, 0, 0, 0.15);\n",
              "      filter: drop-shadow(0px 1px 2px rgba(0, 0, 0, 0.3));\n",
              "      fill: #FFFFFF;\n",
              "    }\n",
              "  </style>\n",
              "\n",
              "      <script>\n",
              "        const buttonEl =\n",
              "          document.querySelector('#df-ea8d3444-69a1-48ef-a118-1fdbfcd58a4d button.colab-df-convert');\n",
              "        buttonEl.style.display =\n",
              "          google.colab.kernel.accessAllowed ? 'block' : 'none';\n",
              "\n",
              "        async function convertToInteractive(key) {\n",
              "          const element = document.querySelector('#df-ea8d3444-69a1-48ef-a118-1fdbfcd58a4d');\n",
              "          const dataTable =\n",
              "            await google.colab.kernel.invokeFunction('convertToInteractive',\n",
              "                                                     [key], {});\n",
              "          if (!dataTable) return;\n",
              "\n",
              "          const docLinkHtml = 'Like what you see? Visit the ' +\n",
              "            '<a target=\"_blank\" href=https://colab.research.google.com/notebooks/data_table.ipynb>data table notebook</a>'\n",
              "            + ' to learn more about interactive tables.';\n",
              "          element.innerHTML = '';\n",
              "          dataTable['output_type'] = 'display_data';\n",
              "          await google.colab.output.renderOutput(dataTable, element);\n",
              "          const docLink = document.createElement('div');\n",
              "          docLink.innerHTML = docLinkHtml;\n",
              "          element.appendChild(docLink);\n",
              "        }\n",
              "      </script>\n",
              "    </div>\n",
              "  </div>\n",
              "  "
            ],
            "text/plain": [
              "  ID (Идентификатор Заявки)  ... Target (Доход)\n",
              "0                    N_0001  ...       42757.16\n",
              "1                    N_0002  ...       75932.43\n",
              "2                    N_0003  ...       42340.00\n",
              "3                    N_0004  ...      355876.44\n",
              "4                    N_0005  ...       50000.00\n",
              "\n",
              "[5 rows x 4 columns]"
            ]
          },
          "metadata": {},
          "execution_count": 13
        }
      ]
    },
    {
      "cell_type": "code",
      "source": [
        "tr = pd.DataFrame(transactions).copy()"
      ],
      "metadata": {
        "id": "zmr8dN590nPn"
      },
      "execution_count": null,
      "outputs": []
    },
    {
      "cell_type": "code",
      "source": [
        "tr.shape"
      ],
      "metadata": {
        "id": "iTO4lC6k_kha",
        "colab": {
          "base_uri": "https://localhost:8080/"
        },
        "outputId": "644607d1-c38a-4cfe-dc4b-ac1b4988e272"
      },
      "execution_count": null,
      "outputs": [
        {
          "output_type": "execute_result",
          "data": {
            "text/plain": [
              "(934556, 14)"
            ]
          },
          "metadata": {},
          "execution_count": 67
        }
      ]
    },
    {
      "cell_type": "code",
      "source": [
        "df = pd.DataFrame(appData).copy()\n",
        "df = df.drop(['ID (Идентификатор Заявки)', 'Дата заявки'], axis=1)\n",
        "df.rename(columns={'ID (Идентификатор Клиента)': 'id', 'Target (Доход)': 'Доход'}, inplace=True)"
      ],
      "metadata": {
        "id": "SB6pmbTV0n2r"
      },
      "execution_count": null,
      "outputs": []
    },
    {
      "cell_type": "markdown",
      "source": [
        "## Выделим основные категории расходов людей :"
      ],
      "metadata": {
        "id": "578pU2QUaLyW"
      }
    },
    {
      "cell_type": "markdown",
      "source": [
        "Медицинские услуги"
      ],
      "metadata": {
        "id": "vY678wkuZtPT"
      }
    },
    {
      "cell_type": "code",
      "source": [
        "df['Медицина'] = df.id.apply(lambda x: sum(tr[(tr['Идентификатор Клиента'] == x) & (tr['MCC-код транзакции'].isin([8099, 8021, 8062, 8011, 8071]))]['Сумма транзакции']))"
      ],
      "metadata": {
        "id": "Gnov4UC_Ok6K"
      },
      "execution_count": null,
      "outputs": []
    },
    {
      "cell_type": "markdown",
      "source": [
        "Развлечения – кино, театры, путешествия и т.д."
      ],
      "metadata": {
        "id": "HmuUhpPbZmha"
      }
    },
    {
      "cell_type": "code",
      "source": [
        "df['Развлечения'] = df.id.apply(lambda x: sum(tr[(tr['Идентификатор Клиента'] == x) & (tr['MCC-код транзакции'].isin([7832, 7994, 5192, 4722, 3047, 4582, 3000]))]['Сумма транзакции']) ) "
      ],
      "metadata": {
        "id": "WuGXH0ZzOAuf"
      },
      "execution_count": null,
      "outputs": []
    },
    {
      "cell_type": "markdown",
      "source": [
        "Техника"
      ],
      "metadata": {
        "id": "wlGP9HaWZ2-e"
      }
    },
    {
      "cell_type": "code",
      "source": [
        "df['Техника'] = df.id.apply(lambda x: sum(tr[(tr['Идентификатор Клиента'] == x) & (tr['MCC-код транзакции'].isin([4814, 4816, 5732, 5200, 5311]))]['Сумма транзакции']) ) "
      ],
      "metadata": {
        "id": "JAy5UExZNBR2"
      },
      "execution_count": null,
      "outputs": []
    },
    {
      "cell_type": "markdown",
      "source": [
        "Одежда "
      ],
      "metadata": {
        "id": "ZsJ5lAu4ZqWr"
      }
    },
    {
      "cell_type": "code",
      "source": [
        "df['Одежда'] = df.id.apply(lambda x: sum(tr[(tr['Идентификатор Клиента'] == x) & (tr['MCC-код транзакции'].isin([5651, 5661, 5977, 5691]))]['Сумма транзакции']) ) "
      ],
      "metadata": {
        "id": "SZf8r5dCMQHK"
      },
      "execution_count": null,
      "outputs": []
    },
    {
      "cell_type": "markdown",
      "source": [
        "Дети – одежда, питания, уход за детьми"
      ],
      "metadata": {
        "id": "3Eg18mSRZbHn"
      }
    },
    {
      "cell_type": "code",
      "source": [
        "df['Дети'] = df.id.apply(lambda x: sum(tr[(tr['Идентификатор Клиента'] == x) & (tr['MCC-код транзакции'].isin([5641, 8351]))]['Сумма транзакции']) ) "
      ],
      "metadata": {
        "id": "egu_LauLMCBY"
      },
      "execution_count": null,
      "outputs": []
    },
    {
      "cell_type": "markdown",
      "source": [
        "Еда – рестораны, кафе, супермаркеты, фаст-фуд, пекарни"
      ],
      "metadata": {
        "id": "ZtGIgVDNZX3c"
      }
    },
    {
      "cell_type": "code",
      "source": [
        "df['Еда'] = df.id.apply(lambda x: sum(tr[(tr['Идентификатор Клиента'] == x) & (tr['MCC-код транзакции'].isin([5411, 5814, 5499, 5812, 5451, 5813, 5462]))]['Сумма транзакции']) ) "
      ],
      "metadata": {
        "id": "VIX_GXLb3UWz"
      },
      "execution_count": null,
      "outputs": []
    },
    {
      "cell_type": "markdown",
      "source": [
        "Транспорт – проезд, ржд, авиабилеты(внутри страны), бензин, уход за транспортом"
      ],
      "metadata": {
        "id": "kRry_9uKY2A9"
      }
    },
    {
      "cell_type": "code",
      "source": [
        "df['Транспорт'] = df.id.apply(lambda x: sum(tr[(tr['Идентификатор Клиента'] == x) & (tr['MCC-код транзакции'].isin([4131, 4121, 7542, 4112, 5542, 7523]))]['Сумма транзакции']) ) "
      ],
      "metadata": {
        "id": "JRsn8omvA4_g"
      },
      "execution_count": null,
      "outputs": []
    },
    {
      "cell_type": "markdown",
      "source": [
        "Платежи по налогам"
      ],
      "metadata": {
        "id": "2yYSv0OzaCbR"
      }
    },
    {
      "cell_type": "code",
      "source": [
        "df['Налоги'] = df.id.apply(lambda x: sum(tr[(tr['Идентификатор Клиента'] == x) & ((tr['MCC-код транзакции'] == 9311))]['Сумма транзакции']) ) "
      ],
      "metadata": {
        "id": "yOr10wLyLMZL"
      },
      "execution_count": null,
      "outputs": []
    },
    {
      "cell_type": "markdown",
      "source": [
        "Все расходы человека"
      ],
      "metadata": {
        "id": "wYXkSZf9aGcn"
      }
    },
    {
      "cell_type": "code",
      "source": [
        "df['Все расходы'] = df.id.apply(lambda x: sum(tr[(tr['Идентификатор Клиента'] == x) & (tr['Направление транзакции'] == -1)]['Сумма транзакции']))"
      ],
      "metadata": {
        "id": "HDXCNkiiBqkH"
      },
      "execution_count": null,
      "outputs": []
    },
    {
      "cell_type": "markdown",
      "source": [
        "### Получаем следующий Dataframe по расходам:"
      ],
      "metadata": {
        "id": "A_qtpeT1a3lE"
      }
    },
    {
      "cell_type": "code",
      "source": [
        "df.head()"
      ],
      "metadata": {
        "colab": {
          "base_uri": "https://localhost:8080/",
          "height": 206
        },
        "id": "BWHbkXyp0oHn",
        "outputId": "5eec95e6-c218-49db-9876-b2adcf0f1565"
      },
      "execution_count": null,
      "outputs": [
        {
          "output_type": "execute_result",
          "data": {
            "text/html": [
              "\n",
              "  <div id=\"df-1472a4e3-a5e6-4e19-814f-a9091f79e492\">\n",
              "    <div class=\"colab-df-container\">\n",
              "      <div>\n",
              "<style scoped>\n",
              "    .dataframe tbody tr th:only-of-type {\n",
              "        vertical-align: middle;\n",
              "    }\n",
              "\n",
              "    .dataframe tbody tr th {\n",
              "        vertical-align: top;\n",
              "    }\n",
              "\n",
              "    .dataframe thead th {\n",
              "        text-align: right;\n",
              "    }\n",
              "</style>\n",
              "<table border=\"1\" class=\"dataframe\">\n",
              "  <thead>\n",
              "    <tr style=\"text-align: right;\">\n",
              "      <th></th>\n",
              "      <th>id</th>\n",
              "      <th>Доход</th>\n",
              "      <th>Медицина</th>\n",
              "      <th>Развлечения</th>\n",
              "      <th>Техника</th>\n",
              "      <th>Одежда</th>\n",
              "      <th>Дети</th>\n",
              "      <th>Еда</th>\n",
              "      <th>Транспорт</th>\n",
              "      <th>Налоги</th>\n",
              "      <th>Все расходы</th>\n",
              "    </tr>\n",
              "  </thead>\n",
              "  <tbody>\n",
              "    <tr>\n",
              "      <th>0</th>\n",
              "      <td>id_0001</td>\n",
              "      <td>42757.16</td>\n",
              "      <td>0.0</td>\n",
              "      <td>0.0</td>\n",
              "      <td>368.65</td>\n",
              "      <td>4139.00</td>\n",
              "      <td>0.0</td>\n",
              "      <td>1501.03</td>\n",
              "      <td>175.00</td>\n",
              "      <td>0.0</td>\n",
              "      <td>110869.68</td>\n",
              "    </tr>\n",
              "    <tr>\n",
              "      <th>1</th>\n",
              "      <td>id_0002</td>\n",
              "      <td>75932.43</td>\n",
              "      <td>13614.0</td>\n",
              "      <td>4074.0</td>\n",
              "      <td>132151.26</td>\n",
              "      <td>43510.45</td>\n",
              "      <td>4937.4</td>\n",
              "      <td>323821.22</td>\n",
              "      <td>78472.10</td>\n",
              "      <td>4160.0</td>\n",
              "      <td>3324984.92</td>\n",
              "    </tr>\n",
              "    <tr>\n",
              "      <th>2</th>\n",
              "      <td>id_0003</td>\n",
              "      <td>42340.00</td>\n",
              "      <td>0.0</td>\n",
              "      <td>0.0</td>\n",
              "      <td>4642.80</td>\n",
              "      <td>883.55</td>\n",
              "      <td>0.0</td>\n",
              "      <td>1834.40</td>\n",
              "      <td>0.00</td>\n",
              "      <td>1467.0</td>\n",
              "      <td>1110341.20</td>\n",
              "    </tr>\n",
              "    <tr>\n",
              "      <th>3</th>\n",
              "      <td>id_0004</td>\n",
              "      <td>355876.44</td>\n",
              "      <td>0.0</td>\n",
              "      <td>1934.0</td>\n",
              "      <td>21536.65</td>\n",
              "      <td>9717.00</td>\n",
              "      <td>468.0</td>\n",
              "      <td>28665.86</td>\n",
              "      <td>50237.67</td>\n",
              "      <td>0.0</td>\n",
              "      <td>4478743.54</td>\n",
              "    </tr>\n",
              "    <tr>\n",
              "      <th>4</th>\n",
              "      <td>id_0005</td>\n",
              "      <td>50000.00</td>\n",
              "      <td>0.0</td>\n",
              "      <td>0.0</td>\n",
              "      <td>330.00</td>\n",
              "      <td>104.00</td>\n",
              "      <td>0.0</td>\n",
              "      <td>324.00</td>\n",
              "      <td>0.00</td>\n",
              "      <td>0.0</td>\n",
              "      <td>230300.00</td>\n",
              "    </tr>\n",
              "  </tbody>\n",
              "</table>\n",
              "</div>\n",
              "      <button class=\"colab-df-convert\" onclick=\"convertToInteractive('df-1472a4e3-a5e6-4e19-814f-a9091f79e492')\"\n",
              "              title=\"Convert this dataframe to an interactive table.\"\n",
              "              style=\"display:none;\">\n",
              "        \n",
              "  <svg xmlns=\"http://www.w3.org/2000/svg\" height=\"24px\"viewBox=\"0 0 24 24\"\n",
              "       width=\"24px\">\n",
              "    <path d=\"M0 0h24v24H0V0z\" fill=\"none\"/>\n",
              "    <path d=\"M18.56 5.44l.94 2.06.94-2.06 2.06-.94-2.06-.94-.94-2.06-.94 2.06-2.06.94zm-11 1L8.5 8.5l.94-2.06 2.06-.94-2.06-.94L8.5 2.5l-.94 2.06-2.06.94zm10 10l.94 2.06.94-2.06 2.06-.94-2.06-.94-.94-2.06-.94 2.06-2.06.94z\"/><path d=\"M17.41 7.96l-1.37-1.37c-.4-.4-.92-.59-1.43-.59-.52 0-1.04.2-1.43.59L10.3 9.45l-7.72 7.72c-.78.78-.78 2.05 0 2.83L4 21.41c.39.39.9.59 1.41.59.51 0 1.02-.2 1.41-.59l7.78-7.78 2.81-2.81c.8-.78.8-2.07 0-2.86zM5.41 20L4 18.59l7.72-7.72 1.47 1.35L5.41 20z\"/>\n",
              "  </svg>\n",
              "      </button>\n",
              "      \n",
              "  <style>\n",
              "    .colab-df-container {\n",
              "      display:flex;\n",
              "      flex-wrap:wrap;\n",
              "      gap: 12px;\n",
              "    }\n",
              "\n",
              "    .colab-df-convert {\n",
              "      background-color: #E8F0FE;\n",
              "      border: none;\n",
              "      border-radius: 50%;\n",
              "      cursor: pointer;\n",
              "      display: none;\n",
              "      fill: #1967D2;\n",
              "      height: 32px;\n",
              "      padding: 0 0 0 0;\n",
              "      width: 32px;\n",
              "    }\n",
              "\n",
              "    .colab-df-convert:hover {\n",
              "      background-color: #E2EBFA;\n",
              "      box-shadow: 0px 1px 2px rgba(60, 64, 67, 0.3), 0px 1px 3px 1px rgba(60, 64, 67, 0.15);\n",
              "      fill: #174EA6;\n",
              "    }\n",
              "\n",
              "    [theme=dark] .colab-df-convert {\n",
              "      background-color: #3B4455;\n",
              "      fill: #D2E3FC;\n",
              "    }\n",
              "\n",
              "    [theme=dark] .colab-df-convert:hover {\n",
              "      background-color: #434B5C;\n",
              "      box-shadow: 0px 1px 3px 1px rgba(0, 0, 0, 0.15);\n",
              "      filter: drop-shadow(0px 1px 2px rgba(0, 0, 0, 0.3));\n",
              "      fill: #FFFFFF;\n",
              "    }\n",
              "  </style>\n",
              "\n",
              "      <script>\n",
              "        const buttonEl =\n",
              "          document.querySelector('#df-1472a4e3-a5e6-4e19-814f-a9091f79e492 button.colab-df-convert');\n",
              "        buttonEl.style.display =\n",
              "          google.colab.kernel.accessAllowed ? 'block' : 'none';\n",
              "\n",
              "        async function convertToInteractive(key) {\n",
              "          const element = document.querySelector('#df-1472a4e3-a5e6-4e19-814f-a9091f79e492');\n",
              "          const dataTable =\n",
              "            await google.colab.kernel.invokeFunction('convertToInteractive',\n",
              "                                                     [key], {});\n",
              "          if (!dataTable) return;\n",
              "\n",
              "          const docLinkHtml = 'Like what you see? Visit the ' +\n",
              "            '<a target=\"_blank\" href=https://colab.research.google.com/notebooks/data_table.ipynb>data table notebook</a>'\n",
              "            + ' to learn more about interactive tables.';\n",
              "          element.innerHTML = '';\n",
              "          dataTable['output_type'] = 'display_data';\n",
              "          await google.colab.output.renderOutput(dataTable, element);\n",
              "          const docLink = document.createElement('div');\n",
              "          docLink.innerHTML = docLinkHtml;\n",
              "          element.appendChild(docLink);\n",
              "        }\n",
              "      </script>\n",
              "    </div>\n",
              "  </div>\n",
              "  "
            ],
            "text/plain": [
              "        id      Доход  Медицина  ...  Транспорт  Налоги  Все расходы\n",
              "0  id_0001   42757.16       0.0  ...     175.00     0.0    110869.68\n",
              "1  id_0002   75932.43   13614.0  ...   78472.10  4160.0   3324984.92\n",
              "2  id_0003   42340.00       0.0  ...       0.00  1467.0   1110341.20\n",
              "3  id_0004  355876.44       0.0  ...   50237.67     0.0   4478743.54\n",
              "4  id_0005   50000.00       0.0  ...       0.00     0.0    230300.00\n",
              "\n",
              "[5 rows x 11 columns]"
            ]
          },
          "metadata": {},
          "execution_count": 80
        }
      ]
    },
    {
      "cell_type": "markdown",
      "source": [
        "### Создадим копию нашего DataFrame"
      ],
      "metadata": {
        "id": "6gHld6OZboNK"
      }
    },
    {
      "cell_type": "code",
      "source": [
        "t = pd.DataFrame(df).copy()"
      ],
      "metadata": {
        "id": "Pq9wXCyg8QRj"
      },
      "execution_count": null,
      "outputs": []
    },
    {
      "cell_type": "code",
      "source": [
        "t"
      ],
      "metadata": {
        "colab": {
          "base_uri": "https://localhost:8080/",
          "height": 424
        },
        "id": "JVCsgWkyF81b",
        "outputId": "52abe239-bbf6-4f0e-da3c-5aa8fe25a679"
      },
      "execution_count": null,
      "outputs": [
        {
          "output_type": "execute_result",
          "data": {
            "text/html": [
              "\n",
              "  <div id=\"df-92333c20-901f-421f-a95e-cbb4a32df7f3\">\n",
              "    <div class=\"colab-df-container\">\n",
              "      <div>\n",
              "<style scoped>\n",
              "    .dataframe tbody tr th:only-of-type {\n",
              "        vertical-align: middle;\n",
              "    }\n",
              "\n",
              "    .dataframe tbody tr th {\n",
              "        vertical-align: top;\n",
              "    }\n",
              "\n",
              "    .dataframe thead th {\n",
              "        text-align: right;\n",
              "    }\n",
              "</style>\n",
              "<table border=\"1\" class=\"dataframe\">\n",
              "  <thead>\n",
              "    <tr style=\"text-align: right;\">\n",
              "      <th></th>\n",
              "      <th>id</th>\n",
              "      <th>Доход</th>\n",
              "      <th>Медицина</th>\n",
              "      <th>Развлечения</th>\n",
              "      <th>Техника</th>\n",
              "      <th>Одежда</th>\n",
              "      <th>Дети</th>\n",
              "      <th>Еда</th>\n",
              "      <th>Транспорт</th>\n",
              "      <th>Налоги</th>\n",
              "      <th>Все расходы</th>\n",
              "    </tr>\n",
              "  </thead>\n",
              "  <tbody>\n",
              "    <tr>\n",
              "      <th>0</th>\n",
              "      <td>id_0001</td>\n",
              "      <td>42757.16</td>\n",
              "      <td>0.0</td>\n",
              "      <td>0.0</td>\n",
              "      <td>368.65</td>\n",
              "      <td>4139.00</td>\n",
              "      <td>0.0</td>\n",
              "      <td>1501.03</td>\n",
              "      <td>175.00</td>\n",
              "      <td>0.0</td>\n",
              "      <td>110869.68</td>\n",
              "    </tr>\n",
              "    <tr>\n",
              "      <th>1</th>\n",
              "      <td>id_0002</td>\n",
              "      <td>75932.43</td>\n",
              "      <td>13614.0</td>\n",
              "      <td>4074.0</td>\n",
              "      <td>132151.26</td>\n",
              "      <td>43510.45</td>\n",
              "      <td>4937.4</td>\n",
              "      <td>323821.22</td>\n",
              "      <td>78472.10</td>\n",
              "      <td>4160.0</td>\n",
              "      <td>3324984.92</td>\n",
              "    </tr>\n",
              "    <tr>\n",
              "      <th>2</th>\n",
              "      <td>id_0003</td>\n",
              "      <td>42340.00</td>\n",
              "      <td>0.0</td>\n",
              "      <td>0.0</td>\n",
              "      <td>4642.80</td>\n",
              "      <td>883.55</td>\n",
              "      <td>0.0</td>\n",
              "      <td>1834.40</td>\n",
              "      <td>0.00</td>\n",
              "      <td>1467.0</td>\n",
              "      <td>1110341.20</td>\n",
              "    </tr>\n",
              "    <tr>\n",
              "      <th>3</th>\n",
              "      <td>id_0004</td>\n",
              "      <td>355876.44</td>\n",
              "      <td>0.0</td>\n",
              "      <td>1934.0</td>\n",
              "      <td>21536.65</td>\n",
              "      <td>9717.00</td>\n",
              "      <td>468.0</td>\n",
              "      <td>28665.86</td>\n",
              "      <td>50237.67</td>\n",
              "      <td>0.0</td>\n",
              "      <td>4478743.54</td>\n",
              "    </tr>\n",
              "    <tr>\n",
              "      <th>4</th>\n",
              "      <td>id_0005</td>\n",
              "      <td>50000.00</td>\n",
              "      <td>0.0</td>\n",
              "      <td>0.0</td>\n",
              "      <td>330.00</td>\n",
              "      <td>104.00</td>\n",
              "      <td>0.0</td>\n",
              "      <td>324.00</td>\n",
              "      <td>0.00</td>\n",
              "      <td>0.0</td>\n",
              "      <td>230300.00</td>\n",
              "    </tr>\n",
              "    <tr>\n",
              "      <th>...</th>\n",
              "      <td>...</td>\n",
              "      <td>...</td>\n",
              "      <td>...</td>\n",
              "      <td>...</td>\n",
              "      <td>...</td>\n",
              "      <td>...</td>\n",
              "      <td>...</td>\n",
              "      <td>...</td>\n",
              "      <td>...</td>\n",
              "      <td>...</td>\n",
              "      <td>...</td>\n",
              "    </tr>\n",
              "    <tr>\n",
              "      <th>2577</th>\n",
              "      <td>id_2444</td>\n",
              "      <td>70551.11</td>\n",
              "      <td>0.0</td>\n",
              "      <td>0.0</td>\n",
              "      <td>2072.00</td>\n",
              "      <td>0.00</td>\n",
              "      <td>0.0</td>\n",
              "      <td>529.00</td>\n",
              "      <td>0.00</td>\n",
              "      <td>0.0</td>\n",
              "      <td>3001.00</td>\n",
              "    </tr>\n",
              "    <tr>\n",
              "      <th>2578</th>\n",
              "      <td>id_2445</td>\n",
              "      <td>107748.19</td>\n",
              "      <td>0.0</td>\n",
              "      <td>0.0</td>\n",
              "      <td>2916.00</td>\n",
              "      <td>499.00</td>\n",
              "      <td>0.0</td>\n",
              "      <td>11377.72</td>\n",
              "      <td>4196.10</td>\n",
              "      <td>0.0</td>\n",
              "      <td>256629.33</td>\n",
              "    </tr>\n",
              "    <tr>\n",
              "      <th>2579</th>\n",
              "      <td>id_1775</td>\n",
              "      <td>48358.92</td>\n",
              "      <td>0.0</td>\n",
              "      <td>0.0</td>\n",
              "      <td>0.00</td>\n",
              "      <td>0.00</td>\n",
              "      <td>0.0</td>\n",
              "      <td>0.00</td>\n",
              "      <td>0.00</td>\n",
              "      <td>0.0</td>\n",
              "      <td>181485.00</td>\n",
              "    </tr>\n",
              "    <tr>\n",
              "      <th>2580</th>\n",
              "      <td>id_2446</td>\n",
              "      <td>52200.00</td>\n",
              "      <td>0.0</td>\n",
              "      <td>0.0</td>\n",
              "      <td>0.00</td>\n",
              "      <td>12020.50</td>\n",
              "      <td>0.0</td>\n",
              "      <td>6752.39</td>\n",
              "      <td>0.00</td>\n",
              "      <td>430.0</td>\n",
              "      <td>99776.54</td>\n",
              "    </tr>\n",
              "    <tr>\n",
              "      <th>2581</th>\n",
              "      <td>id_2447</td>\n",
              "      <td>52232.77</td>\n",
              "      <td>0.0</td>\n",
              "      <td>0.0</td>\n",
              "      <td>0.00</td>\n",
              "      <td>0.00</td>\n",
              "      <td>0.0</td>\n",
              "      <td>0.00</td>\n",
              "      <td>0.00</td>\n",
              "      <td>0.0</td>\n",
              "      <td>270985.00</td>\n",
              "    </tr>\n",
              "  </tbody>\n",
              "</table>\n",
              "<p>2582 rows × 11 columns</p>\n",
              "</div>\n",
              "      <button class=\"colab-df-convert\" onclick=\"convertToInteractive('df-92333c20-901f-421f-a95e-cbb4a32df7f3')\"\n",
              "              title=\"Convert this dataframe to an interactive table.\"\n",
              "              style=\"display:none;\">\n",
              "        \n",
              "  <svg xmlns=\"http://www.w3.org/2000/svg\" height=\"24px\"viewBox=\"0 0 24 24\"\n",
              "       width=\"24px\">\n",
              "    <path d=\"M0 0h24v24H0V0z\" fill=\"none\"/>\n",
              "    <path d=\"M18.56 5.44l.94 2.06.94-2.06 2.06-.94-2.06-.94-.94-2.06-.94 2.06-2.06.94zm-11 1L8.5 8.5l.94-2.06 2.06-.94-2.06-.94L8.5 2.5l-.94 2.06-2.06.94zm10 10l.94 2.06.94-2.06 2.06-.94-2.06-.94-.94-2.06-.94 2.06-2.06.94z\"/><path d=\"M17.41 7.96l-1.37-1.37c-.4-.4-.92-.59-1.43-.59-.52 0-1.04.2-1.43.59L10.3 9.45l-7.72 7.72c-.78.78-.78 2.05 0 2.83L4 21.41c.39.39.9.59 1.41.59.51 0 1.02-.2 1.41-.59l7.78-7.78 2.81-2.81c.8-.78.8-2.07 0-2.86zM5.41 20L4 18.59l7.72-7.72 1.47 1.35L5.41 20z\"/>\n",
              "  </svg>\n",
              "      </button>\n",
              "      \n",
              "  <style>\n",
              "    .colab-df-container {\n",
              "      display:flex;\n",
              "      flex-wrap:wrap;\n",
              "      gap: 12px;\n",
              "    }\n",
              "\n",
              "    .colab-df-convert {\n",
              "      background-color: #E8F0FE;\n",
              "      border: none;\n",
              "      border-radius: 50%;\n",
              "      cursor: pointer;\n",
              "      display: none;\n",
              "      fill: #1967D2;\n",
              "      height: 32px;\n",
              "      padding: 0 0 0 0;\n",
              "      width: 32px;\n",
              "    }\n",
              "\n",
              "    .colab-df-convert:hover {\n",
              "      background-color: #E2EBFA;\n",
              "      box-shadow: 0px 1px 2px rgba(60, 64, 67, 0.3), 0px 1px 3px 1px rgba(60, 64, 67, 0.15);\n",
              "      fill: #174EA6;\n",
              "    }\n",
              "\n",
              "    [theme=dark] .colab-df-convert {\n",
              "      background-color: #3B4455;\n",
              "      fill: #D2E3FC;\n",
              "    }\n",
              "\n",
              "    [theme=dark] .colab-df-convert:hover {\n",
              "      background-color: #434B5C;\n",
              "      box-shadow: 0px 1px 3px 1px rgba(0, 0, 0, 0.15);\n",
              "      filter: drop-shadow(0px 1px 2px rgba(0, 0, 0, 0.3));\n",
              "      fill: #FFFFFF;\n",
              "    }\n",
              "  </style>\n",
              "\n",
              "      <script>\n",
              "        const buttonEl =\n",
              "          document.querySelector('#df-92333c20-901f-421f-a95e-cbb4a32df7f3 button.colab-df-convert');\n",
              "        buttonEl.style.display =\n",
              "          google.colab.kernel.accessAllowed ? 'block' : 'none';\n",
              "\n",
              "        async function convertToInteractive(key) {\n",
              "          const element = document.querySelector('#df-92333c20-901f-421f-a95e-cbb4a32df7f3');\n",
              "          const dataTable =\n",
              "            await google.colab.kernel.invokeFunction('convertToInteractive',\n",
              "                                                     [key], {});\n",
              "          if (!dataTable) return;\n",
              "\n",
              "          const docLinkHtml = 'Like what you see? Visit the ' +\n",
              "            '<a target=\"_blank\" href=https://colab.research.google.com/notebooks/data_table.ipynb>data table notebook</a>'\n",
              "            + ' to learn more about interactive tables.';\n",
              "          element.innerHTML = '';\n",
              "          dataTable['output_type'] = 'display_data';\n",
              "          await google.colab.output.renderOutput(dataTable, element);\n",
              "          const docLink = document.createElement('div');\n",
              "          docLink.innerHTML = docLinkHtml;\n",
              "          element.appendChild(docLink);\n",
              "        }\n",
              "      </script>\n",
              "    </div>\n",
              "  </div>\n",
              "  "
            ],
            "text/plain": [
              "           id      Доход  Медицина  ...  Транспорт  Налоги  Все расходы\n",
              "0     id_0001   42757.16       0.0  ...     175.00     0.0    110869.68\n",
              "1     id_0002   75932.43   13614.0  ...   78472.10  4160.0   3324984.92\n",
              "2     id_0003   42340.00       0.0  ...       0.00  1467.0   1110341.20\n",
              "3     id_0004  355876.44       0.0  ...   50237.67     0.0   4478743.54\n",
              "4     id_0005   50000.00       0.0  ...       0.00     0.0    230300.00\n",
              "...       ...        ...       ...  ...        ...     ...          ...\n",
              "2577  id_2444   70551.11       0.0  ...       0.00     0.0      3001.00\n",
              "2578  id_2445  107748.19       0.0  ...    4196.10     0.0    256629.33\n",
              "2579  id_1775   48358.92       0.0  ...       0.00     0.0    181485.00\n",
              "2580  id_2446   52200.00       0.0  ...       0.00   430.0     99776.54\n",
              "2581  id_2447   52232.77       0.0  ...       0.00     0.0    270985.00\n",
              "\n",
              "[2582 rows x 11 columns]"
            ]
          },
          "metadata": {},
          "execution_count": 100
        }
      ]
    },
    {
      "cell_type": "markdown",
      "source": [
        "### Мы имеем 2582 строки,некоторые строки имеют нули почти во всех столбцах, удалим эти строки:"
      ],
      "metadata": {
        "id": "TOI1LhKBb72P"
      }
    },
    {
      "cell_type": "code",
      "source": [
        "t = t.drop(t[(t['Медицина'] == 0) & \n",
        "             (t['Развлечения'] == 0) & \n",
        "             (t['Техника'] == 0) & \n",
        "             (t['Одежда'] == 0) & \n",
        "             (t['Дети'] == 0) &\n",
        "             (t['Еда'] == 0) &\n",
        "             (t['Транспорт'] == 0) &\n",
        "             (t['Налоги'] == 0)].index)"
      ],
      "metadata": {
        "id": "Ydj4EYRnDH2d"
      },
      "execution_count": null,
      "outputs": []
    },
    {
      "cell_type": "code",
      "source": [
        "t"
      ],
      "metadata": {
        "colab": {
          "base_uri": "https://localhost:8080/",
          "height": 424
        },
        "id": "c_yp_iv1Fpiw",
        "outputId": "5c088026-623b-4352-b92c-d9546163da39"
      },
      "execution_count": null,
      "outputs": [
        {
          "output_type": "execute_result",
          "data": {
            "text/html": [
              "\n",
              "  <div id=\"df-70397f73-7912-414d-ae95-ed0d07278557\">\n",
              "    <div class=\"colab-df-container\">\n",
              "      <div>\n",
              "<style scoped>\n",
              "    .dataframe tbody tr th:only-of-type {\n",
              "        vertical-align: middle;\n",
              "    }\n",
              "\n",
              "    .dataframe tbody tr th {\n",
              "        vertical-align: top;\n",
              "    }\n",
              "\n",
              "    .dataframe thead th {\n",
              "        text-align: right;\n",
              "    }\n",
              "</style>\n",
              "<table border=\"1\" class=\"dataframe\">\n",
              "  <thead>\n",
              "    <tr style=\"text-align: right;\">\n",
              "      <th></th>\n",
              "      <th>id</th>\n",
              "      <th>Доход</th>\n",
              "      <th>Медицина</th>\n",
              "      <th>Развлечения</th>\n",
              "      <th>Техника</th>\n",
              "      <th>Одежда</th>\n",
              "      <th>Дети</th>\n",
              "      <th>Еда</th>\n",
              "      <th>Транспорт</th>\n",
              "      <th>Налоги</th>\n",
              "      <th>Все расходы</th>\n",
              "    </tr>\n",
              "  </thead>\n",
              "  <tbody>\n",
              "    <tr>\n",
              "      <th>0</th>\n",
              "      <td>id_0001</td>\n",
              "      <td>42757.16</td>\n",
              "      <td>0.0</td>\n",
              "      <td>0.0</td>\n",
              "      <td>368.65</td>\n",
              "      <td>4139.00</td>\n",
              "      <td>0.0</td>\n",
              "      <td>1501.03</td>\n",
              "      <td>175.00</td>\n",
              "      <td>0.0</td>\n",
              "      <td>110869.68</td>\n",
              "    </tr>\n",
              "    <tr>\n",
              "      <th>1</th>\n",
              "      <td>id_0002</td>\n",
              "      <td>75932.43</td>\n",
              "      <td>13614.0</td>\n",
              "      <td>4074.0</td>\n",
              "      <td>132151.26</td>\n",
              "      <td>43510.45</td>\n",
              "      <td>4937.4</td>\n",
              "      <td>323821.22</td>\n",
              "      <td>78472.10</td>\n",
              "      <td>4160.0</td>\n",
              "      <td>3324984.92</td>\n",
              "    </tr>\n",
              "    <tr>\n",
              "      <th>2</th>\n",
              "      <td>id_0003</td>\n",
              "      <td>42340.00</td>\n",
              "      <td>0.0</td>\n",
              "      <td>0.0</td>\n",
              "      <td>4642.80</td>\n",
              "      <td>883.55</td>\n",
              "      <td>0.0</td>\n",
              "      <td>1834.40</td>\n",
              "      <td>0.00</td>\n",
              "      <td>1467.0</td>\n",
              "      <td>1110341.20</td>\n",
              "    </tr>\n",
              "    <tr>\n",
              "      <th>3</th>\n",
              "      <td>id_0004</td>\n",
              "      <td>355876.44</td>\n",
              "      <td>0.0</td>\n",
              "      <td>1934.0</td>\n",
              "      <td>21536.65</td>\n",
              "      <td>9717.00</td>\n",
              "      <td>468.0</td>\n",
              "      <td>28665.86</td>\n",
              "      <td>50237.67</td>\n",
              "      <td>0.0</td>\n",
              "      <td>4478743.54</td>\n",
              "    </tr>\n",
              "    <tr>\n",
              "      <th>4</th>\n",
              "      <td>id_0005</td>\n",
              "      <td>50000.00</td>\n",
              "      <td>0.0</td>\n",
              "      <td>0.0</td>\n",
              "      <td>330.00</td>\n",
              "      <td>104.00</td>\n",
              "      <td>0.0</td>\n",
              "      <td>324.00</td>\n",
              "      <td>0.00</td>\n",
              "      <td>0.0</td>\n",
              "      <td>230300.00</td>\n",
              "    </tr>\n",
              "    <tr>\n",
              "      <th>...</th>\n",
              "      <td>...</td>\n",
              "      <td>...</td>\n",
              "      <td>...</td>\n",
              "      <td>...</td>\n",
              "      <td>...</td>\n",
              "      <td>...</td>\n",
              "      <td>...</td>\n",
              "      <td>...</td>\n",
              "      <td>...</td>\n",
              "      <td>...</td>\n",
              "      <td>...</td>\n",
              "    </tr>\n",
              "    <tr>\n",
              "      <th>2574</th>\n",
              "      <td>id_2441</td>\n",
              "      <td>62060.27</td>\n",
              "      <td>0.0</td>\n",
              "      <td>350.0</td>\n",
              "      <td>0.00</td>\n",
              "      <td>0.00</td>\n",
              "      <td>0.0</td>\n",
              "      <td>943.88</td>\n",
              "      <td>0.00</td>\n",
              "      <td>0.0</td>\n",
              "      <td>151304.43</td>\n",
              "    </tr>\n",
              "    <tr>\n",
              "      <th>2575</th>\n",
              "      <td>id_2442</td>\n",
              "      <td>46005.15</td>\n",
              "      <td>0.0</td>\n",
              "      <td>0.0</td>\n",
              "      <td>0.00</td>\n",
              "      <td>2000.00</td>\n",
              "      <td>0.0</td>\n",
              "      <td>2064.00</td>\n",
              "      <td>0.00</td>\n",
              "      <td>0.0</td>\n",
              "      <td>552440.92</td>\n",
              "    </tr>\n",
              "    <tr>\n",
              "      <th>2577</th>\n",
              "      <td>id_2444</td>\n",
              "      <td>70551.11</td>\n",
              "      <td>0.0</td>\n",
              "      <td>0.0</td>\n",
              "      <td>2072.00</td>\n",
              "      <td>0.00</td>\n",
              "      <td>0.0</td>\n",
              "      <td>529.00</td>\n",
              "      <td>0.00</td>\n",
              "      <td>0.0</td>\n",
              "      <td>3001.00</td>\n",
              "    </tr>\n",
              "    <tr>\n",
              "      <th>2578</th>\n",
              "      <td>id_2445</td>\n",
              "      <td>107748.19</td>\n",
              "      <td>0.0</td>\n",
              "      <td>0.0</td>\n",
              "      <td>2916.00</td>\n",
              "      <td>499.00</td>\n",
              "      <td>0.0</td>\n",
              "      <td>11377.72</td>\n",
              "      <td>4196.10</td>\n",
              "      <td>0.0</td>\n",
              "      <td>256629.33</td>\n",
              "    </tr>\n",
              "    <tr>\n",
              "      <th>2580</th>\n",
              "      <td>id_2446</td>\n",
              "      <td>52200.00</td>\n",
              "      <td>0.0</td>\n",
              "      <td>0.0</td>\n",
              "      <td>0.00</td>\n",
              "      <td>12020.50</td>\n",
              "      <td>0.0</td>\n",
              "      <td>6752.39</td>\n",
              "      <td>0.00</td>\n",
              "      <td>430.0</td>\n",
              "      <td>99776.54</td>\n",
              "    </tr>\n",
              "  </tbody>\n",
              "</table>\n",
              "<p>2352 rows × 11 columns</p>\n",
              "</div>\n",
              "      <button class=\"colab-df-convert\" onclick=\"convertToInteractive('df-70397f73-7912-414d-ae95-ed0d07278557')\"\n",
              "              title=\"Convert this dataframe to an interactive table.\"\n",
              "              style=\"display:none;\">\n",
              "        \n",
              "  <svg xmlns=\"http://www.w3.org/2000/svg\" height=\"24px\"viewBox=\"0 0 24 24\"\n",
              "       width=\"24px\">\n",
              "    <path d=\"M0 0h24v24H0V0z\" fill=\"none\"/>\n",
              "    <path d=\"M18.56 5.44l.94 2.06.94-2.06 2.06-.94-2.06-.94-.94-2.06-.94 2.06-2.06.94zm-11 1L8.5 8.5l.94-2.06 2.06-.94-2.06-.94L8.5 2.5l-.94 2.06-2.06.94zm10 10l.94 2.06.94-2.06 2.06-.94-2.06-.94-.94-2.06-.94 2.06-2.06.94z\"/><path d=\"M17.41 7.96l-1.37-1.37c-.4-.4-.92-.59-1.43-.59-.52 0-1.04.2-1.43.59L10.3 9.45l-7.72 7.72c-.78.78-.78 2.05 0 2.83L4 21.41c.39.39.9.59 1.41.59.51 0 1.02-.2 1.41-.59l7.78-7.78 2.81-2.81c.8-.78.8-2.07 0-2.86zM5.41 20L4 18.59l7.72-7.72 1.47 1.35L5.41 20z\"/>\n",
              "  </svg>\n",
              "      </button>\n",
              "      \n",
              "  <style>\n",
              "    .colab-df-container {\n",
              "      display:flex;\n",
              "      flex-wrap:wrap;\n",
              "      gap: 12px;\n",
              "    }\n",
              "\n",
              "    .colab-df-convert {\n",
              "      background-color: #E8F0FE;\n",
              "      border: none;\n",
              "      border-radius: 50%;\n",
              "      cursor: pointer;\n",
              "      display: none;\n",
              "      fill: #1967D2;\n",
              "      height: 32px;\n",
              "      padding: 0 0 0 0;\n",
              "      width: 32px;\n",
              "    }\n",
              "\n",
              "    .colab-df-convert:hover {\n",
              "      background-color: #E2EBFA;\n",
              "      box-shadow: 0px 1px 2px rgba(60, 64, 67, 0.3), 0px 1px 3px 1px rgba(60, 64, 67, 0.15);\n",
              "      fill: #174EA6;\n",
              "    }\n",
              "\n",
              "    [theme=dark] .colab-df-convert {\n",
              "      background-color: #3B4455;\n",
              "      fill: #D2E3FC;\n",
              "    }\n",
              "\n",
              "    [theme=dark] .colab-df-convert:hover {\n",
              "      background-color: #434B5C;\n",
              "      box-shadow: 0px 1px 3px 1px rgba(0, 0, 0, 0.15);\n",
              "      filter: drop-shadow(0px 1px 2px rgba(0, 0, 0, 0.3));\n",
              "      fill: #FFFFFF;\n",
              "    }\n",
              "  </style>\n",
              "\n",
              "      <script>\n",
              "        const buttonEl =\n",
              "          document.querySelector('#df-70397f73-7912-414d-ae95-ed0d07278557 button.colab-df-convert');\n",
              "        buttonEl.style.display =\n",
              "          google.colab.kernel.accessAllowed ? 'block' : 'none';\n",
              "\n",
              "        async function convertToInteractive(key) {\n",
              "          const element = document.querySelector('#df-70397f73-7912-414d-ae95-ed0d07278557');\n",
              "          const dataTable =\n",
              "            await google.colab.kernel.invokeFunction('convertToInteractive',\n",
              "                                                     [key], {});\n",
              "          if (!dataTable) return;\n",
              "\n",
              "          const docLinkHtml = 'Like what you see? Visit the ' +\n",
              "            '<a target=\"_blank\" href=https://colab.research.google.com/notebooks/data_table.ipynb>data table notebook</a>'\n",
              "            + ' to learn more about interactive tables.';\n",
              "          element.innerHTML = '';\n",
              "          dataTable['output_type'] = 'display_data';\n",
              "          await google.colab.output.renderOutput(dataTable, element);\n",
              "          const docLink = document.createElement('div');\n",
              "          docLink.innerHTML = docLinkHtml;\n",
              "          element.appendChild(docLink);\n",
              "        }\n",
              "      </script>\n",
              "    </div>\n",
              "  </div>\n",
              "  "
            ],
            "text/plain": [
              "           id      Доход  Медицина  ...  Транспорт  Налоги  Все расходы\n",
              "0     id_0001   42757.16       0.0  ...     175.00     0.0    110869.68\n",
              "1     id_0002   75932.43   13614.0  ...   78472.10  4160.0   3324984.92\n",
              "2     id_0003   42340.00       0.0  ...       0.00  1467.0   1110341.20\n",
              "3     id_0004  355876.44       0.0  ...   50237.67     0.0   4478743.54\n",
              "4     id_0005   50000.00       0.0  ...       0.00     0.0    230300.00\n",
              "...       ...        ...       ...  ...        ...     ...          ...\n",
              "2574  id_2441   62060.27       0.0  ...       0.00     0.0    151304.43\n",
              "2575  id_2442   46005.15       0.0  ...       0.00     0.0    552440.92\n",
              "2577  id_2444   70551.11       0.0  ...       0.00     0.0      3001.00\n",
              "2578  id_2445  107748.19       0.0  ...    4196.10     0.0    256629.33\n",
              "2580  id_2446   52200.00       0.0  ...       0.00   430.0     99776.54\n",
              "\n",
              "[2352 rows x 11 columns]"
            ]
          },
          "metadata": {},
          "execution_count": 115
        }
      ]
    },
    {
      "cell_type": "markdown",
      "source": [
        "### Удалилось 230 строк"
      ],
      "metadata": {
        "id": "aQ2t4suRcaVE"
      }
    },
    {
      "cell_type": "code",
      "source": [
        "t.corr()"
      ],
      "metadata": {
        "colab": {
          "base_uri": "https://localhost:8080/",
          "height": 363
        },
        "id": "Xu3FPeZSJFax",
        "outputId": "bc35e607-dc11-47b3-caee-3f70dfb82f4c"
      },
      "execution_count": null,
      "outputs": [
        {
          "output_type": "execute_result",
          "data": {
            "text/html": [
              "\n",
              "  <div id=\"df-051d2fa3-b8c5-4ff6-9ecc-5e48e2d6058e\">\n",
              "    <div class=\"colab-df-container\">\n",
              "      <div>\n",
              "<style scoped>\n",
              "    .dataframe tbody tr th:only-of-type {\n",
              "        vertical-align: middle;\n",
              "    }\n",
              "\n",
              "    .dataframe tbody tr th {\n",
              "        vertical-align: top;\n",
              "    }\n",
              "\n",
              "    .dataframe thead th {\n",
              "        text-align: right;\n",
              "    }\n",
              "</style>\n",
              "<table border=\"1\" class=\"dataframe\">\n",
              "  <thead>\n",
              "    <tr style=\"text-align: right;\">\n",
              "      <th></th>\n",
              "      <th>Доход</th>\n",
              "      <th>Медицина</th>\n",
              "      <th>Развлечения</th>\n",
              "      <th>Техника</th>\n",
              "      <th>Одежда</th>\n",
              "      <th>Дети</th>\n",
              "      <th>Еда</th>\n",
              "      <th>Транспорт</th>\n",
              "      <th>Налоги</th>\n",
              "      <th>Все расходы</th>\n",
              "    </tr>\n",
              "  </thead>\n",
              "  <tbody>\n",
              "    <tr>\n",
              "      <th>Доход</th>\n",
              "      <td>1.000000</td>\n",
              "      <td>0.069487</td>\n",
              "      <td>0.007347</td>\n",
              "      <td>0.056123</td>\n",
              "      <td>0.074303</td>\n",
              "      <td>0.023455</td>\n",
              "      <td>0.055359</td>\n",
              "      <td>0.107031</td>\n",
              "      <td>0.035579</td>\n",
              "      <td>0.065901</td>\n",
              "    </tr>\n",
              "    <tr>\n",
              "      <th>Медицина</th>\n",
              "      <td>0.069487</td>\n",
              "      <td>1.000000</td>\n",
              "      <td>0.069285</td>\n",
              "      <td>0.201117</td>\n",
              "      <td>0.349400</td>\n",
              "      <td>0.198267</td>\n",
              "      <td>0.315371</td>\n",
              "      <td>0.167496</td>\n",
              "      <td>0.105192</td>\n",
              "      <td>0.156347</td>\n",
              "    </tr>\n",
              "    <tr>\n",
              "      <th>Развлечения</th>\n",
              "      <td>0.007347</td>\n",
              "      <td>0.069285</td>\n",
              "      <td>1.000000</td>\n",
              "      <td>0.134782</td>\n",
              "      <td>0.087036</td>\n",
              "      <td>0.014983</td>\n",
              "      <td>0.114473</td>\n",
              "      <td>0.081176</td>\n",
              "      <td>0.045794</td>\n",
              "      <td>0.110486</td>\n",
              "    </tr>\n",
              "    <tr>\n",
              "      <th>Техника</th>\n",
              "      <td>0.056123</td>\n",
              "      <td>0.201117</td>\n",
              "      <td>0.134782</td>\n",
              "      <td>1.000000</td>\n",
              "      <td>0.323186</td>\n",
              "      <td>0.190113</td>\n",
              "      <td>0.365981</td>\n",
              "      <td>0.172532</td>\n",
              "      <td>0.312039</td>\n",
              "      <td>0.238832</td>\n",
              "    </tr>\n",
              "    <tr>\n",
              "      <th>Одежда</th>\n",
              "      <td>0.074303</td>\n",
              "      <td>0.349400</td>\n",
              "      <td>0.087036</td>\n",
              "      <td>0.323186</td>\n",
              "      <td>1.000000</td>\n",
              "      <td>0.326040</td>\n",
              "      <td>0.470585</td>\n",
              "      <td>0.278015</td>\n",
              "      <td>0.200358</td>\n",
              "      <td>0.284199</td>\n",
              "    </tr>\n",
              "    <tr>\n",
              "      <th>Дети</th>\n",
              "      <td>0.023455</td>\n",
              "      <td>0.198267</td>\n",
              "      <td>0.014983</td>\n",
              "      <td>0.190113</td>\n",
              "      <td>0.326040</td>\n",
              "      <td>1.000000</td>\n",
              "      <td>0.263439</td>\n",
              "      <td>0.111876</td>\n",
              "      <td>0.158366</td>\n",
              "      <td>0.133445</td>\n",
              "    </tr>\n",
              "    <tr>\n",
              "      <th>Еда</th>\n",
              "      <td>0.055359</td>\n",
              "      <td>0.315371</td>\n",
              "      <td>0.114473</td>\n",
              "      <td>0.365981</td>\n",
              "      <td>0.470585</td>\n",
              "      <td>0.263439</td>\n",
              "      <td>1.000000</td>\n",
              "      <td>0.407422</td>\n",
              "      <td>0.244653</td>\n",
              "      <td>0.288750</td>\n",
              "    </tr>\n",
              "    <tr>\n",
              "      <th>Транспорт</th>\n",
              "      <td>0.107031</td>\n",
              "      <td>0.167496</td>\n",
              "      <td>0.081176</td>\n",
              "      <td>0.172532</td>\n",
              "      <td>0.278015</td>\n",
              "      <td>0.111876</td>\n",
              "      <td>0.407422</td>\n",
              "      <td>1.000000</td>\n",
              "      <td>0.130034</td>\n",
              "      <td>0.180066</td>\n",
              "    </tr>\n",
              "    <tr>\n",
              "      <th>Налоги</th>\n",
              "      <td>0.035579</td>\n",
              "      <td>0.105192</td>\n",
              "      <td>0.045794</td>\n",
              "      <td>0.312039</td>\n",
              "      <td>0.200358</td>\n",
              "      <td>0.158366</td>\n",
              "      <td>0.244653</td>\n",
              "      <td>0.130034</td>\n",
              "      <td>1.000000</td>\n",
              "      <td>0.171428</td>\n",
              "    </tr>\n",
              "    <tr>\n",
              "      <th>Все расходы</th>\n",
              "      <td>0.065901</td>\n",
              "      <td>0.156347</td>\n",
              "      <td>0.110486</td>\n",
              "      <td>0.238832</td>\n",
              "      <td>0.284199</td>\n",
              "      <td>0.133445</td>\n",
              "      <td>0.288750</td>\n",
              "      <td>0.180066</td>\n",
              "      <td>0.171428</td>\n",
              "      <td>1.000000</td>\n",
              "    </tr>\n",
              "  </tbody>\n",
              "</table>\n",
              "</div>\n",
              "      <button class=\"colab-df-convert\" onclick=\"convertToInteractive('df-051d2fa3-b8c5-4ff6-9ecc-5e48e2d6058e')\"\n",
              "              title=\"Convert this dataframe to an interactive table.\"\n",
              "              style=\"display:none;\">\n",
              "        \n",
              "  <svg xmlns=\"http://www.w3.org/2000/svg\" height=\"24px\"viewBox=\"0 0 24 24\"\n",
              "       width=\"24px\">\n",
              "    <path d=\"M0 0h24v24H0V0z\" fill=\"none\"/>\n",
              "    <path d=\"M18.56 5.44l.94 2.06.94-2.06 2.06-.94-2.06-.94-.94-2.06-.94 2.06-2.06.94zm-11 1L8.5 8.5l.94-2.06 2.06-.94-2.06-.94L8.5 2.5l-.94 2.06-2.06.94zm10 10l.94 2.06.94-2.06 2.06-.94-2.06-.94-.94-2.06-.94 2.06-2.06.94z\"/><path d=\"M17.41 7.96l-1.37-1.37c-.4-.4-.92-.59-1.43-.59-.52 0-1.04.2-1.43.59L10.3 9.45l-7.72 7.72c-.78.78-.78 2.05 0 2.83L4 21.41c.39.39.9.59 1.41.59.51 0 1.02-.2 1.41-.59l7.78-7.78 2.81-2.81c.8-.78.8-2.07 0-2.86zM5.41 20L4 18.59l7.72-7.72 1.47 1.35L5.41 20z\"/>\n",
              "  </svg>\n",
              "      </button>\n",
              "      \n",
              "  <style>\n",
              "    .colab-df-container {\n",
              "      display:flex;\n",
              "      flex-wrap:wrap;\n",
              "      gap: 12px;\n",
              "    }\n",
              "\n",
              "    .colab-df-convert {\n",
              "      background-color: #E8F0FE;\n",
              "      border: none;\n",
              "      border-radius: 50%;\n",
              "      cursor: pointer;\n",
              "      display: none;\n",
              "      fill: #1967D2;\n",
              "      height: 32px;\n",
              "      padding: 0 0 0 0;\n",
              "      width: 32px;\n",
              "    }\n",
              "\n",
              "    .colab-df-convert:hover {\n",
              "      background-color: #E2EBFA;\n",
              "      box-shadow: 0px 1px 2px rgba(60, 64, 67, 0.3), 0px 1px 3px 1px rgba(60, 64, 67, 0.15);\n",
              "      fill: #174EA6;\n",
              "    }\n",
              "\n",
              "    [theme=dark] .colab-df-convert {\n",
              "      background-color: #3B4455;\n",
              "      fill: #D2E3FC;\n",
              "    }\n",
              "\n",
              "    [theme=dark] .colab-df-convert:hover {\n",
              "      background-color: #434B5C;\n",
              "      box-shadow: 0px 1px 3px 1px rgba(0, 0, 0, 0.15);\n",
              "      filter: drop-shadow(0px 1px 2px rgba(0, 0, 0, 0.3));\n",
              "      fill: #FFFFFF;\n",
              "    }\n",
              "  </style>\n",
              "\n",
              "      <script>\n",
              "        const buttonEl =\n",
              "          document.querySelector('#df-051d2fa3-b8c5-4ff6-9ecc-5e48e2d6058e button.colab-df-convert');\n",
              "        buttonEl.style.display =\n",
              "          google.colab.kernel.accessAllowed ? 'block' : 'none';\n",
              "\n",
              "        async function convertToInteractive(key) {\n",
              "          const element = document.querySelector('#df-051d2fa3-b8c5-4ff6-9ecc-5e48e2d6058e');\n",
              "          const dataTable =\n",
              "            await google.colab.kernel.invokeFunction('convertToInteractive',\n",
              "                                                     [key], {});\n",
              "          if (!dataTable) return;\n",
              "\n",
              "          const docLinkHtml = 'Like what you see? Visit the ' +\n",
              "            '<a target=\"_blank\" href=https://colab.research.google.com/notebooks/data_table.ipynb>data table notebook</a>'\n",
              "            + ' to learn more about interactive tables.';\n",
              "          element.innerHTML = '';\n",
              "          dataTable['output_type'] = 'display_data';\n",
              "          await google.colab.output.renderOutput(dataTable, element);\n",
              "          const docLink = document.createElement('div');\n",
              "          docLink.innerHTML = docLinkHtml;\n",
              "          element.appendChild(docLink);\n",
              "        }\n",
              "      </script>\n",
              "    </div>\n",
              "  </div>\n",
              "  "
            ],
            "text/plain": [
              "                Доход  Медицина  Развлечения  ...  Транспорт    Налоги  Все расходы\n",
              "Доход        1.000000  0.069487     0.007347  ...   0.107031  0.035579     0.065901\n",
              "Медицина     0.069487  1.000000     0.069285  ...   0.167496  0.105192     0.156347\n",
              "Развлечения  0.007347  0.069285     1.000000  ...   0.081176  0.045794     0.110486\n",
              "Техника      0.056123  0.201117     0.134782  ...   0.172532  0.312039     0.238832\n",
              "Одежда       0.074303  0.349400     0.087036  ...   0.278015  0.200358     0.284199\n",
              "Дети         0.023455  0.198267     0.014983  ...   0.111876  0.158366     0.133445\n",
              "Еда          0.055359  0.315371     0.114473  ...   0.407422  0.244653     0.288750\n",
              "Транспорт    0.107031  0.167496     0.081176  ...   1.000000  0.130034     0.180066\n",
              "Налоги       0.035579  0.105192     0.045794  ...   0.130034  1.000000     0.171428\n",
              "Все расходы  0.065901  0.156347     0.110486  ...   0.180066  0.171428     1.000000\n",
              "\n",
              "[10 rows x 10 columns]"
            ]
          },
          "metadata": {},
          "execution_count": 136
        }
      ]
    },
    {
      "cell_type": "code",
      "source": [
        "t['Доход'].hist(log=True)"
      ],
      "metadata": {
        "colab": {
          "base_uri": "https://localhost:8080/",
          "height": 295
        },
        "id": "JoiW0NeO-Yr7",
        "outputId": "42396f4e-57b1-46b7-affe-e08af7aa91ea"
      },
      "execution_count": null,
      "outputs": [
        {
          "output_type": "execute_result",
          "data": {
            "text/plain": [
              "<matplotlib.axes._subplots.AxesSubplot at 0x7ff7424d47d0>"
            ]
          },
          "metadata": {},
          "execution_count": 118
        },
        {
          "output_type": "display_data",
          "data": {
            "image/png": "[encoded data removed]",
            "text/plain": [
              "<Figure size 432x288 with 1 Axes>"
            ]
          },
          "metadata": {
            "needs_background": "light"
          }
        }
      ]
    },
    {
      "cell_type": "markdown",
      "source": [
        "На гистограмме доходов можно заметить два потенциальных выброса"
      ],
      "metadata": {
        "id": "irKDroRReuDv"
      }
    },
    {
      "cell_type": "code",
      "source": [
        "t['Все расходы'].hist(log=True)"
      ],
      "metadata": {
        "colab": {
          "base_uri": "https://localhost:8080/",
          "height": 295
        },
        "id": "wocI17FS-maE",
        "outputId": "955d4c0e-a02d-4a13-d14b-c69c7d928ce0"
      },
      "execution_count": null,
      "outputs": [
        {
          "output_type": "execute_result",
          "data": {
            "text/plain": [
              "<matplotlib.axes._subplots.AxesSubplot at 0x7ff720d6b510>"
            ]
          },
          "metadata": {},
          "execution_count": 119
        },
        {
          "output_type": "display_data",
          "data": {
            "image/png": "[encoded data removed]",
            "text/plain": [
              "<Figure size 432x288 with 1 Axes>"
            ]
          },
          "metadata": {
            "needs_background": "light"
          }
        }
      ]
    },
    {
      "cell_type": "markdown",
      "source": [
        "На гистограмме всех расходов можно заметить один потенциальный выброс"
      ],
      "metadata": {
        "id": "tfcEm7J7fJWU"
      }
    },
    {
      "cell_type": "code",
      "source": [
        "t['Еда'].hist(log=True)"
      ],
      "metadata": {
        "colab": {
          "base_uri": "https://localhost:8080/",
          "height": 295
        },
        "id": "BROJ3sLD-qVK",
        "outputId": "398967a5-fc47-4503-bee4-09a7435c7b55"
      },
      "execution_count": null,
      "outputs": [
        {
          "output_type": "execute_result",
          "data": {
            "text/plain": [
              "<matplotlib.axes._subplots.AxesSubplot at 0x7ff730fab650>"
            ]
          },
          "metadata": {},
          "execution_count": 120
        },
        {
          "output_type": "display_data",
          "data": {
            "image/png": "[encoded data removed]",
            "text/plain": [
              "<Figure size 432x288 with 1 Axes>"
            ]
          },
          "metadata": {
            "needs_background": "light"
          }
        }
      ]
    },
    {
      "cell_type": "markdown",
      "source": [
        "На гистограмме расходов на еду можно заметить один потенциальный выброс"
      ],
      "metadata": {
        "id": "Wnm91J-HfRaK"
      }
    },
    {
      "cell_type": "markdown",
      "source": [
        "## Построим кластеры для разных категорий расходов"
      ],
      "metadata": {
        "id": "Y31demfZfbid"
      }
    },
    {
      "cell_type": "code",
      "source": [
        "from pandas.core.common import random_state\n",
        "from sklearn.cluster import AgglomerativeClustering\n",
        "from sklearn.cluster import KMeans\n",
        "import plotly.offline as py\n",
        "import matplotlib.pyplot as plt"
      ],
      "metadata": {
        "id": "mVx8-VG9X8ck"
      },
      "execution_count": null,
      "outputs": []
    },
    {
      "cell_type": "markdown",
      "source": [
        "### Определяем количество кластеров с малой ошибкой:"
      ],
      "metadata": {
        "id": "IrXZMbuMfxq2"
      }
    },
    {
      "cell_type": "code",
      "source": [
        "X = t.loc[:, ['Все расходы', 'Доход']].values\n",
        "\n",
        "wcss = []\n",
        "for i in range(1,11):\n",
        "  kmeans = KMeans(n_clusters=i, init='k-means++', random_state=42)\n",
        "  kmeans.fit(X)\n",
        "  wcss.append(kmeans.inertia_)\n",
        "plt.plot(range(1,11), wcss)\n",
        "plt.show()\n"
      ],
      "metadata": {
        "colab": {
          "base_uri": "https://localhost:8080/",
          "height": 276
        },
        "id": "uXgWJLn1Hr6P",
        "outputId": "2e96dfc1-843c-41fb-b133-323c6a8b2af2"
      },
      "execution_count": null,
      "outputs": [
        {
          "output_type": "display_data",
          "data": {
            "image/png": "[encoded data removed]",
            "text/plain": [
              "<Figure size 432x288 with 1 Axes>"
            ]
          },
          "metadata": {
            "needs_background": "light"
          }
        }
      ]
    },
    {
      "cell_type": "markdown",
      "source": [
        "Видим что оптимальное количество кластеров 4"
      ],
      "metadata": {
        "id": "BMLddXIwgB6J"
      }
    },
    {
      "cell_type": "code",
      "source": [
        "hc = KMeans(n_clusters = 4, init = 'k-means++', max_iter = 300, n_init = 10, random_state = 42)\n",
        "y_hc = hc.fit(X)"
      ],
      "metadata": {
        "id": "62kIACAmJMyr"
      },
      "execution_count": null,
      "outputs": []
    },
    {
      "cell_type": "markdown",
      "source": [
        "### Построим график:"
      ],
      "metadata": {
        "id": "d4H7JMMIgT3J"
      }
    },
    {
      "cell_type": "code",
      "source": [
        "import plotly.graph_objs as go\n",
        "\n",
        "\n",
        "trace1 = go.Scatter(x=t['Все расходы'], y=t['Доход'], mode='markers',\n",
        "     marker=dict(\n",
        "        color = y_hc.labels_, \n",
        "        size= 10,\n",
        "        line=dict(\n",
        "            color= y_hc.labels_,\n",
        "            width= 12\n",
        "        ),\n",
        "        opacity=0.8\n",
        "     ))\n",
        "\n",
        "qw = [trace1]\n",
        "\n",
        "layout = go.Layout(\n",
        "    height = 500,\n",
        "    width = 1300,\n",
        "    xaxis_title=\"Все расходы\",\n",
        "    yaxis_title=\"Доход\",\n",
        ")\n",
        "\n",
        "fig = go.Figure(data = qw, layout = layout)\n",
        "py.iplot(fig)"
      ],
      "metadata": {
        "colab": {
          "base_uri": "https://localhost:8080/",
          "height": 537
        },
        "id": "wZEF6hVL-DuA",
        "outputId": "db43c760-4d14-4e24-b5c7-d3f7b1ecc024"
      },
      "execution_count": null,
      "outputs": [
        {
          "output_type": "display_data",
          "data": {
            "text/html": [
              "<html>\n",
              "<head><meta charset=\"utf-8\" /></head>\n",
              "<body>\n",
              "    <div>\n",
              "            <script src=\"https://cdnjs.cloudflare.com/ajax/libs/mathjax/2.7.5/MathJax.js?config=TeX-AMS-MML_SVG\"></script><script type=\"text/javascript\">if (window.MathJax) {MathJax.Hub.Config({SVG: {font: \"STIX-Web\"}});}</script>\n",
              "                <script type=\"text/javascript\">window.PlotlyConfig = {MathJaxConfig: 'local'};</script>\n",
              "        <script src=\"https://cdn.plot.ly/plotly-latest.min.js\"></script>    \n",
              "            <div id=\"c90480db-83d1-4de3-883a-f305b4a1d362\" class=\"plotly-graph-div\" style=\"height:500px; width:1300px;\"></div>\n",
              "            <script type=\"text/javascript\">\n",
              "                \n",
              "                    window.PLOTLYENV=window.PLOTLYENV || {};\n",
              "                    \n",
              "                if (document.getElementById(\"c90480db-83d1-4de3-883a-f305b4a1d362\")) {\n",
              "                    Plotly.newPlot(\n",
              "                        'c90480db-83d1-4de3-883a-f305b4a1d362',\n",
              "                        [{\"marker\": {\"color\": [0, 3, 0, 3, 0, 0, 0, 0, 0, 0, 0, 0, 0, 0, 0, 0, 0, 0, 0, 0, 0, 0, 0, 0, 0, 0, 0, 0, 0, 0, 0, 0, 0, 0, 0, 0, 0, 0, 0, 0, 0, 0, 0, 0, 0, 0, 0, 0, 0, 0, 0, 0, 0, 0, 0, 3, 3, 0, 3, 0, 0, 0, 0, 0, 0, 0, 0, 0, 0, 0, 0, 0, 0, 0, 0, 0, 0, 3, 0, 0, 0, 0, 0, 0, 0, 0, 0, 0, 0, 0, 0, 0, 0, 0, 0, 0, 0, 0, 0, 0, 0, 0, 0, 0, 0, 0, 0, 0, 0, 0, 0, 0, 0, 0, 0, 0, 0, 0, 0, 0, 0, 3, 0, 0, 0, 0, 0, 0, 3, 0, 1, 3, 3, 0, 0, 0, 0, 0, 0, 3, 3, 0, 0, 0, 0, 0, 0, 1, 0, 0, 0, 0, 0, 0, 0, 0, 0, 0, 0, 3, 0, 0, 3, 0, 0, 0, 0, 0, 0, 0, 0, 0, 0, 0, 0, 0, 0, 0, 0, 0, 0, 0, 3, 0, 0, 0, 0, 0, 0, 3, 0, 0, 0, 0, 0, 0, 0, 0, 0, 0, 0, 0, 0, 0, 0, 0, 0, 0, 0, 0, 0, 0, 0, 0, 0, 0, 3, 0, 0, 0, 0, 0, 0, 0, 0, 0, 3, 0, 0, 0, 0, 0, 0, 0, 0, 0, 0, 0, 0, 0, 0, 0, 0, 0, 0, 0, 0, 0, 0, 0, 0, 3, 0, 0, 0, 3, 0, 0, 0, 0, 0, 0, 0, 0, 0, 0, 0, 0, 0, 0, 2, 0, 0, 0, 0, 0, 0, 0, 0, 0, 0, 1, 0, 0, 0, 0, 0, 3, 0, 0, 0, 0, 0, 0, 0, 0, 0, 0, 0, 0, 0, 0, 0, 0, 0, 0, 0, 0, 0, 0, 0, 0, 0, 3, 0, 0, 0, 0, 0, 0, 0, 0, 0, 0, 0, 0, 3, 0, 0, 0, 0, 0, 0, 0, 0, 0, 0, 0, 3, 3, 0, 0, 0, 0, 0, 0, 0, 0, 0, 3, 0, 3, 0, 0, 0, 3, 0, 0, 0, 0, 3, 0, 0, 0, 0, 0, 0, 0, 0, 0, 0, 0, 0, 0, 0, 0, 0, 3, 0, 0, 0, 0, 0, 0, 0, 0, 0, 0, 0, 0, 0, 0, 0, 0, 0, 0, 0, 0, 0, 0, 0, 0, 0, 3, 0, 0, 0, 0, 0, 0, 0, 0, 3, 0, 0, 0, 0, 0, 0, 0, 0, 0, 0, 0, 0, 0, 3, 0, 0, 0, 0, 0, 0, 0, 0, 0, 0, 0, 0, 0, 0, 0, 0, 0, 0, 0, 0, 0, 0, 0, 0, 0, 0, 0, 0, 0, 3, 0, 0, 0, 0, 0, 0, 0, 0, 0, 0, 0, 0, 0, 0, 0, 3, 0, 0, 0, 0, 0, 0, 0, 0, 0, 0, 0, 3, 0, 0, 0, 0, 0, 0, 3, 0, 1, 0, 0, 0, 0, 0, 0, 0, 0, 0, 0, 0, 0, 0, 0, 0, 0, 0, 0, 0, 0, 0, 0, 0, 0, 0, 0, 0, 0, 0, 0, 0, 0, 0, 0, 0, 0, 0, 0, 0, 0, 0, 3, 0, 0, 3, 0, 0, 0, 0, 0, 0, 0, 0, 0, 0, 0, 0, 3, 0, 0, 0, 0, 0, 0, 0, 0, 0, 0, 0, 0, 3, 0, 0, 0, 0, 0, 0, 0, 0, 0, 0, 0, 0, 0, 0, 0, 0, 0, 0, 0, 0, 0, 0, 0, 0, 0, 0, 0, 0, 0, 0, 0, 0, 0, 3, 0, 0, 0, 0, 0, 0, 0, 0, 0, 0, 0, 0, 0, 0, 3, 0, 3, 0, 0, 0, 0, 0, 0, 0, 0, 0, 0, 3, 0, 0, 0, 0, 0, 0, 0, 0, 0, 0, 0, 0, 0, 0, 0, 0, 0, 0, 0, 0, 0, 0, 0, 0, 0, 0, 0, 0, 0, 0, 3, 3, 0, 0, 0, 0, 0, 3, 0, 0, 0, 0, 0, 3, 0, 0, 0, 0, 0, 0, 0, 0, 0, 0, 0, 0, 0, 0, 0, 0, 0, 0, 0, 0, 0, 0, 3, 0, 0, 0, 3, 3, 0, 0, 0, 0, 0, 0, 3, 0, 0, 0, 0, 0, 0, 0, 0, 0, 3, 0, 3, 0, 0, 0, 0, 0, 0, 0, 0, 0, 0, 0, 0, 0, 0, 0, 0, 0, 3, 0, 0, 0, 0, 0, 0, 0, 0, 0, 0, 3, 0, 0, 0, 3, 0, 0, 0, 0, 0, 0, 0, 0, 3, 0, 0, 0, 0, 0, 0, 0, 0, 0, 0, 0, 0, 0, 3, 3, 0, 0, 0, 0, 0, 0, 0, 3, 0, 0, 3, 0, 0, 0, 0, 0, 0, 0, 0, 0, 0, 0, 0, 0, 0, 0, 0, 3, 0, 0, 0, 0, 0, 0, 0, 0, 0, 0, 0, 0, 0, 0, 0, 0, 0, 0, 3, 0, 3, 3, 0, 0, 0, 0, 0, 0, 0, 0, 0, 0, 0, 0, 0, 0, 0, 0, 0, 0, 0, 3, 0, 3, 0, 0, 3, 0, 0, 0, 0, 0, 3, 3, 0, 1, 0, 0, 0, 0, 0, 3, 3, 0, 0, 3, 0, 0, 3, 0, 0, 0, 0, 0, 0, 0, 0, 0, 0, 0, 0, 0, 0, 0, 0, 3, 3, 0, 3, 0, 0, 0, 0, 0, 0, 0, 0, 0, 0, 0, 3, 0, 0, 0, 0, 0, 0, 0, 0, 0, 0, 0, 0, 0, 0, 0, 0, 0, 0, 0, 0, 0, 0, 0, 0, 0, 0, 0, 0, 0, 0, 0, 0, 0, 0, 0, 0, 0, 3, 0, 0, 0, 3, 3, 0, 0, 0, 1, 0, 0, 0, 0, 3, 0, 0, 0, 3, 0, 0, 0, 0, 0, 0, 0, 0, 0, 0, 0, 0, 0, 0, 3, 0, 0, 0, 0, 0, 0, 0, 0, 0, 0, 3, 0, 0, 0, 0, 0, 3, 0, 3, 0, 0, 0, 0, 0, 0, 0, 0, 0, 3, 0, 0, 0, 0, 0, 0, 0, 0, 0, 0, 0, 0, 0, 0, 0, 0, 0, 3, 0, 0, 0, 3, 0, 0, 0, 0, 0, 0, 0, 0, 0, 0, 0, 0, 0, 0, 0, 0, 3, 0, 0, 0, 0, 0, 0, 0, 0, 0, 0, 0, 0, 0, 3, 0, 0, 0, 0, 0, 0, 0, 3, 0, 0, 0, 0, 0, 0, 0, 0, 0, 0, 3, 3, 0, 3, 0, 0, 0, 0, 0, 0, 0, 0, 0, 0, 0, 0, 0, 0, 0, 3, 0, 0, 0, 0, 0, 0, 0, 3, 0, 0, 0, 0, 0, 0, 0, 0, 0, 0, 0, 0, 0, 0, 0, 0, 0, 0, 0, 0, 0, 0, 0, 0, 0, 0, 0, 0, 0, 0, 0, 0, 0, 0, 0, 0, 0, 0, 3, 0, 0, 0, 0, 0, 0, 0, 0, 0, 0, 0, 0, 3, 0, 0, 0, 0, 0, 3, 0, 0, 0, 0, 0, 0, 0, 0, 0, 0, 3, 0, 0, 0, 0, 0, 0, 3, 0, 0, 0, 3, 1, 0, 0, 0, 0, 0, 0, 0, 0, 0, 0, 0, 0, 0, 0, 0, 0, 0, 0, 0, 0, 0, 0, 0, 0, 0, 0, 0, 0, 0, 0, 0, 0, 0, 0, 0, 0, 0, 0, 0, 0, 0, 0, 0, 0, 0, 0, 0, 0, 0, 0, 0, 0, 0, 0, 0, 0, 3, 0, 0, 0, 0, 1, 0, 0, 0, 0, 0, 3, 0, 0, 0, 0, 0, 0, 0, 0, 0, 0, 0, 0, 0, 0, 0, 0, 0, 0, 0, 0, 0, 3, 3, 3, 0, 0, 0, 0, 0, 0, 0, 0, 0, 0, 0, 0, 0, 0, 0, 0, 0, 0, 0, 0, 0, 0, 0, 0, 0, 0, 0, 0, 0, 0, 0, 0, 0, 0, 0, 0, 0, 0, 0, 0, 0, 0, 0, 0, 0, 3, 0, 0, 0, 0, 0, 3, 0, 0, 0, 3, 0, 0, 3, 0, 0, 0, 0, 0, 0, 0, 0, 0, 0, 0, 0, 0, 0, 0, 0, 0, 0, 0, 0, 0, 0, 0, 0, 0, 0, 0, 0, 0, 0, 0, 0, 0, 3, 0, 3, 0, 0, 3, 0, 0, 0, 0, 0, 0, 0, 0, 0, 0, 0, 0, 3, 0, 3, 0, 0, 0, 0, 0, 0, 0, 0, 0, 0, 0, 0, 0, 0, 0, 0, 0, 0, 0, 0, 0, 0, 0, 0, 3, 3, 0, 0, 0, 0, 0, 3, 0, 0, 0, 0, 0, 0, 0, 0, 0, 0, 0, 0, 0, 0, 0, 0, 0, 0, 0, 0, 0, 0, 0, 0, 0, 0, 0, 0, 0, 0, 0, 0, 0, 0, 0, 0, 0, 0, 0, 0, 0, 0, 0, 0, 0, 0, 0, 0, 0, 0, 0, 0, 0, 3, 0, 0, 3, 0, 0, 0, 0, 0, 0, 3, 0, 0, 0, 0, 0, 0, 0, 0, 1, 0, 0, 0, 0, 0, 0, 0, 0, 0, 0, 0, 0, 0, 0, 0, 0, 0, 0, 0, 0, 0, 0, 0, 0, 0, 0, 0, 0, 0, 0, 0, 0, 0, 0, 0, 0, 0, 0, 0, 0, 0, 0, 0, 0, 0, 0, 3, 0, 3, 0, 0, 0, 3, 0, 0, 0, 0, 0, 0, 0, 0, 0, 0, 0, 0, 0, 0, 0, 3, 0, 3, 0, 0, 0, 0, 0, 0, 0, 0, 0, 0, 0, 3, 0, 0, 1, 0, 3, 0, 0, 0, 0, 3, 0, 0, 0, 0, 0, 0, 0, 0, 0, 0, 3, 3, 0, 0, 0, 0, 3, 0, 0, 0, 0, 0, 0, 0, 3, 0, 0, 0, 0, 0, 0, 3, 0, 0, 0, 0, 0, 0, 3, 0, 3, 0, 0, 0, 0, 0, 0, 0, 0, 0, 0, 0, 0, 0, 0, 0, 0, 0, 0, 0, 0, 0, 0, 0, 0, 0, 0, 0, 0, 0, 0, 0, 0, 0, 0, 0, 0, 0, 0, 0, 0, 0, 0, 0, 0, 0, 0, 0, 0, 0, 0, 0, 3, 0, 0, 0, 0, 0, 0, 0, 0, 0, 0, 0, 0, 0, 0, 0, 0, 0, 0, 0, 0, 0, 3, 0, 0, 0, 0, 0, 0, 0, 0, 0, 0, 0, 0, 0, 0, 0, 0, 0, 0, 0, 0, 0, 0, 0, 0, 0, 0, 3, 0, 3, 0, 0, 0, 0, 0, 0, 0, 0, 0, 0, 0, 0, 0, 0, 0, 0, 0, 0, 0, 0, 3, 0, 0, 0, 0, 1, 0, 0, 0, 0, 0, 3, 0, 3, 0, 0, 0, 0, 0, 0, 0, 0, 0, 0, 0, 0, 0, 0, 0, 0, 0, 0, 0, 3, 0, 0, 0, 0, 0, 0, 0, 0, 0, 0, 0, 0, 0, 0, 0, 0, 0, 0, 0, 0, 0, 0, 0, 0, 0, 0, 0, 0, 0, 0, 0, 0, 0, 3, 0, 0, 0, 0, 0, 0, 0, 3, 0, 0, 0, 0, 0, 0, 0, 0, 0, 0, 0, 0, 0, 0, 0, 0, 0, 0, 0, 0, 0, 0, 0, 0, 0, 0, 0, 0, 3, 0, 0, 0, 0, 0, 0, 0, 0, 0, 0, 0, 0, 0, 3, 0, 0, 0, 0, 0, 0, 0, 0, 0, 0, 0, 0, 0, 0, 0, 0, 0, 0, 0, 0, 0, 0, 0, 0, 0, 0, 0, 0, 0, 0, 0, 0, 0, 0, 0, 0, 3, 0, 0, 0, 0, 0, 0, 3, 0, 0, 0, 0, 0, 0, 0, 0, 0, 0, 0, 0, 0, 3, 0, 3, 0, 0, 0, 0, 0, 0, 0, 0, 0, 0, 0, 0, 0, 0, 0, 0, 0, 0, 0, 0, 0, 3, 0, 0, 0, 0, 0, 0, 0, 0, 0, 0, 0, 0, 0, 0, 0, 0, 0, 0, 0, 3, 0, 0, 0, 0, 0, 0, 0, 0, 0, 0, 0, 0, 0, 0, 0, 0, 0, 0, 0, 0, 0, 0, 3, 0, 0, 0, 0, 0, 0, 0, 0, 0, 0, 3, 0, 0, 0, 3, 0, 0, 0, 0, 0, 0, 0, 0, 0, 0, 0, 0, 0, 0, 0, 0, 0, 0, 3, 0, 0, 0, 0, 0, 0, 3, 0, 0, 0, 0, 0, 0, 0, 0, 0, 0, 0, 0, 3, 3, 0, 0, 0, 3, 0, 0, 0, 0, 0, 0, 0, 0, 3, 0, 0, 0, 0, 3, 0, 0, 0, 0, 0, 0, 0, 0, 0, 0, 0, 0, 0, 0, 0, 0, 0, 0, 0, 3, 0, 0, 0, 0, 0, 0, 0, 0, 0, 0, 0, 0, 0, 0, 0, 0, 0, 0, 0, 0, 0, 0, 0, 3, 0, 0, 0, 0, 0, 0, 0, 0, 0, 0, 0, 0, 0, 0, 0, 0, 0, 0, 0, 0, 0, 0, 0, 0, 0, 0, 0, 0, 0, 0, 0, 0, 0, 0, 0, 0, 0, 0, 0, 0, 0, 0, 0, 0, 0, 0, 3, 0, 0, 0, 0, 0, 0, 0, 0, 0, 0, 0, 0, 0, 0, 0, 0, 3, 0, 0, 0, 0, 0, 0, 0, 0, 0, 1, 0, 3, 0, 0, 0, 0, 0, 0, 0, 0, 0, 0, 0, 0, 0, 0, 0, 3, 0, 0, 0, 0, 3, 0, 0, 3, 0, 0, 0, 0, 0, 0, 0, 0, 0, 0, 3, 0, 0, 3, 0, 3, 3, 0, 0, 0, 0, 0, 0, 0, 0, 0, 3, 0, 0, 0, 0, 0, 0, 0, 0, 0, 0, 3, 0, 0, 0, 0, 0, 0, 0, 0, 0, 0, 0, 0, 0, 0, 0, 0, 0, 0, 0, 0, 0, 0, 0, 0, 0, 0, 0, 0, 0, 0, 0, 0, 0, 0, 0, 0, 0, 0, 0, 0, 0, 0, 0, 0, 0, 0, 0, 0, 0, 0, 0, 0, 3, 0, 0, 0, 0, 0, 0, 0, 0, 0, 3, 0, 0, 0, 0, 3, 0, 0, 0, 0, 0, 3, 0, 0, 0, 3, 0, 0, 0, 0, 0, 0, 0, 0, 0, 0, 0, 0, 0, 0, 0, 0, 0, 0, 0, 0, 0, 0, 0, 0], \"line\": {\"color\": [0, 3, 0, 3, 0, 0, 0, 0, 0, 0, 0, 0, 0, 0, 0, 0, 0, 0, 0, 0, 0, 0, 0, 0, 0, 0, 0, 0, 0, 0, 0, 0, 0, 0, 0, 0, 0, 0, 0, 0, 0, 0, 0, 0, 0, 0, 0, 0, 0, 0, 0, 0, 0, 0, 0, 3, 3, 0, 3, 0, 0, 0, 0, 0, 0, 0, 0, 0, 0, 0, 0, 0, 0, 0, 0, 0, 0, 3, 0, 0, 0, 0, 0, 0, 0, 0, 0, 0, 0, 0, 0, 0, 0, 0, 0, 0, 0, 0, 0, 0, 0, 0, 0, 0, 0, 0, 0, 0, 0, 0, 0, 0, 0, 0, 0, 0, 0, 0, 0, 0, 0, 3, 0, 0, 0, 0, 0, 0, 3, 0, 1, 3, 3, 0, 0, 0, 0, 0, 0, 3, 3, 0, 0, 0, 0, 0, 0, 1, 0, 0, 0, 0, 0, 0, 0, 0, 0, 0, 0, 3, 0, 0, 3, 0, 0, 0, 0, 0, 0, 0, 0, 0, 0, 0, 0, 0, 0, 0, 0, 0, 0, 0, 3, 0, 0, 0, 0, 0, 0, 3, 0, 0, 0, 0, 0, 0, 0, 0, 0, 0, 0, 0, 0, 0, 0, 0, 0, 0, 0, 0, 0, 0, 0, 0, 0, 0, 3, 0, 0, 0, 0, 0, 0, 0, 0, 0, 3, 0, 0, 0, 0, 0, 0, 0, 0, 0, 0, 0, 0, 0, 0, 0, 0, 0, 0, 0, 0, 0, 0, 0, 0, 3, 0, 0, 0, 3, 0, 0, 0, 0, 0, 0, 0, 0, 0, 0, 0, 0, 0, 0, 2, 0, 0, 0, 0, 0, 0, 0, 0, 0, 0, 1, 0, 0, 0, 0, 0, 3, 0, 0, 0, 0, 0, 0, 0, 0, 0, 0, 0, 0, 0, 0, 0, 0, 0, 0, 0, 0, 0, 0, 0, 0, 0, 3, 0, 0, 0, 0, 0, 0, 0, 0, 0, 0, 0, 0, 3, 0, 0, 0, 0, 0, 0, 0, 0, 0, 0, 0, 3, 3, 0, 0, 0, 0, 0, 0, 0, 0, 0, 3, 0, 3, 0, 0, 0, 3, 0, 0, 0, 0, 3, 0, 0, 0, 0, 0, 0, 0, 0, 0, 0, 0, 0, 0, 0, 0, 0, 3, 0, 0, 0, 0, 0, 0, 0, 0, 0, 0, 0, 0, 0, 0, 0, 0, 0, 0, 0, 0, 0, 0, 0, 0, 0, 3, 0, 0, 0, 0, 0, 0, 0, 0, 3, 0, 0, 0, 0, 0, 0, 0, 0, 0, 0, 0, 0, 0, 3, 0, 0, 0, 0, 0, 0, 0, 0, 0, 0, 0, 0, 0, 0, 0, 0, 0, 0, 0, 0, 0, 0, 0, 0, 0, 0, 0, 0, 0, 3, 0, 0, 0, 0, 0, 0, 0, 0, 0, 0, 0, 0, 0, 0, 0, 3, 0, 0, 0, 0, 0, 0, 0, 0, 0, 0, 0, 3, 0, 0, 0, 0, 0, 0, 3, 0, 1, 0, 0, 0, 0, 0, 0, 0, 0, 0, 0, 0, 0, 0, 0, 0, 0, 0, 0, 0, 0, 0, 0, 0, 0, 0, 0, 0, 0, 0, 0, 0, 0, 0, 0, 0, 0, 0, 0, 0, 0, 0, 3, 0, 0, 3, 0, 0, 0, 0, 0, 0, 0, 0, 0, 0, 0, 0, 3, 0, 0, 0, 0, 0, 0, 0, 0, 0, 0, 0, 0, 3, 0, 0, 0, 0, 0, 0, 0, 0, 0, 0, 0, 0, 0, 0, 0, 0, 0, 0, 0, 0, 0, 0, 0, 0, 0, 0, 0, 0, 0, 0, 0, 0, 0, 3, 0, 0, 0, 0, 0, 0, 0, 0, 0, 0, 0, 0, 0, 0, 3, 0, 3, 0, 0, 0, 0, 0, 0, 0, 0, 0, 0, 3, 0, 0, 0, 0, 0, 0, 0, 0, 0, 0, 0, 0, 0, 0, 0, 0, 0, 0, 0, 0, 0, 0, 0, 0, 0, 0, 0, 0, 0, 0, 3, 3, 0, 0, 0, 0, 0, 3, 0, 0, 0, 0, 0, 3, 0, 0, 0, 0, 0, 0, 0, 0, 0, 0, 0, 0, 0, 0, 0, 0, 0, 0, 0, 0, 0, 0, 3, 0, 0, 0, 3, 3, 0, 0, 0, 0, 0, 0, 3, 0, 0, 0, 0, 0, 0, 0, 0, 0, 3, 0, 3, 0, 0, 0, 0, 0, 0, 0, 0, 0, 0, 0, 0, 0, 0, 0, 0, 0, 3, 0, 0, 0, 0, 0, 0, 0, 0, 0, 0, 3, 0, 0, 0, 3, 0, 0, 0, 0, 0, 0, 0, 0, 3, 0, 0, 0, 0, 0, 0, 0, 0, 0, 0, 0, 0, 0, 3, 3, 0, 0, 0, 0, 0, 0, 0, 3, 0, 0, 3, 0, 0, 0, 0, 0, 0, 0, 0, 0, 0, 0, 0, 0, 0, 0, 0, 3, 0, 0, 0, 0, 0, 0, 0, 0, 0, 0, 0, 0, 0, 0, 0, 0, 0, 0, 3, 0, 3, 3, 0, 0, 0, 0, 0, 0, 0, 0, 0, 0, 0, 0, 0, 0, 0, 0, 0, 0, 0, 3, 0, 3, 0, 0, 3, 0, 0, 0, 0, 0, 3, 3, 0, 1, 0, 0, 0, 0, 0, 3, 3, 0, 0, 3, 0, 0, 3, 0, 0, 0, 0, 0, 0, 0, 0, 0, 0, 0, 0, 0, 0, 0, 0, 3, 3, 0, 3, 0, 0, 0, 0, 0, 0, 0, 0, 0, 0, 0, 3, 0, 0, 0, 0, 0, 0, 0, 0, 0, 0, 0, 0, 0, 0, 0, 0, 0, 0, 0, 0, 0, 0, 0, 0, 0, 0, 0, 0, 0, 0, 0, 0, 0, 0, 0, 0, 0, 3, 0, 0, 0, 3, 3, 0, 0, 0, 1, 0, 0, 0, 0, 3, 0, 0, 0, 3, 0, 0, 0, 0, 0, 0, 0, 0, 0, 0, 0, 0, 0, 0, 3, 0, 0, 0, 0, 0, 0, 0, 0, 0, 0, 3, 0, 0, 0, 0, 0, 3, 0, 3, 0, 0, 0, 0, 0, 0, 0, 0, 0, 3, 0, 0, 0, 0, 0, 0, 0, 0, 0, 0, 0, 0, 0, 0, 0, 0, 0, 3, 0, 0, 0, 3, 0, 0, 0, 0, 0, 0, 0, 0, 0, 0, 0, 0, 0, 0, 0, 0, 3, 0, 0, 0, 0, 0, 0, 0, 0, 0, 0, 0, 0, 0, 3, 0, 0, 0, 0, 0, 0, 0, 3, 0, 0, 0, 0, 0, 0, 0, 0, 0, 0, 3, 3, 0, 3, 0, 0, 0, 0, 0, 0, 0, 0, 0, 0, 0, 0, 0, 0, 0, 3, 0, 0, 0, 0, 0, 0, 0, 3, 0, 0, 0, 0, 0, 0, 0, 0, 0, 0, 0, 0, 0, 0, 0, 0, 0, 0, 0, 0, 0, 0, 0, 0, 0, 0, 0, 0, 0, 0, 0, 0, 0, 0, 0, 0, 0, 0, 3, 0, 0, 0, 0, 0, 0, 0, 0, 0, 0, 0, 0, 3, 0, 0, 0, 0, 0, 3, 0, 0, 0, 0, 0, 0, 0, 0, 0, 0, 3, 0, 0, 0, 0, 0, 0, 3, 0, 0, 0, 3, 1, 0, 0, 0, 0, 0, 0, 0, 0, 0, 0, 0, 0, 0, 0, 0, 0, 0, 0, 0, 0, 0, 0, 0, 0, 0, 0, 0, 0, 0, 0, 0, 0, 0, 0, 0, 0, 0, 0, 0, 0, 0, 0, 0, 0, 0, 0, 0, 0, 0, 0, 0, 0, 0, 0, 0, 0, 3, 0, 0, 0, 0, 1, 0, 0, 0, 0, 0, 3, 0, 0, 0, 0, 0, 0, 0, 0, 0, 0, 0, 0, 0, 0, 0, 0, 0, 0, 0, 0, 0, 3, 3, 3, 0, 0, 0, 0, 0, 0, 0, 0, 0, 0, 0, 0, 0, 0, 0, 0, 0, 0, 0, 0, 0, 0, 0, 0, 0, 0, 0, 0, 0, 0, 0, 0, 0, 0, 0, 0, 0, 0, 0, 0, 0, 0, 0, 0, 0, 3, 0, 0, 0, 0, 0, 3, 0, 0, 0, 3, 0, 0, 3, 0, 0, 0, 0, 0, 0, 0, 0, 0, 0, 0, 0, 0, 0, 0, 0, 0, 0, 0, 0, 0, 0, 0, 0, 0, 0, 0, 0, 0, 0, 0, 0, 0, 3, 0, 3, 0, 0, 3, 0, 0, 0, 0, 0, 0, 0, 0, 0, 0, 0, 0, 3, 0, 3, 0, 0, 0, 0, 0, 0, 0, 0, 0, 0, 0, 0, 0, 0, 0, 0, 0, 0, 0, 0, 0, 0, 0, 0, 3, 3, 0, 0, 0, 0, 0, 3, 0, 0, 0, 0, 0, 0, 0, 0, 0, 0, 0, 0, 0, 0, 0, 0, 0, 0, 0, 0, 0, 0, 0, 0, 0, 0, 0, 0, 0, 0, 0, 0, 0, 0, 0, 0, 0, 0, 0, 0, 0, 0, 0, 0, 0, 0, 0, 0, 0, 0, 0, 0, 0, 3, 0, 0, 3, 0, 0, 0, 0, 0, 0, 3, 0, 0, 0, 0, 0, 0, 0, 0, 1, 0, 0, 0, 0, 0, 0, 0, 0, 0, 0, 0, 0, 0, 0, 0, 0, 0, 0, 0, 0, 0, 0, 0, 0, 0, 0, 0, 0, 0, 0, 0, 0, 0, 0, 0, 0, 0, 0, 0, 0, 0, 0, 0, 0, 0, 0, 3, 0, 3, 0, 0, 0, 3, 0, 0, 0, 0, 0, 0, 0, 0, 0, 0, 0, 0, 0, 0, 0, 3, 0, 3, 0, 0, 0, 0, 0, 0, 0, 0, 0, 0, 0, 3, 0, 0, 1, 0, 3, 0, 0, 0, 0, 3, 0, 0, 0, 0, 0, 0, 0, 0, 0, 0, 3, 3, 0, 0, 0, 0, 3, 0, 0, 0, 0, 0, 0, 0, 3, 0, 0, 0, 0, 0, 0, 3, 0, 0, 0, 0, 0, 0, 3, 0, 3, 0, 0, 0, 0, 0, 0, 0, 0, 0, 0, 0, 0, 0, 0, 0, 0, 0, 0, 0, 0, 0, 0, 0, 0, 0, 0, 0, 0, 0, 0, 0, 0, 0, 0, 0, 0, 0, 0, 0, 0, 0, 0, 0, 0, 0, 0, 0, 0, 0, 0, 0, 3, 0, 0, 0, 0, 0, 0, 0, 0, 0, 0, 0, 0, 0, 0, 0, 0, 0, 0, 0, 0, 0, 3, 0, 0, 0, 0, 0, 0, 0, 0, 0, 0, 0, 0, 0, 0, 0, 0, 0, 0, 0, 0, 0, 0, 0, 0, 0, 0, 3, 0, 3, 0, 0, 0, 0, 0, 0, 0, 0, 0, 0, 0, 0, 0, 0, 0, 0, 0, 0, 0, 0, 3, 0, 0, 0, 0, 1, 0, 0, 0, 0, 0, 3, 0, 3, 0, 0, 0, 0, 0, 0, 0, 0, 0, 0, 0, 0, 0, 0, 0, 0, 0, 0, 0, 3, 0, 0, 0, 0, 0, 0, 0, 0, 0, 0, 0, 0, 0, 0, 0, 0, 0, 0, 0, 0, 0, 0, 0, 0, 0, 0, 0, 0, 0, 0, 0, 0, 0, 3, 0, 0, 0, 0, 0, 0, 0, 3, 0, 0, 0, 0, 0, 0, 0, 0, 0, 0, 0, 0, 0, 0, 0, 0, 0, 0, 0, 0, 0, 0, 0, 0, 0, 0, 0, 0, 3, 0, 0, 0, 0, 0, 0, 0, 0, 0, 0, 0, 0, 0, 3, 0, 0, 0, 0, 0, 0, 0, 0, 0, 0, 0, 0, 0, 0, 0, 0, 0, 0, 0, 0, 0, 0, 0, 0, 0, 0, 0, 0, 0, 0, 0, 0, 0, 0, 0, 0, 3, 0, 0, 0, 0, 0, 0, 3, 0, 0, 0, 0, 0, 0, 0, 0, 0, 0, 0, 0, 0, 3, 0, 3, 0, 0, 0, 0, 0, 0, 0, 0, 0, 0, 0, 0, 0, 0, 0, 0, 0, 0, 0, 0, 0, 3, 0, 0, 0, 0, 0, 0, 0, 0, 0, 0, 0, 0, 0, 0, 0, 0, 0, 0, 0, 3, 0, 0, 0, 0, 0, 0, 0, 0, 0, 0, 0, 0, 0, 0, 0, 0, 0, 0, 0, 0, 0, 0, 3, 0, 0, 0, 0, 0, 0, 0, 0, 0, 0, 3, 0, 0, 0, 3, 0, 0, 0, 0, 0, 0, 0, 0, 0, 0, 0, 0, 0, 0, 0, 0, 0, 0, 3, 0, 0, 0, 0, 0, 0, 3, 0, 0, 0, 0, 0, 0, 0, 0, 0, 0, 0, 0, 3, 3, 0, 0, 0, 3, 0, 0, 0, 0, 0, 0, 0, 0, 3, 0, 0, 0, 0, 3, 0, 0, 0, 0, 0, 0, 0, 0, 0, 0, 0, 0, 0, 0, 0, 0, 0, 0, 0, 3, 0, 0, 0, 0, 0, 0, 0, 0, 0, 0, 0, 0, 0, 0, 0, 0, 0, 0, 0, 0, 0, 0, 0, 3, 0, 0, 0, 0, 0, 0, 0, 0, 0, 0, 0, 0, 0, 0, 0, 0, 0, 0, 0, 0, 0, 0, 0, 0, 0, 0, 0, 0, 0, 0, 0, 0, 0, 0, 0, 0, 0, 0, 0, 0, 0, 0, 0, 0, 0, 0, 3, 0, 0, 0, 0, 0, 0, 0, 0, 0, 0, 0, 0, 0, 0, 0, 0, 3, 0, 0, 0, 0, 0, 0, 0, 0, 0, 1, 0, 3, 0, 0, 0, 0, 0, 0, 0, 0, 0, 0, 0, 0, 0, 0, 0, 3, 0, 0, 0, 0, 3, 0, 0, 3, 0, 0, 0, 0, 0, 0, 0, 0, 0, 0, 3, 0, 0, 3, 0, 3, 3, 0, 0, 0, 0, 0, 0, 0, 0, 0, 3, 0, 0, 0, 0, 0, 0, 0, 0, 0, 0, 3, 0, 0, 0, 0, 0, 0, 0, 0, 0, 0, 0, 0, 0, 0, 0, 0, 0, 0, 0, 0, 0, 0, 0, 0, 0, 0, 0, 0, 0, 0, 0, 0, 0, 0, 0, 0, 0, 0, 0, 0, 0, 0, 0, 0, 0, 0, 0, 0, 0, 0, 0, 0, 3, 0, 0, 0, 0, 0, 0, 0, 0, 0, 3, 0, 0, 0, 0, 3, 0, 0, 0, 0, 0, 3, 0, 0, 0, 3, 0, 0, 0, 0, 0, 0, 0, 0, 0, 0, 0, 0, 0, 0, 0, 0, 0, 0, 0, 0, 0, 0, 0, 0], \"width\": 12}, \"opacity\": 0.8, \"size\": 10}, \"mode\": \"markers\", \"type\": \"scatter\", \"x\": [110869.68, 3324984.919999998, 1110341.2000000002, 4478743.540000001, 230300.0, 195019.56, 584524.5700000001, 3562.25, 895707.1499999999, 2766.41, 89646.32, 550745.9600000001, 1088235.2999999996, 241565.67999999996, 909094.9600000002, 883338.0, 104249.0, 146425.35, 1275373.3500000003, 689205.6, 681812.9199999999, 137388.37999999998, 223400.93000000005, 38698.340000000004, 1495.0, 70127.76000000001, 98471.90000000001, 1193247.1800000002, 768452.3400000001, 8969.9, 90277.0, 6250.2300000000005, 431310.05, 70276.0, 44970.11, 65117.55, 95675.57, 257079.93, 1085297.0899999996, 25448.33, 41719.84, 297291.08, 106394.54999999999, 409931.93999999994, 425.8, 840999.3400000002, 684314.4500000002, 103900.0, 1432937.25, 351999.7, 351999.7, 949374.36, 826853.6, 498243.66000000003, 1618220.1899999992, 2542580.79, 2706865.72, 625593.8, 2533490.4400000004, 107220.79000000001, 1662339.329999991, 302459.8, 572367.03, 501175.29000000004, 193709.74, 1218182.4100000001, 173211.0, 142189.34, 233531.35999999996, 1085481.4, 74532.5, 9041.51, 3541.3900000000003, 3541.3900000000003, 72238.55, 493982.7199999999, 540102.8999999999, 6397289.7600000035, 254430.74000000002, 648015.27, 268552.0, 187381.73, 518970.22, 2562.11, 6400.0, 999838.1799999999, 983595.04, 1040754.36, 983595.04, 1015237.62, 602346.7100000001, 137934.55, 496269.38999999984, 355100.96, 440773.7699999999, 377803.50999999995, 16044.7, 1255540.68, 256594.14, 752166.1799999995, 754452.0800000001, 537730.9300000002, 970710.3800000001, 1492166.3999999987, 214302.0, 157035.17, 226213.99, 85938.80999999998, 98698.46999999997, 184981.13999999998, 119580.0, 248120.54999999993, 127217.54999999997, 180203.64999999997, 904981.0, 1765234.5699999991, 627003.8500000001, 1509597.27, 224402.66, 236717.58, 648825.37, 2095673.9500000002, 333197.0, 569135.9400000001, 3604.0, 441770.53999999986, 421725.7699999999, 142382.21, 2465367.6000000006, 126596.16, 12614848.360000003, 4732785.209999999, 2072267.0599999991, 577305.0899999999, 1199299.0100000005, 11410.14, 93630.0, 202359.62000000005, 202359.62000000005, 7665215.420000006, 2663607.7799999993, 388600.1999999999, 71809.86, 27014.44, 175506.58, 550394.4900000002, 130532.73999999999, 11439212.620000001, 147446.63, 918053.2500000007, 65432.14, 64764.56, 64764.56, 1189833.0, 1212910.5600000003, 159272.24, 586461.61, 399686.23, 632368.4200000003, 2213850.25, 114153.23999999999, 871923.45, 3992788.0599999996, 29204.100000000002, 3310.81, 8105.0, 852656.9999999998, 353258.0, 470012.0, 32315.329999999998, 1232607.7300000002, 904425.2199999993, 1116423.73, 203563.5, 279469.31999999995, 143930.5, 74207.64, 576764.1599999998, 255087.46, 688909.06, 193004.77000000002, 494862.26, 4277085.499999999, 372929.22000000003, 111259.75, 601675.2899999998, 5488.450000000001, 498.92999999999995, 46605.670000000006, 2559981.7, 153552.73, 28652.4, 179969.63, 228314.64, 505056.15, 790226.3400000002, 120246.3, 642352.2500000003, 756222.03, 395692.36000000004, 875487.3499999999, 61776.52000000001, 85070.30000000002, 65237.740000000005, 934845.689999999, 768476.51, 768476.51, 433500.27999999997, 302440.52999999997, 77922.99999999997, 97753.62, 971638.3700000001, 150918.12, 1293701.3399999999, 736725.2500000002, 97507.72000000002, 3825732.860000001, 85422.94, 127628.05, 241549.46, 11373.270000000002, 389935.63000000286, 1332537.7599999998, 149870.13000000003, 965389.3200000003, 14078.91, 9042656.860000024, 177374.0, 938478.03, 827531.46, 472900.0, 255467.34, 1680819.8400000008, 252957.8, 101791.86000000002, 718424.05, 559069.02, 460200.85000000003, 368785.5700000005, 254348.82, 204231.0, 164198.56, 424322.48, 149150.54, 125699.93, 1828641.5400000003, 78067.50000000001, 294040.55999999994, 1241942.08, 1011642.0, 890390.09, 2119682.1799999997, 162400.0, 1729530.8500000006, 648453.49, 2811548.16, 1603813.74, 1731699.9099999997, 329293.26, 9559.989999999996, 552458.74, 810930.0, 71387.92, 1008919.04, 779700.6700000002, 128875.89999999998, 1777001.9100000001, 810930.0, 561466.0800000001, 127605.96000000002, 66041167.52, 890238.64, 558378.9099999999, 646841.6399999999, 520913.27, 199839.4, 824800.9299999999, 34618.0, 152958.58000000002, 199995.45999999996, 322833.61999999994, 25271121.180000003, 360086.16000000003, 600712.0, 1228596.0, 609971.4799999999, 978729.5100000001, 2876539.1900000004, 12400.679999999998, 4968.349999999999, 613420.1, 29330.47, 539865.1699999999, 270771.68000000005, 570821.48, 104960.56, 104960.56, 651710.7100000003, 433526.31999999983, 480352.4199999999, 343562.15, 381825.82, 586576.52, 89492.46, 1052276.7000000002, 18138.639999999996, 527722.29, 1694808.599999999, 114016.09000000001, 476756.3000000001, 86883.63, 234820.27000000005, 736674.2399999995, 3562040.97, 1385922.0, 198743.75000000003, 1385922.0, 846805.0, 391192.74, 287798.28, 813110.56, 682268.8399999999, 594500.9399999998, 1203296.83, 628253.7500000001, 239563.12, 2911595.68, 799039.27, 848769.3099999999, 808069.7999999999, 981667.8, 181398.34000000005, 1640580.0, 515938.41, 66968.31, 929399.59, 112922.81, 100343.07, 10333509.920000024, 2531011.0699999994, 343847.83, 124999.0, 576964.49, 150116.25, 796806.2999999998, 38264.27, 200.0, 173478.76999999996, 221910.54, 5759286.670000001, 992859.0200000001, 2375209.4499999993, 688681.6000000001, 723041.01, 62285.51, 2268022.219999999, 579343.69, 416433.91000000003, 221839.6, 708513.19, 3174217.5600000005, 422858.15, 101181.79000000001, 294813.0, 733139.7799999998, 350943.34, 173286.90000000002, 371361.2, 394791.2499999998, 520430.6, 188454.01, 81924.85, 142557.40000000002, 516922.84999999974, 584524.5700000001, 25671.72, 115700.0, 7086476.930000006, 1101233.6, 826150.9999999999, 1049041.17, 268357.86, 1381015.3900000001, 101581.86000000002, 268734.9, 213497.79, 998782.9199999999, 29189.52, 214082.52999999997, 407678.18000000005, 385462.4500000002, 559138.16, 1935750.1499999997, 1238559.7900000003, 141925.0, 109835.65999999999, 141925.0, 126027.62, 250766.34999999995, 788.0, 4261.0, 103964.0, 690953.5999999997, 5905358.340000004, 312895.31, 1252660.309999999, 1866276.9100000001, 5018.719999999999, 1800316.2, 15121.909999999998, 204098.11000000002, 372588.07, 2360369.5200000005, 9609.029999999999, 108204.18000000001, 239397.71, 371630.10000000003, 73482.8, 136779.60000000003, 352875.88, 84997.54, 411557.6499999999, 43435.95, 858716.8300000002, 513730.9499999999, 986088.68, 2622518.12, 171410.9, 576498.72, 85045.45999999999, 181563.09999999998, 413032.17000000004, 301599.22000000003, 32323.36, 167977.73000000013, 64753.13, 303713.03, 193085.33, 395963.77999999997, 13889.279999999999, 45965.1, 415821.66000000015, 3064.0, 723498.29, 519779.26, 9699.3, 9699.3, 1712348.05, 6534.8, 1349356.8299999998, 201.0, 730578.8099999999, 47483.09, 3993.5699999999997, 422077.27999999997, 15899.36, 2423794.82, 118911.29000000001, 531971.42, 213144.43, 12594.539999999999, 317981.5200000001, 19976.12, 968569.3600000001, 930.0, 546266.63, 428339.2299999999, 111526.39, 8657.5, 253307.56000000003, 478977.89, 295613.3599999999, 2004726.3199999968, 609693.49, 478614.13999999996, 394098.2500000001, 1393574.4199999997, 727101.2899999999, 410124.99000000005, 135589.06, 369124.0499999998, 1905731.2899999977, 167439.68, 470084.2300000002, 2404438.479999998, 718716.8600000003, 813022.9899999995, 8850.0, 1582199.58, 16093.049999999997, 302392.89, 2883764.1499999976, 360995.49, 17692256.880000003, 421005.29000000004, 50903.0, 360995.49, 172797.24, 319641.47, 377618.4, 61210.0, 1512083.8699999982, 30320.760000000002, 25500.0, 164367.7200000001, 12817.0, 937887.7, 17862.39, 28417.910000000003, 342294.26999999996, 1899634.369999998, 394000.24, 621200.1799999999, 10.0, 1039385.0499999998, 255219.55000000002, 659.72, 292002.15, 559217.9199999998, 1127647.5899999999, 236458.44, 300749.8499999999, 254913.77000000002, 12720.6, 31425.52, 999376.3699999996, 805717.0299999998, 324767.07, 106882.73, 1051548.21, 10481.95, 815877.39, 1320314.0, 499067.93000000005, 90.0, 4215829.85, 455493.07999999996, 297600.22, 3004348.4400000037, 1069122.6800000002, 81938.00000000001, 7407.31, 1461490.8900000001, 496891.7599999994, 1375716.6200000008, 580946.4000000007, 766.81, 200.0, 279.46, 236208.78999999995, 555652.3200000003, 5557514.749999998, 500.0, 500.0, 788455.6500000003, 1455.29, 346922.45, 530118.78, 98280.82999999993, 127308.75999999997, 174778.79, 459110.38, 69932.26, 81893.63, 3352796.11, 253257.11, 874943.23, 6270.0, 410049.0, 1491524.73, 637031.4999999997, 252633.62, 53852.110000000015, 16550.56, 1828567.66, 94989.0, 980.0, 201648.75, 1895.8799999999999, 310605.8100000001, 378630.03, 495429.18000000005, 98275.81999999999, 141745.87, 104669.69, 102952.70999999998, 95295.25999999998, 95295.25999999998, 625305.5800000002, 1808507.0799999994, 203638.76000000004, 1403118.62, 625305.5800000002, 211402.11, 1004252.36, 12464.630000000001, 528769.6599999999, 58590.220000000016, 8355153.09, 215452.99999999994, 277453.0, 32805.24, 453701.6, 518622.44999999995, 165338.61000000002, 277718.05999999994, 575262.7400000006, 293917.0, 468375.24000000005, 300425.0, 956752.6399999997, 304871.99999999977, 1351138.8199999994, 6018087.560000008, 542924.43, 2916087.5400000005, 1502249.469999999, 179910.37000000002, 152988.0, 70456.09, 280365.92, 599985.0, 574086.4600000001, 198734.89999999997, 21525.149999999998, 196530.05999999994, 3456606.9999999953, 240816.48, 1802589.9999999998, 626187.2699999996, 129680.49000000002, 469530.56, 671994.0, 430022.13000000006, 588541.52, 65745.37000000001, 158977.16, 355639.37000000005, 34581.0, 34581.0, 682421.71, 1361788.81, 102323.73, 330932.2, 1816802.73, 789384.91, 761848.2299999997, 250766.34999999995, 255009.15000000002, 12824.97, 6182.25, 102301.0, 17215.68, 430132.17, 943305.6600000003, 995822.2799999994, 54087.0, 5167228.43, 2700472.959999998, 763551.4499999986, 421439.0, 191131.47999999998, 516415.05999999976, 516415.05999999976, 7907980.600000001, 17129.04, 62623.71, 232429.93, 699872.8700000002, 161791.97, 3800889.309999997, 115566.0, 233613.00999999998, 466220.68999999994, 192601.13, 450.0, 465498.72000000003, 187331.36000000002, 279688.83, 147274.99999999997, 260829.08, 1880846.0899999999, 66476.12, 12486.869999999999, 1370390.5599999996, 645393.95, 12914.900000000001, 12914.900000000001, 41083.810000000005, 462065.8899999999, 302395.97, 339743.89999999997, 470425.20000000007, 5139272.049999999, 47402.85, 118942.51000000001, 22760.22, 1990169.6700000009, 4083723.2000000062, 1081888.9900000005, 343162.53999999986, 103213.84000000001, 677.0, 323132.68999999994, 341021.2, 8874054.540000005, 357284.0799999998, 205124.03999999998, 71930.3, 150959.23000000007, 606903.5899999997, 27636.359999999997, 132503.41, 2290.65, 296225.2, 2449633.1699999985, 842913.9899999996, 2059231.69, 109642.11999999998, 12148.4, 43642.0, 556868.1000000001, 505056.15, 21843.19, 244359.69999999998, 130599.56, 241424.80000000002, 99754.03000000001, 27262.02, 246630.00999999998, 538496.58, 1028695.4500000001, 105133.15000000001, 33758.32000000001, 77694.59, 3065367.5699999915, 188285.79000000004, 261771.75000000003, 140634.13, 1513660.4299999995, 755325.27, 189523.49000000002, 1064501.1199999999, 469272.69, 2585.7999999999997, 114435.07, 2197440.5099999993, 35167.29, 98821.51999999999, 70457.69, 10333955.549999991, 41.36, 11803.130000000001, 857852.8400000011, 308447.31, 97859.0, 247200.84999999995, 762182.1699999995, 1031411.7400000005, 2479989.099999999, 34730.34, 372049.04, 533975.6100000001, 782898.9700000006, 741602.6900000001, 433316.92, 320217.23999999993, 9530.380000000001, 1001610.4099999999, 244559.56, 958229.9700000001, 377415.55, 759915.26, 2254417.86, 2026634.0200000005, 916794.1499999997, 16191.02, 926572.52, 270952.25999999995, 287757.12999999995, 277991.69000000006, 1219194.2800000003, 4240812.580000001, 752039.6799999998, 1696.6299999999999, 3369294.369999999, 18737.830000000005, 20436.53, 1049278.96, 664766.0, 2665.51, 94379.80000000002, 139857.35999999996, 1435365.76, 1867.0, 1426456.6599999992, 510227.4899999998, 583613.1799999998, 222721.85, 659739.8200000003, 644347.0200000003, 267942.50000000006, 2295479.8199999994, 644347.0200000003, 155197.58000000002, 420154.60999999987, 219975.7, 170301.2, 1662872.2399999995, 73104.08, 228525.96, 290824.1899999999, 246991.25999999998, 58014.390000000014, 1157805.0, 137546.62000000002, 1667730.01, 167134.89, 144857.0, 492117.04000000004, 1156299.29, 3901386.239999996, 1455424.08, 2243894.6, 2037147.38, 203546.51, 499922.0, 57257.649999999994, 57257.649999999994, 57257.649999999994, 40312.43, 514600.95, 102775.79, 703490.6499999999, 347042.21, 807322.5, 9860.59, 200596.81000000008, 1797811.5799999996, 881858.13, 1378176.6900000002, 136318.0, 92923.28, 240788.59999999998, 3700502.0, 355787.79, 2037147.38, 104715.62999999998, 1740981.2399999998, 8788669.139999999, 766242.18, 1777001.9100000001, 1628695.6199999999, 1477683.1800000004, 403901.2999999998, 2529611.230000002, 2304885.749999999, 212597.59, 19198423.04, 556039.9199999999, 794719.71, 72700.0, 1545583.5799999984, 1302149.56, 2309734.839999999, 2309734.839999999, 758817.2, 11766.4, 4667071.539999997, 1047509.5600000011, 413244.36000000004, 2747419.62, 41588.32, 611974.3700000002, 554043.3200000002, 329600.60000000003, 597519.1399999995, 1759776.560000001, 966076.2300000002, 1011729.8499999994, 322833.61999999994, 1839643.8799999985, 1611643.3199999994, 559334.07, 283020.93000000005, 141624.08999999997, 90505.89, 1307377.21, 2693880.6099999994, 3431442.13, 1418813.9999999995, 3295096.880000001, 146400.71999999997, 146400.71999999997, 146400.71999999997, 568683.44, 230537.36000000002, 916096.6699999999, 204805.47, 53393.45, 279338.85, 141619.50999999992, 760576.8799999999, 4637063.400000013, 1325762.5700000003, 340218.81, 326403.2, 117991.27000000003, 1113724.5100000005, 327689.73, 1017900.7399999996, 18751.55, 182401.37999999998, 757221.0000000001, 539130.1299999998, 257528.2, 1201014.8699999992, 445813.01000000007, 409768.5899999998, 232149.86, 186987.40999999997, 394585.4599999999, 1694063.329999998, 418606.33, 579423.61, 828274.7999999998, 828274.7999999998, 913301.4700000003, 1395700.1100000006, 783999.16, 467996.1999999999, 665941.9800000007, 1644910.89, 233750.26000000007, 155204.18, 558428.5700000002, 106085.0, 993062.03, 764659.2800000001, 1195911.9999999995, 474511.04000000004, 2113487.8799999985, 1879035.069999999, 226062.19999999998, 598032.6499999999, 2111202.4499999993, 2733171.9, 902417.64, 986218.29, 32182.0, 13251708.130000016, 107943.32, 545897.6599999997, 39609.79, 1685194.6800000002, 6726658.119999995, 108852.84999999999, 1075571.9499999997, 535314.0, 5606994.130000012, 188222.49000000005, 93229.0, 252781.46999999997, 542711.73, 286585.1699999999, 60906.539999999986, 502040.81, 170463.0, 204710.4, 3891.0, 410356.98999999993, 117897.64, 444357.63, 723041.01, 2146512.21, 264411.73999999993, 1146877.29, 760349.7299999994, 213716.64, 567320.5499999999, 384665.13, 89314.55999999997, 715.0, 12100.380000000001, 4933.32, 7606078.8800000055, 843183.3599999987, 228829.89999999997, 510815.77999999997, 125668.94, 410783.22999999986, 3284021.9200000027, 619446.5700000001, 2090030.919999997, 1118018.1999999997, 228892.1799999999, 251621.0, 1797621.0799999998, 236477.62000000002, 799308.3600000008, 842250.4699999997, 1179487.8199999998, 1471047.32, 2360232.8000000003, 458984.56999999995, 90410.90000000001, 1261347.649999998, 280450.24, 180246.3, 10389.0, 1090600.08, 500401.26, 1873018.9099999992, 667907.4499999997, 128955.65999999997, 41289.21, 542200.4699999996, 223689.00999999998, 126293.0, 9237.51, 1112629.3000000003, 2719978.1099999943, 863268.9299999995, 804844.8700000001, 1186125.27, 2351928.3099999987, 1083542.71, 34953.07, 971669.83, 588296.7699999997, 10224.99, 197501.18, 1894445.62, 1510644.67, 222447.31, 191685.69999999998, 145137.44999999998, 1592655.4099999997, 379335.16000000003, 1468976.93, 934640.3699999999, 1207478.9899999998, 1987122.249999997, 813077.9599999994, 659686.7900000002, 987770.9300000006, 826865.4900000001, 7602.030000000001, 1318575.3, 473277.37000000017, 205194.48999999996, 1121401.0699999994, 142008.52000000002, 437141.94, 9486.289999999999, 113983.75999999997, 4600507.79, 270613.42, 292628.5300000001, 213068.44, 714501.5499999997, 183584.15000000002, 651919.7, 535876.19, 1984008.7000000007, 145.4, 202.0, 255761.57, 270190.06, 198859.41999999998, 441485.68, 277819.25, 169401.87, 1594645.2800000005, 149961.27, 2969712.88, 2547963.589999994, 618488.07, 2622518.12, 931590.2300000001, 470231.38000000024, 101648.09, 539694.9299999999, 233064.92999999996, 1317891.8399999994, 775138.7599999995, 193156.95999999993, 776236.099999999, 129253.12, 18500.9, 777129.81, 5823.84, 272467.75999999995, 1048357.6400000002, 2901617.8000000017, 97977.94000000003, 357256.95999999996, 596113.2900000002, 5961.24, 260469.15, 731638.8100000002, 308524.9399999998, 3372120.94, 485558.48000000004, 239350.4300000001, 256839.72999999998, 438607.0, 372191.74, 132874.11000000002, 49497.0, 87.0, 104593.73, 304474.42, 448916.92000000004, 1700534.2800000005, 513655.26, 478237.36, 6956.18, 44823.829999999994, 293601.43, 192.81, 68.0, 68.0, 1411915.83, 622989.5500000004, 604959.5600000003, 292363.89999999997, 1333126.7899999998, 638689.94, 129364.72000000003, 273484.4300000001, 114015.43, 290105.22, 1430366.8999999978, 731804.3300000003, 89343.09, 185596.18000000002, 326122.20000000007, 65631.97, 356331.58999999997, 369353.33, 2258631.8499999987, 217665.99, 499315.4199999997, 1088280.9, 95675.57, 7099.98, 21138.820000000003, 21138.820000000003, 126949.45, 1321297.1399999992, 174937.2, 299420.5, 515136.5, 1951726.0600000003, 574368.8100000002, 288809.7600000001, 952246.1099999996, 1417619.0, 191969.38000000003, 6502808.780000044, 881433.1699999999, 32039.539999999997, 830556.79, 749609.49, 148068.0, 796064.71, 48688.53, 6753.389999999999, 335973.1600000001, 63937.47, 4123895.6700000004, 650438.0, 844162.0700000003, 580195.13, 220373.96999999997, 559642.5599999999, 51103.20000000005, 2928737.100000001, 151715.49, 1441.4099999999999, 169071.81999999998, 3603628.7299999986, 12281564.670000002, 198358.40999999997, 332299.05, 356645.1400000002, 173666.01000000004, 173666.01000000004, 47186.0, 107160.73999999999, 214419.08, 64236.0, 57652.520000000004, 346922.45, 651239.7600000005, 377025.8899999999, 237702.65999999997, 229447.16999999998, 1259832.1599999997, 105472.12, 94673.45, 1236002.8299999998, 1068111.85, 103333.98000000004, 31480.86, 94724.49, 114923.34999999999, 752166.1799999995, 143361.40000000002, 179958.94000000006, 105881.59000000001, 58156.08, 203702.11999999988, 782827.9999999999, 208092.06, 131938.13, 414130.59, 194353.67999999996, 599985.0, 512945.0, 71613.75, 825854.48, 825854.48, 251114.11000000004, 77396.54999999997, 464869.11999999994, 406837.47, 84129.82, 501831.27000000025, 1111120.0, 117377.9, 719861.8099999988, 312659.89, 200673.46999999997, 1786587.199999999, 21575.0, 763958.4899999986, 8098.69, 132128.11000000002, 4815259.54, 1878.86, 56124.95999999999, 667188.4200000002, 105129.0, 28374669.279999997, 183849.77, 539485.9499999998, 539485.9499999998, 81326.51000000001, 131884.74, 3425390.0499999993, 444427.53000000014, 394687.5, 215077.65000000002, 453771.7399999999, 159102.55000000002, 152785.56, 300831.87, 1029331.8900000022, 1071085.71, 74642.5, 13401.3, 63639.22, 66476.12, 140360.13, 550577.0799999996, 4798.139999999999, 165150.0, 767554.7300000003, 919417.1200000001, 431971.78999999986, 850408.7099999997, 2877709.380000001, 2877709.380000001, 5403125.040000007, 1635971.7099999997, 545756.9600000001, 225975.31000000006, 397832.87, 137012.15000000002, 319590.08999999997, 672049.8999999998, 75555.87000000001, 270839.41999999987, 721791.8200000002, 382528.0, 1215161.7400000002, 159980.0, 28146.230000000003, 989454.62, 881729.0199999998, 48126.93000000001, 56646.76, 722737.2399999998, 282677.39, 550.38, 24093.71, 1364762.7999999993, 162801.37000000002, 374320.0, 293222.2300000001, 1138923.8399999994, 783835.87, 726145.6699999999, 446979.59999999986, 828361.51, 37661.600000000006, 65246.45, 5111.570000000001, 555459.1400000001, 548615.7300000001, 102515.97, 20982.55, 154246.02999999997, 106951.97, 71741.93, 686933.7299999999, 743066.19, 1885425.0999999994, 640027.5299999998, 3159116.7499999995, 274339.9000000001, 10863.769999999999, 1212396.7799999996, 41464.06999999999, 357016.94, 3944687.549999999, 26908.039999999997, 68670.50000000001, 23764.850000000006, 2404458.420000001, 1179060.6099999999, 784692.8999999998, 6229701.170000004, 756380.46, 804844.8699999998, 443297.81000000006, 45193.24, 121666.81999999999, 214792.88000000006, 214792.88000000006, 81507.01999999999, 261648.83000000013, 23764.850000000006, 72644.81, 801972.8299999995, 181367.01, 314311.2600000001, 1277.53, 271285.88, 33758.32000000001, 935632.8499999987, 1579656.9899999986, 659985.48, 65920.53, 1816052.5199999993, 460781.49000000046, 820253.96, 77694.59, 260739.17999999993, 181014.58000000002, 77922.99999999997, 232753.90000000005, 69259.0, 22049.539999999997, 9546.4, 1320842.689999998, 2551234.219999997, 31775.870000000006, 2161621.4899999998, 482278.08, 1323185.9199999992, 2851515.289999998, 407656.76000000007, 957773.2599999998, 1707837.5599999984, 1707837.5599999984, 163580.45000000004, 506122.8899999999, 84283.03000000001, 102780.6800000001, 363779.22000000015, 1271160.6600000004, 1179060.6099999999, 411205.62000000005, 2549424.149999999, 1448167.9899999993, 2138843.220000001, 498893.0499999999, 20337.86, 560847.99, 33251.2, 41625.0, 4491.72, 507949.0, 41625.0, 206638.28999999995, 251133.02999999997, 409372.96, 758222.8500000002, 83416.10999999999, 1693130.6399999992, 95288.28000000001, 1127247.51, 1183694.8800000008, 427185.39999999997, 410357.25999999995, 952621.6900000001, 861179.6400000004, 1184824.9300000004, 307837.85000000003, 88286.53000000003, 3278113.9200000027, 3278113.9200000027, 1467.21, 519279.3199999998, 33323.61000000001, 874119.2899999998, 158146.79, 4033025.5999999996, 57435.80999999999, 343609.77000000014, 130148.51000000001, 186702.24000000002, 340509.81999999995, 153555.75000000003, 439916.0199999999, 215241.0, 804349.7299999997, 47362.46, 38862.51, 878903.5100000004, 233247.36, 1374514.9299999992, 1070554.119999999, 730263.3799999997, 9375.7, 531236.05, 348253.81999999983, 301509.7299999999, 351896.9399999999, 297624.36000000004, 985506.089999998, 168412.62999999998, 25868.34, 18825.47, 956596.0099999997, 462191.9199999999, 1353283.4100000001, 1083130.18, 644665.99, 153991.0, 51762.6, 316171.95, 342930.5200000001, 1279191.189999999, 4625.6, 467806.92000000016, 467806.92000000016, 763814.6799999999, 90867.01000000001, 84195.9, 368785.5700000005, 17311.76, 11003.81, 116051.85, 29218.0, 142157.11, 21001.37, 133183.81999999998, 136776.61, 276861.1100000001, 33199.0, 4813419.079999997, 1908396.0599999998, 541876.8899999999, 2725300.0, 161071.84999999998, 1648221.0599999998, 314113.19999999995, 331962.3499999999, 599839.0, 220611.4, 2244533.8000000007, 1092106.45, 243879.49, 607494.7599999999, 1137702.81, 247376.77999999994, 1336264.2400000002, 856454.48, 242664.97999999998, 19198423.04, 921040.9200000002, 1445633.0100000007, 144011.29, 260799.3, 255034.2, 315601.93, 561084.12, 687127.0000000001, 109822.38000000002, 495937.95, 201130.71000000005, 10239.06, 690127.39, 59807.63, 65897.73, 39425.8, 79378.13999999998, 173267.75, 300177.24999999994, 281359.05, 740254.84, 11944.429999999997, 171846.56, 26502.140000000003, 327689.73, 300698.20999999996, 83518.01000000001, 345480.92000000004, 337150.36000000004, 586576.52, 201222.09999999995, 184964.84, 1995.3, 741107.7799999993, 68877.75, 38374.369999999995, 11921.970000000001, 295373.23000000004, 5556.0, 240410.02999999997, 1398107.6200000003, 218151.7, 1575.0, 498627.21, 193382.75, 981667.8, 2444277.2399999998, 69606.75000000001, 2444277.2399999998, 622403.67, 241550.07, 1331080.1299999997, 2882596.599999998, 3249.02, 735331.5499999995, 61318.079999999994, 1632103.28, 618552.1600000004, 22024.0, 114723.75999999998, 1293403.1299999994, 490722.29000000004, 777589.1899999995, 724705.9800000003, 121414.53, 13209.769999999999, 249.98, 1903232.74, 3119469.13, 1228327.8499999999, 3686862.6500000004, 781363.9299999999, 523361.00999999995, 1780189.9700000002, 19350.4, 579343.69, 160829.32, 67320.0, 752490.1199999995, 363849.5699999999, 1834731.1899999997, 224819.73999999993, 2313866.17, 788632.46, 437949.58999999997, 31943574.48999998, 1551227.3100000003, 2580162.2100000004, 117093.91, 291691.5, 283941.58, 288981.77999999997, 2099581.66, 220814.27, 609192.1800000002, 249291.52999999997, 152875.39, 108589.95999999999, 330546.27000000014, 168721.41999999998, 1260708.1800000002, 401291.74, 118831.59000000001, 2083788.53, 2719978.1099999943, 118421.73999999998, 221872.71999999988, 1118465.2200000004, 116933.38, 2268771.55, 247327.54999999996, 267387.77, 121445.07999999997, 1933501.2999999993, 107969.59, 1531147.19, 353230.11000000004, 2157581.06, 949598.4399999998, 1862475.24, 296684.75, 1788417.5100000005, 299375.38999999996, 1455577.6200000003, 2192215.6800000016, 34178.770000000004, 1626342.72, 1048900.0, 175863.62000000002, 514047.76999999996, 92317.32999999999, 2265951.719999999, 459066.85, 2225749.0299999947, 815234.58, 429803.17000000016, 732139.58, 103514.35, 103514.35, 89581.70999999999, 234770.94999999995, 225749.37000000005, 674516.4599999994, 420413.66, 8380.63, 72408.64999999998, 566673.4600000002, 801985.9, 540.6, 1055253.4499999997, 59554.70000000001, 2376.8599999999997, 10980.519999999997, 32985.41, 1351807.1299999992, 767.87, 1712348.05, 54969.310000000005, 855123.33, 800026.15, 15521.15, 32130.739999999994, 163893.62, 20385.399999999994, 64641.21, 100105.79999999999, 16143.01, 34343.78999999999, 7002.9, 603523.5800000001, 1693730.9600000007, 478279.87999999995, 37244.82, 42322.72, 16149.720000000001, 1226616.1800000002, 12969.379999999997, 15899.36, 225335.85, 901915.6399999999, 4178.79, 157963.0, 157963.0, 609693.49, 1799528.1199999994, 2054850.3900000001, 191514.91, 75789.11, 56751.219999999994, 185476.88999999998, 401347.8000000001, 206500.0, 135907.08999999997, 157740.28000000006, 443955.5999999999, 114957.05999999998, 83786.7, 116251.3, 792576.53, 58346.96000000001, 51134.9, 156593.97999999995, 93493.95, 36144.479999999996, 153266.21, 296735.77000000014, 354438.3999999999, 2981922.209999999, 44416.13999999999, 153836.89, 47899.7, 32138.95, 146816.03, 13043.430000000002, 268144.33999999997, 77825.0, 3375.8199999999997, 51745.0, 198784.89, 150638.57, 760881.6899999998, 222253.84000000003, 675008.2900000002, 39422.43, 73482.24, 276830.18, 145521.47999999998, 265984.22000000003, 67961.46999999999, 277329.77999999997, 81581.65000000001, 9915.64, 15174.279999999999, 210174.97, 3656116.8399999985, 1521261.82, 2679361.9499999993, 329157.79000000004, 561842.81, 442170.03, 8054.459999999999, 105539.46, 131725.78, 1265491.2799999998, 245335.18, 65289.6, 1050698.73, 116626.23999999999, 463842.08999999997, 22073.329999999998, 490788.78, 30228.8, 86143.18, 655522.4199999999, 13366.489999999998, 17665.1, 30192.8, 2010492.44, 140934.37, 22830.879999999997, 1050.0, 60043.979999999996, 16879347.270000003, 71368.38, 2264.67, 118802.18, 146070.29999999996, 463970.17000000004, 2276495.74, 466897.9100000002, 3458459.8800000018, 222119.37999999998, 381219.32, 195779.44, 19685.009999999995, 69930.45000000001, 264440.7199999999, 112797.0, 218344.98, 703502.5799999998, 25511.5, 1509597.27, 61254.37000000002, 947430.5800000001, 309022.69, 1100354.6999999993, 1850921.8200000003, 103056.02, 178490.74000000002, 102257.82999999999, 5107951.899999994, 135453.5, 94349.77000000002, 70756.38, 101116.55, 927571.9100000003, 4600.0, 719226.19, 13867.0, 686931.3499999999, 117874.84, 1331307.299999999, 218570.42999999996, 1771538.1199999999, 1889.6599999999999, 747950.7800000001, 323619.06999999995, 367401.95, 293645.67999999993, 162648.88000000003, 204431.64999999994, 797038.8099999999, 79152.76999999999, 13720.960000000001, 240570.53, 64861.21000000001, 245668.43000000002, 626270.0600000002, 217392.57000000004, 283656.49, 91469.15000000001, 1510050.1699999992, 37914.58, 368719.4100000001, 4288018.779999999, 108539.27, 43445.03, 3603.76, 265528.86999999994, 311773.3099999998, 665511.1000000006, 1166856.5299999996, 2798274.6099999947, 16307.650000000001, 560302.45, 117656.12999999995, 835.5, 35673.03999999999, 65081.19, 68473.11, 129001.06000000001, 1417470.0399999998, 883832.7099999988, 589800.7899999999, 69420.04000000001, 736532.2000000002, 168824.52000000002, 119268.85999999999, 110285.44, 117761.57, 303329.17, 562064.19, 1042549.6699999995, 82119.06, 182685.51, 53379.63, 400824.54000000004, 388580.4999999999, 1383176.43, 400824.54000000004, 491841.81000000006, 2737548.5, 67154.19, 316764.48999999993, 1312330.6500000004, 194178.14999999997, 362.99, 1336264.2400000002, 86094.04000000001, 941219.35, 111410.22000000002, 255031.32000000007, 223222.47, 223222.47, 37168.299999999996, 2645705.709999997, 785498.2999999999, 234126.0, 255047.22000000018, 225435.26, 400175.33999999997, 461258.68000000005, 84674.94999999998, 107865.08, 67176.18, 105982.0, 895868.48, 318057.5199999999, 1120226.14, 591377.85, 1399097.48, 19680.510000000002, 218803.92, 727687.6199999996, 127516.52, 318156.0, 360157.0800000001, 268490.87000000005, 327689.73, 319417.68, 1448017.7, 39222.92, 36298.39, 246155.59000000003, 485831.4800000001, 115006.55, 111139.83000000002, 155141.25, 349486.53, 155141.25, 692382.9, 1030583.0, 6027690.860000001, 1331080.1299999997, 345955.91000000003, 597651.16, 63377.15, 222087.45, 251050.49, 6726658.119999995, 177157.36, 357373.69000000006, 219324.82000000004, 869181.7600000002, 118312.28, 1205295.3799999985, 454409.96, 89781.42000000001, 1780152.28, 1247337.8, 414600.32000000007, 694057.4799999997, 155209.0, 3195371.99, 14059.300000000001, 2096518.6600000008, 468348.24000000046, 497296.1999999997, 1476499.0400000005, 191812.32000000007, 307300.82, 384665.13, 760787.0800000003, 96941.38999999998, 1622287.1499999997, 152414.96999999997, 713493.22, 179674.9, 745119.9800000001, 1755192.3899999955, 4504.32, 278392.51, 61873.78, 882675.4699999993, 154124.97, 280450.24, 756227.3799999998, 2065983.9000000001, 94370.97000000002, 205288.38999999998, 11221.9, 85093.76999999997, 290923.19, 265045.0, 910717.01, 186053.34000000003, 390892.3, 43422.66, 45578.18, 359651.55, 1261347.649999998, 196707.12, 129385.03, 77105.14000000001, 460148.72, 478614.13999999996, 336720.85, 3054822.480000001, 978786.4800000008, 3476.5699999999997, 374.0, 59863.16, 81567.79, 235541.54, 84.46, 84.46, 1272967.67, 167287.34000000003, 1236813.3399999996, 91149.35, 300763.01000000007, 68467.78, 640959.5499999999, 126786.96, 126786.96, 131810.08, 360850.16, 1004756.49, 12293.94, 371748.84, 1968215.7799999965, 98497.46000000002, 303260.04, 80607.37999999999, 265541.22, 2575.0, 654857.48, 105703.18, 609981.2000000001, 609981.2000000001, 55773.0, 4590383.480000004, 769076.0999999999, 735958.87, 617912.86, 8627301.619999997, 1524957.2399999963, 1826238.5600000003, 45506.56, 45506.56, 171558.08, 3080.0, 18289.200000000004, 171558.08, 343780.26999999996, 40799.54, 47084.57, 1061431.2400000005, 2109.5299999999997, 797858.4400000001, 185476.88999999998, 185476.88999999998, 1811646.0, 1811646.0, 2046923.5499999996, 48065.08, 822722.2500000001, 379361.17000000004, 434080.23, 58792.15000000001, 742336.8900000002, 2306525.499999999, 51217.2, 1124563.73, 3450.55, 219681.7, 911332.0000000014, 276830.18, 1666632.15, 559217.9199999998, 80701.97, 41994.369999999995, 17647.329999999998, 718702.8300000002, 2870209.039999998, 2251795.7, 1659070.6799999995, 66692.79, 448049.01, 3010849.359999999, 27460.83, 63808.96, 10094.7, 15194.0, 526794.95, 497259.43, 1916878.4400000006, 104463.7, 2015693.4699999997, 495429.18000000005, 259692.5899999999, 1488835.5799999977, 44402.25, 7254631.420000015, 125141.13, 612929.2199999996, 11593.0, 756524.8499999999, 46356.130000000005, 71049.63, 1475423.8499999987, 810672.7800000001, 358264.53, 693500.4900000005, 693500.4900000005, 154085.0, 1029551.98, 33195.909999999996, 38928.20999999999, 286438.20999999996, 124338.0, 405041.7199999999, 1042077.3500000003, 2917637.2899999977, 323132.68999999994, 1236617.0199999996, 308776.17000000004, 238705.36000000007, 102936.01, 100.0, 308288.04000000004, 48548.54, 1342982.1199999999, 1099445.81, 315827.51, 315827.51, 1099445.81, 214776.69, 1774587.2699999989, 40948.369999999995, 646274.05, 1064501.1199999999, 712183.7899999999, 1152701.9500000002, 1152701.9500000002, 219926.29000000004, 710493.3, 3846154.860000001, 193099.38, 12211.59, 8307.43, 533975.6100000001, 121890.18000000001, 511755.0, 236027.64, 12887.01, 451287.37999999995, 122430.52, 175327.40999999997, 419153.20999999996, 757463.8699999999, 266966.34, 1631286.2799999998, 1312330.6500000004, 9114.02, 78174.19000000002, 653788.5099999998, 56115.97, 76266.06000000001, 33855.94, 66948.94, 103636.16, 936905.6300000001, 1588725.72, 556039.9199999999, 1048996.1900000006, 81791.18000000001, 339504.05999999994, 260799.3, 41646.869999999995, 476563.3900000001, 309699.0, 809435.5, 614582.4800000004, 296803.11999999994, 1130810.0599999996, 1060736.4999999998, 916248.2399999998, 1350421.95, 228775.9299999999, 792909.7799999996, 1793944.3300000003, 128859.82999999997, 211365.34, 2222149.3299999987, 338055.47, 127212.6, 10181.5, 252714.97, 65448.34999999999, 996138.9200000002, 873830.5399999998, 42927.89000000001, 654472.3600000001, 323486.5, 928401.03, 6171.9, 21074.2, 1092550.4399999988, 144227.21000000002, 719180.0599999999, 2353316.360000001, 151753.15, 170338.43000000002, 131974.0, 250890.9, 844709.6100000002, 198173.23000000004, 209156.8, 276454.3900000001, 34418.5, 18830441.459999997, 40593.85, 2364969.7899999986, 83404.48, 1258066.7900000007, 228829.89999999997, 230002.67000000004, 910377.6700000003, 130070.65999999999, 376621.55999999994, 124017.83, 395145.16, 258504.79, 81798.23, 326259.86, 1335615.329999999, 706297.85, 1433599.0, 2762956.54, 112388.59999999999, 39948.740000000005, 16510.42, 69504.6, 3515898.55, 231482.59, 524237.11, 2622518.12, 265983.24, 300277.08999999997, 1523346.3099999998, 24369.0, 768949.7500000001, 986.0, 55870.28, 1197222.32, 299590.14, 3051.64, 2026000.0, 18289.200000000004, 18289.200000000004, 3545031.1699999995, 1808262.2099999979, 2298954.0, 2298954.0, 838870.4400000002, 130560.17, 148135.45, 1662339.329999991, 132253.79000000004, 1313231.539999999, 32039.539999999997, 1509192.5, 999984.7399999999, 4123895.6700000004, 710205.7999999998, 766.81, 1467275.8199999984, 103410.71000000005, 60441.0, 197945.03, 953011.54, 60043.979999999996, 881240.84, 599985.0, 2910712.5299999984, 634068.11, 937111.44, 50797.439999999995, 275074.00000000006, 1213839.1400000008, 683450.9600000001, 317319.61, 1478739.73, 80530.96, 72108.97, 147446.63, 394687.5, 6580.0, 292405.58, 213879.28000000003, 119527.24, 119527.24, 682193.8200000002, 807533.0999999997, 307119.0400000001, 439124.4600000001, 74763.11, 184125.2, 95004.04, 21638.769999999997, 519122.05000000005, 40948.369999999995, 52940.479999999996, 207660.25000000003, 261147.48000000007, 832803.3199999995, 150013.93, 12314.55, 222721.85, 81235.15999999999, 126233.56000000001, 1203087.2299999984, 178613.69, 296487.23, 146551.96000000008, 257420.20999999996, 1072798.5100000002, 242664.97999999998, 36807.56, 976299.4300000009, 1135337.090000001, 600096.03, 192202.50999999998, 305492.48, 305492.48, 320993.31999999983, 356997.97999999986, 2828601.3600000017, 6599.86, 246199.60000000012, 9972.439999999999, 319417.68, 47578.6, 661530.2999999998, 386794.67, 542306.54, 392284.93999999994, 3064260.970000006, 158917.5, 291784.83999999997, 1433291.62, 554838.5699999996, 2288655.2299999995, 50881.83000000001, 628795.77, 1269372.13, 474978.08999999997, 7668.219999999999, 3591329.4499999997, 24333.09, 608748.9299999999, 121008.81, 2078220.1599999985, 1190468.9099999997, 964978.3700000002, 516922.84999999974, 78744.65, 370991.0, 370991.0, 290756.51, 103886.0, 235254.75, 987770.9300000006, 789448.03, 65650.0, 113228.73, 26670.75, 230211.97, 599897.85, 68988.79000000001, 41198.8, 391103.29, 151304.42999999996, 552440.9199999999, 3001.0, 256629.3299999999, 99776.54000000001], \"y\": [42757.16, 75932.43, 42340.0, 355876.44, 50000.0, 30000.0, 65376.56, 30000.0, 163450.8, 55943.32, 50076.25, 28000.0, 29131.83, 24891.59, 42833.0, 34450.0, 20721.82, 23994.6, 32208.65, 31270.98, 21338.78, 27116.13, 25989.29, 36411.83, 24933.06, 38429.97, 22935.65, 38367.0, 30000.0, 17400.0, 34303.25, 25809.33, 21189.79, 35912.7, 36667.88, 40050.88, 42006.67, 23746.36, 92619.02, 7614.46, 40618.56, 66769.8, 39961.05, 22473.0, 31933.79, 52761.36, 50989.25, 49500.0, 61066.02, 45993.95, 45993.95, 28328.22, 16033.57, 40675.31, 31104.48, 52133.62, 85979.13, 17048.69, 66377.25, 31970.84, 14379.35, 24867.96, 12185.24, 59800.48, 8445.63, 26100.0, 34662.83, 48076.17, 79622.58, 45066.0, 31025.85, 51577.95, 37310.43, 37310.43, 19209.74, 37207.29, 11677.87, 200000.0, 50684.52, 24855.33, 26998.62, 70000.0, 48960.58, 22401.23, 26335.24, 21499.9, 25000.0, 38784.22, 25000.0, 57982.06, 26138.92, 47677.4, 62100.82, 36821.2, 30764.48, 58053.32, 53760.42, 55431.98, 26511.76, 54358.87, 132348.06, 77647.5, 82479.12, 75947.0, 66934.0, 32977.3, 60875.74, 52673.32, 26290.47, 19706.49, 40401.64, 18548.16, 19140.0, 21227.81, 26419.0, 29034.21, 34411.84, 32615.89, 20000.0, 18753.0, 30453.51, 34621.0, 27409.33, 22675.2, 14144.79, 15745.22, 43482.12, 4391.76, 16000.0, 26996.63, 61335.0, 30116.5, 35126.14, 24000.0, 34908.07, 33528.08, 23175.06, 21750.0, 21750.0, 37896.48, 50023.48, 39150.0, 16999.03, 33263.9, 40415.9, 10440.0, 43561.68, 137036.67, 50244.73, 32388.08, 22833.19, 2504.65, 3438.05, 18815.5, 42436.81, 32282.0, 28523.97, 22954.69, 37051.06, 40030.77, 21383.67, 32066.6, 60900.0, 19577.9, 21721.48, 22470.69, 38685.36, 43993.0, 23847.67, 8152.4, 21254.96, 49836.31, 34640.5, 48736.7, 9280.78, 21558.09, 26617.55, 13379.43, 56716.02, 50460.0, 16579.35, 45530.99, 57521.29, 21868.0, 49735.0, 28270.88, 26100.0, 38603.35, 24501.64, 68583.43, 49290.88, 18136.57, 30215.87, 40270.27, 23575.61, 25253.19, 34019.3, 28466.77, 41211.65, 41325.0, 38478.81, 38369.39, 38812.71, 33524.85, 50271.56, 56961.51, 56961.51, 21168.84, 16677.02, 52388.65, 35000.0, 44139.43, 26318.88, 52038.55, 19676.0, 16057.13, 105380.99, 30276.0, 29871.8, 29560.27, 22965.25, 36607.62, 34310.03, 27148.65, 30183.02, 37858.39, 19477.43, 22316.12, 46740.94, 28488.55, 21000.65, 23364.59, 38034.37, 35231.0, 32108.64, 54554.54, 28676.45, 26634.96, 44583.8, 30054.07, 44950.0, 90171.86, 54924.7, 40876.08, 30450.0, 42136.01, 112881.56, 23327.74, 95450.37, 54709.93, 17186.83, 64715.68, 37994.74, 32293.01, 31109.63, 99762.02, 34811.04, 85324.57, 29408.1, 18126.58, 17400.0, 52935.54, 12324.97, 31568.54, 20013.45, 39999.92, 35545.13, 56442.46, 30983.23, 32428.53, 19048.81, 22093.71, 21102.04, 24810.23, 39252.4, 16544.75, 24841.48, 62184.75, 55310.0, 19545.11, 12450.29, 31544.21, 34883.67, 45398.14, 32746.22, 24004.7, 36462.68, 18627.26, 30783.5, 121522.88, 50479.64, 21381.1, 66333.62, 32435.83, 28626.27, 21585.47, 21242.55, 53250.41, 17921.3, 81420.65, 32126.82, 28347.93, 31015.38, 39257.01, 41061.39, 35729.87, 42834.23, 43500.0, 26310.75, 25000.0, 38124.09, 37758.0, 28249.8, 45500.0, 36351.36, 20010.0, 36351.36, 48597.65, 26758.33, 40905.38, 21940.0, 41342.0, 59758.6, 33085.12, 165843.0, 41673.44, 24102.44, 79903.0, 80607.55, 31475.97, 35000.0, 58821.11, 35015.29, 82043.66, 37950.43, 50000.0, 43349.82, 31453.14, 160515.0, 45538.0, 43099.15, 192348.57, 18320.02, 17081.32, 25635.59, 23863.4, 21268.32, 28841.67, 19444.0, 51322.26, 58408.74, 50342.09, 27413.33, 41497.57, 13629.63, 37000.0, 51837.22, 28190.05, 24211.9, 14738.02, 27887.73, 34698.47, 33932.01, 31304.82, 51124.22, 35000.0, 30773.7, 31056.52, 30846.54, 26100.0, 37541.66, 30831.46, 26825.0, 59932.41, 63405.01, 18752.11, 14790.0, 12455.5, 29724.99, 40890.0, 73950.0, 14870.92, 51460.5, 25745.75, 29895.27, 42854.42, 23732.09, 44539.64, 49860.29, 14302.66, 22620.0, 29000.0, 52799.26, 68204.97, 29030.37, 41403.15, 28595.59, 55059.93, 57012.72, 12330.31, 29960.28, 22452.73, 23375.02, 59533.04, 9817.95, 27247.26, 35061.0, 27712.36, 28600.0, 11648.0, 30450.0, 54356.15, 61046.85, 14906.0, 39751.75, 40113.53, 34636.78, 32089.95, 20010.0, 48115.01, 40326.0, 45115.65, 96166.9, 38964.67, 49980.37, 73017.36, 46074.53, 63435.43, 57939.64, 32130.66, 50000.0, 76684.71, 45867.23, 35017.5, 30780.0, 56106.03, 46137.27, 27000.0, 26857.14, 47117.75, 56812.0, 45123.33, 28581.77, 53835.0, 75907.63, 31466.65, 31466.65, 44950.0, 20125.58, 82763.19, 56440.0, 69250.02, 19264.95, 103341.0, 216670.0, 77619.0, 184993.84, 49375.45, 92248.15, 32314.43, 54608.63, 36917.63, 43266.24, 61110.0, 66122.79, 47850.0, 76565.33, 70225.5, 69051.28, 40020.0, 48539.36, 42743.1, 37965.01, 93533.4, 40931.81, 26970.0, 35394.68, 42822.72, 37282.86, 54260.45, 73930.84, 76635.0, 59815.0, 61769.24, 96694.55, 78040.85, 22912.42, 54017.0, 52521.84, 42264.31, 41237.49, 84410.04, 30795.33, 41093.0, 25785.06, 20341.06, 33606.5, 18135.88, 10276.0, 20000.0, 29679.64, 24590.34, 32187.45, 36614.53, 23775.52, 26862.98, 34103.0, 21750.0, 26453.66, 27183.98, 58116.0, 40600.0, 30000.0, 23649.19, 36704.66, 37282.71, 82865.0, 57941.47, 253968.0, 25631.51, 36858.77, 70333.33, 28958.32, 11067.0, 30450.0, 40514.71, 57551.4, 116665.55, 20872.66, 22616.0, 32500.0, 20572.13, 29646.5, 21929.81, 70000.0, 24294.32, 43611.52, 15638.0, 120301.31, 40553.59, 28438.85, 44958.01, 45022.5, 60583.33, 91187.93, 52925.0, 85669.67, 35329.44, 21118.3, 35389.97, 40309.58, 32872.38, 62350.0, 62350.0, 69600.0, 21704.98, 15478.75, 16000.0, 39248.0, 27931.44, 32606.2, 30000.0, 42104.86, 42733.15, 60000.0, 51736.26, 63275.25, 8444.62, 17242.4, 24432.21, 44507.63, 34102.83, 63822.14, 29129.06, 50750.0, 68108.99, 37167.18, 27096.43, 51371.19, 37532.07, 69570.7, 37804.17, 26236.85, 38579.0, 28797.43, 22524.99, 43114.3, 43114.3, 61905.94, 49182.0, 28663.46, 29832.34, 68930.303, 27785.43, 150205.32, 25000.0, 60777.02, 42262.49, 59010.5, 35072.79, 21716.32, 22340.91, 26645.9, 43500.0, 12838.31, 49330.73, 30907.03, 36033.57, 126706.21, 37996.5, 48460.29, 57589.64, 102761.49, 209700.0, 52200.63, 50893.0, 12688.0, 59448.28, 157727.0, 120672.04, 9990.5, 43500.0, 24682.0, 58570.79, 51069.3, 37000.0, 28992.0, 30522.5, 30774.0, 29760.38, 16000.0, 10038.0, 21612.0, 19032.98, 13710.33, 24853.43, 40013.18, 12180.0, 30145.38, 30145.38, 12387.06, 41760.0, 20823.7, 12513.06, 44599.16, 11727.51, 32212.37, 43542.3, 35215.91, 22785.02, 27933.76, 18818.14, 40256.08, 19220.56, 50025.0, 28104.62, 26691.6, 45675.0, 34800.0, 27381.05, 27365.23, 64801.04, 30496.28, 30496.28, 56371.5, 44805.0, 25230.0, 15645.5, 43353.55, 75125.0, 40567.75, 12849.75, 35472.32, 22984.59, 30457.02, 29727.4, 36015.0, 33920.39, 14821.0, 33679.51, 33754.78, 39748.85, 47815.6, 34220.0, 60464.68, 19239.38, 29037.85, 29037.85, 36398.07, 24600.76, 52459.55, 39150.0, 38585.4, 24287.86, 70151.0, 33717.0, 15423.8, 50872.0, 26093.22, 26468.0, 55752.5, 19698.83, 43692.47, 40904.12, 39198.86, 49190.55, 18732.65, 33883.68, 37500.0, 52804.09, 42422.57, 50317.1, 15351.07, 35321.23, 21750.0, 35505.56, 44139.66, 42433.64, 17497.73, 25997.89, 30750.28, 25872.03, 23197.5, 26152.54, 25889.15, 40213.57, 38915.1, 49157.61, 27676.44, 31832.39, 56371.32, 48059.22, 45125.0, 46204.83, 41087.0, 47546.58, 25453.78, 41959.0, 37857.82, 79750.0, 33766.6, 26970.0, 115172.48, 30000.0, 47782.61, 52475.29, 146395.13, 9151.19, 193853.69, 49819.0, 52707.5, 36629.9, 17555.67, 35374.99, 43889.0, 10829.18, 39696.17, 19994.38, 47235.93, 75447.96, 61048.73, 19955.63, 35246.6, 69174.0, 17275.83, 48596.06, 21205.89, 22342.37, 20603.22, 57865.62, 25287.6, 14149.09, 31175.3, 46429.22, 36416.07, 99888.6, 64589.01, 39195.0, 22578.84, 34526.82, 33097.78, 44959.22, 104450.21, 20614.36, 24003.29, 22085.28, 14995.9, 36447.57, 53545.42, 50262.25, 15826.75, 58786.13, 37377.56, 26833.0, 49576.15, 38178.0, 27758.1, 52129.68, 38165.0, 10614.49, 37845.86, 36268.35, 41818.0, 35200.84, 22205.0, 51256.39, 31852.45, 35983.08, 32981.78, 49921.7, 13050.0, 34014.47, 24021.14, 27540.0, 40265.14, 50223.91, 32182.3, 36292.0, 38599.68, 251500.69, 39954.66, 83549.97, 81590.2, 37739.54, 185088.8, 35279.0, 17908.66, 8462.3, 8462.3, 8462.3, 37488.91, 45697.8, 10643.0, 83773.31, 41916.85, 22660.15, 47309.3, 30517.55, 37206.25, 58536.0, 74122.09, 33665.61, 38766.52, 36465.78, 9570.0, 25849.34, 181723.3, 46733.5, 35403.44, 36647.81, 11448.0, 38219.0, 43102.79, 27234.78, 56541.52, 39000.0, 61344.43, 97271.35, 34452.0, 46428.18, 36647.8, 37755.1, 7669.0, 193140.0, 37401.59, 37401.59, 31843.88, 76454.13, 72000.0, 79321.77, 36838.45, 85203.06, 51154.14, 24799.65, 9427.9, 44773.25, 24183.89, 80066.26, 41228.72, 30160.0, 18502.36, 34000.0, 23859.7, 29553.46, 9578.19, 57855.0, 25077.93, 38285.94, 112411.17, 50014.52, 45035.61, 74530.0, 40409.89, 40409.89, 43164.1, 25840.45, 59378.15, 48482.93, 31160.17, 44154.15, 51053.18, 22772.54, 67222.94, 60351.99, 59494.37, 27622.5, 39709.54, 31539.0, 24611.0, 45225.5, 58662.07, 51306.0, 63661.79, 30636.29, 24033.91, 31847.0, 34655.06, 30751.82, 26196.78, 44938.0, 31500.0, 24716.0, 56614.24, 53595.74, 41778.0, 55598.31, 54523.14, 46307.0, 96973.51, 65867.56, 24797.62, 30853.38, 114767.85, 25927.44, 34943.73, 30505.25, 39902.42, 38916.04, 40386.07, 12231.72, 82594.57, 83421.64, 53650.0, 27896.0, 44660.64, 49867.93, 87159.0, 27431.0, 80683.33, 73370.88, 264837.5, 33505.76, 35692.77, 24911.6, 96417.74, 19343.0, 10540.33, 43710.25, 46510.05, 60000.0, 22071.0, 30084.35, 26053.8, 23536.25, 55286.0, 42425.49, 14277.71, 20830.76, 35778.64, 36456.01, 16841.75, 28301.0, 32697.07, 50758.0, 43405.12, 43427.45, 15290.34, 39150.0, 37154.95, 23810.53, 27575.94, 34188.05, 28530.3, 25308.0, 82650.0, 49884.5, 69875.31, 61321.01, 32002.08, 33019.45, 111787.06, 104098.54, 43499.43, 59045.45, 38498.25, 33218.66, 21010.68, 38561.09, 55870.02, 52654.31, 107029.19, 36284.77, 117252.0, 50031.95, 46552.17, 39096.41, 153892.98, 61058.21, 27157.84, 28366.33, 51898.02, 34278.0, 32274.76, 15477.0, 38934.29, 25220.53, 53617.06, 30559.7, 30089.7, 62927.43, 61154.85, 49172.97, 51137.22, 39150.0, 32064.31, 37972.0, 48140.0, 35937.82, 48356.6, 39139.41, 43372.0, 23160.85, 37389.85, 50136.29, 110522.53, 29953.93, 47050.93, 31440.75, 217500.0, 79758.0, 14144.36, 38555.0, 42647.0, 20020.46, 24105.0, 66869.44, 50304.39, 77636.78, 33184.35, 29634.54, 26100.0, 32767.02, 195530.0, 27153.86, 72118.72, 51575.78, 57226.0, 62442.22, 55754.63, 55462.0, 31495.88, 75641.46, 47850.0, 19139.37, 68890.0, 44955.0, 15143.59, 85076.56, 106892.1, 81747.43, 181376.9, 164951.3, 82190.77, 131689.27, 41554.0, 128470.0, 103073.53, 44958.06, 62664.83, 37977.65, 39551.97, 24604.39, 47519.59, 55929.42, 58263.4, 27779.51, 25451.43, 38633.96, 44000.0, 51900.96, 51832.54, 49084.09, 27526.48, 44706.55, 45048.6, 55230.51, 38146.32, 147139.33, 55727.78, 34892.97, 60604.59, 49614.49, 219833.34, 41542.5, 72677.29, 51232.88, 20700.0, 14352.87, 141073.87, 47646.65, 19069.06, 31758.0, 47290.12, 45782.88, 114840.0, 87000.0, 41051.99, 10242.0, 31886.64, 43000.0, 35000.0, 52000.0, 50000.0, 109556.6, 28817.0, 49146.4, 30102.0, 46893.0, 35394.68, 31120.0, 25318.95, 19467.32, 14667.0, 34031.0, 32398.26, 17822.95, 32344.53, 27666.35, 16182.14, 20000.0, 54327.0, 93670.0, 56137.22, 16900.0, 44800.0, 44029.0, 45000.0, 23000.0, 21000.0, 38450.83, 60000.0, 45414.0, 54679.13, 68821.85, 34256.36, 30000.0, 25000.0, 30000.0, 54845.34, 20000.0, 50000.0, 23345.38, 24394.51, 46146.45, 15178.53, 30068.09, 20369.75, 85000.0, 25000.0, 35000.0, 38000.0, 76087.0, 38913.0, 1000000.0, 22565.1, 100197.1, 23338.85, 33612.0, 56732.0, 28172.61, 25000.0, 105000.0, 47586.0, 87000.0, 13368.12, 65000.0, 88664.24, 23760.0, 30000.0, 16695.56, 40354.11, 40000.0, 20119.14, 27431.02, 19154.5, 27151.55, 27933.51, 56286.46, 67129.2, 33376.09, 16081.04, 24508.43, 50954.19, 47760.68, 64803.78, 44042.39, 40113.36, 59550.34, 74260.02, 56145.0, 38837.6, 28969.82, 47850.0, 67577.98, 9882.0, 20000.0, 16900.98, 55897.66, 60030.0, 43500.0, 1500000.0, 35406.06, 39599.0, 39599.0, 25037.82, 46045.44, 33319.3, 11918.61, 27329.11, 19192.0, 39804.93, 25282.65, 11796.0, 15778.0, 33367.83, 78221.83, 33393.69, 34592.04, 50802.13, 71072.54, 65000.0, 27000.0, 35000.0, 34800.0, 30447.41, 43500.0, 48105.04, 124633.0, 124632.99, 15190.21, 25000.0, 121058.06, 47769.92, 81246.08, 20000.0, 11280.0, 15000.0, 11000.0, 30000.0, 75026.51, 28363.0, 27240.39, 36542.54, 15706.6, 42929.27, 26100.0, 24103.54, 38240.56, 16426.36, 19000.0, 33539.0, 24377.69, 50000.0, 30000.0, 35000.0, 128470.0, 29000.0, 34800.0, 33930.0, 33148.06, 54938.6, 11371.0, 16000.0, 15000.0, 12000.0, 10300.0, 61248.0, 29131.11, 25484.1, 37000.0, 70000.0, 20000.0, 35000.0, 30000.0, 26500.0, 50000.0, 32000.0, 40000.0, 28000.0, 130000.0, 45000.0, 20000.0, 35000.0, 60000.0, 25000.0, 38053.6, 48488.0, 22704.83, 32829.11, 40597.88, 17487.61, 18028.49, 37195.12, 25000.0, 44036.74, 30479.0, 13038.0, 12000.0, 22000.0, 40000.0, 20000.0, 23407.93, 40000.0, 85000.0, 55000.0, 33000.0, 38845.08, 43500.0, 59762.87, 23000.0, 35000.0, 45000.0, 30000.0, 45000.0, 38000.0, 23000.0, 25000.0, 35000.0, 23498.29, 41887.74, 42630.0, 42630.0, 22743.84, 89436.0, 30450.0, 35177.18, 20000.0, 45000.0, 28269.05, 45000.0, 30000.0, 56538.54, 30000.0, 65000.0, 52000.0, 30000.0, 30000.0, 15000.0, 46241.17, 42014.33, 27000.0, 26000.0, 53817.47, 22952.0, 52026.0, 53527.15, 55000.0, 25000.0, 45000.0, 35000.0, 38000.0, 16000.0, 40000.0, 45000.0, 25000.0, 16000.0, 35000.0, 35000.0, 48811.0, 45730.78, 52273.56, 24000.0, 16000.0, 25000.0, 30000.0, 40000.0, 65000.0, 34000.0, 65000.0, 62499.22, 55000.0, 38000.0, 22000.0, 40000.0, 15329.84, 53674.43, 41108.55, 49038.28, 25000.0, 18000.0, 27000.0, 15249.44, 50000.0, 25000.0, 25000.0, 25000.0, 120000.0, 41000.0, 20000.0, 52000.0, 25000.0, 15000.0, 20000.0, 30000.0, 30000.0, 54125.61, 20900.21, 10400.64, 30363.44, 26863.06, 87398.62, 39081.99, 24879.06, 37178.0, 41203.67, 31208.04, 55786.23, 14208.5, 36175.6, 20000.0, 35000.0, 60000.0, 20000.0, 30000.0, 40000.0, 13500.0, 20000.0, 50000.0, 19000.0, 17898.73, 23907.33, 23041.93, 30599.19, 30339.0, 35000.0, 30000.0, 30000.0, 49000.0, 80000.0, 40000.0, 21000.0, 23000.0, 14117.72, 22205.02, 15000.0, 24461.3, 30000.0, 25000.0, 35000.0, 35000.0, 15904.46, 59450.0, 25503.0, 48218.88, 11820.24, 27530.43, 60846.84, 12945.98, 46784.22, 80362.0, 36485.62, 15093.05, 48732.96, 25170.67, 55835.99, 48580.64, 34756.52, 66645.6, 108750.0, 73746.42, 37735.59, 36218.74, 37575.0, 37211.0, 164595.4, 30151.66, 80203.86, 34909.57, 59750.35, 24533.82, 50966.0, 50853.4, 39150.0, 36337.0, 33375.28, 62633.0, 25297.57, 20118.37, 17227.48, 53429.34, 40107.98, 19833.25, 21573.19, 76147.74, 25885.42, 17439.32, 59654.15, 169925.44, 53397.57, 26354.4, 36088.88, 18577.27, 32889.62, 11539.27, 41206.92, 25000.0, 42731.35, 22214.0, 45588.0, 49024.18, 54145.59, 25111.75, 28728.0, 33522.37, 31752.49, 42509.24, 27260.68, 25108.85, 36369.03, 25230.0, 25352.18, 14326.0, 28657.48, 28798.58, 40757.0, 101385.79, 43173.14, 39000.0, 24853.87, 62500.0, 140117.02, 19962.34, 144083.6, 37734.0, 25979.0, 64680.73, 58383.51, 17683.4, 36270.26, 30270.04, 61299.69, 37317.92, 12162.84, 38562.55, 54979.34, 45369.89, 36738.63, 26814.6, 30716.65, 28627.1, 30802.84, 42764.85, 41838.89, 77556.74, 62946.42, 82650.0, 44597.91, 35501.22, 52110.74, 55767.0, 24704.44, 21866.0, 110181.01, 31433.26, 31358.5, 41392.43, 77139.83, 23677.95, 35194.1, 29139.98, 55220.82, 51421.0, 12006.0, 57735.34, 48971.92, 17661.19, 115751.63, 27991.62, 28092.62, 26774.25, 28720.25, 16976.99, 40000.0, 50906.67, 42547.12, 204241.99, 16611.95, 38881.88, 52946.6, 20910.59, 31031.45, 38000.36, 18190.18, 34311.82, 24260.43, 31030.0, 22929.45, 64640.87, 33920.21, 32600.21, 25872.2, 90327.62, 96643.53, 68633.14, 48340.0, 74239.32, 43297.0, 52916.93, 73044.14, 22051.71, 198998.96, 117197.58, 90958.73, 161401.43, 69132.3, 170596.24, 102131.56, 72328.51, 142000.0, 45000.0, 27212.89, 45688.0, 45688.0, 65000.0, 30000.0, 30000.0, 28000.0, 135669.81, 70668.57, 86978.99, 19253.0, 47609.04, 31246.0, 42824.0, 48319.95, 58260.95, 32000.0, 30000.0, 44245.18, 49731.52, 47415.0, 90000.0, 85032.0, 69550.12, 73819.34, 46019.0, 68667.76, 66063.86, 78037.93, 57741.9, 70537.0, 62240.0, 41720.64, 39799.05, 79520.0, 48461.03, 50000.0, 35000.0, 61849.16, 222256.11, 72835.58, 45540.7, 61575.68, 25000.0, 35000.0, 80322.4, 80000.0, 74320.0, 50206.05, 48300.33, 29914.69, 28467.86, 21750.0, 27437.68, 38883.07, 96781.75, 70000.0, 130281.68, 62885.12, 64258.9, 48221.16, 41394.49, 50558.89, 29600.7, 16134.35, 19136.52, 42706.11, 14883.42, 33056.96, 20500.0, 71692.06, 51241.12, 21787.96, 41621.57, 22629.28, 42657.04, 30399.04, 18000.0, 22803.89, 42614.79, 22486.0, 36152.15, 99529.82, 63165.7, 43672.48, 25601.53, 57518.92, 55733.9, 28668.96, 79104.12, 11808.88, 47420.17, 19735.98, 32070.22, 28474.0, 35028.09, 49130.6, 33471.86, 29213.05, 82650.0, 23607.16, 21566.82, 27199.05, 97903.32, 32797.09, 48418.38, 130103.26, 41643.3, 26208.32, 43500.0, 60900.0, 16961.23, 45615.86, 22284.66, 36622.35, 33934.25, 30370.45, 34433.0, 56727.57, 17655.69, 23613.89, 270263.16, 50224.0, 20435.32, 36222.27, 11904.0, 22823.0, 77603.74, 82841.0, 68122.3, 22252.4, 97043.41, 36857.86, 71548.76, 55692.39, 44378.14, 44266.32, 61577.11, 28078.38, 28366.0, 27167.97, 24656.15, 23558.37, 27464.3, 19020.95, 40075.14, 15092.0, 29707.6, 9646.85, 23804.83, 21055.81, 40800.85, 40482.58, 13197.06, 32348.34, 16346.45, 22427.56, 42362.14, 27811.15, 21041.77, 22795.89, 67138.0, 22117.59, 42751.8, 24577.5, 76511.48, 21526.3, 26598.47, 42450.64, 46268.0, 75221.53, 15641.41, 28072.66, 25590.0, 41531.41, 33323.75, 58451.57, 39173.39, 44298.98, 34800.0, 72641.99, 32332.69, 26766.0, 45653.54, 21638.08, 43868.05, 37845.37, 42323.09, 41542.0, 18460.56, 17092.82, 19195.89, 40218.24, 29913.65, 40076.0, 43021.5, 37700.0, 34502.31, 51598.25, 33019.0, 42378.38, 26453.23, 51353.06, 34133.8, 36602.08, 33296.11, 28108.23, 29551.4, 19085.36, 19868.0, 45625.06, 29980.0, 12622.12, 30160.59, 154231.55, 71185.67, 79876.23, 18118.83, 59058.88, 52688.56, 31813.44, 39000.0, 42434.32, 32902.68, 21589.65, 64366.0, 37247.25, 40005.39, 39150.0, 78082.04, 50534.88, 55138.56, 46608.19, 55964.32, 37699.19, 36639.68, 32856.3, 38441.57, 22383.0, 47517.0, 48479.54, 60698.0, 20933.32, 30563.68, 26507.13, 47364.01, 6192.55, 52125.93, 29752.92, 24069.99, 73899.74, 28341.0, 38161.57, 32816.0, 38850.0, 55171.94, 41746.07, 29671.54, 52292.14, 20246.21, 33478.06, 40639.5, 47821.0, 101759.85, 42446.2, 53529.98, 22311.47, 43919.81, 29932.16, 30562.05, 35090.0, 77121.42, 26667.0, 77121.43, 31925.25, 29588.0, 23156.71, 63021.27, 41070.0, 29352.57, 40000.0, 42232.51, 18270.0, 31013.76, 74522.75, 57364.07, 42259.22, 13657.61, 43500.0, 49812.08, 40790.79, 34811.0, 42102.21, 68776.4, 8689.69, 25905.0, 56300.9, 59868.47, 52666.28, 219167.5, 61921.83, 26322.72, 60000.0, 25666.42, 57428.43, 27426.03, 46712.67, 8869.55, 29008.0, 39936.23, 119000.0, 83772.0, 52787.69, 50339.25, 24535.69, 24993.37, 48517.0, 31939.54, 76998.5, 71715.12, 29940.72, 41057.86, 40890.0, 42050.0, 71560.68, 23317.07, 35249.94, 27690.53, 84904.75, 24650.45, 30500.25, 34065.39, 42835.79, 78039.0, 133412.81, 46288.0, 67804.58, 37064.47, 100264.34, 44699.03, 26640.39, 33694.83, 49991.87, 38648.72, 38814.47, 37356.68, 58524.13, 25022.52, 46314.45, 46314.45, 26943.9, 27022.22, 41658.0, 44735.7, 32197.11, 84707.28, 38402.66, 34970.61, 33651.94, 100260.0, 49321.0, 99362.0, 24138.0, 102107.41, 172723.71, 69210.76, 20907.49, 47794.0, 101226.73, 32098.8, 74547.47, 56230.66, 51123.15, 51123.15, 86004.73, 36234.78, 49155.0, 99526.0, 88657.57, 151380.0, 58203.82, 49579.13, 52144.44, 52114.45, 91959.0, 95700.0, 23180.3, 63031.01, 130500.0, 77444.77, 37349.0, 79790.66, 25141.45, 134165.95, 28694.1, 28694.1, 80453.42, 80453.42, 58909.41, 78000.0, 28667.76, 29518.65, 22550.66, 26024.27, 38628.15, 70054.0, 37410.0, 46714.38, 31023.71, 44448.0, 40946.0, 79104.12, 45371.57, 195160.72, 25963.66, 46827.63, 20803.05, 28986.13, 51863.45, 27722.14, 56015.0, 54372.97, 127413.44, 52389.33, 29722.68, 26000.61, 36565.38, 26238.35, 153743.49, 23313.84, 80116.28, 30865.0, 100616.87, 49337.64, 70692.78, 11239.63, 21797.37, 55034.2, 34765.0, 48467.0, 35039.71, 39304.83, 34096.02, 22756.81, 30537.9, 49236.0, 22678.0, 87740.36, 87740.52, 35663.96, 39824.09, 16612.84, 27073.29, 24934.75, 78332.0, 40314.06, 43553.0, 21170.0, 45327.71, 85959.59, 52193.96, 31529.48, 17910.43, 50860.88, 21396.71, 42827.17, 78183.03, 23078.02, 18096.0, 18096.0, 23078.02, 32742.99, 40041.04, 60000.0, 24229.5, 101614.55, 127080.2, 21960.0, 21960.0, 36913.66, 86689.24, 38305.67, 28022.92, 49090.14, 35605.41, 52710.2, 32021.17, 39937.88, 41788.14, 24709.79, 20843.16, 54289.47, 31910.17, 49608.63, 49655.25, 31420.45, 88457.07, 39150.0, 19633.0, 35900.17, 66682.6, 42158.38, 15466.0, 53728.08, 41660.05, 54304.02, 26791.0, 59312.55, 43826.69, 152034.9, 34095.3, 43380.31, 19650.12, 48800.0, 47731.75, 50460.0, 46439.0, 45938.01, 52648.15, 54300.47, 35923.82, 52722.84, 30335.44, 31131.11, 36356.72, 52514.21, 34615.96, 32269.38, 23826.51, 32765.1, 25950.64, 27089.97, 36799.87, 12191.97, 63721.87, 20253.63, 28771.67, 12115.71, 31758.0, 39340.01, 57455.12, 39651.62, 75308.36, 41521.05, 32748.8, 17400.0, 28776.12, 45692.58, 38882.62, 52591.6, 72591.18, 28038.96, 89554.14, 28560.95, 45144.39, 30433.25, 54105.81, 85967.0, 29755.04, 31236.15, 102948.26, 26417.0, 85016.4, 25797.96, 17149.14, 95324.39, 76446.57, 37780.61, 34315.02, 32346.72, 30589.1, 23354.36, 41211.9, 66575.69, 11983.0, 14800.0, 21785.0, 29746.68, 32375.45, 293246.26, 58291.65, 58287.06, 55245.0, 34500.0, 40751.91, 36201.6, 117112.73, 55665.0, 24188.9, 87155.04, 77777.41, 83394.85, 337782.88, 58794.91, 23180.3, 106966.34, 73248.37, 67797.66, 65579.21, 82592.0, 28346.87, 36754.12, 14702.36, 26505.86, 29878.26, 31201.37, 78169.38, 106773.03, 92145.62, 41777.27, 104018.0, 36934.72, 37150.88, 51595.09, 47270.27, 24092.33, 9743.96, 62154.24, 43500.0, 72870.39, 54395.78, 25952.7, 17075.64, 13447.24, 82650.0, 15393.49, 25055.94, 35415.26, 32879.6, 18667.26, 65021.6, 102895.81, 28381.68, 54047.56, 39343.14, 51809.43, 51809.0, 76823.91, 33064.19, 29979.93, 18618.0, 24102.38, 50420.82, 19638.01, 31645.24, 47854.94, 60000.0, 29493.0, 19817.2, 78055.35, 47937.57, 53940.0, 12482.92, 49360.74, 59819.0, 41695.65, 55223.19, 62647.06, 56970.12, 112311.0, 46726.17, 60154.04, 39150.0, 71352.95, 35000.0, 27110.16, 27599.61, 21052.0, 37109.74, 37109.74, 33850.59, 11310.0, 57484.07, 45610.11, 36487.77, 39150.0, 149789.73, 88216.82, 121800.0, 29687.47, 44093.38, 79041.84, 46855.18, 36479.0, 25859.44, 34400.66, 56550.0, 15551.52, 46555.46, 38106.0, 35042.47, 38775.61, 25711.98, 36045.4, 36005.26, 35945.17, 21522.51, 56450.0, 47121.98, 19440.53, 107782.05, 23686.89, 22730.53, 22730.53, 57984.2, 32617.52, 108838.01, 73436.99, 39425.9, 72385.05, 29719.89, 95962.77, 49870.17, 95515.42, 324778.52, 44712.0, 56598.81, 62060.27, 46005.15, 70551.11, 107748.19, 52200.0]}],\n",
              "                        {\"height\": 500, \"template\": {\"data\": {\"bar\": [{\"error_x\": {\"color\": \"#2a3f5f\"}, \"error_y\": {\"color\": \"#2a3f5f\"}, \"marker\": {\"line\": {\"color\": \"#E5ECF6\", \"width\": 0.5}}, \"type\": \"bar\"}], \"barpolar\": [{\"marker\": {\"line\": {\"color\": \"#E5ECF6\", \"width\": 0.5}}, \"type\": \"barpolar\"}], \"carpet\": [{\"aaxis\": {\"endlinecolor\": \"#2a3f5f\", \"gridcolor\": \"white\", \"linecolor\": \"white\", \"minorgridcolor\": \"white\", \"startlinecolor\": \"#2a3f5f\"}, \"baxis\": {\"endlinecolor\": \"#2a3f5f\", \"gridcolor\": \"white\", \"linecolor\": \"white\", \"minorgridcolor\": \"white\", \"startlinecolor\": \"#2a3f5f\"}, \"type\": \"carpet\"}], \"choropleth\": [{\"colorbar\": {\"outlinewidth\": 0, \"ticks\": \"\"}, \"type\": \"choropleth\"}], \"contour\": [{\"colorbar\": {\"outlinewidth\": 0, \"ticks\": \"\"}, \"colorscale\": [[0.0, \"#0d0887\"], [0.1111111111111111, \"#46039f\"], [0.2222222222222222, \"#7201a8\"], [0.3333333333333333, \"#9c179e\"], [0.4444444444444444, \"#bd3786\"], [0.5555555555555556, \"#d8576b\"], [0.6666666666666666, \"#ed7953\"], [0.7777777777777778, \"#fb9f3a\"], [0.8888888888888888, \"#fdca26\"], [1.0, \"#f0f921\"]], \"type\": \"contour\"}], \"contourcarpet\": [{\"colorbar\": {\"outlinewidth\": 0, \"ticks\": \"\"}, \"type\": \"contourcarpet\"}], \"heatmap\": [{\"colorbar\": {\"outlinewidth\": 0, \"ticks\": \"\"}, \"colorscale\": [[0.0, \"#0d0887\"], [0.1111111111111111, \"#46039f\"], [0.2222222222222222, \"#7201a8\"], [0.3333333333333333, \"#9c179e\"], [0.4444444444444444, \"#bd3786\"], [0.5555555555555556, \"#d8576b\"], [0.6666666666666666, \"#ed7953\"], [0.7777777777777778, \"#fb9f3a\"], [0.8888888888888888, \"#fdca26\"], [1.0, \"#f0f921\"]], \"type\": \"heatmap\"}], \"heatmapgl\": [{\"colorbar\": {\"outlinewidth\": 0, \"ticks\": \"\"}, \"colorscale\": [[0.0, \"#0d0887\"], [0.1111111111111111, \"#46039f\"], [0.2222222222222222, \"#7201a8\"], [0.3333333333333333, \"#9c179e\"], [0.4444444444444444, \"#bd3786\"], [0.5555555555555556, \"#d8576b\"], [0.6666666666666666, \"#ed7953\"], [0.7777777777777778, \"#fb9f3a\"], [0.8888888888888888, \"#fdca26\"], [1.0, \"#f0f921\"]], \"type\": \"heatmapgl\"}], \"histogram\": [{\"marker\": {\"colorbar\": {\"outlinewidth\": 0, \"ticks\": \"\"}}, \"type\": \"histogram\"}], \"histogram2d\": [{\"colorbar\": {\"outlinewidth\": 0, \"ticks\": \"\"}, \"colorscale\": [[0.0, \"#0d0887\"], [0.1111111111111111, \"#46039f\"], [0.2222222222222222, \"#7201a8\"], [0.3333333333333333, \"#9c179e\"], [0.4444444444444444, \"#bd3786\"], [0.5555555555555556, \"#d8576b\"], [0.6666666666666666, \"#ed7953\"], [0.7777777777777778, \"#fb9f3a\"], [0.8888888888888888, \"#fdca26\"], [1.0, \"#f0f921\"]], \"type\": \"histogram2d\"}], \"histogram2dcontour\": [{\"colorbar\": {\"outlinewidth\": 0, \"ticks\": \"\"}, \"colorscale\": [[0.0, \"#0d0887\"], [0.1111111111111111, \"#46039f\"], [0.2222222222222222, \"#7201a8\"], [0.3333333333333333, \"#9c179e\"], [0.4444444444444444, \"#bd3786\"], [0.5555555555555556, \"#d8576b\"], [0.6666666666666666, \"#ed7953\"], [0.7777777777777778, \"#fb9f3a\"], [0.8888888888888888, \"#fdca26\"], [1.0, \"#f0f921\"]], \"type\": \"histogram2dcontour\"}], \"mesh3d\": [{\"colorbar\": {\"outlinewidth\": 0, \"ticks\": \"\"}, \"type\": \"mesh3d\"}], \"parcoords\": [{\"line\": {\"colorbar\": {\"outlinewidth\": 0, \"ticks\": \"\"}}, \"type\": \"parcoords\"}], \"pie\": [{\"automargin\": true, \"type\": \"pie\"}], \"scatter\": [{\"marker\": {\"colorbar\": {\"outlinewidth\": 0, \"ticks\": \"\"}}, \"type\": \"scatter\"}], \"scatter3d\": [{\"line\": {\"colorbar\": {\"outlinewidth\": 0, \"ticks\": \"\"}}, \"marker\": {\"colorbar\": {\"outlinewidth\": 0, \"ticks\": \"\"}}, \"type\": \"scatter3d\"}], \"scattercarpet\": [{\"marker\": {\"colorbar\": {\"outlinewidth\": 0, \"ticks\": \"\"}}, \"type\": \"scattercarpet\"}], \"scattergeo\": [{\"marker\": {\"colorbar\": {\"outlinewidth\": 0, \"ticks\": \"\"}}, \"type\": \"scattergeo\"}], \"scattergl\": [{\"marker\": {\"colorbar\": {\"outlinewidth\": 0, \"ticks\": \"\"}}, \"type\": \"scattergl\"}], \"scattermapbox\": [{\"marker\": {\"colorbar\": {\"outlinewidth\": 0, \"ticks\": \"\"}}, \"type\": \"scattermapbox\"}], \"scatterpolar\": [{\"marker\": {\"colorbar\": {\"outlinewidth\": 0, \"ticks\": \"\"}}, \"type\": \"scatterpolar\"}], \"scatterpolargl\": [{\"marker\": {\"colorbar\": {\"outlinewidth\": 0, \"ticks\": \"\"}}, \"type\": \"scatterpolargl\"}], \"scatterternary\": [{\"marker\": {\"colorbar\": {\"outlinewidth\": 0, \"ticks\": \"\"}}, \"type\": \"scatterternary\"}], \"surface\": [{\"colorbar\": {\"outlinewidth\": 0, \"ticks\": \"\"}, \"colorscale\": [[0.0, \"#0d0887\"], [0.1111111111111111, \"#46039f\"], [0.2222222222222222, \"#7201a8\"], [0.3333333333333333, \"#9c179e\"], [0.4444444444444444, \"#bd3786\"], [0.5555555555555556, \"#d8576b\"], [0.6666666666666666, \"#ed7953\"], [0.7777777777777778, \"#fb9f3a\"], [0.8888888888888888, \"#fdca26\"], [1.0, \"#f0f921\"]], \"type\": \"surface\"}], \"table\": [{\"cells\": {\"fill\": {\"color\": \"#EBF0F8\"}, \"line\": {\"color\": \"white\"}}, \"header\": {\"fill\": {\"color\": \"#C8D4E3\"}, \"line\": {\"color\": \"white\"}}, \"type\": \"table\"}]}, \"layout\": {\"annotationdefaults\": {\"arrowcolor\": \"#2a3f5f\", \"arrowhead\": 0, \"arrowwidth\": 1}, \"coloraxis\": {\"colorbar\": {\"outlinewidth\": 0, \"ticks\": \"\"}}, \"colorscale\": {\"diverging\": [[0, \"#8e0152\"], [0.1, \"#c51b7d\"], [0.2, \"#de77ae\"], [0.3, \"#f1b6da\"], [0.4, \"#fde0ef\"], [0.5, \"#f7f7f7\"], [0.6, \"#e6f5d0\"], [0.7, \"#b8e186\"], [0.8, \"#7fbc41\"], [0.9, \"#4d9221\"], [1, \"#276419\"]], \"sequential\": [[0.0, \"#0d0887\"], [0.1111111111111111, \"#46039f\"], [0.2222222222222222, \"#7201a8\"], [0.3333333333333333, \"#9c179e\"], [0.4444444444444444, \"#bd3786\"], [0.5555555555555556, \"#d8576b\"], [0.6666666666666666, \"#ed7953\"], [0.7777777777777778, \"#fb9f3a\"], [0.8888888888888888, \"#fdca26\"], [1.0, \"#f0f921\"]], \"sequentialminus\": [[0.0, \"#0d0887\"], [0.1111111111111111, \"#46039f\"], [0.2222222222222222, \"#7201a8\"], [0.3333333333333333, \"#9c179e\"], [0.4444444444444444, \"#bd3786\"], [0.5555555555555556, \"#d8576b\"], [0.6666666666666666, \"#ed7953\"], [0.7777777777777778, \"#fb9f3a\"], [0.8888888888888888, \"#fdca26\"], [1.0, \"#f0f921\"]]}, \"colorway\": [\"#636efa\", \"#EF553B\", \"#00cc96\", \"#ab63fa\", \"#FFA15A\", \"#19d3f3\", \"#FF6692\", \"#B6E880\", \"#FF97FF\", \"#FECB52\"], \"font\": {\"color\": \"#2a3f5f\"}, \"geo\": {\"bgcolor\": \"white\", \"lakecolor\": \"white\", \"landcolor\": \"#E5ECF6\", \"showlakes\": true, \"showland\": true, \"subunitcolor\": \"white\"}, \"hoverlabel\": {\"align\": \"left\"}, \"hovermode\": \"closest\", \"mapbox\": {\"style\": \"light\"}, \"paper_bgcolor\": \"white\", \"plot_bgcolor\": \"#E5ECF6\", \"polar\": {\"angularaxis\": {\"gridcolor\": \"white\", \"linecolor\": \"white\", \"ticks\": \"\"}, \"bgcolor\": \"#E5ECF6\", \"radialaxis\": {\"gridcolor\": \"white\", \"linecolor\": \"white\", \"ticks\": \"\"}}, \"scene\": {\"xaxis\": {\"backgroundcolor\": \"#E5ECF6\", \"gridcolor\": \"white\", \"gridwidth\": 2, \"linecolor\": \"white\", \"showbackground\": true, \"ticks\": \"\", \"zerolinecolor\": \"white\"}, \"yaxis\": {\"backgroundcolor\": \"#E5ECF6\", \"gridcolor\": \"white\", \"gridwidth\": 2, \"linecolor\": \"white\", \"showbackground\": true, \"ticks\": \"\", \"zerolinecolor\": \"white\"}, \"zaxis\": {\"backgroundcolor\": \"#E5ECF6\", \"gridcolor\": \"white\", \"gridwidth\": 2, \"linecolor\": \"white\", \"showbackground\": true, \"ticks\": \"\", \"zerolinecolor\": \"white\"}}, \"shapedefaults\": {\"line\": {\"color\": \"#2a3f5f\"}}, \"ternary\": {\"aaxis\": {\"gridcolor\": \"white\", \"linecolor\": \"white\", \"ticks\": \"\"}, \"baxis\": {\"gridcolor\": \"white\", \"linecolor\": \"white\", \"ticks\": \"\"}, \"bgcolor\": \"#E5ECF6\", \"caxis\": {\"gridcolor\": \"white\", \"linecolor\": \"white\", \"ticks\": \"\"}}, \"title\": {\"x\": 0.05}, \"xaxis\": {\"automargin\": true, \"gridcolor\": \"white\", \"linecolor\": \"white\", \"ticks\": \"\", \"title\": {\"standoff\": 15}, \"zerolinecolor\": \"white\", \"zerolinewidth\": 2}, \"yaxis\": {\"automargin\": true, \"gridcolor\": \"white\", \"linecolor\": \"white\", \"ticks\": \"\", \"title\": {\"standoff\": 15}, \"zerolinecolor\": \"white\", \"zerolinewidth\": 2}}}, \"width\": 1300, \"xaxis\": {\"title\": {\"text\": \"\\u0412\\u0441\\u0435 \\u0440\\u0430\\u0441\\u0445\\u043e\\u0434\\u044b\"}}, \"yaxis\": {\"title\": {\"text\": \"\\u0414\\u043e\\u0445\\u043e\\u0434\"}}},\n",
              "                        {\"responsive\": true}\n",
              "                    ).then(function(){\n",
              "                            \n",
              "var gd = document.getElementById('c90480db-83d1-4de3-883a-f305b4a1d362');\n",
              "var x = new MutationObserver(function (mutations, observer) {{\n",
              "        var display = window.getComputedStyle(gd).display;\n",
              "        if (!display || display === 'none') {{\n",
              "            console.log([gd, 'removed!']);\n",
              "            Plotly.purge(gd);\n",
              "            observer.disconnect();\n",
              "        }}\n",
              "}});\n",
              "\n",
              "// Listen for the removal of the full notebook cells\n",
              "var notebookContainer = gd.closest('#notebook-container');\n",
              "if (notebookContainer) {{\n",
              "    x.observe(notebookContainer, {childList: true});\n",
              "}}\n",
              "\n",
              "// Listen for the clearing of the current output cell\n",
              "var outputEl = gd.closest('.output');\n",
              "if (outputEl) {{\n",
              "    x.observe(outputEl, {childList: true});\n",
              "}}\n",
              "\n",
              "                        })\n",
              "                };\n",
              "                \n",
              "            </script>\n",
              "        </div>\n",
              "</body>\n",
              "</html>"
            ]
          },
          "metadata": {}
        }
      ]
    },
    {
      "cell_type": "markdown",
      "source": [
        "Видим что есть выбросы которы образуют новый кластер"
      ],
      "metadata": {
        "id": "KWEx4sqRgoQO"
      }
    },
    {
      "cell_type": "code",
      "source": [
        "X = t.loc[:, ['Еда', 'Одежда']].values\n",
        "\n",
        "wcss = []\n",
        "for i in range(1,11):\n",
        "  kmeans = KMeans(n_clusters=i, init='k-means++', random_state=42)\n",
        "  kmeans.fit(X)\n",
        "  wcss.append(kmeans.inertia_)\n",
        "plt.plot(range(1,11), wcss)\n",
        "plt.show()"
      ],
      "metadata": {
        "colab": {
          "base_uri": "https://localhost:8080/",
          "height": 276
        },
        "id": "mnNgZNGII_Oq",
        "outputId": "476f3a8b-1353-4d9e-a2a0-e17fef28db89"
      },
      "execution_count": null,
      "outputs": [
        {
          "output_type": "display_data",
          "data": {
            "image/png": "[encoded data removed]",
            "text/plain": [
              "<Figure size 432x288 with 1 Axes>"
            ]
          },
          "metadata": {
            "needs_background": "light"
          }
        }
      ]
    },
    {
      "cell_type": "code",
      "source": [
        "hc = KMeans(n_clusters = 4, init = 'k-means++', max_iter = 300, n_init = 10, random_state = 42)\n",
        "y_hc = hc.fit(X)\n",
        "\n",
        "trace1 = go.Scatter(x=t['Еда'], y=t['Одежда'], mode='markers',\n",
        "     marker=dict(\n",
        "        color = y_hc.labels_, \n",
        "        size= 10,\n",
        "        line=dict(\n",
        "            color= y_hc.labels_,\n",
        "            width= 12\n",
        "        ),\n",
        "        opacity=0.8\n",
        "     ))\n",
        "\n",
        "qw = [trace1]\n",
        "\n",
        "layout = go.Layout(\n",
        "    height = 500,\n",
        "    width = 1300,\n",
        "    xaxis_title=\"Еда\",\n",
        "    yaxis_title=\"Одежда\",\n",
        ")\n",
        "\n",
        "fig = go.Figure(data = qw, layout = layout)\n",
        "py.iplot(fig)"
      ],
      "metadata": {
        "colab": {
          "base_uri": "https://localhost:8080/",
          "height": 537
        },
        "id": "P7jVpZAD9z9y",
        "outputId": "6db9b714-4df0-47bd-c368-b5e07d7c4a99"
      },
      "execution_count": null,
      "outputs": [
        {
          "output_type": "display_data",
          "data": {
            "text/html": [
              "<html>\n",
              "<head><meta charset=\"utf-8\" /></head>\n",
              "<body>\n",
              "    <div>\n",
              "            <script src=\"https://cdnjs.cloudflare.com/ajax/libs/mathjax/2.7.5/MathJax.js?config=TeX-AMS-MML_SVG\"></script><script type=\"text/javascript\">if (window.MathJax) {MathJax.Hub.Config({SVG: {font: \"STIX-Web\"}});}</script>\n",
              "                <script type=\"text/javascript\">window.PlotlyConfig = {MathJaxConfig: 'local'};</script>\n",
              "        <script src=\"https://cdn.plot.ly/plotly-latest.min.js\"></script>    \n",
              "            <div id=\"eae53cb8-0ac2-466a-9137-eae300b7fc25\" class=\"plotly-graph-div\" style=\"height:500px; width:1300px;\"></div>\n",
              "            <script type=\"text/javascript\">\n",
              "                \n",
              "                    window.PLOTLYENV=window.PLOTLYENV || {};\n",
              "                    \n",
              "                if (document.getElementById(\"eae53cb8-0ac2-466a-9137-eae300b7fc25\")) {\n",
              "                    Plotly.newPlot(\n",
              "                        'eae53cb8-0ac2-466a-9137-eae300b7fc25',\n",
              "                        [{\"marker\": {\"color\": [0, 3, 0, 0, 0, 0, 0, 0, 0, 0, 0, 0, 0, 0, 0, 0, 0, 0, 3, 0, 0, 0, 0, 0, 0, 0, 0, 0, 0, 0, 0, 0, 0, 0, 0, 0, 0, 0, 0, 0, 0, 0, 0, 0, 0, 0, 0, 0, 0, 0, 0, 0, 0, 0, 0, 0, 0, 0, 0, 0, 3, 0, 0, 0, 0, 0, 0, 0, 0, 0, 0, 0, 0, 0, 0, 0, 3, 0, 0, 0, 0, 0, 0, 0, 0, 0, 0, 0, 0, 0, 3, 0, 0, 0, 0, 0, 0, 3, 0, 0, 0, 0, 0, 0, 0, 0, 0, 0, 0, 0, 0, 0, 0, 0, 0, 0, 0, 0, 0, 0, 0, 0, 0, 0, 0, 0, 0, 0, 0, 0, 0, 0, 0, 0, 0, 0, 0, 0, 0, 1, 3, 0, 0, 0, 0, 3, 0, 0, 0, 0, 0, 0, 0, 0, 0, 0, 0, 0, 0, 0, 0, 0, 3, 0, 0, 0, 0, 0, 0, 0, 0, 3, 0, 0, 0, 0, 0, 0, 0, 0, 0, 0, 1, 0, 0, 0, 0, 0, 0, 3, 0, 0, 0, 0, 0, 0, 0, 0, 0, 0, 0, 0, 0, 0, 3, 0, 0, 0, 0, 0, 0, 3, 0, 0, 0, 0, 3, 0, 0, 0, 0, 0, 0, 0, 0, 0, 2, 0, 0, 0, 0, 0, 0, 0, 0, 0, 0, 0, 0, 0, 0, 0, 0, 0, 0, 0, 0, 0, 0, 0, 0, 0, 0, 0, 0, 0, 0, 0, 0, 0, 0, 0, 0, 0, 0, 0, 0, 0, 0, 0, 0, 0, 0, 0, 0, 0, 0, 0, 0, 0, 0, 0, 0, 0, 0, 0, 0, 1, 0, 0, 0, 0, 0, 0, 0, 0, 0, 0, 0, 0, 0, 0, 0, 0, 0, 0, 0, 3, 0, 0, 0, 0, 0, 0, 0, 0, 0, 0, 0, 0, 0, 0, 0, 0, 0, 0, 0, 0, 0, 0, 0, 0, 0, 0, 0, 0, 0, 0, 1, 3, 0, 0, 0, 0, 0, 0, 0, 0, 0, 0, 3, 0, 0, 0, 0, 3, 0, 0, 0, 0, 0, 0, 0, 0, 3, 0, 0, 0, 0, 0, 0, 0, 0, 0, 0, 0, 0, 3, 0, 0, 0, 0, 0, 0, 0, 0, 0, 0, 0, 0, 0, 0, 3, 0, 0, 0, 0, 0, 0, 0, 0, 0, 0, 3, 0, 3, 0, 0, 0, 0, 0, 0, 3, 0, 0, 0, 0, 0, 0, 0, 0, 0, 0, 0, 3, 0, 0, 0, 0, 0, 0, 0, 0, 0, 0, 0, 0, 0, 0, 0, 0, 0, 0, 0, 0, 0, 0, 0, 0, 0, 0, 0, 0, 0, 0, 0, 0, 0, 0, 0, 0, 0, 0, 0, 0, 0, 0, 0, 0, 0, 0, 0, 3, 0, 0, 0, 1, 0, 3, 0, 0, 3, 0, 0, 3, 3, 3, 0, 3, 0, 0, 1, 0, 1, 0, 0, 0, 0, 0, 0, 0, 3, 0, 0, 0, 0, 0, 0, 0, 0, 3, 0, 0, 0, 3, 0, 0, 0, 0, 0, 0, 0, 0, 0, 0, 0, 3, 0, 0, 0, 0, 0, 0, 0, 0, 0, 0, 0, 1, 0, 0, 0, 0, 0, 0, 3, 0, 0, 0, 0, 3, 0, 0, 0, 3, 0, 0, 0, 0, 0, 0, 0, 0, 0, 0, 0, 0, 0, 0, 0, 3, 0, 0, 0, 0, 0, 0, 0, 0, 0, 0, 0, 0, 0, 0, 0, 0, 0, 3, 0, 0, 3, 3, 0, 0, 0, 0, 0, 3, 0, 0, 0, 0, 3, 0, 0, 3, 0, 0, 0, 1, 0, 3, 1, 3, 3, 3, 0, 0, 0, 0, 0, 0, 0, 0, 0, 3, 0, 3, 0, 0, 0, 0, 0, 0, 0, 0, 0, 0, 0, 0, 0, 0, 0, 0, 0, 0, 0, 0, 0, 0, 0, 0, 0, 3, 0, 0, 0, 1, 3, 0, 0, 3, 3, 0, 0, 0, 0, 0, 0, 3, 0, 0, 0, 0, 0, 0, 0, 0, 0, 0, 3, 0, 0, 3, 0, 0, 0, 0, 0, 0, 0, 0, 3, 0, 0, 0, 3, 1, 0, 0, 0, 0, 0, 0, 1, 3, 0, 0, 0, 0, 0, 0, 0, 0, 0, 0, 3, 0, 0, 0, 0, 0, 0, 0, 0, 0, 0, 0, 0, 0, 3, 0, 0, 0, 3, 0, 0, 0, 0, 3, 0, 0, 0, 0, 0, 3, 0, 0, 0, 0, 0, 0, 3, 0, 0, 0, 3, 3, 1, 0, 0, 3, 0, 0, 0, 0, 0, 3, 0, 0, 0, 0, 0, 0, 0, 0, 0, 0, 0, 0, 0, 3, 0, 0, 3, 0, 0, 0, 0, 0, 0, 0, 3, 0, 3, 0, 0, 0, 0, 0, 0, 0, 0, 0, 3, 0, 0, 0, 0, 0, 0, 0, 0, 0, 0, 0, 0, 0, 0, 0, 3, 0, 0, 0, 0, 0, 0, 0, 0, 0, 0, 0, 3, 0, 0, 0, 0, 0, 0, 0, 0, 0, 0, 0, 0, 0, 0, 0, 3, 0, 0, 0, 0, 0, 3, 3, 0, 0, 0, 0, 0, 3, 0, 0, 0, 0, 0, 1, 3, 0, 0, 0, 3, 0, 0, 0, 0, 3, 0, 0, 3, 3, 0, 0, 0, 0, 0, 0, 3, 3, 3, 0, 0, 0, 3, 0, 0, 0, 0, 0, 0, 3, 3, 0, 0, 0, 0, 3, 0, 3, 0, 0, 0, 0, 0, 3, 0, 0, 0, 0, 0, 0, 0, 0, 0, 0, 0, 3, 0, 0, 3, 0, 0, 0, 3, 0, 0, 0, 0, 0, 0, 1, 0, 0, 0, 3, 0, 0, 0, 1, 0, 3, 0, 0, 3, 0, 0, 0, 1, 0, 0, 0, 0, 3, 0, 0, 0, 0, 0, 0, 0, 0, 0, 0, 0, 0, 3, 0, 0, 0, 0, 0, 0, 0, 1, 3, 0, 0, 0, 0, 1, 0, 3, 3, 0, 0, 0, 0, 3, 0, 0, 0, 3, 0, 0, 3, 0, 0, 0, 3, 0, 3, 0, 0, 0, 3, 0, 0, 0, 0, 3, 3, 0, 0, 0, 0, 0, 0, 0, 0, 0, 1, 3, 0, 0, 0, 3, 0, 0, 0, 0, 3, 0, 3, 3, 3, 0, 0, 0, 0, 0, 0, 0, 0, 0, 3, 0, 0, 0, 3, 0, 0, 0, 1, 0, 0, 0, 0, 0, 0, 0, 0, 0, 0, 0, 1, 3, 0, 3, 3, 0, 3, 0, 0, 3, 0, 3, 0, 0, 0, 0, 0, 3, 1, 0, 0, 0, 0, 0, 0, 0, 0, 0, 3, 0, 3, 0, 0, 0, 0, 0, 0, 0, 3, 0, 0, 0, 0, 0, 0, 0, 0, 0, 0, 0, 0, 3, 0, 0, 0, 0, 0, 0, 3, 0, 0, 0, 0, 3, 0, 0, 0, 0, 0, 0, 0, 0, 0, 0, 0, 0, 0, 0, 3, 0, 0, 3, 0, 0, 1, 0, 0, 0, 0, 0, 0, 0, 0, 0, 0, 3, 0, 0, 0, 0, 0, 0, 3, 0, 0, 0, 3, 3, 0, 0, 0, 0, 0, 0, 0, 0, 0, 0, 0, 3, 0, 0, 0, 0, 0, 0, 0, 0, 0, 0, 0, 0, 0, 0, 0, 0, 0, 0, 0, 0, 0, 0, 0, 0, 0, 0, 0, 0, 0, 0, 0, 0, 0, 0, 0, 0, 3, 0, 0, 3, 0, 0, 0, 0, 3, 0, 0, 0, 0, 0, 0, 0, 0, 0, 0, 0, 0, 0, 0, 0, 0, 0, 0, 3, 3, 0, 0, 0, 0, 0, 0, 0, 0, 0, 0, 0, 0, 3, 3, 1, 3, 0, 0, 0, 0, 0, 0, 0, 0, 3, 0, 3, 0, 0, 0, 3, 0, 0, 0, 0, 0, 0, 3, 0, 0, 0, 0, 0, 0, 0, 0, 0, 0, 0, 0, 0, 0, 0, 0, 0, 0, 0, 0, 3, 0, 0, 0, 0, 3, 0, 0, 0, 0, 0, 0, 3, 0, 0, 3, 3, 0, 0, 0, 0, 0, 0, 0, 0, 0, 0, 0, 0, 0, 0, 0, 0, 3, 3, 0, 0, 1, 3, 0, 0, 3, 0, 0, 0, 0, 0, 0, 3, 1, 0, 3, 0, 3, 3, 0, 3, 3, 3, 0, 0, 0, 0, 0, 0, 0, 0, 3, 0, 3, 0, 0, 0, 0, 0, 0, 0, 0, 0, 0, 0, 0, 0, 3, 0, 0, 3, 0, 0, 3, 3, 3, 0, 0, 3, 3, 0, 3, 0, 0, 0, 1, 0, 0, 0, 0, 0, 0, 0, 0, 0, 0, 0, 3, 0, 3, 3, 0, 0, 3, 0, 0, 0, 0, 3, 0, 0, 0, 1, 0, 0, 0, 3, 0, 0, 0, 0, 0, 0, 0, 0, 0, 0, 0, 0, 0, 0, 0, 0, 0, 0, 0, 0, 0, 0, 1, 0, 0, 0, 0, 3, 0, 0, 0, 0, 3, 0, 0, 0, 0, 0, 0, 0, 0, 0, 0, 0, 0, 0, 0, 0, 3, 0, 0, 0, 0, 0, 0, 0, 0, 0, 0, 0, 0, 0, 0, 0, 0, 0, 0, 0, 0, 0, 0, 0, 0, 0, 0, 3, 0, 0, 0, 0, 0, 0, 0, 0, 0, 0, 0, 0, 1, 0, 1, 0, 0, 0, 0, 0, 3, 0, 0, 0, 0, 0, 0, 0, 0, 0, 0, 0, 0, 0, 0, 3, 3, 0, 3, 0, 0, 0, 0, 0, 3, 0, 3, 0, 0, 0, 0, 0, 0, 3, 0, 0, 0, 0, 3, 0, 0, 0, 0, 0, 0, 0, 0, 0, 0, 0, 3, 0, 0, 0, 0, 3, 0, 0, 0, 3, 0, 0, 0, 3, 0, 3, 0, 0, 0, 0, 0, 0, 0, 0, 0, 0, 0, 3, 0, 3, 3, 0, 0, 0, 0, 0, 0, 3, 3, 0, 0, 0, 0, 0, 0, 3, 0, 0, 0, 0, 0, 0, 0, 0, 0, 0, 0, 0, 0, 0, 0, 0, 0, 0, 0, 0, 3, 0, 0, 0, 0, 0, 0, 0, 0, 1, 0, 0, 0, 0, 3, 0, 0, 0, 0, 0, 0, 0, 0, 0, 0, 0, 0, 0, 0, 0, 0, 0, 0, 0, 0, 0, 0, 0, 0, 0, 0, 0, 0, 0, 0, 0, 0, 0, 0, 0, 0, 0, 0, 0, 0, 0, 0, 0, 0, 0, 0, 0, 0, 0, 3, 3, 3, 0, 0, 0, 0, 0, 0, 3, 0, 0, 3, 0, 0, 0, 0, 0, 0, 0, 0, 0, 0, 0, 0, 0, 0, 0, 3, 0, 0, 0, 0, 0, 3, 0, 3, 0, 0, 0, 0, 0, 0, 0, 0, 0, 0, 0, 0, 0, 0, 0, 0, 0, 0, 0, 3, 0, 0, 0, 0, 0, 0, 0, 0, 0, 0, 3, 0, 0, 0, 3, 0, 0, 0, 0, 0, 0, 0, 0, 0, 0, 0, 3, 0, 0, 0, 3, 0, 0, 3, 0, 0, 0, 0, 0, 0, 0, 1, 0, 0, 0, 0, 0, 0, 0, 0, 0, 3, 0, 0, 0, 0, 0, 0, 0, 0, 0, 0, 0, 0, 0, 0, 0, 0, 0, 0, 0, 0, 0, 0, 0, 0, 0, 0, 0, 0, 0, 0, 0, 0, 1, 0, 0, 0, 0, 0, 0, 0, 0, 0, 0, 0, 0, 3, 0, 0, 0, 0, 0, 0, 0, 0, 0, 0, 0, 3, 0, 0, 0, 0, 0, 0, 0, 3, 0, 0, 0, 3, 0, 0, 0, 0, 0, 0, 3, 0, 0, 0, 0, 0, 3, 0, 0, 0, 0, 0, 0, 0, 1, 0, 3, 0, 3, 3, 0, 0, 0, 0, 0, 0, 0, 0, 0, 0, 3, 0, 0, 0, 3, 0, 0, 0, 0, 0, 0, 0, 0, 0, 0, 3, 0, 0, 0, 0, 0, 3, 0, 0, 0, 0, 0, 0, 3, 0, 0, 0, 0, 0, 0, 0, 0, 0, 0, 3, 0, 0, 0, 0, 0, 0, 0, 0, 0, 0, 0, 3, 0, 3, 0, 0, 0, 0, 0, 0, 0, 0, 3, 3, 0, 0, 3, 3, 0, 0, 0, 0, 0, 0, 0, 0, 0, 0, 3, 0, 0, 0, 0, 0, 0, 0, 0, 0, 0, 0, 0, 3, 3, 0, 0, 0, 0, 3, 0, 0, 0, 0, 0, 0, 0, 3, 0, 0, 0, 0, 3, 0, 0, 0, 0, 0, 0, 0, 0, 0, 0, 0, 3, 0, 3, 0, 3, 0, 0, 0, 0, 0, 0, 0, 3, 3, 0, 0, 0, 0, 0, 0, 0, 3, 3, 0, 3, 0, 0, 0, 0, 0, 0, 3, 0, 0, 0, 0, 0, 3, 0, 0, 0, 0, 0, 0, 0, 0, 0, 0, 0, 0, 3, 0, 0, 0, 0, 0, 0, 0, 0, 0, 0, 0, 0, 0, 0, 0, 0, 0, 0, 0, 0, 0, 0, 0, 3, 0, 0, 0, 0, 0, 0, 0, 0, 0, 0, 3, 3, 0, 0, 3, 3, 0, 0, 3, 0, 0, 0, 0, 0, 0, 0, 0, 0, 0, 0, 0, 0, 1, 0, 3, 3, 0, 0, 0, 0, 0, 0, 0, 0, 0, 3, 0, 3, 0, 0, 0, 0, 3, 0, 0, 0, 0, 0, 0, 0, 0, 0, 0, 0, 0, 0, 0, 0, 0, 0, 3, 0, 0, 0, 0, 0, 3, 0, 0, 0, 0, 0, 0, 0, 0, 0, 3, 0, 0, 0, 0, 0, 3, 0, 3, 0, 0, 0, 3, 3, 0, 3, 0, 0, 0, 0, 0, 0, 0, 3, 0, 0, 0, 0, 3, 0, 0, 0, 0, 0, 0, 0, 0, 0, 0, 0, 0, 3, 0, 0, 0, 0, 0, 0, 0, 3, 0, 0, 0, 0, 0, 0, 0, 0, 0, 0, 3, 0, 0, 0, 0, 0, 0, 0, 3, 3, 0, 0, 0, 0, 0, 0, 3, 0, 0, 0, 0, 0, 3, 0, 0, 0, 1, 0, 0, 0, 0, 0, 0, 0, 0, 0, 0, 0, 0, 0, 0, 3, 1, 0, 0, 0, 0, 0, 0, 0, 0, 3, 0, 0, 0, 0, 0, 0, 0, 0, 0, 0, 0, 0, 0, 0], \"line\": {\"color\": [0, 3, 0, 0, 0, 0, 0, 0, 0, 0, 0, 0, 0, 0, 0, 0, 0, 0, 3, 0, 0, 0, 0, 0, 0, 0, 0, 0, 0, 0, 0, 0, 0, 0, 0, 0, 0, 0, 0, 0, 0, 0, 0, 0, 0, 0, 0, 0, 0, 0, 0, 0, 0, 0, 0, 0, 0, 0, 0, 0, 3, 0, 0, 0, 0, 0, 0, 0, 0, 0, 0, 0, 0, 0, 0, 0, 3, 0, 0, 0, 0, 0, 0, 0, 0, 0, 0, 0, 0, 0, 3, 0, 0, 0, 0, 0, 0, 3, 0, 0, 0, 0, 0, 0, 0, 0, 0, 0, 0, 0, 0, 0, 0, 0, 0, 0, 0, 0, 0, 0, 0, 0, 0, 0, 0, 0, 0, 0, 0, 0, 0, 0, 0, 0, 0, 0, 0, 0, 0, 1, 3, 0, 0, 0, 0, 3, 0, 0, 0, 0, 0, 0, 0, 0, 0, 0, 0, 0, 0, 0, 0, 0, 3, 0, 0, 0, 0, 0, 0, 0, 0, 3, 0, 0, 0, 0, 0, 0, 0, 0, 0, 0, 1, 0, 0, 0, 0, 0, 0, 3, 0, 0, 0, 0, 0, 0, 0, 0, 0, 0, 0, 0, 0, 0, 3, 0, 0, 0, 0, 0, 0, 3, 0, 0, 0, 0, 3, 0, 0, 0, 0, 0, 0, 0, 0, 0, 2, 0, 0, 0, 0, 0, 0, 0, 0, 0, 0, 0, 0, 0, 0, 0, 0, 0, 0, 0, 0, 0, 0, 0, 0, 0, 0, 0, 0, 0, 0, 0, 0, 0, 0, 0, 0, 0, 0, 0, 0, 0, 0, 0, 0, 0, 0, 0, 0, 0, 0, 0, 0, 0, 0, 0, 0, 0, 0, 0, 0, 1, 0, 0, 0, 0, 0, 0, 0, 0, 0, 0, 0, 0, 0, 0, 0, 0, 0, 0, 0, 3, 0, 0, 0, 0, 0, 0, 0, 0, 0, 0, 0, 0, 0, 0, 0, 0, 0, 0, 0, 0, 0, 0, 0, 0, 0, 0, 0, 0, 0, 0, 1, 3, 0, 0, 0, 0, 0, 0, 0, 0, 0, 0, 3, 0, 0, 0, 0, 3, 0, 0, 0, 0, 0, 0, 0, 0, 3, 0, 0, 0, 0, 0, 0, 0, 0, 0, 0, 0, 0, 3, 0, 0, 0, 0, 0, 0, 0, 0, 0, 0, 0, 0, 0, 0, 3, 0, 0, 0, 0, 0, 0, 0, 0, 0, 0, 3, 0, 3, 0, 0, 0, 0, 0, 0, 3, 0, 0, 0, 0, 0, 0, 0, 0, 0, 0, 0, 3, 0, 0, 0, 0, 0, 0, 0, 0, 0, 0, 0, 0, 0, 0, 0, 0, 0, 0, 0, 0, 0, 0, 0, 0, 0, 0, 0, 0, 0, 0, 0, 0, 0, 0, 0, 0, 0, 0, 0, 0, 0, 0, 0, 0, 0, 0, 0, 3, 0, 0, 0, 1, 0, 3, 0, 0, 3, 0, 0, 3, 3, 3, 0, 3, 0, 0, 1, 0, 1, 0, 0, 0, 0, 0, 0, 0, 3, 0, 0, 0, 0, 0, 0, 0, 0, 3, 0, 0, 0, 3, 0, 0, 0, 0, 0, 0, 0, 0, 0, 0, 0, 3, 0, 0, 0, 0, 0, 0, 0, 0, 0, 0, 0, 1, 0, 0, 0, 0, 0, 0, 3, 0, 0, 0, 0, 3, 0, 0, 0, 3, 0, 0, 0, 0, 0, 0, 0, 0, 0, 0, 0, 0, 0, 0, 0, 3, 0, 0, 0, 0, 0, 0, 0, 0, 0, 0, 0, 0, 0, 0, 0, 0, 0, 3, 0, 0, 3, 3, 0, 0, 0, 0, 0, 3, 0, 0, 0, 0, 3, 0, 0, 3, 0, 0, 0, 1, 0, 3, 1, 3, 3, 3, 0, 0, 0, 0, 0, 0, 0, 0, 0, 3, 0, 3, 0, 0, 0, 0, 0, 0, 0, 0, 0, 0, 0, 0, 0, 0, 0, 0, 0, 0, 0, 0, 0, 0, 0, 0, 0, 3, 0, 0, 0, 1, 3, 0, 0, 3, 3, 0, 0, 0, 0, 0, 0, 3, 0, 0, 0, 0, 0, 0, 0, 0, 0, 0, 3, 0, 0, 3, 0, 0, 0, 0, 0, 0, 0, 0, 3, 0, 0, 0, 3, 1, 0, 0, 0, 0, 0, 0, 1, 3, 0, 0, 0, 0, 0, 0, 0, 0, 0, 0, 3, 0, 0, 0, 0, 0, 0, 0, 0, 0, 0, 0, 0, 0, 3, 0, 0, 0, 3, 0, 0, 0, 0, 3, 0, 0, 0, 0, 0, 3, 0, 0, 0, 0, 0, 0, 3, 0, 0, 0, 3, 3, 1, 0, 0, 3, 0, 0, 0, 0, 0, 3, 0, 0, 0, 0, 0, 0, 0, 0, 0, 0, 0, 0, 0, 3, 0, 0, 3, 0, 0, 0, 0, 0, 0, 0, 3, 0, 3, 0, 0, 0, 0, 0, 0, 0, 0, 0, 3, 0, 0, 0, 0, 0, 0, 0, 0, 0, 0, 0, 0, 0, 0, 0, 3, 0, 0, 0, 0, 0, 0, 0, 0, 0, 0, 0, 3, 0, 0, 0, 0, 0, 0, 0, 0, 0, 0, 0, 0, 0, 0, 0, 3, 0, 0, 0, 0, 0, 3, 3, 0, 0, 0, 0, 0, 3, 0, 0, 0, 0, 0, 1, 3, 0, 0, 0, 3, 0, 0, 0, 0, 3, 0, 0, 3, 3, 0, 0, 0, 0, 0, 0, 3, 3, 3, 0, 0, 0, 3, 0, 0, 0, 0, 0, 0, 3, 3, 0, 0, 0, 0, 3, 0, 3, 0, 0, 0, 0, 0, 3, 0, 0, 0, 0, 0, 0, 0, 0, 0, 0, 0, 3, 0, 0, 3, 0, 0, 0, 3, 0, 0, 0, 0, 0, 0, 1, 0, 0, 0, 3, 0, 0, 0, 1, 0, 3, 0, 0, 3, 0, 0, 0, 1, 0, 0, 0, 0, 3, 0, 0, 0, 0, 0, 0, 0, 0, 0, 0, 0, 0, 3, 0, 0, 0, 0, 0, 0, 0, 1, 3, 0, 0, 0, 0, 1, 0, 3, 3, 0, 0, 0, 0, 3, 0, 0, 0, 3, 0, 0, 3, 0, 0, 0, 3, 0, 3, 0, 0, 0, 3, 0, 0, 0, 0, 3, 3, 0, 0, 0, 0, 0, 0, 0, 0, 0, 1, 3, 0, 0, 0, 3, 0, 0, 0, 0, 3, 0, 3, 3, 3, 0, 0, 0, 0, 0, 0, 0, 0, 0, 3, 0, 0, 0, 3, 0, 0, 0, 1, 0, 0, 0, 0, 0, 0, 0, 0, 0, 0, 0, 1, 3, 0, 3, 3, 0, 3, 0, 0, 3, 0, 3, 0, 0, 0, 0, 0, 3, 1, 0, 0, 0, 0, 0, 0, 0, 0, 0, 3, 0, 3, 0, 0, 0, 0, 0, 0, 0, 3, 0, 0, 0, 0, 0, 0, 0, 0, 0, 0, 0, 0, 3, 0, 0, 0, 0, 0, 0, 3, 0, 0, 0, 0, 3, 0, 0, 0, 0, 0, 0, 0, 0, 0, 0, 0, 0, 0, 0, 3, 0, 0, 3, 0, 0, 1, 0, 0, 0, 0, 0, 0, 0, 0, 0, 0, 3, 0, 0, 0, 0, 0, 0, 3, 0, 0, 0, 3, 3, 0, 0, 0, 0, 0, 0, 0, 0, 0, 0, 0, 3, 0, 0, 0, 0, 0, 0, 0, 0, 0, 0, 0, 0, 0, 0, 0, 0, 0, 0, 0, 0, 0, 0, 0, 0, 0, 0, 0, 0, 0, 0, 0, 0, 0, 0, 0, 0, 3, 0, 0, 3, 0, 0, 0, 0, 3, 0, 0, 0, 0, 0, 0, 0, 0, 0, 0, 0, 0, 0, 0, 0, 0, 0, 0, 3, 3, 0, 0, 0, 0, 0, 0, 0, 0, 0, 0, 0, 0, 3, 3, 1, 3, 0, 0, 0, 0, 0, 0, 0, 0, 3, 0, 3, 0, 0, 0, 3, 0, 0, 0, 0, 0, 0, 3, 0, 0, 0, 0, 0, 0, 0, 0, 0, 0, 0, 0, 0, 0, 0, 0, 0, 0, 0, 0, 3, 0, 0, 0, 0, 3, 0, 0, 0, 0, 0, 0, 3, 0, 0, 3, 3, 0, 0, 0, 0, 0, 0, 0, 0, 0, 0, 0, 0, 0, 0, 0, 0, 3, 3, 0, 0, 1, 3, 0, 0, 3, 0, 0, 0, 0, 0, 0, 3, 1, 0, 3, 0, 3, 3, 0, 3, 3, 3, 0, 0, 0, 0, 0, 0, 0, 0, 3, 0, 3, 0, 0, 0, 0, 0, 0, 0, 0, 0, 0, 0, 0, 0, 3, 0, 0, 3, 0, 0, 3, 3, 3, 0, 0, 3, 3, 0, 3, 0, 0, 0, 1, 0, 0, 0, 0, 0, 0, 0, 0, 0, 0, 0, 3, 0, 3, 3, 0, 0, 3, 0, 0, 0, 0, 3, 0, 0, 0, 1, 0, 0, 0, 3, 0, 0, 0, 0, 0, 0, 0, 0, 0, 0, 0, 0, 0, 0, 0, 0, 0, 0, 0, 0, 0, 0, 1, 0, 0, 0, 0, 3, 0, 0, 0, 0, 3, 0, 0, 0, 0, 0, 0, 0, 0, 0, 0, 0, 0, 0, 0, 0, 3, 0, 0, 0, 0, 0, 0, 0, 0, 0, 0, 0, 0, 0, 0, 0, 0, 0, 0, 0, 0, 0, 0, 0, 0, 0, 0, 3, 0, 0, 0, 0, 0, 0, 0, 0, 0, 0, 0, 0, 1, 0, 1, 0, 0, 0, 0, 0, 3, 0, 0, 0, 0, 0, 0, 0, 0, 0, 0, 0, 0, 0, 0, 3, 3, 0, 3, 0, 0, 0, 0, 0, 3, 0, 3, 0, 0, 0, 0, 0, 0, 3, 0, 0, 0, 0, 3, 0, 0, 0, 0, 0, 0, 0, 0, 0, 0, 0, 3, 0, 0, 0, 0, 3, 0, 0, 0, 3, 0, 0, 0, 3, 0, 3, 0, 0, 0, 0, 0, 0, 0, 0, 0, 0, 0, 3, 0, 3, 3, 0, 0, 0, 0, 0, 0, 3, 3, 0, 0, 0, 0, 0, 0, 3, 0, 0, 0, 0, 0, 0, 0, 0, 0, 0, 0, 0, 0, 0, 0, 0, 0, 0, 0, 0, 3, 0, 0, 0, 0, 0, 0, 0, 0, 1, 0, 0, 0, 0, 3, 0, 0, 0, 0, 0, 0, 0, 0, 0, 0, 0, 0, 0, 0, 0, 0, 0, 0, 0, 0, 0, 0, 0, 0, 0, 0, 0, 0, 0, 0, 0, 0, 0, 0, 0, 0, 0, 0, 0, 0, 0, 0, 0, 0, 0, 0, 0, 0, 0, 3, 3, 3, 0, 0, 0, 0, 0, 0, 3, 0, 0, 3, 0, 0, 0, 0, 0, 0, 0, 0, 0, 0, 0, 0, 0, 0, 0, 3, 0, 0, 0, 0, 0, 3, 0, 3, 0, 0, 0, 0, 0, 0, 0, 0, 0, 0, 0, 0, 0, 0, 0, 0, 0, 0, 0, 3, 0, 0, 0, 0, 0, 0, 0, 0, 0, 0, 3, 0, 0, 0, 3, 0, 0, 0, 0, 0, 0, 0, 0, 0, 0, 0, 3, 0, 0, 0, 3, 0, 0, 3, 0, 0, 0, 0, 0, 0, 0, 1, 0, 0, 0, 0, 0, 0, 0, 0, 0, 3, 0, 0, 0, 0, 0, 0, 0, 0, 0, 0, 0, 0, 0, 0, 0, 0, 0, 0, 0, 0, 0, 0, 0, 0, 0, 0, 0, 0, 0, 0, 0, 0, 1, 0, 0, 0, 0, 0, 0, 0, 0, 0, 0, 0, 0, 3, 0, 0, 0, 0, 0, 0, 0, 0, 0, 0, 0, 3, 0, 0, 0, 0, 0, 0, 0, 3, 0, 0, 0, 3, 0, 0, 0, 0, 0, 0, 3, 0, 0, 0, 0, 0, 3, 0, 0, 0, 0, 0, 0, 0, 1, 0, 3, 0, 3, 3, 0, 0, 0, 0, 0, 0, 0, 0, 0, 0, 3, 0, 0, 0, 3, 0, 0, 0, 0, 0, 0, 0, 0, 0, 0, 3, 0, 0, 0, 0, 0, 3, 0, 0, 0, 0, 0, 0, 3, 0, 0, 0, 0, 0, 0, 0, 0, 0, 0, 3, 0, 0, 0, 0, 0, 0, 0, 0, 0, 0, 0, 3, 0, 3, 0, 0, 0, 0, 0, 0, 0, 0, 3, 3, 0, 0, 3, 3, 0, 0, 0, 0, 0, 0, 0, 0, 0, 0, 3, 0, 0, 0, 0, 0, 0, 0, 0, 0, 0, 0, 0, 3, 3, 0, 0, 0, 0, 3, 0, 0, 0, 0, 0, 0, 0, 3, 0, 0, 0, 0, 3, 0, 0, 0, 0, 0, 0, 0, 0, 0, 0, 0, 3, 0, 3, 0, 3, 0, 0, 0, 0, 0, 0, 0, 3, 3, 0, 0, 0, 0, 0, 0, 0, 3, 3, 0, 3, 0, 0, 0, 0, 0, 0, 3, 0, 0, 0, 0, 0, 3, 0, 0, 0, 0, 0, 0, 0, 0, 0, 0, 0, 0, 3, 0, 0, 0, 0, 0, 0, 0, 0, 0, 0, 0, 0, 0, 0, 0, 0, 0, 0, 0, 0, 0, 0, 0, 3, 0, 0, 0, 0, 0, 0, 0, 0, 0, 0, 3, 3, 0, 0, 3, 3, 0, 0, 3, 0, 0, 0, 0, 0, 0, 0, 0, 0, 0, 0, 0, 0, 1, 0, 3, 3, 0, 0, 0, 0, 0, 0, 0, 0, 0, 3, 0, 3, 0, 0, 0, 0, 3, 0, 0, 0, 0, 0, 0, 0, 0, 0, 0, 0, 0, 0, 0, 0, 0, 0, 3, 0, 0, 0, 0, 0, 3, 0, 0, 0, 0, 0, 0, 0, 0, 0, 3, 0, 0, 0, 0, 0, 3, 0, 3, 0, 0, 0, 3, 3, 0, 3, 0, 0, 0, 0, 0, 0, 0, 3, 0, 0, 0, 0, 3, 0, 0, 0, 0, 0, 0, 0, 0, 0, 0, 0, 0, 3, 0, 0, 0, 0, 0, 0, 0, 3, 0, 0, 0, 0, 0, 0, 0, 0, 0, 0, 3, 0, 0, 0, 0, 0, 0, 0, 3, 3, 0, 0, 0, 0, 0, 0, 3, 0, 0, 0, 0, 0, 3, 0, 0, 0, 1, 0, 0, 0, 0, 0, 0, 0, 0, 0, 0, 0, 0, 0, 0, 3, 1, 0, 0, 0, 0, 0, 0, 0, 0, 3, 0, 0, 0, 0, 0, 0, 0, 0, 0, 0, 0, 0, 0, 0], \"width\": 12}, \"opacity\": 0.8, \"size\": 10}, \"mode\": \"markers\", \"type\": \"scatter\", \"x\": [1501.0300000000002, 323821.22, 1834.4, 28665.86, 324.0, 10089.56, 54119.95, 2598.08, 5595.889999999999, 766.8, 0.0, 31406.56, 87913.68000000001, 13861.18, 7785.640000000002, 0.0, 0.0, 1523.96, 101003.27000000006, 27956.340000000007, 10934.639999999998, 6584.86, 33122.15, 11911.95, 0.0, 1213.28, 15511.329999999998, 22118.429999999997, 4832.28, 2690.9, 3083.0, 1953.98, 53742.46000000001, 0.0, 6971.01, 9498.650000000001, 120.5, 716.98, 9027.24, 0.0, 11422.960000000001, 2891.08, 1111.1999999999998, 938.53, 146.8, 81614.54, 22611.11, 0.0, 3243.72, 472.7, 472.7, 53104.649999999994, 2419.99, 151.3, 54602.910000000025, 13238.07, 8693.06, 4683.8, 60549.55999999999, 790.59, 220453.57999999827, 59.8, 0.0, 90.0, 1583.0, 7334.72, 438.0, 0.0, 27249.170000000002, 208.4, 26665.11, 2334.8100000000004, 0.0, 0.0, 0.0, 62598.71000000002, 181262.66999999975, 58848.46000000002, 416.08, 42301.13, 0.0, 705.2, 26299.010000000013, 1822.11, 0.0, 6323.430000000001, 1766.1899999999998, 646.96, 1766.1899999999998, 4600.299999999999, 125672.81999999993, 3420.9, 82144.36000000002, 13334.74, 21900.639999999996, 27933.450000000004, 699.1, 106948.81000000001, 0.0, 70816.65000000005, 0.0, 56865.49999999999, 1993.94, 67147.93999999999, 0.0, 835.1700000000001, 153.99, 12701.439999999999, 16642.19, 6089.93, 1570.0, 48888.59, 37909.840000000004, 24166.62, 102.0, 36669.44, 1724.8200000000002, 14375.659999999998, 280.95, 18078.579999999998, 180.37, 1369.99, 43860.200000000004, 17585.219999999998, 424.0, 90468.73, 47176.18, 1311.9, 9943.82, 0.0, 41128.05, 67053.66, 24508.78, 30144.770000000004, 95712.04000000002, 2540.78, 0.0, 23963.16, 23963.16, 379216.3700000003, 159813.65999999997, 27489.440000000002, 0.0, 12456.910000000002, 2175.8500000000004, 112247.85000000002, 22836.95, 2964.43, 1153.77, 53596.67, 6394.76, 106.0, 106.0, 2243.0, 67482.81, 6599.59, 19381.870000000003, 35695.99, 71334.08000000003, 77097.36000000002, 1728.44, 29855.679999999997, 155714.14999999997, 6404.3, 912.81, 155.0, 65309.999999999985, 0.0, 2202.0, 1314.17, 20736.51, 128804.88999999997, 36726.590000000004, 1678.0, 1334.17, 7387.0, 1167.94, 35163.49999999999, 18656.46, 81998.65999999999, 51643.66, 269.5, 484123.8599999996, 49139.22, 6363.6, 1264.99, 888.45, 498.92999999999995, 1298.19, 197488.37999999992, 3499.73, 1316.48, 9430.02, 43427.1, 12843.319999999998, 89873.91, 22548.58, 3504.880000000001, 39729.95, 43968.619999999995, 14683.460000000003, 1841.7900000000004, 35045.73999999998, 25542.449999999997, 108044.21000000002, 6872.999999999999, 6872.999999999999, 15372.51, 4949.820000000001, 6401.809999999998, 477.62, 99987.47, 4073.42, 19199.280000000002, 39858.91000000001, 23759.969999999998, 312629.7399999997, 11238.409999999998, 11908.569999999996, 979.0, 270.37, 78793.7799999992, 564.52, 24732.499999999996, 59317.35999999999, 0.0, 4148564.9000000027, 3724.0, 8247.43, 12784.0, 0.0, 20584.220000000005, 42353.24000000003, 1153.3, 132.38, 68598.17000000001, 21688.809999999994, 3926.9000000000005, 67232.08999999997, 7557.820000000001, 266.0, 16643.519999999997, 9292.099999999999, 4347.09, 4043.0299999999997, 48439.19000000002, 2894.06, 18109.72, 5318.79, 0.0, 68344.48, 9659.57, 0.0, 25945.350000000006, 15555.609999999999, 7231.14, 2961.7, 37125.98, 1987.9599999999998, 6021.459999999997, 36768.31, 0.0, 3076.68, 12609.07, 13582.850000000002, 37425.33, 1041.7, 0.0, 2436.27, 611.0, 59705.7, 60873.40000000001, 1025.98, 540.9, 2424.4, 826.9, 3248.28, 0.0, 0.0, 2335.4600000000005, 47625.260000000046, 93666.14000000009, 2942.56, 422.8, 17814.5, 26979.129999999997, 15249.05, 432891.94999999995, 4983.0, 2522.5, 42998.94000000002, 1462.5, 3752.5, 200.0, 95419.88000000002, 47.0, 47.0, 24665.269999999997, 91980.48000000001, 55447.600000000006, 4535.21, 2331.82, 4916.29, 142.88, 94914.45999999999, 4039.3200000000006, 51734.810000000005, 300301.19999999995, 30884.850000000006, 58707.08, 998.0, 25289.0, 61716.95999999999, 3032.13, 240.0, 26745.560000000005, 240.0, 0.0, 25932.69, 0.0, 2167.5499999999997, 21023.460000000003, 76223.91999999998, 0.0, 37738.079999999994, 2915.8, 6772.75, 68445.37, 2136.8, 35174.33, 3648.7999999999997, 384.0, 2175.0, 9246.089999999998, 908.0, 85580.67, 3155.3, 0.0, 1083491.5899999999, 199731.43999999986, 1167.73, 1452.0, 18873.68, 4240.25, 38296.030000000006, 8697.87, 0.0, 34469.52, 16.0, 0.0, 179850.51000000013, 28321.780000000006, 29013.43, 4142.660000000001, 577.84, 174555.47, 6442.98, 9354.0, 549.0, 10393.199999999997, 31555.079999999998, 11040.219999999998, 1628.0, 2413.0, 124323.09999999999, 0.0, 5411.19, 2131.4300000000003, 21925.869999999995, 936.1, 691.9200000000001, 2639.9, 6893.139999999999, 31520.300000000003, 54119.95, 630.0, 0.0, 297405.82000000007, 0.0, 5131.400000000001, 0.0, 216.0, 14744.96, 25772.77999999999, 460.9, 23140.97, 4174.0, 7118.599999999999, 6795.96, 51295.66, 22630.610000000004, 30344.410000000003, 115573.51000000002, 44734.91, 665.0, 33401.850000000006, 665.0, 17320.920000000002, 13817.23, 438.0, 1957.89, 2208.0, 21825.940000000006, 190600.41000000003, 1945.31, 107659.31, 67801.09, 1963.23, 6262.91, 6141.01, 11765.830000000002, 704.0, 288447.47999999986, 2558.03, 8799.76, 0.0, 255.95, 1362.8, 953.1300000000001, 0.0, 2170.4700000000003, 11511.68, 4114.95, 17000.239999999998, 124609.31, 5814.8499999999985, 7067.51, 1831.6999999999998, 15107.44, 5277.46, 2782.2700000000004, 2136.0, 388.78, 232.07999999999998, 8663.7, 0.0, 0.0, 24272.479999999996, 15018.059999999998, 505.4, 125.1, 23422.069999999996, 266.0, 15765.739999999996, 2645.8, 855.0, 855.0, 29780.0, 94.8, 0.0, 192.0, 9165.09, 5946.820000000001, 2298.5699999999997, 99.0, 1945.77, 39742.91000000002, 0.0, 0.0, 6671.35, 4612.84, 31413.36, 3390.12, 5394.759999999999, 0.0, 438.0, 5732.0, 3346.0, 438.0, 1215.62, 38740.61000000001, 27109.02000000001, 152690.28999999986, 19280.739999999998, 15973.67, 59885.890000000014, 462922.1000000003, 12334.29, 212482.09, 1304.3200000000002, 13363.15, 220382.94000000015, 0.0, 65058.03000000003, 196779.09999999998, 134499.84999999995, 117519.71000000004, 0.0, 125999.06999999993, 1620.3999999999999, 3446.91, 493517.4499999997, 1111.96, 593907.1000000002, 19433.51, 531.0, 1111.96, 0.0, 7425.17, 5002.349999999999, 0.0, 103362.7, 1602.9099999999999, 0.0, 14356.869999999999, 1001.29, 3048.9, 1409.22, 541.5, 23734.849999999995, 130683.41000000006, 66855.59000000001, 21611.149999999998, 0.0, 254277.57999999996, 65869.34000000001, 0.0, 18912.620000000003, 20477.74, 26347.97, 9097.74, 1199.0, 4282.099999999999, 835.6, 835.0, 52374.94999999999, 150437.70000000004, 3808.58, 18261.060000000005, 17343.4, 356.0, 28003.5, 0.0, 14644.509999999998, 90.0, 1901.42, 4327.82, 409.0, 510486.05000000016, 9230.689999999997, 8785.779999999999, 326.71, 6476.600000000001, 45036.950000000004, 68346.78000000001, 135240.16999999995, 0.0, 0.0, 279.46, 85585.54999999999, 101324.39999999994, 45709.01000000003, 0.0, 0.0, 179849.44999999998, 1055.29, 17523.819999999996, 5726.970000000001, 24397.230000000003, 39209.320000000014, 0.0, 91503.05999999997, 2143.4, 35637.47, 390.0, 0.0, 11264.599999999999, 30.0, 49.0, 1253.73, 130693.74000000003, 7137.320000000001, 10501.609999999997, 2747.6399999999994, 44976.68000000001, 350.0, 0.0, 13489.799999999997, 433.85, 35779.11, 1162.1599999999999, 21378.51, 1626.6200000000001, 5012.4, 6403.69, 27512.679999999997, 4986.369999999999, 4986.369999999999, 364586.44, 87292.24000000002, 5937.049999999999, 161900.61000000007, 364586.44, 834.6499999999999, 430.8, 625.3, 31007.320000000003, 5863.69, 106030.49999999997, 20228.7, 0.0, 2944.19, 265.86, 307214.13999999996, 3884.37, 17014.55, 170323.8999999999, 0.0, 0.0, 119.0, 374526.34000000014, 71516.94000000005, 219918.21000000014, 484230.2900000001, 137968.85000000003, 285777.9500000001, 231971.41999999993, 5377.62, 0.0, 3814.2000000000007, 68405.11999999998, 435.0, 28853.31, 7661.8099999999995, 830.0, 6375.999999999999, 106557.41, 11058.009999999998, 287645.36999999994, 19678.349999999995, 18332.149999999994, 405.44, 7599.0, 10633.130000000001, 7446.43, 1725.97, 2823.0, 8855.57, 0.0, 0.0, 2821.71, 2445.37, 5104.5, 3358.0, 6217.17, 7249.2, 9846.49, 13817.23, 4936.09, 824.97, 0.0, 5691.2, 3010.98, 4951.7, 115697.17000000001, 29546.999999999996, 75.0, 41062.180000000015, 1533923.6399999987, 133127.58000000007, 0.0, 10564.52, 98966.43000000005, 98966.43000000005, 2145.0, 2035.0, 1167.71, 0.0, 62771.820000000014, 4044.47, 299145.2199999997, 719.0, 3764.11, 46670.55000000002, 0.0, 0.0, 52803.04, 8534.75, 458.0, 938.0, 19336.68, 131617.73000000004, 500.0, 6067.21, 139015.30000000005, 29255.070000000007, 220.0, 220.0, 194.0, 41010.759999999995, 5269.72, 30455.32, 12765.65, 341683.2800000001, 43.0, 3526.51, 684.22, 173810.23, 434491.32999999967, 32836.72000000001, 45240.89000000001, 14293.119999999997, 0.0, 12502.769999999999, 64025.39000000005, 473613.0100000001, 120412.88000000008, 3356.37, 9776.8, 33713.149999999994, 19023.84, 2558.55, 5743.91, 0.0, 351.0, 67277.15000000002, 92861.65999999999, 108589.51000000004, 0.0, 604.4, 0.0, 16138.630000000001, 12843.319999999998, 8175.700000000001, 24803.62000000001, 14230.36, 34355.049999999996, 951.55, 3885.12, 15484.54, 34246.49, 127995.86, 12928.3, 8145.04, 8447.310000000001, 269486.06000000023, 42723.60000000001, 9626.07, 604.13, 34697.590000000004, 345235.06000000006, 8531.52, 47760.0, 2123.5099999999998, 806.7, 506.0899999999999, 102872.24999999997, 4027.4100000000003, 692.67, 0.0, 77172.36, 35.6, 5163.129999999999, 163973.65999999992, 47175.700000000004, 59.0, 39476.91, 104143.87999999999, 183995.33999999982, 420221.69, 8765.59, 55810.66000000002, 136505.11, 64791.99000000001, 24865.389999999996, 70064.83999999997, 11116.499999999996, 1399.38, 171408.58999999994, 6604.46, 77450.1, 9073.43, 58210.53999999999, 37736.72, 25585.85, 62636.97, 2047.56, 1326.52, 11767.219999999998, 26290.14, 6496.66, 34990.51, 310529.5999999997, 78638.64000000001, 781.9300000000001, 252901.86999999968, 4150.360000000001, 2874.73, 30991.729999999992, 199.0, 0.0, 12754.999999999998, 6787.66, 109103.83000000005, 196.0, 192615.34999999995, 25137.059999999987, 40981.6, 2657.27, 51982.86000000001, 70289.07000000004, 19113.540000000005, 23532.25, 70289.07000000004, 28368.280000000006, 105547.63, 1482.3899999999999, 12588.0, 75521.30999999998, 0.0, 6666.33, 61037.85000000001, 9963.03, 18688.589999999997, 0.0, 913.04, 70548.03, 2700.79, 400.0, 15504.69, 27213.0, 105391.12999999999, 1285.08, 11233.76, 2686.35, 2912.51, 123.0, 5233.0, 5233.0, 5233.0, 1396.7699999999998, 5388.78, 14020.5, 115773.41000000005, 46970.82, 0.0, 454.8, 21643.93, 12972.299999999996, 31581.66, 3787.8899999999994, 13841.17, 6338.36, 3581.79, 1909.0, 8645.87, 2686.35, 35219.630000000005, 8450.89, 218171.49999999997, 897.6800000000001, 1041.7, 3983.45, 42801.60000000002, 36521.86999999999, 198262.1699999999, 171135.81000000003, 215.0, 13193.910000000002, 5194.73, 8776.669999999998, 0.0, 113127.93, 7231.51, 14201.479999999996, 14201.479999999996, 23838.50999999999, 862.4000000000001, 532212.3800000001, 102358.21999999994, 36202.77999999999, 0.0, 7706.26, 162194.82999999987, 74375.48000000001, 17430.96, 74231.31000000003, 82903.65000000004, 327631.2399999998, 28382.860000000008, 47625.260000000046, 316610.1000000001, 107273.15999999996, 72998.97999999998, 1259.8000000000002, 10719.46, 11272.300000000003, 0.0, 2189.0, 206652.27000000002, 227037.35999999996, 111897.92, 5029.179999999999, 5029.179999999999, 5029.179999999999, 108343.72999999998, 7967.32, 977.0, 11748.099999999999, 174.0, 32186.33, 12867.22, 145380.17, 331343.92999999964, 80847.80000000005, 36716.11999999999, 55491.72000000003, 19282.21, 150696.91, 4920.3, 160439.2700000001, 1416.33, 7232.5, 41093.96, 90729.67000000003, 3669.73, 151297.28, 54429.65, 41837.86, 4178.360000000001, 20284.6, 30751.21, 79746.80000000003, 17363.920000000002, 62469.46000000001, 40449.12, 40449.12, 80138.57, 226744.11999999988, 338.82, 14195.500000000002, 121056.87999999993, 46924.860000000015, 62270.400000000016, 0.0, 114137.56999999995, 693.0, 18835.829999999998, 46039.020000000004, 33683.56, 260.0, 57657.7, 398259.5200000002, 12641.02, 3411.14, 57555.979999999996, 169361.31000000003, 1406.1, 5311.91, 5365.79, 782236.9199999998, 1898.8999999999999, 117058.39000000009, 0.0, 259.98, 217988.2099999999, 11130.449999999997, 21701.859999999993, 2012.0, 838927.5800000002, 19551.590000000004, 900.0, 12654.989999999998, 10634.21, 121382.72000000003, 6780.84, 43874.92000000001, 0.0, 3859.9, 467.0, 2553.19, 0.0, 91216.70000000001, 4142.660000000001, 1077.26, 18399.87, 17087.21, 194226.69000000015, 20524.8, 9589.08, 1807.5, 20027.85, 0.0, 1752.6799999999998, 429.65999999999997, 554998.5499999992, 261454.51000000004, 86794.35000000002, 6483.479999999999, 3231.3700000000003, 8045.62, 409885.37000000017, 48453.409999999974, 142150.81000000008, 139961.16000000003, 52591.00000000001, 1871.0, 3081.08, 43219.189999999995, 99274.58, 90819.23, 38498.68, 0.0, 259839.68000000005, 0.0, 40976.41, 111631.81, 22717.53, 65573.39000000001, 2310.0, 123832.62000000002, 15137.030000000002, 195428.28999999986, 79053.84, 5393.520000000001, 3598.2199999999993, 108457.67000000001, 67087.83, 13203.0, 2403.01, 9392.7, 251990.7599999999, 96181.07000000002, 28807.01, 0.0, 55603.38000000003, 434.0, 3453.0699999999997, 56182.14000000001, 39954.46000000001, 479.0, 12263.789999999997, 759951.3500000011, 174426.12, 0.0, 10708.18, 0.0, 151770.17, 6779.14, 44040.719999999994, 15853.02, 84953.70000000001, 176814.82000000007, 65247.920000000035, 108868.32000000004, 142874.65, 165459.66000000006, 1487.33, 92256.27999999997, 39135.18, 0.0, 85003.13000000002, 10509.460000000001, 45700.56000000002, 3607.4900000000002, 25284.239999999998, 139491.5, 0.0, 24628.870000000003, 9729.44, 153966.4799999998, 21882.93, 51239.689999999995, 20097.420000000002, 672136.32, 0.0, 0.0, 4572.57, 0.0, 82.0, 2073.99, 175.0, 5243.87, 5549.6, 6170.27, 2934.5, 661970.3400000004, 101387.64000000001, 7067.51, 175698.97999999995, 98723.55000000005, 999.99, 106863.30000000002, 16504.309999999998, 29870.839999999982, 156595.06, 26394.79000000001, 136891.84, 0.0, 129.9, 0.0, 3410.89, 333.0, 143487.36000000007, 380520.5699999994, 1160.9, 9146.72, 14608.68, 0.0, 2121.4300000000003, 44492.5, 336.0, 26420.72, 47622.57, 100596.60000000002, 10720.51, 111866.07, 0.0, 9246.7, 14907.0, 0.0, 726.7, 2694.24, 55205.84, 166518.23999999993, 51117.62, 7163.900000000001, 1771.48, 1826.03, 5916.37, 0.0, 68.0, 68.0, 1746.0, 48364.58, 29633.42, 1715.0, 136941.74000000008, 2634.9, 17890.0, 33211.27, 1993.46, 9205.22, 73851.93000000002, 134180.1999999999, 4781.9, 21883.380000000005, 4203.0599999999995, 125.0, 182954.63999999996, 73028.78000000001, 62341.240000000005, 4635.570000000001, 81209.26, 99.9, 120.5, 615.98, 5507.59, 5507.59, 14710.649999999996, 55116.549999999996, 2029.9, 61688.22000000001, 0.0, 115119.49999999996, 48414.64000000002, 85015.08999999995, 203650.3899999999, 0.0, 15812.8, 580850.3399999994, 6782.04, 2874.44, 7232.9800000000005, 45415.24, 0.0, 809.0, 313.8, 3726.4, 56156.06000000002, 363.99, 167071.40999999992, 0.0, 53326.76, 16716.87, 50488.64000000001, 94365.27000000005, 19031.73999999999, 175880.5, 3350.17, 207.0, 26493.520000000004, 282782.33999999973, 188651.22, 36059.220000000016, 2831.6100000000006, 64099.65, 7075.379999999999, 7075.379999999999, 0.0, 9992.759999999998, 13949.04999999999, 0.0, 1565.52, 17523.819999999996, 114998.39999999986, 39945.92000000001, 0.0, 3729.5800000000013, 86697.24999999996, 1980.1200000000001, 546.44, 152.7, 9052.85, 16756.839999999997, 1999.52, 25833.559999999994, 1634.0, 70816.65000000005, 4022.5, 61368.57, 11875.75, 2798.8, 91850.59999999998, 32938.90000000001, 12734.599999999995, 2692.23, 0.0, 0.0, 435.0, 465.0, 1215.0, 30907.570000000007, 30907.570000000007, 8540.61, 4444.889999999999, 68207.73999999999, 394.0, 6709.99, 0.0, 0.0, 0.0, 183313.70000000022, 69875.06, 22732.689999999995, 182367.5299999999, 0.0, 54585.14000000002, 5618.6900000000005, 4152.29, 120075.58000000002, 75.0, 6241.35, 36178.869999999995, 285.0, 44493.76999999999, 26665.459999999995, 20864.519999999997, 20864.519999999997, 21992.130000000005, 8614.740000000002, 41229.19, 15035.24, 1462.1000000000001, 33220.670000000006, 16469.04, 8322.73, 217.4, 1405.47, 162245.67999999996, 165876.3200000001, 0.0, 2037.01, 1313.44, 500.0, 7622.710000000001, 38065.94000000001, 1541.08, 0.0, 59434.150000000016, 79775.7, 6092.1900000000005, 92475.31000000003, 362284.48000000004, 362284.48000000004, 549989.4599999997, 151720.8299999999, 25491.349999999995, 23359.68, 1547.5, 22547.04, 4660.4800000000005, 59337.34000000002, 8413.369999999999, 42695.820000000014, 125812.62000000001, 0.0, 121357.86000000004, 0.0, 882.91, 53911.32000000001, 206901.58999999997, 12598.109999999999, 7332.11, 68334.52, 70371.61000000002, 40.38, 3756.03, 240613.47000000012, 15585.800000000001, 40.0, 27838.83000000001, 63921.12999999999, 39941.719999999994, 91791.58000000002, 43817.62, 19053.15, 3271.0, 546.45, 4584.32, 73843.27000000002, 61356.09000000002, 14216.69, 2303.34, 2500.8500000000004, 5575.74, 3962.5, 3216.2, 46658.71999999999, 143664.34999999998, 60601.45999999999, 22996.44, 29574.160000000003, 2619.41, 99131.51000000001, 8461.78, 29526.949999999983, 50584.789999999986, 8545.54, 25445.31, 1188.18, 128769.02, 95015.91000000002, 88528.49000000002, 124119.81, 132376.09999999998, 60677.85999999999, 32571.84999999999, 941.74, 0.0, 24608.34, 24608.34, 10587.029999999995, 50095.979999999996, 1188.18, 12966.9, 89127.88000000002, 36164.45000000001, 57273.03999999998, 328.0, 17525.32, 8145.04, 138386.31000000008, 219113.57, 44643.28, 4495.85, 378271.0699999999, 136578.14000000007, 9610.559999999998, 8447.310000000001, 100067.51999999995, 2497.95, 6401.809999999998, 13599.199999999999, 0.0, 7779.070000000001, 320.9, 170674.86000000007, 693747.1999999993, 7583.79, 168182.21000000014, 653.08, 103281.51000000001, 216892.50999999995, 38713.91000000002, 157556.91999999995, 287356.06999999983, 287356.06999999983, 13200.13, 36111.280000000006, 3664.4200000000005, 39005.530000000035, 32719.289999999997, 31620.959999999992, 95015.91000000002, 5521.709999999999, 274191.6899999999, 51564.63999999999, 203691.90000000008, 28529.350000000002, 2005.8, 10174.13, 2087.64, 1504.8400000000001, 409.1, 0.0, 1504.8400000000001, 2591.3, 13331.839999999998, 29275.37000000001, 82108.40000000001, 9373.569999999998, 137668.41, 4403.4800000000005, 62410.36000000001, 244503.39999999994, 26441.32, 2787.2999999999997, 205284.21999999997, 115290.94999999995, 114269.16, 22119.260000000002, 10423.830000000002, 194876.29999999984, 194876.29999999984, 0.0, 101032.11999999998, 5312.39, 1962.24, 18309.34, 717349.1700000004, 3228.8199999999993, 41261.740000000005, 4045.9200000000005, 31970.270000000004, 7751.2699999999995, 21458.650000000005, 41080.840000000004, 0.0, 13325.78, 13357.599999999995, 6593.66, 126135.22000000003, 1682.3600000000001, 171311.25000000006, 109763.92999999998, 23355.45, 1006.75, 108837.11000000002, 24084.03, 27594.270000000008, 11813.999999999998, 3874.99, 271392.4999999999, 10316.819999999998, 8112.989999999998, 0.5, 547850.6399999995, 40900.619999999995, 11560.48, 55586.259999999995, 103638.23000000001, 101.22, 10657.08, 34290.9, 47098.6, 52698.36, 1782.2, 54046.460000000014, 54046.460000000014, 32535.690000000002, 3532.6, 2034.2700000000002, 67232.08999999997, 3790.4599999999996, 1291.87, 13124.94, 3711.0, 3928.11, 124.0, 40952.39, 18000.42, 77889.81000000001, 0.0, 632661.1899999996, 39507.65, 20643.89, 0.0, 46358.76, 131845.5, 7575.199999999998, 10522.549999999997, 0.0, 5594.33, 171117.57000000007, 19141.069999999996, 169.99, 66930.76, 4858.81, 34144.33, 50554.38, 2565.4, 0.0, 13193.910000000002, 33482.780000000006, 92690.8, 0.0, 4148.66, 7634.2, 0.0, 141602.91000000003, 16539.65, 10441.140000000001, 0.0, 47534.28, 1040.8600000000001, 6931.8099999999995, 16738.09, 7224.279999999999, 877.23, 13049.6, 19265.1, 53952.010000000024, 32968.33, 15645.93, 4439.0, 929.0, 1440.98, 4920.3, 25592.429999999997, 3266.0000000000005, 24506.410000000003, 230.4, 4916.29, 19550.730000000003, 2925.96, 0.0, 141110.60000000003, 15132.68, 11454.82, 2647.97, 29098.950000000004, 465.0, 0.0, 74111.36, 410.0, 50.0, 743.0, 42.9, 3648.7999999999997, 513001.38, 27342.809999999998, 513001.38, 154.0, 5162.27, 61874.73000000002, 79744.22000000002, 649.02, 134236.6599999999, 0.0, 0.0, 55924.24000000002, 66.0, 11809.92, 38118.649999999994, 14481.82, 94878.9, 35399.97, 34218.61, 1949.77, 0.0, 0.0, 4095.3399999999997, 223406.11999999988, 324115.8400000001, 2386.73, 102675.48000000003, 38699.079999999994, 678.4, 6442.98, 10702.87, 0.0, 104511.28000000001, 69884.61, 168651.59999999998, 43393.68, 87525.39, 47326.70999999999, 11992.09, 6487.969999999999, 61800.36000000003, 324147.49, 1940.85, 11075.92, 729.0, 30219.030000000013, 110748.22, 22379.519999999997, 40753.000000000015, 9789.759999999998, 18925.44, 5256.94, 33282.83, 38201.950000000004, 29127.959999999995, 13391.199999999999, 23911.42000000001, 0.0, 251990.7599999999, 36791.43, 29606.290000000008, 35463.86, 2543.77, 139585.72999999998, 0.0, 6498.889999999999, 6790.849999999999, 289280.91000000003, 368.0, 2587.6100000000006, 24315.730000000007, 222619.13000000006, 10841.509999999998, 364921.41999999975, 33.95, 31623.169999999995, 4557.12, 35891.52999999999, 38626.59999999999, 0.0, 237.0, 0.0, 1509.51, 7357.800000000001, 33050.18000000001, 273671.3300000001, 0.0, 338649.0999999996, 101292.48, 71765.24999999999, 3572.78, 2414.35, 2414.35, 11424.399999999998, 41280.22, 112998.85999999993, 252297.41000000012, 0.0, 70.0, 25384.320000000007, 36296.14000000001, 0.0, 0.0, 219070.07999999993, 3082.0, 0.0, 7624.309999999998, 169.5, 46770.18, 35.0, 29780.0, 14056.910000000003, 47729.23, 0.0, 213.15, 7867.74, 32351.2, 2021.55, 3860.2999999999997, 4203.92, 1131.97, 5162.01, 1927.9, 0.0, 187794.92999999996, 68212.71, 0.0, 6054.879999999997, 8863.72, 6857.199999999999, 7601.6900000000005, 1945.77, 32.9, 532252.6699999993, 2835.79, 0.0, 0.0, 19280.739999999998, 215778.08000000002, 2647.6899999999996, 523.56, 0.0, 12532.47, 1228.0, 48388.33999999999, 0.0, 6263.629999999999, 36075.89000000001, 31345.940000000002, 11348.809999999998, 526.1, 0.0, 35243.64000000001, 1335.67, 0.0, 5960.62, 1643.9500000000003, 2137.48, 0.0, 15457.58, 55145.24, 54219.10000000002, 1011.1, 291.89, 148.0, 0.0, 7505.509999999999, 7142.330000000001, 18139.050000000003, 0.0, 1225.99, 0.0, 10730.59, 570.0, 10389.2, 2706.67, 4660.6900000000005, 276.0, 1068.3999999999999, 21464.65, 79.9, 52070.08999999999, 32638.830000000005, 869.8199999999999, 9462.21, 7175.639999999999, 488.94000000000005, 2150.5, 196894.18, 137839.3599999999, 130830.70999999993, 157.79, 4942.5599999999995, 1554.9, 555.98, 555.46, 3091.88, 172345.36000000004, 13245.29, 0.0, 87845.97, 6429.030000000001, 9492.779999999999, 1453.42, 53485.910000000025, 1087.9, 20984.530000000002, 87514.55000000002, 8484.96, 332.0, 2348.89, 25069.379999999997, 3642.0399999999995, 2675.82, 0.0, 3082.9699999999993, 225042.96999999994, 632.4, 1082.51, 5300.68, 49326.48, 93188.24000000006, 285501.98999999993, 65822.87999999998, 111679.59999999999, 4877.98, 10659.210000000001, 9997.44, 10056.42, 33005.520000000004, 13426.439999999997, 5616.0, 744.0, 19013.58, 0.0, 14375.659999999998, 10173.759999999998, 2975.58, 50256.219999999994, 43093.48, 20833.940000000002, 1037.72, 6988.63, 22003.540000000005, 147967.63000000003, 6341.5, 2573.73, 843.06, 4506.76, 60313.51, 600.0, 44018.920000000006, 615.0, 35659.63, 2284.8, 304738.94, 0.0, 117.0, 189.0, 107824.85000000005, 16969.34, 60387.87999999998, 191.7, 27726.729999999996, 7903.400000000001, 23295.98, 0.0, 9103.960000000001, 32532.2, 3163.21, 4110.9, 99537.85999999996, 16973.56, 16706.35, 11038.96, 127678.38, 677.5, 5731.260000000001, 269420.41999999975, 3558.2299999999996, 0.0, 626.76, 13073.43, 30376.25, 50320.03000000003, 76051.24, 651970.2899999995, 2607.65, 11769.29, 14606.950000000004, 0.0, 3873.44, 3810.5299999999997, 13046.7, 1788.6999999999998, 74388.9, 180905.3, 2932.2900000000004, 14811.290000000003, 33422.93, 244.0, 60180.48000000002, 6156.86, 3615.4, 12786.91, 5943.58, 84896.65000000001, 21909.7, 669.01, 0.0, 5793.44, 48558.65000000001, 557.9, 5793.44, 23433.86, 5654.0, 0.0, 6883.73, 5262.099999999999, 8551.18, 62.99, 50554.38, 712.0, 38413.91, 3068.45, 17095.879999999997, 1348.38, 1348.38, 2773.7699999999995, 413521.8199999996, 61514.57000000001, 226.0, 50596.69999999999, 13135.590000000002, 0.0, 31036.150000000005, 5878.349999999999, 9565.009999999998, 2070.18, 0.0, 9054.93, 21018.599999999995, 144282.84999999998, 25770.850000000002, 72003.83999999998, 19080.510000000002, 40034.28999999999, 38414.479999999996, 7744.950000000001, 306.0, 42917.34000000002, 45201.50999999999, 4920.3, 11409.71, 280167.6, 683.0, 2918.5699999999997, 70867.42, 24454.140000000003, 5760.069999999999, 60469.63000000002, 13135.81, 152134.52000000002, 13135.81, 225.9, 0.0, 115518.06999999998, 61874.73000000002, 4434.89, 12731.52, 0.0, 10887.8, 46379.09, 217988.2099999999, 27404.420000000002, 5967.160000000001, 2468.2100000000005, 15552.42, 0.0, 300820.1499999998, 13610.619999999999, 648.1, 85472.27999999998, 1200.0, 15837.160000000002, 48107.530000000006, 145.0, 478056.1299999996, 6024.07, 173607.58000000005, 44509.63000000001, 114293.63000000002, 283243.9699999999, 30428.490000000013, 11256.619999999999, 1807.5, 31791.059999999998, 17632.21, 91571.02, 8124.899999999999, 13712.829999999998, 12507.330000000002, 2776.9399999999996, 298247.33999999985, 1435.1200000000001, 5937.330000000001, 3039.36, 138441.12000000002, 0.0, 22717.53, 65453.36000000004, 29334.2, 2316.0, 271.0, 1222.0, 27512.630000000016, 6888.069999999999, 0.0, 116532.00000000003, 14586.92, 20491.42, 0.0, 4949.19, 6973.5999999999985, 111631.81, 7130.38, 5014.93, 4551.039999999999, 76307.34999999999, 15973.67, 8347.460000000001, 121114.87000000005, 36754.88, 856.57, 127.0, 33819.399999999994, 2746.65, 14976.439999999999, 84.46, 84.46, 49738.78, 38476.16000000001, 144151.2, 5574.0, 1868.47, 6543.91, 59922.97000000001, 2053.47, 2053.47, 27508.329999999998, 0.0, 0.0, 2615.89, 20819.600000000002, 269663.01000000024, 30252.62, 98357.09999999995, 2765.19, 20637.819999999996, 525.0, 1909.9, 7818.33, 18589.560000000005, 18589.560000000005, 0.0, 246051.70999999982, 84724.36000000002, 36022.85, 0.0, 164521.42, 248234.37999999966, 1377.0, 5792.160000000001, 5792.160000000001, 14529.169999999998, 0.0, 0.0, 14529.169999999998, 19669.640000000003, 6062.129999999999, 641.0, 193635.45999999967, 2109.5299999999997, 20442.469999999998, 1228.0, 1228.0, 96.0, 96.0, 2068.3999999999996, 934.9000000000001, 2329.3999999999996, 3830.17, 6512.760000000001, 0.0, 174872.55000000005, 134565.15999999995, 242.2, 7814.16, 3326.55, 243.0, 133793.18999999994, 21464.65, 81743.98999999995, 20477.74, 17364.86, 1286.28, 2964.2599999999998, 34190.20000000001, 251520.06999999975, 3296.37, 56950.720000000016, 3118.4500000000003, 0.0, 312429.51000000007, 4357.67, 0.0, 4452.2, 0.0, 178.0, 25137.79, 9298.6, 383.2, 45906.56000000001, 21378.51, 19665.23, 143728.43999999994, 1676.2, 91427.90999999996, 243.9, 150779.24, 5.0, 8220.27, 10423.13, 8275.07, 93592.56999999999, 58637.049999999996, 26211.300000000003, 157902.8399999999, 157902.8399999999, 0.0, 54845.32, 1896.81, 992.43, 8108.57, 0.0, 16296.779999999999, 161011.4099999999, 116628.05999999991, 12502.769999999999, 130620.85000000002, 4730.14, 29492.710000000003, 34305.52, 0.0, 17570.19, 15927.919999999998, 103469.06999999995, 198.98, 89650.49000000002, 89650.49000000002, 198.98, 15113.12, 132546.76000000004, 1295.3799999999999, 18942.49, 47760.0, 2745.89, 58291.1, 58291.1, 10089.199999999997, 46406.34000000002, 44096.61000000001, 190.0, 5213.5, 3581.4300000000003, 136505.11, 7222.280000000001, 0.0, 4220.49, 3833.96, 40908.02, 3081.52, 8424.25, 3843.93, 21652.0, 3220.3900000000003, 20406.57, 5262.099999999999, 3386.51, 36074.53, 76163.26000000001, 287.97, 12931.060000000003, 10359.93, 1879.96, 41138.45999999999, 9829.710000000003, 0.0, 5194.73, 181566.44999999975, 21376.729999999996, 37745.259999999995, 4148.66, 1524.24, 32259.090000000015, 396.0, 2848.5, 3152.1, 21687.55, 85095.55000000002, 121347.76000000002, 139843.99, 5648.22, 38367.19000000001, 204689.4300000002, 340034.64999999997, 36607.63, 50.0, 295407.8900000002, 34353.36000000001, 3620.2, 31.5, 580.0, 11501.020000000004, 48734.99, 37970.45, 1849.5400000000002, 4868.530000000001, 529.0, 1487.9, 2062.0, 0.0, 416572.2699999997, 0.0, 186675.88, 255129.19999999995, 12757.429999999995, 12671.260000000002, 0.0, 198.3, 41053.08000000001, 42499.04999999999, 3187.13, 25676.49, 3791.2399999999993, 355288.8099999998, 0.0, 103969.36999999998, 21935.769999999997, 41092.82000000001, 86794.35000000002, 27314.9, 113200.18999999996, 36836.04, 13319.199999999997, 0.0, 34226.36, 32268.19, 943.42, 6282.76, 49429.75000000004, 1320.55, 364.0, 34837.39, 10333.199999999999, 6259.04, 12171.219999999996, 2748.5999999999995, 27500.09, 4011.09, 116018.71999999999, 7067.51, 17.98, 14404.300000000001, 28346.610000000015, 524.0, 112944.7, 786.0, 2424.86, 29208.820000000007, 7632.45, 3051.64, 0.0, 0.0, 0.0, 28864.089999999997, 182693.8499999999, 0.0, 0.0, 15754.909999999993, 4322.2699999999995, 371.0, 220453.57999999827, 26283.980000000003, 98043.02000000008, 2874.44, 0.0, 93925.20999999998, 167071.40999999992, 217378.05999999988, 0.0, 243889.41999999972, 30991.8, 43.49, 3427.63, 8515.699999999999, 3082.9699999999993, 6999.639999999999, 435.0, 155419.39999999997, 1453.62, 2553.44, 10057.240000000002, 31486.199999999993, 127870.27999999998, 35776.28, 774.7199999999999, 2240.38, 1148.0, 6823.95, 1153.77, 1462.1000000000001, 0.0, 2870.05, 2179.2799999999997, 20284.61, 20284.61, 111240.14999999998, 60890.65999999999, 48701.01000000002, 45402.0, 3381.7500000000005, 300.77000000000004, 5229.91, 10008.92, 132717.06, 1295.3799999999999, 14316.38, 9596.05, 32835.62999999999, 50386.509999999995, 0.0, 1836.51, 2657.27, 527.7, 55.96, 304603.70999999996, 30880.430000000008, 21008.510000000002, 33229.98999999999, 65669.85999999999, 15057.48, 0.0, 3074.0, 269648.70999999996, 124485.17000000003, 1439.34, 2345.0099999999998, 7329.930000000001, 7329.930000000001, 54774.27000000001, 43620.63999999999, 179495.47999999995, 2295.8599999999997, 69760.79000000001, 3409.85, 11409.71, 14461.619999999999, 199139.62999999995, 639.85, 32066.52000000001, 39122.94, 500898.64999999956, 6023.1, 17671.719999999998, 48241.10999999999, 42973.3, 27981.56, 2821.71, 8493.970000000001, 590.0999999999999, 2158.5, 0.0, 58354.679999999986, 6170.39, 7996.240000000002, 2019.61, 185549.13, 407363.6099999998, 11204.08, 31520.300000000003, 620.0, 0.0, 0.0, 103.38, 2786.0, 9059.279999999999, 142874.65, 21118.68, 156.0, 0.0, 3921.2999999999997, 3123.0299999999997, 1897.85, 3674.0, 19086.889999999992, 5979.07, 943.88, 2064.0, 529.0, 11377.719999999998, 6752.39], \"y\": [4139.0, 43510.450000000004, 883.55, 9717.0, 104.0, 1298.0, 9798.0, 0.0, 5997.0, 0.0, 0.0, 9342.0, 2918.5, 947.5, 595.0, 0.0, 0.0, 0.0, 0.0, 0.0, 0.0, 0.0, 0.0, 6645.0, 0.0, 0.0, 0.0, 1515.0, 0.0, 0.0, 0.0, 600.0, 5270.0, 810.0, 0.0, 17011.0, 0.0, 0.0, 3816.0, 0.0, 900.0, 0.0, 0.0, 0.0, 0.0, 42643.0, 0.0, 0.0, 0.0, 0.0, 0.0, 4644.0, 1699.0, 0.0, 29019.0, 4091.0, 0.0, 0.0, 4480.0, 0.0, 32215.2, 0.0, 0.0, 0.0, 0.0, 0.0, 0.0, 0.0, 439.5, 0.0, 6196.0, 650.0, 0.0, 0.0, 0.0, 31641.0, 3755.0, 25573.75, 0.0, 6009.5, 0.0, 0.0, 5997.0, 0.0, 0.0, 0.0, 0.0, 0.0, 0.0, 0.0, 2320.0, 0.0, 1022.0, 0.0, 2650.0, 0.0, 0.0, 71140.67, 0.0, 11088.0, 0.0, 3721.0, 0.0, 10145.0, 0.0, 0.0, 0.0, 8926.0, 240.0, 5058.0, 0.0, 6870.0, 3612.0, 1980.0, 0.0, 0.0, 0.0, 10503.0, 0.0, 0.0, 0.0, 0.0, 0.0, 8239.0, 0.0, 2047.0, 160.0, 0.0, 998.0, 0.0, 0.0, 3287.0, 125.0, 6450.45, 9090.95, 0.0, 0.0, 0.0, 0.0, 87672.2, 125848.45000000001, 0.0, 0.0, 159.0, 0.0, 13564.0, 600.0, 0.0, 0.0, 4926.0, 950.0, 0.0, 0.0, 0.0, 590.0, 0.0, 2768.0, 14554.4, 4127.1, 0.0, 0.0, 0.0, 28625.0, 0.0, 0.0, 0.0, 33757.4, 0.0, 0.0, 0.0, 0.0, 15977.0, 2001.0, 0.0, 0.0, 0.0, 0.0, 7452.0, 0.0, 760.0, 2260.0, 0.0, 107532.1, 4040.0, 0.0, 0.0, 0.0, 0.0, 0.0, 17851.0, 1500.0, 0.0, 367.0, 7296.0, 0.0, 6174.0, 3150.0, 40.0, 748.0, 1401.0, 480.0, 0.0, 5604.2, 0.0, 5467.0, 6674.0, 6674.0, 0.0, 0.0, 0.0, 0.0, 9256.0, 0.0, 0.0, 18973.0, 0.0, 23419.0, 3112.0, 640.0, 0.0, 0.0, 1390.0, 0.0, 570.0, 5287.0, 0.0, 37974.25, 2300.0, 0.0, 0.0, 0.0, 17488.0, 39700.0, 0.0, 0.0, 20661.7, 0.0, 1299.0, 6646.0, 0.0, 0.0, 5058.0, 0.0, 0.0, 0.0, 7852.0, 930.0, 3130.0, 0.0, 0.0, 2588.0, 0.0, 0.0, 0.0, 0.0, 3471.0, 0.0, 10000.0, 0.0, 0.0, 5440.0, 0.0, 0.0, 274.0, 0.0, 9979.0, 0.0, 0.0, 0.0, 0.0, 6801.0, 0.0, 0.0, 0.0, 0.0, 0.0, 0.0, 0.0, 0.0, 0.0, 5017.0, 28565.0, 0.0, 0.0, 609.0, 9209.6, 2652.0, 14294.0, 0.0, 0.0, 9548.0, 0.0, 0.0, 0.0, 5946.849999999999, 0.0, 0.0, 3820.0, 6844.0, 4982.0, 0.0, 0.0, 0.0, 0.0, 20698.8, 242.5, 0.0, 20906.6, 50.0, 12278.3, 0.0, 0.0, 24356.0, 0.0, 0.0, 3702.0, 0.0, 0.0, 1999.0, 0.0, 0.0, 490.0, 16868.5, 0.0, 4404.0, 0.0, 0.0, 6728.5, 391.0, 7570.0, 0.0, 0.0, 0.0, 0.0, 0.0, 13368.0, 4308.0, 0.0, 45097.0, 8686.8, 0.0, 0.0, 560.0, 0.0, 2817.5, 0.0, 0.0, 790.0, 0.0, 0.0, 6538.5, 3999.0, 0.0, 6851.0, 0.0, 75557.0, 0.0, 218.0, 0.0, 1342.0, 18287.5, 0.0, 0.0, 0.0, 11550.0, 0.0, 0.0, 499.0, 13282.0, 0.0, 12937.0, 0.0, 648.0, 4200.0, 9798.0, 0.0, 0.0, 49000.99, 0.0, 1117.0, 0.0, 0.0, 438.0, 105.0, 0.0, 0.0, 0.0, 2298.0, 0.0, 327.0, 12511.5, 0.0, 11596.5, 5806.5, 0.0, 0.0, 0.0, 0.0, 2864.0, 0.0, 202.5, 0.0, 6522.4, 8068.5, 0.0, 21083.0, 7087.0, 99.0, 4297.0, 1000.0, 6188.0, 0.0, 9517.0, 547.0, 4665.150000000001, 0.0, 1274.15, 0.0, 0.0, 0.0, 0.0, 0.0, 0.0, 3990.0, 27499.3, 0.0, 0.0, 0.0, 360.0, 2295.0, 0.0, 0.0, 0.0, 0.0, 0.0, 0.0, 0.0, 639.0, 4398.0, 0.0, 0.0, 0.0, 0.0, 0.0, 0.0, 0.0, 0.0, 0.0, 0.0, 0.0, 0.0, 15190.0, 600.0, 0.0, 0.0, 0.0, 15841.5, 0.0, 0.0, 0.0, 1499.0, 0.0, 0.0, 11838.0, 0.0, 0.0, 0.0, 0.0, 0.0, 0.0, 0.0, 1821.0, 25399.5, 0.0, 41622.52, 1299.0, 9404.0, 0.0, 13356.0, 0.0, 3798.0, 17733.0, 0.0, 3106.0, 12740.0, 28840.090000000004, 27324.0, 0.0, 21973.5, 0.0, 0.0, 17340.0, 0.0, 113709.65, 0.0, 0.0, 0.0, 0.0, 0.0, 0.0, 0.0, 9650.5, 0.0, 0.0, 0.0, 0.0, 0.0, 105.0, 46.0, 3399.0, 30655.0, 462.0, 329.0, 0.0, 19881.15, 1740.0, 0.0, 603.0, 0.0, 21183.0, 2298.0, 0.0, 0.0, 0.0, 0.0, 11915.0, 10270.0, 0.0, 240.0, 445.5, 0.0, 0.0, 0.0, 50.0, 0.0, 0.0, 0.0, 0.0, 84450.0, 14990.0, 279.0, 0.0, 1293.0, 0.0, 12415.0, 3199.0, 0.0, 0.0, 0.0, 24754.0, 1978.0, 835.0, 0.0, 0.0, 11106.0, 0.0, 214.9, 1570.0, 0.0, 2300.0, 0.0, 2520.0, 0.0, 0.0, 0.0, 0.0, 0.0, 0.0, 0.0, 0.0, 5428.5, 0.0, 485.0, 0.0, 0.0, 0.0, 0.0, 2438.0, 0.0, 1545.96, 0.0, 4420.0, 0.0, 462.93999999999994, 2098.0, 7138.0, 0.0, 0.0, 10372.0, 27933.1, 0.0, 14129.0, 10372.0, 0.0, 0.0, 0.0, 2280.0, 212.0, 44939.25, 0.0, 0.0, 0.0, 0.0, 10936.0, 0.0, 5598.0, 28315.25, 0.0, 9998.0, 0.0, 54937.7, 2752.0, 9184.0, 87726.42, 6925.0, 84366.5, 0.0, 0.0, 0.0, 520.0, 2927.0, 0.0, 5897.0, 0.0, 0.0, 1838.0, 15535.0, 0.0, 2920.0, 0.0, 900.0, 0.0, 599.0, 0.0, 0.0, 0.0, 0.0, 3775.0, 0.0, 0.0, 0.0, 137.0, 870.0, 0.0, 4606.0, 0.0, 3772.5, 2864.0, 6422.0, 0.0, 0.0, 0.0, 1695.0, 0.0, 770.0, 11223.78, 0.0, 18833.15, 157863.0, 1415.0, 0.0, 0.0, 21125.3, 21125.3, 0.0, 0.0, 0.0, 0.0, 6298.0, 0.0, 7040.0, 0.0, 0.0, 2795.0, 0.0, 0.0, 21115.550000000003, 745.0, 0.0, 0.0, 2071.0, 9978.0, 1399.0, 0.0, 1545.0, 900.0, 0.0, 0.0, 1491.0, 160.0, 0.0, 0.0, 5164.0, 129663.02, 0.0, 9850.0, 0.0, 4775.0, 64961.0, 2440.0, 21098.0, 1048.0, 0.0, 1980.0, 0.0, 82743.3, 6154.0, 0.0, 4500.0, 2348.0, 0.0, 0.0, 820.0, 0.0, 0.0, 150.0, 33982.0, 30048.0, 0.0, 9360.0, 0.0, 0.0, 0.0, 0.0, 2551.0, 0.0, 1799.0, 0.0, 1320.0, 1685.0, 309.0, 8362.0, 2650.0, 2098.0, 0.0, 34392.58, 26048.0, 0.0, 0.0, 41326.229999999996, 27724.0, 0.0, 3000.0, 0.0, 0.0, 0.0, 35780.0, 0.0, 0.0, 0.0, 68611.0, 0.0, 0.0, 0.0, 0.0, 0.0, 0.0, 27519.0, 20447.0, 39319.0, 0.0, 0.0, 6294.9400000000005, 25673.0, 5506.0, 2103.0, 10251.0, 2373.0, 2726.0, 1600.0, 2300.0, 6690.6, 0.0, 9367.5, 4248.0, 53852.0, 99.0, 0.0, 0.0, 7424.0, 0.0, 0.0, 2798.0, 445.0, 0.0, 11585.0, 0.0, 0.0, 4001.7, 0.0, 0.0, 2194.0, 2200.0, 35732.0, 0.0, 7488.0, 16468.0, 0.0, 0.0, 19101.0, 8195.0, 1700.0, 19330.57, 8195.0, 0.0, 19303.98, 0.0, 2875.5, 24155.47, 0.0, 899.0, 1374.5, 0.0, 6575.0, 0.0, 0.0, 3898.0, 0.0, 0.0, 51590.0, 0.0, 106460.54, 0.0, 0.0, 0.0, 1024.0, 0.0, 0.0, 0.0, 0.0, 499.0, 0.0, 0.0, 18854.0, 11528.0, 0.0, 0.0, 974.95, 2766.0, 5132.1900000000005, 0.0, 0.0, 0.0, 43.0, 0.0, 0.0, 0.0, 17874.91, 0.0, 48921.340000000004, 0.0, 0.0, 350.0, 62393.5, 8939.7, 91235.12999999999, 70483.04000000001, 0.0, 390.0, 0.0, 2051.0, 0.0, 16887.0, 0.0, 45.0, 45.0, 8843.0, 0.0, 53678.0, 5776.0, 1999.0, 0.0, 0.0, 5424.0, 3375.0, 8013.0, 725.0, 3082.0, 38234.9, 3194.0, 5017.0, 76803.89, 1880.0, 2145.0, 0.0, 3120.0, 1309.0, 0.0, 33601.0, 64886.6, 30517.0, 11763.4, 0.0, 0.0, 0.0, 23966.0, 150.0, 0.0, 1598.0, 0.0, 3588.0, 1100.0, 6973.0, 34228.61000000001, 48167.6, 24918.0, 20557.39, 14386.5, 7022.969999999999, 1499.0, 26276.39, 0.0, 0.0, 4589.0, 8014.64, 110.0, 22474.0, 510.0, 15728.0, 0.0, 0.0, 33691.3, 9044.0, 1138.0, 2934.88, 0.0, 0.0, 9650.05, 30895.97, 0.0, 0.0, 26427.070000000003, 2715.0, 31892.0, 0.0, 52588.45, 0.0, 0.0, 20830.58, 10454.0, 0.0, 49884.0, 13745.0, 157.0, 1540.0, 21658.75, 14211.0, 0.0, 0.0, 0.0, 62116.0, 2530.0, 37104.6, 0.0, 0.0, 8495.0, 0.0, 23872.0, 0.0, 61142.6, 0.0, 0.0, 0.0, 17945.559999999998, 5251.0, 2916.5, 9311.0, 0.0, 54.5, 0.0, 0.0, 0.0, 5492.0, 6851.0, 0.0, 0.0, 1647.0, 30327.0, 0.0, 3669.0, 0.0, 0.0, 0.0, 0.0, 0.0, 5995.0, 39108.3, 7360.0, 948.0, 2200.0, 842.0, 70030.45, 0.0, 4392.0, 30482.5, 29426.95, 0.0, 0.0, 1476.0, 0.0, 20453.0, 0.0, 0.0, 6349.0, 0.0, 4465.0, 19879.5, 928.0, 7300.0, 0.0, 4481.0, 4090.5499999999997, 16475.3, 72899.41, 0.0, 0.0, 1241.0, 1647.0, 0.0, 0.0, 2990.0, 20821.0, 61193.5, 5423.9, 0.0, 550.0, 0.0, 0.0, 8635.44, 2439.0, 0.0, 1599.0, 103065.5, 32315.76, 0.0, 1897.0, 0.0, 44236.130000000005, 35.0, 12609.0, 18480.0, 39897.75, 34670.0, 42276.8, 17488.0, 21374.5, 12708.0, 0.0, 16998.0, 6138.0, 0.0, 7730.0, 1344.3, 8202.0, 0.0, 0.0, 86541.0, 0.0, 0.0, 388.0, 16157.0, 2799.0, 19163.0, 0.0, 61243.5, 0.0, 0.0, 0.0, 0.0, 0.0, 0.0, 0.0, 0.0, 3646.3, 457.0, 0.0, 222628.72, 3640.56, 0.0, 79553.25, 12824.0, 0.0, 32534.0, 0.0, 0.0, 14269.65, 3437.0, 74797.05000000002, 5083.0, 0.0, 0.0, 0.0, 0.0, 14100.5, 35397.770000000004, 0.0, 2294.0, 0.0, 0.0, 0.0, 36721.6, 0.0, 2850.0, 4675.9400000000005, 6541.0, 1063.0, 4328.0, 0.0, 360.0, 0.0, 0.0, 0.0, 0.0, 13662.0, 0.0, 1595.0, 1199.0, 0.0, 249.0, 359.98, 0.0, 0.0, 0.0, 0.0, 299.0, 2218.5, 0.0, 1836.5, 0.0, 178.0, 998.0, 2285.0, 255.0, 2813.0, 17743.0, 0.0, 821.0, 95.0, 0.0, 1180.0, 449.0, 8292.7, 0.0, 21195.3, 0.0, 0.0, 0.0, 748.0, 748.0, 0.0, 10964.0, 2752.0, 8202.0, 0.0, 49605.96, 5271.0, 13194.0, 13490.0, 0.0, 2365.0, 33823.41, 1093.6, 0.0, 0.0, 3229.3, 0.0, 0.0, 0.0, 0.0, 0.0, 368.0, 25941.8, 0.0, 10817.0, 0.0, 34950.0, 5437.0, 3117.0, 68612.5, 0.0, 0.0, 3496.0, 83273.0, 461181.2, 837.0, 0.0, 199.0, 0.0, 0.0, 0.0, 0.0, 0.0, 0.0, 192.0, 214.9, 4305.0, 408.0, 0.0, 0.0, 17778.0, 0.0, 0.0, 0.0, 1304.0, 400.0, 0.0, 6465.0, 0.0, 11088.0, 0.0, 0.0, 0.0, 2000.0, 15096.0, 0.0, 2404.0, 0.0, 0.0, 0.0, 0.0, 0.0, 0.0, 603.0, 603.0, 2211.0, 0.0, 3430.0, 0.0, 0.0, 0.0, 0.0, 0.0, 550.0, 0.0, 2800.0, 4226.0, 2375.0, 25494.2, 0.0, 0.0, 5313.0, 0.0, 0.0, 0.0, 0.0, 7082.0, 0.0, 75318.0, 75318.0, 651.0, 0.0, 80.0, 3525.0, 0.0, 2199.0, 0.0, 4460.0, 0.0, 0.0, 26765.25, 37836.0, 0.0, 0.0, 0.0, 1399.0, 0.0, 3147.0, 0.0, 0.0, 82844.25000000001, 13787.0, 7737.0, 970.0, 46138.0, 46138.0, 39748.86, 1364.0, 0.0, 0.0, 0.0, 1043.0, 2219.0, 19282.0, 3160.0, 7060.0, 11574.0, 0.0, 3494.0, 0.0, 0.0, 13719.6, 30737.5, 999.0, 0.0, 29511.0, 4250.0, 0.0, 0.0, 38516.899999999994, 0.0, 0.0, 10826.0, 26809.05, 0.0, 0.0, 798.0, 250.0, 0.0, 0.0, 0.0, 10746.0, 3214.3, 0.0, 0.0, 0.0, 0.0, 0.0, 0.0, 24490.0, 24221.75, 3365.0, 2077.0, 0.0, 42.0, 14343.7, 959.0, 2533.0, 999.0, 0.0, 0.0, 178.0, 29971.6, 7522.0, 14529.0, 21499.0, 4232.0, 13760.900000000001, 6018.0, 0.0, 0.0, 0.0, 0.0, 5843.0, 4822.6, 178.0, 3919.0, 4257.75, 2803.0, 0.0, 0.0, 7133.0, 2098.0, 15304.0, 30225.3, 3748.0, 829.0, 61721.1, 55905.1, 0.0, 0.0, 12153.0, 0.0, 0.0, 0.0, 0.0, 0.0, 0.0, 40269.0, 75527.5, 0.0, 32849.5, 0.0, 30217.0, 23813.0, 8190.0, 17171.8, 73673.2, 73673.2, 7447.6, 2660.0, 0.0, 0.0, 28948.9, 12656.2, 7522.0, 1169.0, 48986.19, 6044.0, 36228.0, 1429.2, 0.0, 0.0, 1380.0, 0.0, 0.0, 0.0, 0.0, 0.0, 0.0, 3439.0, 0.0, 0.0, 1539.0, 1072.0, 15933.0, 14185.0, 0.0, 0.0, 11290.0, 3817.0, 48239.95, 4158.0, 3813.0, 8933.0, 8933.0, 0.0, 7600.35, 0.0, 2658.0, 6408.0, 159455.9, 0.0, 50.0, 0.49, 6280.0, 999.0, 599.0, 3000.0, 0.0, 180.0, 160.0, 840.0, 9334.0, 0.0, 13446.0, 7448.73, 0.0, 0.0, 19754.0, 8139.5, 5173.0, 0.0, 0.0, 22849.5, 1768.0, 0.0, 0.0, 23623.0, 1750.0, 6239.0, 9688.0, 5493.0, 0.0, 0.0, 0.0, 5200.0, 11089.0, 0.0, 13790.0, 13790.0, 6593.0, 0.0, 0.0, 6646.0, 0.0, 0.0, 0.0, 2423.0, 0.0, 0.0, 14027.0, 3131.98, 22395.0, 0.0, 59740.0, 6377.55, 0.0, 0.0, 8768.0, 1876.0, 0.0, 0.0, 0.0, 0.0, 11273.0, 2502.0, 0.0, 5056.0, 0.0, 3124.0, 2117.96, 0.0, 0.0, 390.0, 2250.0, 17307.2, 0.0, 0.0, 0.0, 0.0, 4268.0, 11071.5, 918.0, 0.0, 0.0, 0.0, 169.0, 0.0, 0.0, 0.0, 0.0, 2875.0, 2450.0, 0.0, 0.0, 3191.9300000000003, 0.0, 219.0, 1499.0, 8138.0, 0.0, 341.2, 0.0, 0.0, 2539.0, 0.0, 259.5, 25654.600000000002, 0.0, 0.0, 0.0, 7292.0, 0.0, 0.0, 639.0, 0.0, 0.0, 0.0, 0.0, 0.0, 56983.0, 1298.0, 56983.0, 0.0, 0.0, 16805.0, 50194.05, 0.0, 57411.4, 0.0, 0.0, 9754.0, 0.0, 9622.66, 1400.0, 14507.4, 11737.0, 13764.0, 4742.0, 0.0, 0.0, 0.0, 0.0, 23250.15, 168213.08, 0.0, 8472.0, 12936.0, 0.0, 0.0, 0.0, 0.0, 4500.72, 8975.0, 13223.5, 10288.0, 21553.55, 25150.7, 1646.5, 0.0, 38902.649999999994, 33868.8, 0.0, 0.0, 0.0, 2445.4, 2911.0, 0.0, 3570.0, 0.0, 3883.0, 0.0, 5728.0, 10837.599999999999, 8109.0, 0.0, 1880.0, 0.0, 20821.0, 12749.0, 879.1, 39834.0, 0.0, 79468.27, 692.0, 0.0, 599.0, 23987.65, 0.0, 0.0, 3439.0, 9670.0, 11869.0, 2611.2, 0.0, 0.0, 0.0, 3113.0, 121041.67, 0.0, 0.0, 0.0, 0.0, 0.0, 4994.0, 54375.14, 0.0, 44839.130000000005, 141118.02, 23491.0, 1996.0, 0.0, 0.0, 0.0, 6231.0, 22203.35, 8651.0, 0.0, 0.0, 5427.4, 4938.0, 0.0, 0.0, 4789.0, 0.0, 0.0, 0.0, 0.0, 13087.5, 0.0, 0.0, 0.0, 0.0, 0.0, 0.0, 0.0, 4000.0, 0.0, 2365.0, 0.0, 0.0, 0.0, 0.0, 0.0, 492.25, 1599.0, 0.0, 0.0, 0.0, 0.0, 280.0, 0.0, 0.0, 33119.1, 0.0, 1043.0, 1043.0, 0.0, 2600.0, 0.0, 349.0, 0.0, 218.0, 0.0, 14382.65, 0.0, 0.0, 0.0, 699.0, 0.0, 0.0, 0.0, 0.0, 0.0, 0.0, 0.0, 0.0, 0.0, 0.0, 0.0, 718.0, 306.0, 0.0, 0.0, 100.0, 0.0, 0.0, 424.0, 3497.0, 0.0, 0.0, 0.0, 0.0, 0.0, 7056.0, 0.0, 0.0, 0.0, 0.0, 0.0, 0.0, 0.0, 0.0, 903.0, 9835.0, 0.0, 0.0, 240.0, 14484.0, 3180.0, 21349.4, 0.0, 899.0, 0.0, 0.0, 0.0, 5745.0, 44422.0, 0.0, 0.0, 123657.04, 0.0, 4499.0, 0.0, 9000.0, 0.0, 5910.0, 12476.0, 0.0, 0.0, 2481.0, 0.0, 11489.0, 0.0, 0.0, 0.0, 3300.0, 0.0, 0.0, 0.0, 1204.95, 9397.96, 19714.38, 33947.0, 41773.5, 9009.9, 1110.0, 1748.0, 250.0, 3516.0, 0.0, 0.0, 0.0, 0.0, 0.0, 10503.0, 0.0, 3700.0, 0.0, 0.0, 1908.0, 642.0, 320.0, 0.0, 20267.0, 0.0, 350.0, 0.0, 0.0, 5570.0, 0.0, 51300.350000000006, 0.0, 11516.0, 0.0, 1799.0, 0.0, 0.0, 0.0, 10995.0, 12794.14, 916.0, 0.0, 4696.0, 0.0, 687.0, 0.0, 0.0, 0.0, 0.0, 0.0, 12149.0, 359.0, 7311.0, 883.0, 1414.0, 0.0, 0.0, 244038.4, 0.0, 0.0, 1990.0, 0.0, 3299.0, 8316.0, 13343.0, 155762.25, 0.0, 13663.0, 1990.0, 0.0, 0.0, 0.0, 0.0, 0.0, 58288.5, 6749.0, 0.0, 0.0, 0.0, 0.0, 3039.5, 350.0, 0.0, 0.0, 6283.0, 33175.0, 0.0, 0.0, 0.0, 5637.0, 1675.0, 0.0, 5637.0, 2365.5, 0.0, 0.0, 4888.0, 4849.0, 0.0, 0.0, 2117.96, 0.0, 7700.120000000001, 0.0, 159.0, 0.0, 0.0, 0.0, 61190.0, 18838.0, 0.0, 14542.0, 585.0, 0.0, 0.0, 0.0, 500.0, 0.0, 0.0, 0.0, 5342.0, 25975.0, 3682.0, 4552.0, 0.0, 3746.0, 41824.5, 2199.0, 0.0, 3865.0, 0.0, 1499.0, 5995.0, 6008.0, 0.0, 0.0, 0.0, 1150.0, 150.0, 5642.5, 1999.0, 5138.0, 1999.0, 0.0, 0.0, 11271.0, 16805.0, 0.0, 15492.0, 0.0, 0.0, 6371.8, 8495.0, 0.0, 1510.0, 0.0, 2624.0, 1945.0, 28748.15, 1188.0, 0.0, 23850.5, 0.0, 329.0, 2457.0, 0.0, 114269.75, 0.0, 7493.5, 5635.0, 999.0, 27884.0, 0.0, 3048.0, 0.0, 5530.0, 0.0, 270.0, 0.0, 13308.0, 0.0, 0.0, 38209.299999999996, 0.0, 0.0, 0.0, 14819.0, 0.0, 928.0, 7433.0, 450.0, 0.0, 0.0, 0.0, 3058.0, 16227.0, 0.0, 22606.0, 30036.5, 0.0, 0.0, 350.0, 2074.5, 19879.5, 0.0, 0.0, 119.0, 7589.5, 41622.52, 1462.5, 37801.5, 1259.0, 0.0, 0.0, 0.0, 0.0, 8570.4, 0.0, 0.0, 18191.0, 0.0, 16339.15, 0.0, 0.0, 0.0, 0.0, 0.0, 0.0, 3549.0, 0.0, 0.0, 0.0, 0.0, 0.0, 1294.55, 0.0, 0.0, 7418.0, 0.0, 0.0, 20656.3, 7097.0, 7097.0, 0.0, 22766.0, 99540.0, 5049.0, 0.0, 6000.0, 23250.6, 0.0, 0.0, 0.0, 0.0, 0.0, 0.0, 0.0, 1048.0, 204.59, 0.0, 56480.4, 0.0, 4898.0, 0.0, 0.0, 0.0, 0.0, 0.0, 0.0, 0.0, 0.0, 2290.0, 3397.0, 2074.0, 48769.25, 0.0, 0.0, 0.0, 0.0, 16389.2, 0.0, 1986.0, 0.0, 0.0, 29.0, 0.0, 6271.0, 33968.5, 0.0, 8543.0, 0.0, 0.0, 79936.0, 0.0, 0.0, 1714.0, 0.0, 0.0, 12208.0, 24838.0, 0.0, 272.0, 4420.0, 2516.0, 4371.0, 0.0, 61738.47, 0.0, 14842.0, 0.0, 5773.0, 160.0, 11887.0, 92.0, 9500.0, 0.0, 5406.0, 5406.0, 0.0, 33199.0, 0.0, 0.0, 0.0, 0.0, 6640.0, 23032.0, 49385.05, 1980.0, 13031.6, 0.0, 1251.0, 0.0, 0.0, 0.0, 5297.0, 10630.0, 0.0, 0.0, 0.0, 0.0, 0.0, 6973.25, 0.0, 0.0, 3000.0, 740.0, 4890.0, 4890.0, 0.0, 8612.0, 23509.0, 0.0, 0.0, 0.0, 6294.9400000000005, 0.0, 0.0, 2100.0, 40.0, 4438.0, 0.0, 0.0, 1620.0, 3757.0, 3822.5, 0.0, 4849.0, 126.5, 0.0, 3382.0, 0.0, 346.0, 300.0, 0.0, 0.0, 439.96, 32669.0, 0.0, 20239.5, 1882.0, 3279.0, 0.0, 0.0, 20655.0, 0.0, 0.0, 0.0, 3695.0, 7545.0, 18638.95, 37898.0, 0.0, 2519.0, 25234.0, 36443.0, 12338.949999999999, 0.0, 47318.6, 4026.9, 0.0, 0.0, 0.0, 0.0, 14772.0, 615.5, 0.0, 0.0, 0.0, 0.0, 0.0, 0.0, 134387.95, 0.0, 42320.97, 60825.65, 652.0, 799.0, 0.0, 0.0, 4793.0, 5804.0, 10206.0, 0.0, 0.0, 102606.56, 0.0, 1418.0, 12373.9, 8301.5, 7360.0, 24871.5, 320.0, 997.2, 19184.5, 0.0, 10572.0, 0.0, 0.0, 0.0, 1690.0, 0.0, 0.0, 17017.0, 0.0, 940.0, 324.0, 0.0, 4487.0, 3998.0, 18782.739999999998, 0.0, 0.0, 14578.0, 613.0, 200.0, 0.0, 0.0, 0.0, 0.0, 0.0, 0.0, 0.0, 0.0, 0.0, 0.0, 85023.85, 0.0, 0.0, 3193.1, 0.0, 0.0, 32215.2, 7042.0, 3697.0, 0.0, 2192.5, 1236.0, 25941.8, 23485.0, 0.0, 12691.0, 4328.0, 0.0, 3054.0, 0.0, 0.0, 0.0, 0.0, 20889.0, 0.0, 0.0, 180.0, 2079.0, 37765.35, 374.0, 0.0, 0.0, 0.0, 0.0, 0.0, 0.0, 0.0, 0.0, 0.0, 1738.0, 1738.0, 29190.0, 6266.0, 7169.0, 11054.0, 0.0, 0.0, 0.0, 0.0, 10895.0, 0.0, 2120.0, 1499.0, 398.0, 95.0, 0.0, 0.0, 0.0, 531.0, 0.0, 28430.96, 32074.0, 688.01, 3152.0, 6609.59, 0.0, 0.0, 0.0, 74836.0, 43030.5, 0.0, 900.0, 0.0, 0.0, 14283.0, 3594.0, 36367.0, 0.0, 0.0, 370.0, 5995.0, 3240.0, 88727.1, 0.0, 3677.8, 20329.0, 30058.0, 5694.0, 3220.0, 23544.1, 123.0, 57979.0, 0.0, 0.0, 21231.0, 0.0, 0.0, 31119.0, 0.0, 1302.25, 0.0, 49869.5, 3255.0, 2588.4, 4200.0, 0.0, 0.0, 0.0, 0.0, 0.0, 0.0, 21374.5, 2843.8, 0.0, 0.0, 0.0, 0.0, 0.0, 0.0, 0.0, 32659.4, 0.0, 2000.0, 0.0, 499.0, 12020.5]}],\n",
              "                        {\"height\": 500, \"template\": {\"data\": {\"bar\": [{\"error_x\": {\"color\": \"#2a3f5f\"}, \"error_y\": {\"color\": \"#2a3f5f\"}, \"marker\": {\"line\": {\"color\": \"#E5ECF6\", \"width\": 0.5}}, \"type\": \"bar\"}], \"barpolar\": [{\"marker\": {\"line\": {\"color\": \"#E5ECF6\", \"width\": 0.5}}, \"type\": \"barpolar\"}], \"carpet\": [{\"aaxis\": {\"endlinecolor\": \"#2a3f5f\", \"gridcolor\": \"white\", \"linecolor\": \"white\", \"minorgridcolor\": \"white\", \"startlinecolor\": \"#2a3f5f\"}, \"baxis\": {\"endlinecolor\": \"#2a3f5f\", \"gridcolor\": \"white\", \"linecolor\": \"white\", \"minorgridcolor\": \"white\", \"startlinecolor\": \"#2a3f5f\"}, \"type\": \"carpet\"}], \"choropleth\": [{\"colorbar\": {\"outlinewidth\": 0, \"ticks\": \"\"}, \"type\": \"choropleth\"}], \"contour\": [{\"colorbar\": {\"outlinewidth\": 0, \"ticks\": \"\"}, \"colorscale\": [[0.0, \"#0d0887\"], [0.1111111111111111, \"#46039f\"], [0.2222222222222222, \"#7201a8\"], [0.3333333333333333, \"#9c179e\"], [0.4444444444444444, \"#bd3786\"], [0.5555555555555556, \"#d8576b\"], [0.6666666666666666, \"#ed7953\"], [0.7777777777777778, \"#fb9f3a\"], [0.8888888888888888, \"#fdca26\"], [1.0, \"#f0f921\"]], \"type\": \"contour\"}], \"contourcarpet\": [{\"colorbar\": {\"outlinewidth\": 0, \"ticks\": \"\"}, \"type\": \"contourcarpet\"}], \"heatmap\": [{\"colorbar\": {\"outlinewidth\": 0, \"ticks\": \"\"}, \"colorscale\": [[0.0, \"#0d0887\"], [0.1111111111111111, \"#46039f\"], [0.2222222222222222, \"#7201a8\"], [0.3333333333333333, \"#9c179e\"], [0.4444444444444444, \"#bd3786\"], [0.5555555555555556, \"#d8576b\"], [0.6666666666666666, \"#ed7953\"], [0.7777777777777778, \"#fb9f3a\"], [0.8888888888888888, \"#fdca26\"], [1.0, \"#f0f921\"]], \"type\": \"heatmap\"}], \"heatmapgl\": [{\"colorbar\": {\"outlinewidth\": 0, \"ticks\": \"\"}, \"colorscale\": [[0.0, \"#0d0887\"], [0.1111111111111111, \"#46039f\"], [0.2222222222222222, \"#7201a8\"], [0.3333333333333333, \"#9c179e\"], [0.4444444444444444, \"#bd3786\"], [0.5555555555555556, \"#d8576b\"], [0.6666666666666666, \"#ed7953\"], [0.7777777777777778, \"#fb9f3a\"], [0.8888888888888888, \"#fdca26\"], [1.0, \"#f0f921\"]], \"type\": \"heatmapgl\"}], \"histogram\": [{\"marker\": {\"colorbar\": {\"outlinewidth\": 0, \"ticks\": \"\"}}, \"type\": \"histogram\"}], \"histogram2d\": [{\"colorbar\": {\"outlinewidth\": 0, \"ticks\": \"\"}, \"colorscale\": [[0.0, \"#0d0887\"], [0.1111111111111111, \"#46039f\"], [0.2222222222222222, \"#7201a8\"], [0.3333333333333333, \"#9c179e\"], [0.4444444444444444, \"#bd3786\"], [0.5555555555555556, \"#d8576b\"], [0.6666666666666666, \"#ed7953\"], [0.7777777777777778, \"#fb9f3a\"], [0.8888888888888888, \"#fdca26\"], [1.0, \"#f0f921\"]], \"type\": \"histogram2d\"}], \"histogram2dcontour\": [{\"colorbar\": {\"outlinewidth\": 0, \"ticks\": \"\"}, \"colorscale\": [[0.0, \"#0d0887\"], [0.1111111111111111, \"#46039f\"], [0.2222222222222222, \"#7201a8\"], [0.3333333333333333, \"#9c179e\"], [0.4444444444444444, \"#bd3786\"], [0.5555555555555556, \"#d8576b\"], [0.6666666666666666, \"#ed7953\"], [0.7777777777777778, \"#fb9f3a\"], [0.8888888888888888, \"#fdca26\"], [1.0, \"#f0f921\"]], \"type\": \"histogram2dcontour\"}], \"mesh3d\": [{\"colorbar\": {\"outlinewidth\": 0, \"ticks\": \"\"}, \"type\": \"mesh3d\"}], \"parcoords\": [{\"line\": {\"colorbar\": {\"outlinewidth\": 0, \"ticks\": \"\"}}, \"type\": \"parcoords\"}], \"pie\": [{\"automargin\": true, \"type\": \"pie\"}], \"scatter\": [{\"marker\": {\"colorbar\": {\"outlinewidth\": 0, \"ticks\": \"\"}}, \"type\": \"scatter\"}], \"scatter3d\": [{\"line\": {\"colorbar\": {\"outlinewidth\": 0, \"ticks\": \"\"}}, \"marker\": {\"colorbar\": {\"outlinewidth\": 0, \"ticks\": \"\"}}, \"type\": \"scatter3d\"}], \"scattercarpet\": [{\"marker\": {\"colorbar\": {\"outlinewidth\": 0, \"ticks\": \"\"}}, \"type\": \"scattercarpet\"}], \"scattergeo\": [{\"marker\": {\"colorbar\": {\"outlinewidth\": 0, \"ticks\": \"\"}}, \"type\": \"scattergeo\"}], \"scattergl\": [{\"marker\": {\"colorbar\": {\"outlinewidth\": 0, \"ticks\": \"\"}}, \"type\": \"scattergl\"}], \"scattermapbox\": [{\"marker\": {\"colorbar\": {\"outlinewidth\": 0, \"ticks\": \"\"}}, \"type\": \"scattermapbox\"}], \"scatterpolar\": [{\"marker\": {\"colorbar\": {\"outlinewidth\": 0, \"ticks\": \"\"}}, \"type\": \"scatterpolar\"}], \"scatterpolargl\": [{\"marker\": {\"colorbar\": {\"outlinewidth\": 0, \"ticks\": \"\"}}, \"type\": \"scatterpolargl\"}], \"scatterternary\": [{\"marker\": {\"colorbar\": {\"outlinewidth\": 0, \"ticks\": \"\"}}, \"type\": \"scatterternary\"}], \"surface\": [{\"colorbar\": {\"outlinewidth\": 0, \"ticks\": \"\"}, \"colorscale\": [[0.0, \"#0d0887\"], [0.1111111111111111, \"#46039f\"], [0.2222222222222222, \"#7201a8\"], [0.3333333333333333, \"#9c179e\"], [0.4444444444444444, \"#bd3786\"], [0.5555555555555556, \"#d8576b\"], [0.6666666666666666, \"#ed7953\"], [0.7777777777777778, \"#fb9f3a\"], [0.8888888888888888, \"#fdca26\"], [1.0, \"#f0f921\"]], \"type\": \"surface\"}], \"table\": [{\"cells\": {\"fill\": {\"color\": \"#EBF0F8\"}, \"line\": {\"color\": \"white\"}}, \"header\": {\"fill\": {\"color\": \"#C8D4E3\"}, \"line\": {\"color\": \"white\"}}, \"type\": \"table\"}]}, \"layout\": {\"annotationdefaults\": {\"arrowcolor\": \"#2a3f5f\", \"arrowhead\": 0, \"arrowwidth\": 1}, \"coloraxis\": {\"colorbar\": {\"outlinewidth\": 0, \"ticks\": \"\"}}, \"colorscale\": {\"diverging\": [[0, \"#8e0152\"], [0.1, \"#c51b7d\"], [0.2, \"#de77ae\"], [0.3, \"#f1b6da\"], [0.4, \"#fde0ef\"], [0.5, \"#f7f7f7\"], [0.6, \"#e6f5d0\"], [0.7, \"#b8e186\"], [0.8, \"#7fbc41\"], [0.9, \"#4d9221\"], [1, \"#276419\"]], \"sequential\": [[0.0, \"#0d0887\"], [0.1111111111111111, \"#46039f\"], [0.2222222222222222, \"#7201a8\"], [0.3333333333333333, \"#9c179e\"], [0.4444444444444444, \"#bd3786\"], [0.5555555555555556, \"#d8576b\"], [0.6666666666666666, \"#ed7953\"], [0.7777777777777778, \"#fb9f3a\"], [0.8888888888888888, \"#fdca26\"], [1.0, \"#f0f921\"]], \"sequentialminus\": [[0.0, \"#0d0887\"], [0.1111111111111111, \"#46039f\"], [0.2222222222222222, \"#7201a8\"], [0.3333333333333333, \"#9c179e\"], [0.4444444444444444, \"#bd3786\"], [0.5555555555555556, \"#d8576b\"], [0.6666666666666666, \"#ed7953\"], [0.7777777777777778, \"#fb9f3a\"], [0.8888888888888888, \"#fdca26\"], [1.0, \"#f0f921\"]]}, \"colorway\": [\"#636efa\", \"#EF553B\", \"#00cc96\", \"#ab63fa\", \"#FFA15A\", \"#19d3f3\", \"#FF6692\", \"#B6E880\", \"#FF97FF\", \"#FECB52\"], \"font\": {\"color\": \"#2a3f5f\"}, \"geo\": {\"bgcolor\": \"white\", \"lakecolor\": \"white\", \"landcolor\": \"#E5ECF6\", \"showlakes\": true, \"showland\": true, \"subunitcolor\": \"white\"}, \"hoverlabel\": {\"align\": \"left\"}, \"hovermode\": \"closest\", \"mapbox\": {\"style\": \"light\"}, \"paper_bgcolor\": \"white\", \"plot_bgcolor\": \"#E5ECF6\", \"polar\": {\"angularaxis\": {\"gridcolor\": \"white\", \"linecolor\": \"white\", \"ticks\": \"\"}, \"bgcolor\": \"#E5ECF6\", \"radialaxis\": {\"gridcolor\": \"white\", \"linecolor\": \"white\", \"ticks\": \"\"}}, \"scene\": {\"xaxis\": {\"backgroundcolor\": \"#E5ECF6\", \"gridcolor\": \"white\", \"gridwidth\": 2, \"linecolor\": \"white\", \"showbackground\": true, \"ticks\": \"\", \"zerolinecolor\": \"white\"}, \"yaxis\": {\"backgroundcolor\": \"#E5ECF6\", \"gridcolor\": \"white\", \"gridwidth\": 2, \"linecolor\": \"white\", \"showbackground\": true, \"ticks\": \"\", \"zerolinecolor\": \"white\"}, \"zaxis\": {\"backgroundcolor\": \"#E5ECF6\", \"gridcolor\": \"white\", \"gridwidth\": 2, \"linecolor\": \"white\", \"showbackground\": true, \"ticks\": \"\", \"zerolinecolor\": \"white\"}}, \"shapedefaults\": {\"line\": {\"color\": \"#2a3f5f\"}}, \"ternary\": {\"aaxis\": {\"gridcolor\": \"white\", \"linecolor\": \"white\", \"ticks\": \"\"}, \"baxis\": {\"gridcolor\": \"white\", \"linecolor\": \"white\", \"ticks\": \"\"}, \"bgcolor\": \"#E5ECF6\", \"caxis\": {\"gridcolor\": \"white\", \"linecolor\": \"white\", \"ticks\": \"\"}}, \"title\": {\"x\": 0.05}, \"xaxis\": {\"automargin\": true, \"gridcolor\": \"white\", \"linecolor\": \"white\", \"ticks\": \"\", \"title\": {\"standoff\": 15}, \"zerolinecolor\": \"white\", \"zerolinewidth\": 2}, \"yaxis\": {\"automargin\": true, \"gridcolor\": \"white\", \"linecolor\": \"white\", \"ticks\": \"\", \"title\": {\"standoff\": 15}, \"zerolinecolor\": \"white\", \"zerolinewidth\": 2}}}, \"width\": 1300, \"xaxis\": {\"title\": {\"text\": \"\\u0415\\u0434\\u0430\"}}, \"yaxis\": {\"title\": {\"text\": \"\\u041e\\u0434\\u0435\\u0436\\u0434\\u0430\"}}},\n",
              "                        {\"responsive\": true}\n",
              "                    ).then(function(){\n",
              "                            \n",
              "var gd = document.getElementById('eae53cb8-0ac2-466a-9137-eae300b7fc25');\n",
              "var x = new MutationObserver(function (mutations, observer) {{\n",
              "        var display = window.getComputedStyle(gd).display;\n",
              "        if (!display || display === 'none') {{\n",
              "            console.log([gd, 'removed!']);\n",
              "            Plotly.purge(gd);\n",
              "            observer.disconnect();\n",
              "        }}\n",
              "}});\n",
              "\n",
              "// Listen for the removal of the full notebook cells\n",
              "var notebookContainer = gd.closest('#notebook-container');\n",
              "if (notebookContainer) {{\n",
              "    x.observe(notebookContainer, {childList: true});\n",
              "}}\n",
              "\n",
              "// Listen for the clearing of the current output cell\n",
              "var outputEl = gd.closest('.output');\n",
              "if (outputEl) {{\n",
              "    x.observe(outputEl, {childList: true});\n",
              "}}\n",
              "\n",
              "                        })\n",
              "                };\n",
              "                \n",
              "            </script>\n",
              "        </div>\n",
              "</body>\n",
              "</html>"
            ]
          },
          "metadata": {}
        }
      ]
    },
    {
      "cell_type": "code",
      "source": [
        "X = t.loc[:, ['Еда', 'Транспорт']].values\n",
        "\n",
        "wcss = []\n",
        "for i in range(1,11):\n",
        "  kmeans = KMeans(n_clusters=i, init='k-means++', random_state=42)\n",
        "  kmeans.fit(X)\n",
        "  wcss.append(kmeans.inertia_)\n",
        "plt.plot(range(1,11), wcss)\n",
        "plt.show()"
      ],
      "metadata": {
        "colab": {
          "base_uri": "https://localhost:8080/",
          "height": 276
        },
        "id": "xuYioQgzKGME",
        "outputId": "98ec8495-6ae7-4c22-fba8-cc900ff7ba19"
      },
      "execution_count": null,
      "outputs": [
        {
          "output_type": "display_data",
          "data": {
            "image/png": "[encoded data removed]",
            "text/plain": [
              "<Figure size 432x288 with 1 Axes>"
            ]
          },
          "metadata": {
            "needs_background": "light"
          }
        }
      ]
    },
    {
      "cell_type": "code",
      "source": [
        "hc = KMeans(n_clusters = 4, init = 'k-means++', max_iter = 300, n_init = 10, random_state = 42)\n",
        "y_hc = hc.fit(X)\n",
        "\n",
        "trace1 = go.Scatter(x=t['Еда'], y=t['Транспорт'], mode='markers',\n",
        "     marker=dict(\n",
        "        color = y_hc.labels_, \n",
        "        size= 10,\n",
        "        line=dict(\n",
        "            color= y_hc.labels_,\n",
        "            width= 12\n",
        "        ),\n",
        "        opacity=0.8\n",
        "     ))\n",
        "\n",
        "qw = [trace1]\n",
        "\n",
        "layout = go.Layout(\n",
        "    height = 500,\n",
        "    width = 1300,\n",
        "    xaxis_title=\"Еда\",\n",
        "    yaxis_title=\"Транспорт\",\n",
        ")\n",
        "\n",
        "fig = go.Figure(data = qw, layout = layout)\n",
        "py.iplot(fig)"
      ],
      "metadata": {
        "colab": {
          "base_uri": "https://localhost:8080/",
          "height": 537
        },
        "id": "jM7yh7rFKNel",
        "outputId": "8958abe4-55c3-4b12-cdc3-930b49681aec"
      },
      "execution_count": null,
      "outputs": [
        {
          "output_type": "display_data",
          "data": {
            "text/html": [
              "<html>\n",
              "<head><meta charset=\"utf-8\" /></head>\n",
              "<body>\n",
              "    <div>\n",
              "            <script src=\"https://cdnjs.cloudflare.com/ajax/libs/mathjax/2.7.5/MathJax.js?config=TeX-AMS-MML_SVG\"></script><script type=\"text/javascript\">if (window.MathJax) {MathJax.Hub.Config({SVG: {font: \"STIX-Web\"}});}</script>\n",
              "                <script type=\"text/javascript\">window.PlotlyConfig = {MathJaxConfig: 'local'};</script>\n",
              "        <script src=\"https://cdn.plot.ly/plotly-latest.min.js\"></script>    \n",
              "            <div id=\"b91d1232-15b0-4199-bc03-520bb7af70be\" class=\"plotly-graph-div\" style=\"height:500px; width:1300px;\"></div>\n",
              "            <script type=\"text/javascript\">\n",
              "                \n",
              "                    window.PLOTLYENV=window.PLOTLYENV || {};\n",
              "                    \n",
              "                if (document.getElementById(\"b91d1232-15b0-4199-bc03-520bb7af70be\")) {\n",
              "                    Plotly.newPlot(\n",
              "                        'b91d1232-15b0-4199-bc03-520bb7af70be',\n",
              "                        [{\"marker\": {\"color\": [0, 1, 0, 0, 0, 0, 0, 0, 0, 0, 0, 0, 0, 0, 0, 0, 0, 0, 1, 0, 0, 0, 0, 0, 0, 0, 0, 0, 0, 0, 0, 0, 0, 0, 0, 0, 0, 0, 0, 0, 0, 0, 0, 0, 0, 0, 0, 0, 0, 0, 0, 0, 0, 0, 0, 0, 0, 0, 0, 0, 1, 0, 0, 0, 0, 0, 0, 0, 0, 0, 0, 0, 0, 0, 0, 0, 1, 0, 0, 0, 0, 0, 0, 0, 0, 0, 0, 0, 0, 0, 1, 0, 0, 0, 0, 0, 0, 1, 0, 0, 0, 0, 0, 0, 0, 0, 0, 0, 0, 0, 0, 0, 0, 0, 0, 0, 0, 0, 0, 0, 0, 0, 0, 0, 0, 0, 0, 0, 0, 0, 0, 0, 0, 0, 0, 0, 0, 0, 0, 1, 1, 0, 0, 0, 0, 1, 0, 0, 0, 0, 0, 0, 0, 0, 0, 0, 0, 0, 0, 0, 0, 0, 1, 0, 0, 0, 0, 0, 0, 0, 0, 1, 0, 0, 0, 0, 0, 0, 0, 0, 0, 0, 3, 0, 0, 0, 0, 0, 0, 1, 0, 0, 0, 0, 0, 0, 0, 0, 0, 0, 0, 0, 0, 0, 1, 0, 0, 0, 0, 0, 0, 0, 0, 0, 0, 0, 1, 0, 0, 0, 0, 0, 0, 0, 0, 0, 2, 0, 0, 0, 0, 0, 0, 0, 0, 0, 0, 0, 0, 0, 0, 0, 0, 0, 0, 0, 0, 0, 0, 0, 0, 0, 0, 0, 0, 0, 0, 0, 0, 0, 0, 0, 0, 0, 0, 0, 0, 0, 0, 0, 0, 0, 0, 0, 0, 0, 0, 0, 0, 0, 0, 0, 0, 0, 0, 0, 0, 3, 0, 0, 0, 0, 0, 0, 0, 0, 0, 0, 0, 0, 0, 0, 0, 0, 0, 0, 0, 1, 0, 0, 0, 0, 0, 0, 0, 0, 0, 0, 0, 0, 0, 0, 0, 0, 0, 0, 0, 0, 0, 0, 0, 0, 0, 0, 0, 0, 0, 0, 3, 1, 0, 0, 0, 0, 0, 0, 0, 0, 0, 0, 1, 0, 0, 0, 0, 1, 0, 0, 0, 0, 0, 0, 0, 0, 1, 0, 0, 0, 0, 0, 0, 0, 0, 0, 0, 0, 0, 1, 0, 0, 0, 0, 0, 0, 0, 0, 0, 0, 0, 0, 0, 0, 1, 0, 0, 0, 0, 0, 0, 0, 0, 0, 0, 1, 0, 1, 0, 0, 0, 0, 0, 0, 1, 0, 0, 0, 0, 0, 0, 0, 0, 0, 0, 0, 1, 0, 0, 0, 0, 0, 0, 0, 0, 0, 0, 0, 0, 0, 0, 0, 0, 0, 0, 0, 0, 0, 0, 0, 0, 0, 0, 0, 0, 0, 0, 0, 0, 0, 0, 0, 0, 0, 0, 0, 0, 0, 0, 0, 0, 0, 0, 0, 1, 0, 0, 0, 3, 0, 1, 0, 0, 1, 0, 0, 1, 1, 1, 0, 1, 0, 0, 3, 0, 3, 0, 0, 0, 0, 0, 0, 0, 1, 0, 0, 0, 0, 0, 0, 0, 0, 1, 0, 0, 0, 1, 0, 0, 0, 0, 0, 0, 0, 0, 0, 0, 0, 1, 0, 0, 0, 0, 0, 0, 0, 0, 0, 0, 0, 3, 0, 0, 0, 0, 0, 0, 1, 0, 0, 0, 0, 1, 0, 0, 0, 1, 0, 0, 0, 0, 0, 0, 0, 0, 0, 0, 0, 0, 0, 0, 0, 1, 0, 0, 0, 0, 0, 0, 0, 0, 0, 0, 0, 0, 0, 0, 0, 0, 0, 1, 0, 0, 1, 1, 0, 0, 0, 0, 0, 1, 0, 0, 0, 0, 1, 0, 0, 1, 0, 0, 0, 1, 0, 1, 3, 1, 1, 1, 0, 0, 0, 0, 0, 0, 0, 0, 0, 1, 0, 1, 0, 0, 0, 0, 0, 0, 0, 0, 0, 0, 0, 0, 0, 0, 0, 0, 0, 0, 0, 0, 0, 0, 0, 0, 0, 1, 0, 0, 0, 3, 1, 0, 0, 0, 0, 0, 0, 0, 0, 0, 0, 1, 0, 0, 0, 0, 0, 0, 0, 0, 0, 0, 1, 0, 0, 1, 0, 0, 0, 0, 0, 0, 0, 0, 1, 0, 0, 0, 1, 3, 0, 0, 0, 0, 0, 0, 3, 1, 0, 0, 0, 0, 0, 0, 0, 0, 0, 0, 1, 0, 0, 0, 0, 0, 0, 0, 0, 0, 0, 0, 0, 0, 1, 0, 0, 0, 1, 0, 0, 0, 0, 1, 0, 0, 0, 0, 0, 1, 0, 0, 0, 0, 0, 0, 1, 0, 0, 0, 1, 1, 3, 0, 0, 1, 0, 0, 0, 0, 0, 1, 0, 0, 0, 0, 0, 0, 0, 0, 0, 0, 0, 0, 0, 1, 0, 0, 1, 0, 0, 0, 0, 0, 0, 0, 1, 0, 1, 0, 0, 0, 0, 0, 0, 0, 0, 0, 1, 0, 0, 0, 0, 0, 0, 0, 0, 0, 0, 0, 0, 0, 0, 0, 1, 0, 0, 0, 0, 0, 0, 0, 0, 0, 0, 0, 1, 0, 0, 0, 0, 0, 0, 0, 0, 0, 0, 0, 0, 0, 0, 0, 1, 0, 0, 0, 0, 0, 1, 1, 0, 0, 0, 0, 0, 1, 0, 0, 0, 0, 0, 3, 1, 0, 0, 0, 1, 0, 0, 0, 0, 1, 0, 0, 1, 1, 0, 0, 0, 0, 0, 0, 1, 1, 1, 0, 0, 0, 1, 0, 0, 0, 0, 0, 0, 1, 1, 0, 0, 0, 0, 1, 0, 1, 0, 0, 0, 0, 0, 1, 0, 0, 0, 0, 0, 0, 0, 0, 0, 0, 0, 1, 0, 0, 1, 0, 0, 0, 1, 0, 0, 0, 0, 0, 0, 3, 0, 0, 0, 1, 0, 0, 0, 3, 0, 1, 0, 0, 1, 0, 0, 0, 3, 0, 0, 0, 0, 1, 0, 0, 0, 0, 0, 0, 0, 0, 0, 0, 0, 0, 1, 0, 0, 0, 0, 0, 0, 0, 3, 1, 0, 0, 0, 0, 3, 0, 1, 1, 0, 0, 0, 0, 0, 0, 0, 0, 1, 0, 0, 1, 0, 0, 0, 1, 0, 1, 0, 0, 0, 1, 0, 0, 0, 0, 1, 0, 0, 0, 0, 0, 0, 0, 0, 0, 0, 3, 1, 0, 0, 0, 1, 0, 0, 0, 0, 1, 0, 1, 1, 1, 0, 0, 0, 0, 0, 0, 0, 0, 0, 1, 0, 0, 0, 1, 0, 0, 0, 3, 0, 0, 0, 0, 0, 0, 0, 0, 0, 0, 0, 3, 1, 0, 1, 0, 0, 1, 0, 0, 1, 0, 1, 0, 0, 0, 0, 0, 1, 1, 0, 0, 0, 0, 0, 0, 0, 0, 0, 1, 0, 1, 0, 0, 0, 0, 0, 0, 0, 1, 0, 0, 0, 0, 0, 0, 0, 0, 0, 0, 0, 0, 1, 0, 0, 0, 0, 0, 0, 1, 0, 0, 0, 0, 1, 0, 0, 0, 0, 0, 0, 0, 0, 0, 0, 0, 0, 0, 0, 1, 0, 0, 1, 0, 0, 3, 0, 0, 0, 0, 0, 0, 0, 0, 0, 0, 1, 0, 0, 0, 0, 0, 0, 1, 0, 0, 0, 1, 1, 0, 0, 0, 0, 0, 0, 0, 0, 0, 0, 0, 1, 0, 0, 0, 0, 0, 0, 0, 0, 0, 0, 0, 0, 0, 0, 0, 0, 0, 0, 0, 0, 0, 0, 0, 0, 0, 0, 0, 0, 0, 0, 0, 0, 0, 0, 0, 0, 1, 0, 0, 1, 0, 0, 0, 0, 1, 0, 0, 0, 0, 0, 0, 0, 0, 0, 0, 0, 0, 0, 0, 0, 0, 0, 0, 1, 1, 0, 0, 0, 0, 0, 0, 0, 0, 0, 0, 0, 0, 1, 1, 3, 1, 0, 0, 0, 0, 0, 0, 0, 0, 1, 0, 1, 0, 0, 0, 1, 0, 0, 0, 0, 0, 0, 1, 0, 0, 0, 0, 0, 0, 0, 0, 0, 0, 0, 0, 0, 0, 0, 0, 0, 0, 0, 0, 1, 0, 0, 0, 0, 0, 0, 0, 0, 0, 0, 0, 1, 0, 0, 1, 1, 0, 0, 0, 0, 0, 0, 0, 0, 0, 0, 0, 0, 0, 0, 0, 0, 1, 1, 0, 0, 1, 1, 0, 0, 1, 0, 0, 0, 0, 0, 0, 1, 3, 0, 1, 0, 1, 1, 0, 1, 1, 1, 0, 0, 0, 0, 0, 0, 0, 0, 1, 0, 1, 0, 0, 0, 0, 0, 0, 0, 0, 0, 0, 0, 0, 0, 1, 0, 0, 1, 0, 0, 1, 1, 1, 0, 0, 1, 1, 0, 1, 0, 0, 0, 3, 0, 0, 0, 0, 0, 0, 0, 0, 0, 0, 0, 1, 0, 1, 1, 0, 0, 1, 0, 0, 0, 0, 1, 0, 0, 0, 3, 0, 0, 0, 1, 0, 0, 0, 0, 0, 0, 0, 0, 0, 0, 0, 0, 0, 0, 0, 0, 0, 0, 0, 0, 0, 0, 3, 0, 0, 0, 0, 1, 0, 0, 0, 0, 1, 0, 0, 0, 0, 0, 0, 0, 0, 0, 0, 0, 0, 0, 0, 0, 1, 0, 0, 0, 0, 0, 0, 0, 0, 0, 0, 0, 0, 0, 0, 0, 0, 0, 0, 0, 0, 0, 0, 0, 0, 0, 0, 1, 0, 0, 0, 0, 0, 0, 0, 0, 0, 0, 0, 0, 3, 0, 3, 0, 0, 0, 0, 0, 1, 0, 0, 0, 0, 0, 0, 0, 0, 0, 0, 0, 0, 0, 0, 1, 1, 0, 1, 0, 0, 0, 0, 0, 1, 0, 1, 0, 0, 0, 0, 0, 0, 1, 0, 0, 0, 0, 1, 0, 0, 0, 0, 0, 0, 0, 0, 0, 0, 0, 1, 0, 0, 0, 0, 1, 0, 0, 0, 1, 0, 0, 0, 1, 0, 1, 0, 0, 0, 0, 0, 0, 0, 0, 0, 0, 0, 1, 0, 1, 1, 0, 0, 0, 0, 0, 0, 1, 1, 0, 0, 0, 0, 0, 0, 1, 0, 0, 0, 0, 0, 0, 0, 0, 0, 0, 0, 0, 0, 0, 0, 0, 0, 0, 0, 0, 1, 0, 0, 0, 0, 0, 0, 0, 0, 3, 0, 0, 0, 0, 1, 0, 0, 0, 0, 0, 0, 0, 0, 0, 0, 0, 0, 0, 0, 0, 0, 0, 0, 0, 0, 0, 0, 0, 0, 0, 0, 0, 0, 0, 0, 0, 0, 0, 0, 0, 0, 0, 0, 0, 0, 0, 0, 0, 0, 0, 0, 0, 0, 0, 1, 1, 1, 0, 0, 0, 0, 0, 0, 1, 0, 0, 0, 0, 0, 0, 0, 0, 0, 0, 0, 0, 0, 0, 0, 0, 0, 0, 1, 0, 0, 0, 0, 0, 1, 0, 1, 0, 0, 0, 0, 0, 0, 0, 0, 0, 0, 0, 0, 0, 0, 0, 0, 0, 0, 0, 1, 0, 0, 0, 0, 0, 0, 0, 0, 0, 0, 1, 0, 0, 0, 1, 0, 0, 0, 0, 0, 0, 0, 0, 0, 0, 0, 0, 0, 0, 0, 1, 0, 0, 1, 0, 0, 0, 0, 0, 0, 0, 3, 0, 0, 0, 0, 0, 0, 0, 0, 0, 1, 0, 0, 0, 0, 0, 0, 0, 0, 0, 0, 0, 0, 0, 0, 0, 0, 0, 0, 0, 0, 0, 0, 0, 0, 0, 0, 0, 0, 0, 0, 0, 0, 3, 0, 0, 0, 0, 0, 0, 0, 0, 0, 0, 0, 0, 1, 0, 0, 0, 0, 0, 0, 0, 0, 0, 0, 0, 1, 0, 0, 0, 0, 0, 0, 0, 1, 0, 0, 0, 1, 0, 0, 0, 0, 0, 0, 1, 0, 0, 0, 0, 0, 1, 0, 0, 0, 0, 0, 0, 0, 3, 0, 1, 0, 1, 1, 0, 0, 0, 0, 0, 0, 0, 0, 0, 0, 1, 0, 0, 0, 1, 0, 0, 0, 0, 0, 0, 0, 0, 0, 0, 1, 0, 0, 0, 0, 0, 1, 0, 0, 0, 0, 0, 0, 1, 0, 0, 0, 0, 0, 0, 0, 0, 0, 0, 1, 0, 0, 0, 0, 0, 0, 0, 0, 0, 0, 0, 1, 0, 0, 0, 0, 0, 0, 0, 0, 0, 0, 1, 0, 0, 0, 1, 1, 0, 0, 0, 0, 0, 0, 0, 0, 0, 0, 1, 0, 0, 0, 0, 0, 0, 0, 0, 0, 0, 0, 0, 1, 1, 0, 0, 0, 0, 1, 0, 0, 0, 0, 0, 0, 0, 1, 0, 0, 0, 0, 1, 0, 0, 0, 0, 0, 0, 0, 0, 0, 0, 0, 1, 0, 0, 0, 1, 0, 0, 0, 0, 0, 0, 0, 1, 1, 0, 0, 0, 0, 0, 0, 0, 1, 1, 0, 1, 0, 0, 0, 0, 0, 0, 1, 0, 0, 0, 0, 0, 1, 0, 0, 0, 0, 0, 0, 0, 0, 0, 0, 0, 0, 1, 0, 0, 0, 0, 0, 0, 0, 0, 0, 0, 0, 0, 0, 0, 0, 0, 0, 0, 0, 0, 0, 0, 0, 1, 0, 0, 0, 0, 0, 0, 0, 0, 0, 0, 1, 1, 0, 0, 1, 1, 0, 0, 1, 0, 0, 0, 0, 0, 0, 0, 0, 0, 0, 0, 0, 0, 3, 0, 1, 1, 0, 0, 0, 0, 0, 0, 0, 0, 0, 1, 0, 1, 0, 0, 0, 0, 1, 0, 0, 0, 0, 0, 0, 0, 0, 0, 0, 0, 0, 0, 0, 0, 0, 0, 1, 0, 0, 0, 0, 0, 1, 0, 0, 0, 0, 0, 0, 0, 0, 0, 1, 0, 0, 0, 0, 0, 1, 0, 0, 0, 0, 0, 1, 1, 0, 1, 0, 0, 0, 0, 0, 0, 0, 1, 0, 0, 0, 0, 1, 0, 0, 0, 0, 0, 0, 0, 0, 0, 0, 0, 0, 1, 0, 0, 0, 0, 0, 0, 0, 1, 0, 0, 0, 0, 0, 0, 0, 0, 0, 0, 1, 0, 0, 0, 0, 0, 0, 0, 1, 1, 0, 0, 0, 0, 0, 0, 1, 0, 0, 0, 0, 0, 1, 0, 0, 0, 3, 0, 0, 0, 0, 0, 0, 0, 0, 0, 0, 0, 0, 0, 0, 1, 3, 0, 0, 0, 0, 0, 0, 0, 0, 1, 0, 0, 0, 0, 0, 0, 0, 0, 0, 0, 0, 0, 0, 0], \"line\": {\"color\": [0, 1, 0, 0, 0, 0, 0, 0, 0, 0, 0, 0, 0, 0, 0, 0, 0, 0, 1, 0, 0, 0, 0, 0, 0, 0, 0, 0, 0, 0, 0, 0, 0, 0, 0, 0, 0, 0, 0, 0, 0, 0, 0, 0, 0, 0, 0, 0, 0, 0, 0, 0, 0, 0, 0, 0, 0, 0, 0, 0, 1, 0, 0, 0, 0, 0, 0, 0, 0, 0, 0, 0, 0, 0, 0, 0, 1, 0, 0, 0, 0, 0, 0, 0, 0, 0, 0, 0, 0, 0, 1, 0, 0, 0, 0, 0, 0, 1, 0, 0, 0, 0, 0, 0, 0, 0, 0, 0, 0, 0, 0, 0, 0, 0, 0, 0, 0, 0, 0, 0, 0, 0, 0, 0, 0, 0, 0, 0, 0, 0, 0, 0, 0, 0, 0, 0, 0, 0, 0, 1, 1, 0, 0, 0, 0, 1, 0, 0, 0, 0, 0, 0, 0, 0, 0, 0, 0, 0, 0, 0, 0, 0, 1, 0, 0, 0, 0, 0, 0, 0, 0, 1, 0, 0, 0, 0, 0, 0, 0, 0, 0, 0, 3, 0, 0, 0, 0, 0, 0, 1, 0, 0, 0, 0, 0, 0, 0, 0, 0, 0, 0, 0, 0, 0, 1, 0, 0, 0, 0, 0, 0, 0, 0, 0, 0, 0, 1, 0, 0, 0, 0, 0, 0, 0, 0, 0, 2, 0, 0, 0, 0, 0, 0, 0, 0, 0, 0, 0, 0, 0, 0, 0, 0, 0, 0, 0, 0, 0, 0, 0, 0, 0, 0, 0, 0, 0, 0, 0, 0, 0, 0, 0, 0, 0, 0, 0, 0, 0, 0, 0, 0, 0, 0, 0, 0, 0, 0, 0, 0, 0, 0, 0, 0, 0, 0, 0, 0, 3, 0, 0, 0, 0, 0, 0, 0, 0, 0, 0, 0, 0, 0, 0, 0, 0, 0, 0, 0, 1, 0, 0, 0, 0, 0, 0, 0, 0, 0, 0, 0, 0, 0, 0, 0, 0, 0, 0, 0, 0, 0, 0, 0, 0, 0, 0, 0, 0, 0, 0, 3, 1, 0, 0, 0, 0, 0, 0, 0, 0, 0, 0, 1, 0, 0, 0, 0, 1, 0, 0, 0, 0, 0, 0, 0, 0, 1, 0, 0, 0, 0, 0, 0, 0, 0, 0, 0, 0, 0, 1, 0, 0, 0, 0, 0, 0, 0, 0, 0, 0, 0, 0, 0, 0, 1, 0, 0, 0, 0, 0, 0, 0, 0, 0, 0, 1, 0, 1, 0, 0, 0, 0, 0, 0, 1, 0, 0, 0, 0, 0, 0, 0, 0, 0, 0, 0, 1, 0, 0, 0, 0, 0, 0, 0, 0, 0, 0, 0, 0, 0, 0, 0, 0, 0, 0, 0, 0, 0, 0, 0, 0, 0, 0, 0, 0, 0, 0, 0, 0, 0, 0, 0, 0, 0, 0, 0, 0, 0, 0, 0, 0, 0, 0, 0, 1, 0, 0, 0, 3, 0, 1, 0, 0, 1, 0, 0, 1, 1, 1, 0, 1, 0, 0, 3, 0, 3, 0, 0, 0, 0, 0, 0, 0, 1, 0, 0, 0, 0, 0, 0, 0, 0, 1, 0, 0, 0, 1, 0, 0, 0, 0, 0, 0, 0, 0, 0, 0, 0, 1, 0, 0, 0, 0, 0, 0, 0, 0, 0, 0, 0, 3, 0, 0, 0, 0, 0, 0, 1, 0, 0, 0, 0, 1, 0, 0, 0, 1, 0, 0, 0, 0, 0, 0, 0, 0, 0, 0, 0, 0, 0, 0, 0, 1, 0, 0, 0, 0, 0, 0, 0, 0, 0, 0, 0, 0, 0, 0, 0, 0, 0, 1, 0, 0, 1, 1, 0, 0, 0, 0, 0, 1, 0, 0, 0, 0, 1, 0, 0, 1, 0, 0, 0, 1, 0, 1, 3, 1, 1, 1, 0, 0, 0, 0, 0, 0, 0, 0, 0, 1, 0, 1, 0, 0, 0, 0, 0, 0, 0, 0, 0, 0, 0, 0, 0, 0, 0, 0, 0, 0, 0, 0, 0, 0, 0, 0, 0, 1, 0, 0, 0, 3, 1, 0, 0, 0, 0, 0, 0, 0, 0, 0, 0, 1, 0, 0, 0, 0, 0, 0, 0, 0, 0, 0, 1, 0, 0, 1, 0, 0, 0, 0, 0, 0, 0, 0, 1, 0, 0, 0, 1, 3, 0, 0, 0, 0, 0, 0, 3, 1, 0, 0, 0, 0, 0, 0, 0, 0, 0, 0, 1, 0, 0, 0, 0, 0, 0, 0, 0, 0, 0, 0, 0, 0, 1, 0, 0, 0, 1, 0, 0, 0, 0, 1, 0, 0, 0, 0, 0, 1, 0, 0, 0, 0, 0, 0, 1, 0, 0, 0, 1, 1, 3, 0, 0, 1, 0, 0, 0, 0, 0, 1, 0, 0, 0, 0, 0, 0, 0, 0, 0, 0, 0, 0, 0, 1, 0, 0, 1, 0, 0, 0, 0, 0, 0, 0, 1, 0, 1, 0, 0, 0, 0, 0, 0, 0, 0, 0, 1, 0, 0, 0, 0, 0, 0, 0, 0, 0, 0, 0, 0, 0, 0, 0, 1, 0, 0, 0, 0, 0, 0, 0, 0, 0, 0, 0, 1, 0, 0, 0, 0, 0, 0, 0, 0, 0, 0, 0, 0, 0, 0, 0, 1, 0, 0, 0, 0, 0, 1, 1, 0, 0, 0, 0, 0, 1, 0, 0, 0, 0, 0, 3, 1, 0, 0, 0, 1, 0, 0, 0, 0, 1, 0, 0, 1, 1, 0, 0, 0, 0, 0, 0, 1, 1, 1, 0, 0, 0, 1, 0, 0, 0, 0, 0, 0, 1, 1, 0, 0, 0, 0, 1, 0, 1, 0, 0, 0, 0, 0, 1, 0, 0, 0, 0, 0, 0, 0, 0, 0, 0, 0, 1, 0, 0, 1, 0, 0, 0, 1, 0, 0, 0, 0, 0, 0, 3, 0, 0, 0, 1, 0, 0, 0, 3, 0, 1, 0, 0, 1, 0, 0, 0, 3, 0, 0, 0, 0, 1, 0, 0, 0, 0, 0, 0, 0, 0, 0, 0, 0, 0, 1, 0, 0, 0, 0, 0, 0, 0, 3, 1, 0, 0, 0, 0, 3, 0, 1, 1, 0, 0, 0, 0, 0, 0, 0, 0, 1, 0, 0, 1, 0, 0, 0, 1, 0, 1, 0, 0, 0, 1, 0, 0, 0, 0, 1, 0, 0, 0, 0, 0, 0, 0, 0, 0, 0, 3, 1, 0, 0, 0, 1, 0, 0, 0, 0, 1, 0, 1, 1, 1, 0, 0, 0, 0, 0, 0, 0, 0, 0, 1, 0, 0, 0, 1, 0, 0, 0, 3, 0, 0, 0, 0, 0, 0, 0, 0, 0, 0, 0, 3, 1, 0, 1, 0, 0, 1, 0, 0, 1, 0, 1, 0, 0, 0, 0, 0, 1, 1, 0, 0, 0, 0, 0, 0, 0, 0, 0, 1, 0, 1, 0, 0, 0, 0, 0, 0, 0, 1, 0, 0, 0, 0, 0, 0, 0, 0, 0, 0, 0, 0, 1, 0, 0, 0, 0, 0, 0, 1, 0, 0, 0, 0, 1, 0, 0, 0, 0, 0, 0, 0, 0, 0, 0, 0, 0, 0, 0, 1, 0, 0, 1, 0, 0, 3, 0, 0, 0, 0, 0, 0, 0, 0, 0, 0, 1, 0, 0, 0, 0, 0, 0, 1, 0, 0, 0, 1, 1, 0, 0, 0, 0, 0, 0, 0, 0, 0, 0, 0, 1, 0, 0, 0, 0, 0, 0, 0, 0, 0, 0, 0, 0, 0, 0, 0, 0, 0, 0, 0, 0, 0, 0, 0, 0, 0, 0, 0, 0, 0, 0, 0, 0, 0, 0, 0, 0, 1, 0, 0, 1, 0, 0, 0, 0, 1, 0, 0, 0, 0, 0, 0, 0, 0, 0, 0, 0, 0, 0, 0, 0, 0, 0, 0, 1, 1, 0, 0, 0, 0, 0, 0, 0, 0, 0, 0, 0, 0, 1, 1, 3, 1, 0, 0, 0, 0, 0, 0, 0, 0, 1, 0, 1, 0, 0, 0, 1, 0, 0, 0, 0, 0, 0, 1, 0, 0, 0, 0, 0, 0, 0, 0, 0, 0, 0, 0, 0, 0, 0, 0, 0, 0, 0, 0, 1, 0, 0, 0, 0, 0, 0, 0, 0, 0, 0, 0, 1, 0, 0, 1, 1, 0, 0, 0, 0, 0, 0, 0, 0, 0, 0, 0, 0, 0, 0, 0, 0, 1, 1, 0, 0, 1, 1, 0, 0, 1, 0, 0, 0, 0, 0, 0, 1, 3, 0, 1, 0, 1, 1, 0, 1, 1, 1, 0, 0, 0, 0, 0, 0, 0, 0, 1, 0, 1, 0, 0, 0, 0, 0, 0, 0, 0, 0, 0, 0, 0, 0, 1, 0, 0, 1, 0, 0, 1, 1, 1, 0, 0, 1, 1, 0, 1, 0, 0, 0, 3, 0, 0, 0, 0, 0, 0, 0, 0, 0, 0, 0, 1, 0, 1, 1, 0, 0, 1, 0, 0, 0, 0, 1, 0, 0, 0, 3, 0, 0, 0, 1, 0, 0, 0, 0, 0, 0, 0, 0, 0, 0, 0, 0, 0, 0, 0, 0, 0, 0, 0, 0, 0, 0, 3, 0, 0, 0, 0, 1, 0, 0, 0, 0, 1, 0, 0, 0, 0, 0, 0, 0, 0, 0, 0, 0, 0, 0, 0, 0, 1, 0, 0, 0, 0, 0, 0, 0, 0, 0, 0, 0, 0, 0, 0, 0, 0, 0, 0, 0, 0, 0, 0, 0, 0, 0, 0, 1, 0, 0, 0, 0, 0, 0, 0, 0, 0, 0, 0, 0, 3, 0, 3, 0, 0, 0, 0, 0, 1, 0, 0, 0, 0, 0, 0, 0, 0, 0, 0, 0, 0, 0, 0, 1, 1, 0, 1, 0, 0, 0, 0, 0, 1, 0, 1, 0, 0, 0, 0, 0, 0, 1, 0, 0, 0, 0, 1, 0, 0, 0, 0, 0, 0, 0, 0, 0, 0, 0, 1, 0, 0, 0, 0, 1, 0, 0, 0, 1, 0, 0, 0, 1, 0, 1, 0, 0, 0, 0, 0, 0, 0, 0, 0, 0, 0, 1, 0, 1, 1, 0, 0, 0, 0, 0, 0, 1, 1, 0, 0, 0, 0, 0, 0, 1, 0, 0, 0, 0, 0, 0, 0, 0, 0, 0, 0, 0, 0, 0, 0, 0, 0, 0, 0, 0, 1, 0, 0, 0, 0, 0, 0, 0, 0, 3, 0, 0, 0, 0, 1, 0, 0, 0, 0, 0, 0, 0, 0, 0, 0, 0, 0, 0, 0, 0, 0, 0, 0, 0, 0, 0, 0, 0, 0, 0, 0, 0, 0, 0, 0, 0, 0, 0, 0, 0, 0, 0, 0, 0, 0, 0, 0, 0, 0, 0, 0, 0, 0, 0, 1, 1, 1, 0, 0, 0, 0, 0, 0, 1, 0, 0, 0, 0, 0, 0, 0, 0, 0, 0, 0, 0, 0, 0, 0, 0, 0, 0, 1, 0, 0, 0, 0, 0, 1, 0, 1, 0, 0, 0, 0, 0, 0, 0, 0, 0, 0, 0, 0, 0, 0, 0, 0, 0, 0, 0, 1, 0, 0, 0, 0, 0, 0, 0, 0, 0, 0, 1, 0, 0, 0, 1, 0, 0, 0, 0, 0, 0, 0, 0, 0, 0, 0, 0, 0, 0, 0, 1, 0, 0, 1, 0, 0, 0, 0, 0, 0, 0, 3, 0, 0, 0, 0, 0, 0, 0, 0, 0, 1, 0, 0, 0, 0, 0, 0, 0, 0, 0, 0, 0, 0, 0, 0, 0, 0, 0, 0, 0, 0, 0, 0, 0, 0, 0, 0, 0, 0, 0, 0, 0, 0, 3, 0, 0, 0, 0, 0, 0, 0, 0, 0, 0, 0, 0, 1, 0, 0, 0, 0, 0, 0, 0, 0, 0, 0, 0, 1, 0, 0, 0, 0, 0, 0, 0, 1, 0, 0, 0, 1, 0, 0, 0, 0, 0, 0, 1, 0, 0, 0, 0, 0, 1, 0, 0, 0, 0, 0, 0, 0, 3, 0, 1, 0, 1, 1, 0, 0, 0, 0, 0, 0, 0, 0, 0, 0, 1, 0, 0, 0, 1, 0, 0, 0, 0, 0, 0, 0, 0, 0, 0, 1, 0, 0, 0, 0, 0, 1, 0, 0, 0, 0, 0, 0, 1, 0, 0, 0, 0, 0, 0, 0, 0, 0, 0, 1, 0, 0, 0, 0, 0, 0, 0, 0, 0, 0, 0, 1, 0, 0, 0, 0, 0, 0, 0, 0, 0, 0, 1, 0, 0, 0, 1, 1, 0, 0, 0, 0, 0, 0, 0, 0, 0, 0, 1, 0, 0, 0, 0, 0, 0, 0, 0, 0, 0, 0, 0, 1, 1, 0, 0, 0, 0, 1, 0, 0, 0, 0, 0, 0, 0, 1, 0, 0, 0, 0, 1, 0, 0, 0, 0, 0, 0, 0, 0, 0, 0, 0, 1, 0, 0, 0, 1, 0, 0, 0, 0, 0, 0, 0, 1, 1, 0, 0, 0, 0, 0, 0, 0, 1, 1, 0, 1, 0, 0, 0, 0, 0, 0, 1, 0, 0, 0, 0, 0, 1, 0, 0, 0, 0, 0, 0, 0, 0, 0, 0, 0, 0, 1, 0, 0, 0, 0, 0, 0, 0, 0, 0, 0, 0, 0, 0, 0, 0, 0, 0, 0, 0, 0, 0, 0, 0, 1, 0, 0, 0, 0, 0, 0, 0, 0, 0, 0, 1, 1, 0, 0, 1, 1, 0, 0, 1, 0, 0, 0, 0, 0, 0, 0, 0, 0, 0, 0, 0, 0, 3, 0, 1, 1, 0, 0, 0, 0, 0, 0, 0, 0, 0, 1, 0, 1, 0, 0, 0, 0, 1, 0, 0, 0, 0, 0, 0, 0, 0, 0, 0, 0, 0, 0, 0, 0, 0, 0, 1, 0, 0, 0, 0, 0, 1, 0, 0, 0, 0, 0, 0, 0, 0, 0, 1, 0, 0, 0, 0, 0, 1, 0, 0, 0, 0, 0, 1, 1, 0, 1, 0, 0, 0, 0, 0, 0, 0, 1, 0, 0, 0, 0, 1, 0, 0, 0, 0, 0, 0, 0, 0, 0, 0, 0, 0, 1, 0, 0, 0, 0, 0, 0, 0, 1, 0, 0, 0, 0, 0, 0, 0, 0, 0, 0, 1, 0, 0, 0, 0, 0, 0, 0, 1, 1, 0, 0, 0, 0, 0, 0, 1, 0, 0, 0, 0, 0, 1, 0, 0, 0, 3, 0, 0, 0, 0, 0, 0, 0, 0, 0, 0, 0, 0, 0, 0, 1, 3, 0, 0, 0, 0, 0, 0, 0, 0, 1, 0, 0, 0, 0, 0, 0, 0, 0, 0, 0, 0, 0, 0, 0], \"width\": 12}, \"opacity\": 0.8, \"size\": 10}, \"mode\": \"markers\", \"type\": \"scatter\", \"x\": [1501.0300000000002, 323821.22, 1834.4, 28665.86, 324.0, 10089.56, 54119.95, 2598.08, 5595.889999999999, 766.8, 0.0, 31406.56, 87913.68000000001, 13861.18, 7785.640000000002, 0.0, 0.0, 1523.96, 101003.27000000006, 27956.340000000007, 10934.639999999998, 6584.86, 33122.15, 11911.95, 0.0, 1213.28, 15511.329999999998, 22118.429999999997, 4832.28, 2690.9, 3083.0, 1953.98, 53742.46000000001, 0.0, 6971.01, 9498.650000000001, 120.5, 716.98, 9027.24, 0.0, 11422.960000000001, 2891.08, 1111.1999999999998, 938.53, 146.8, 81614.54, 22611.11, 0.0, 3243.72, 472.7, 472.7, 53104.649999999994, 2419.99, 151.3, 54602.910000000025, 13238.07, 8693.06, 4683.8, 60549.55999999999, 790.59, 220453.57999999827, 59.8, 0.0, 90.0, 1583.0, 7334.72, 438.0, 0.0, 27249.170000000002, 208.4, 26665.11, 2334.8100000000004, 0.0, 0.0, 0.0, 62598.71000000002, 181262.66999999975, 58848.46000000002, 416.08, 42301.13, 0.0, 705.2, 26299.010000000013, 1822.11, 0.0, 6323.430000000001, 1766.1899999999998, 646.96, 1766.1899999999998, 4600.299999999999, 125672.81999999993, 3420.9, 82144.36000000002, 13334.74, 21900.639999999996, 27933.450000000004, 699.1, 106948.81000000001, 0.0, 70816.65000000005, 0.0, 56865.49999999999, 1993.94, 67147.93999999999, 0.0, 835.1700000000001, 153.99, 12701.439999999999, 16642.19, 6089.93, 1570.0, 48888.59, 37909.840000000004, 24166.62, 102.0, 36669.44, 1724.8200000000002, 14375.659999999998, 280.95, 18078.579999999998, 180.37, 1369.99, 43860.200000000004, 17585.219999999998, 424.0, 90468.73, 47176.18, 1311.9, 9943.82, 0.0, 41128.05, 67053.66, 24508.78, 30144.770000000004, 95712.04000000002, 2540.78, 0.0, 23963.16, 23963.16, 379216.3700000003, 159813.65999999997, 27489.440000000002, 0.0, 12456.910000000002, 2175.8500000000004, 112247.85000000002, 22836.95, 2964.43, 1153.77, 53596.67, 6394.76, 106.0, 106.0, 2243.0, 67482.81, 6599.59, 19381.870000000003, 35695.99, 71334.08000000003, 77097.36000000002, 1728.44, 29855.679999999997, 155714.14999999997, 6404.3, 912.81, 155.0, 65309.999999999985, 0.0, 2202.0, 1314.17, 20736.51, 128804.88999999997, 36726.590000000004, 1678.0, 1334.17, 7387.0, 1167.94, 35163.49999999999, 18656.46, 81998.65999999999, 51643.66, 269.5, 484123.8599999996, 49139.22, 6363.6, 1264.99, 888.45, 498.92999999999995, 1298.19, 197488.37999999992, 3499.73, 1316.48, 9430.02, 43427.1, 12843.319999999998, 89873.91, 22548.58, 3504.880000000001, 39729.95, 43968.619999999995, 14683.460000000003, 1841.7900000000004, 35045.73999999998, 25542.449999999997, 108044.21000000002, 6872.999999999999, 6872.999999999999, 15372.51, 4949.820000000001, 6401.809999999998, 477.62, 99987.47, 4073.42, 19199.280000000002, 39858.91000000001, 23759.969999999998, 312629.7399999997, 11238.409999999998, 11908.569999999996, 979.0, 270.37, 78793.7799999992, 564.52, 24732.499999999996, 59317.35999999999, 0.0, 4148564.9000000027, 3724.0, 8247.43, 12784.0, 0.0, 20584.220000000005, 42353.24000000003, 1153.3, 132.38, 68598.17000000001, 21688.809999999994, 3926.9000000000005, 67232.08999999997, 7557.820000000001, 266.0, 16643.519999999997, 9292.099999999999, 4347.09, 4043.0299999999997, 48439.19000000002, 2894.06, 18109.72, 5318.79, 0.0, 68344.48, 9659.57, 0.0, 25945.350000000006, 15555.609999999999, 7231.14, 2961.7, 37125.98, 1987.9599999999998, 6021.459999999997, 36768.31, 0.0, 3076.68, 12609.07, 13582.850000000002, 37425.33, 1041.7, 0.0, 2436.27, 611.0, 59705.7, 60873.40000000001, 1025.98, 540.9, 2424.4, 826.9, 3248.28, 0.0, 0.0, 2335.4600000000005, 47625.260000000046, 93666.14000000009, 2942.56, 422.8, 17814.5, 26979.129999999997, 15249.05, 432891.94999999995, 4983.0, 2522.5, 42998.94000000002, 1462.5, 3752.5, 200.0, 95419.88000000002, 47.0, 47.0, 24665.269999999997, 91980.48000000001, 55447.600000000006, 4535.21, 2331.82, 4916.29, 142.88, 94914.45999999999, 4039.3200000000006, 51734.810000000005, 300301.19999999995, 30884.850000000006, 58707.08, 998.0, 25289.0, 61716.95999999999, 3032.13, 240.0, 26745.560000000005, 240.0, 0.0, 25932.69, 0.0, 2167.5499999999997, 21023.460000000003, 76223.91999999998, 0.0, 37738.079999999994, 2915.8, 6772.75, 68445.37, 2136.8, 35174.33, 3648.7999999999997, 384.0, 2175.0, 9246.089999999998, 908.0, 85580.67, 3155.3, 0.0, 1083491.5899999999, 199731.43999999986, 1167.73, 1452.0, 18873.68, 4240.25, 38296.030000000006, 8697.87, 0.0, 34469.52, 16.0, 0.0, 179850.51000000013, 28321.780000000006, 29013.43, 4142.660000000001, 577.84, 174555.47, 6442.98, 9354.0, 549.0, 10393.199999999997, 31555.079999999998, 11040.219999999998, 1628.0, 2413.0, 124323.09999999999, 0.0, 5411.19, 2131.4300000000003, 21925.869999999995, 936.1, 691.9200000000001, 2639.9, 6893.139999999999, 31520.300000000003, 54119.95, 630.0, 0.0, 297405.82000000007, 0.0, 5131.400000000001, 0.0, 216.0, 14744.96, 25772.77999999999, 460.9, 23140.97, 4174.0, 7118.599999999999, 6795.96, 51295.66, 22630.610000000004, 30344.410000000003, 115573.51000000002, 44734.91, 665.0, 33401.850000000006, 665.0, 17320.920000000002, 13817.23, 438.0, 1957.89, 2208.0, 21825.940000000006, 190600.41000000003, 1945.31, 107659.31, 67801.09, 1963.23, 6262.91, 6141.01, 11765.830000000002, 704.0, 288447.47999999986, 2558.03, 8799.76, 0.0, 255.95, 1362.8, 953.1300000000001, 0.0, 2170.4700000000003, 11511.68, 4114.95, 17000.239999999998, 124609.31, 5814.8499999999985, 7067.51, 1831.6999999999998, 15107.44, 5277.46, 2782.2700000000004, 2136.0, 388.78, 232.07999999999998, 8663.7, 0.0, 0.0, 24272.479999999996, 15018.059999999998, 505.4, 125.1, 23422.069999999996, 266.0, 15765.739999999996, 2645.8, 855.0, 855.0, 29780.0, 94.8, 0.0, 192.0, 9165.09, 5946.820000000001, 2298.5699999999997, 99.0, 1945.77, 39742.91000000002, 0.0, 0.0, 6671.35, 4612.84, 31413.36, 3390.12, 5394.759999999999, 0.0, 438.0, 5732.0, 3346.0, 438.0, 1215.62, 38740.61000000001, 27109.02000000001, 152690.28999999986, 19280.739999999998, 15973.67, 59885.890000000014, 462922.1000000003, 12334.29, 212482.09, 1304.3200000000002, 13363.15, 220382.94000000015, 0.0, 65058.03000000003, 196779.09999999998, 134499.84999999995, 117519.71000000004, 0.0, 125999.06999999993, 1620.3999999999999, 3446.91, 493517.4499999997, 1111.96, 593907.1000000002, 19433.51, 531.0, 1111.96, 0.0, 7425.17, 5002.349999999999, 0.0, 103362.7, 1602.9099999999999, 0.0, 14356.869999999999, 1001.29, 3048.9, 1409.22, 541.5, 23734.849999999995, 130683.41000000006, 66855.59000000001, 21611.149999999998, 0.0, 254277.57999999996, 65869.34000000001, 0.0, 18912.620000000003, 20477.74, 26347.97, 9097.74, 1199.0, 4282.099999999999, 835.6, 835.0, 52374.94999999999, 150437.70000000004, 3808.58, 18261.060000000005, 17343.4, 356.0, 28003.5, 0.0, 14644.509999999998, 90.0, 1901.42, 4327.82, 409.0, 510486.05000000016, 9230.689999999997, 8785.779999999999, 326.71, 6476.600000000001, 45036.950000000004, 68346.78000000001, 135240.16999999995, 0.0, 0.0, 279.46, 85585.54999999999, 101324.39999999994, 45709.01000000003, 0.0, 0.0, 179849.44999999998, 1055.29, 17523.819999999996, 5726.970000000001, 24397.230000000003, 39209.320000000014, 0.0, 91503.05999999997, 2143.4, 35637.47, 390.0, 0.0, 11264.599999999999, 30.0, 49.0, 1253.73, 130693.74000000003, 7137.320000000001, 10501.609999999997, 2747.6399999999994, 44976.68000000001, 350.0, 0.0, 13489.799999999997, 433.85, 35779.11, 1162.1599999999999, 21378.51, 1626.6200000000001, 5012.4, 6403.69, 27512.679999999997, 4986.369999999999, 4986.369999999999, 364586.44, 87292.24000000002, 5937.049999999999, 161900.61000000007, 364586.44, 834.6499999999999, 430.8, 625.3, 31007.320000000003, 5863.69, 106030.49999999997, 20228.7, 0.0, 2944.19, 265.86, 307214.13999999996, 3884.37, 17014.55, 170323.8999999999, 0.0, 0.0, 119.0, 374526.34000000014, 71516.94000000005, 219918.21000000014, 484230.2900000001, 137968.85000000003, 285777.9500000001, 231971.41999999993, 5377.62, 0.0, 3814.2000000000007, 68405.11999999998, 435.0, 28853.31, 7661.8099999999995, 830.0, 6375.999999999999, 106557.41, 11058.009999999998, 287645.36999999994, 19678.349999999995, 18332.149999999994, 405.44, 7599.0, 10633.130000000001, 7446.43, 1725.97, 2823.0, 8855.57, 0.0, 0.0, 2821.71, 2445.37, 5104.5, 3358.0, 6217.17, 7249.2, 9846.49, 13817.23, 4936.09, 824.97, 0.0, 5691.2, 3010.98, 4951.7, 115697.17000000001, 29546.999999999996, 75.0, 41062.180000000015, 1533923.6399999987, 133127.58000000007, 0.0, 10564.52, 98966.43000000005, 98966.43000000005, 2145.0, 2035.0, 1167.71, 0.0, 62771.820000000014, 4044.47, 299145.2199999997, 719.0, 3764.11, 46670.55000000002, 0.0, 0.0, 52803.04, 8534.75, 458.0, 938.0, 19336.68, 131617.73000000004, 500.0, 6067.21, 139015.30000000005, 29255.070000000007, 220.0, 220.0, 194.0, 41010.759999999995, 5269.72, 30455.32, 12765.65, 341683.2800000001, 43.0, 3526.51, 684.22, 173810.23, 434491.32999999967, 32836.72000000001, 45240.89000000001, 14293.119999999997, 0.0, 12502.769999999999, 64025.39000000005, 473613.0100000001, 120412.88000000008, 3356.37, 9776.8, 33713.149999999994, 19023.84, 2558.55, 5743.91, 0.0, 351.0, 67277.15000000002, 92861.65999999999, 108589.51000000004, 0.0, 604.4, 0.0, 16138.630000000001, 12843.319999999998, 8175.700000000001, 24803.62000000001, 14230.36, 34355.049999999996, 951.55, 3885.12, 15484.54, 34246.49, 127995.86, 12928.3, 8145.04, 8447.310000000001, 269486.06000000023, 42723.60000000001, 9626.07, 604.13, 34697.590000000004, 345235.06000000006, 8531.52, 47760.0, 2123.5099999999998, 806.7, 506.0899999999999, 102872.24999999997, 4027.4100000000003, 692.67, 0.0, 77172.36, 35.6, 5163.129999999999, 163973.65999999992, 47175.700000000004, 59.0, 39476.91, 104143.87999999999, 183995.33999999982, 420221.69, 8765.59, 55810.66000000002, 136505.11, 64791.99000000001, 24865.389999999996, 70064.83999999997, 11116.499999999996, 1399.38, 171408.58999999994, 6604.46, 77450.1, 9073.43, 58210.53999999999, 37736.72, 25585.85, 62636.97, 2047.56, 1326.52, 11767.219999999998, 26290.14, 6496.66, 34990.51, 310529.5999999997, 78638.64000000001, 781.9300000000001, 252901.86999999968, 4150.360000000001, 2874.73, 30991.729999999992, 199.0, 0.0, 12754.999999999998, 6787.66, 109103.83000000005, 196.0, 192615.34999999995, 25137.059999999987, 40981.6, 2657.27, 51982.86000000001, 70289.07000000004, 19113.540000000005, 23532.25, 70289.07000000004, 28368.280000000006, 105547.63, 1482.3899999999999, 12588.0, 75521.30999999998, 0.0, 6666.33, 61037.85000000001, 9963.03, 18688.589999999997, 0.0, 913.04, 70548.03, 2700.79, 400.0, 15504.69, 27213.0, 105391.12999999999, 1285.08, 11233.76, 2686.35, 2912.51, 123.0, 5233.0, 5233.0, 5233.0, 1396.7699999999998, 5388.78, 14020.5, 115773.41000000005, 46970.82, 0.0, 454.8, 21643.93, 12972.299999999996, 31581.66, 3787.8899999999994, 13841.17, 6338.36, 3581.79, 1909.0, 8645.87, 2686.35, 35219.630000000005, 8450.89, 218171.49999999997, 897.6800000000001, 1041.7, 3983.45, 42801.60000000002, 36521.86999999999, 198262.1699999999, 171135.81000000003, 215.0, 13193.910000000002, 5194.73, 8776.669999999998, 0.0, 113127.93, 7231.51, 14201.479999999996, 14201.479999999996, 23838.50999999999, 862.4000000000001, 532212.3800000001, 102358.21999999994, 36202.77999999999, 0.0, 7706.26, 162194.82999999987, 74375.48000000001, 17430.96, 74231.31000000003, 82903.65000000004, 327631.2399999998, 28382.860000000008, 47625.260000000046, 316610.1000000001, 107273.15999999996, 72998.97999999998, 1259.8000000000002, 10719.46, 11272.300000000003, 0.0, 2189.0, 206652.27000000002, 227037.35999999996, 111897.92, 5029.179999999999, 5029.179999999999, 5029.179999999999, 108343.72999999998, 7967.32, 977.0, 11748.099999999999, 174.0, 32186.33, 12867.22, 145380.17, 331343.92999999964, 80847.80000000005, 36716.11999999999, 55491.72000000003, 19282.21, 150696.91, 4920.3, 160439.2700000001, 1416.33, 7232.5, 41093.96, 90729.67000000003, 3669.73, 151297.28, 54429.65, 41837.86, 4178.360000000001, 20284.6, 30751.21, 79746.80000000003, 17363.920000000002, 62469.46000000001, 40449.12, 40449.12, 80138.57, 226744.11999999988, 338.82, 14195.500000000002, 121056.87999999993, 46924.860000000015, 62270.400000000016, 0.0, 114137.56999999995, 693.0, 18835.829999999998, 46039.020000000004, 33683.56, 260.0, 57657.7, 398259.5200000002, 12641.02, 3411.14, 57555.979999999996, 169361.31000000003, 1406.1, 5311.91, 5365.79, 782236.9199999998, 1898.8999999999999, 117058.39000000009, 0.0, 259.98, 217988.2099999999, 11130.449999999997, 21701.859999999993, 2012.0, 838927.5800000002, 19551.590000000004, 900.0, 12654.989999999998, 10634.21, 121382.72000000003, 6780.84, 43874.92000000001, 0.0, 3859.9, 467.0, 2553.19, 0.0, 91216.70000000001, 4142.660000000001, 1077.26, 18399.87, 17087.21, 194226.69000000015, 20524.8, 9589.08, 1807.5, 20027.85, 0.0, 1752.6799999999998, 429.65999999999997, 554998.5499999992, 261454.51000000004, 86794.35000000002, 6483.479999999999, 3231.3700000000003, 8045.62, 409885.37000000017, 48453.409999999974, 142150.81000000008, 139961.16000000003, 52591.00000000001, 1871.0, 3081.08, 43219.189999999995, 99274.58, 90819.23, 38498.68, 0.0, 259839.68000000005, 0.0, 40976.41, 111631.81, 22717.53, 65573.39000000001, 2310.0, 123832.62000000002, 15137.030000000002, 195428.28999999986, 79053.84, 5393.520000000001, 3598.2199999999993, 108457.67000000001, 67087.83, 13203.0, 2403.01, 9392.7, 251990.7599999999, 96181.07000000002, 28807.01, 0.0, 55603.38000000003, 434.0, 3453.0699999999997, 56182.14000000001, 39954.46000000001, 479.0, 12263.789999999997, 759951.3500000011, 174426.12, 0.0, 10708.18, 0.0, 151770.17, 6779.14, 44040.719999999994, 15853.02, 84953.70000000001, 176814.82000000007, 65247.920000000035, 108868.32000000004, 142874.65, 165459.66000000006, 1487.33, 92256.27999999997, 39135.18, 0.0, 85003.13000000002, 10509.460000000001, 45700.56000000002, 3607.4900000000002, 25284.239999999998, 139491.5, 0.0, 24628.870000000003, 9729.44, 153966.4799999998, 21882.93, 51239.689999999995, 20097.420000000002, 672136.32, 0.0, 0.0, 4572.57, 0.0, 82.0, 2073.99, 175.0, 5243.87, 5549.6, 6170.27, 2934.5, 661970.3400000004, 101387.64000000001, 7067.51, 175698.97999999995, 98723.55000000005, 999.99, 106863.30000000002, 16504.309999999998, 29870.839999999982, 156595.06, 26394.79000000001, 136891.84, 0.0, 129.9, 0.0, 3410.89, 333.0, 143487.36000000007, 380520.5699999994, 1160.9, 9146.72, 14608.68, 0.0, 2121.4300000000003, 44492.5, 336.0, 26420.72, 47622.57, 100596.60000000002, 10720.51, 111866.07, 0.0, 9246.7, 14907.0, 0.0, 726.7, 2694.24, 55205.84, 166518.23999999993, 51117.62, 7163.900000000001, 1771.48, 1826.03, 5916.37, 0.0, 68.0, 68.0, 1746.0, 48364.58, 29633.42, 1715.0, 136941.74000000008, 2634.9, 17890.0, 33211.27, 1993.46, 9205.22, 73851.93000000002, 134180.1999999999, 4781.9, 21883.380000000005, 4203.0599999999995, 125.0, 182954.63999999996, 73028.78000000001, 62341.240000000005, 4635.570000000001, 81209.26, 99.9, 120.5, 615.98, 5507.59, 5507.59, 14710.649999999996, 55116.549999999996, 2029.9, 61688.22000000001, 0.0, 115119.49999999996, 48414.64000000002, 85015.08999999995, 203650.3899999999, 0.0, 15812.8, 580850.3399999994, 6782.04, 2874.44, 7232.9800000000005, 45415.24, 0.0, 809.0, 313.8, 3726.4, 56156.06000000002, 363.99, 167071.40999999992, 0.0, 53326.76, 16716.87, 50488.64000000001, 94365.27000000005, 19031.73999999999, 175880.5, 3350.17, 207.0, 26493.520000000004, 282782.33999999973, 188651.22, 36059.220000000016, 2831.6100000000006, 64099.65, 7075.379999999999, 7075.379999999999, 0.0, 9992.759999999998, 13949.04999999999, 0.0, 1565.52, 17523.819999999996, 114998.39999999986, 39945.92000000001, 0.0, 3729.5800000000013, 86697.24999999996, 1980.1200000000001, 546.44, 152.7, 9052.85, 16756.839999999997, 1999.52, 25833.559999999994, 1634.0, 70816.65000000005, 4022.5, 61368.57, 11875.75, 2798.8, 91850.59999999998, 32938.90000000001, 12734.599999999995, 2692.23, 0.0, 0.0, 435.0, 465.0, 1215.0, 30907.570000000007, 30907.570000000007, 8540.61, 4444.889999999999, 68207.73999999999, 394.0, 6709.99, 0.0, 0.0, 0.0, 183313.70000000022, 69875.06, 22732.689999999995, 182367.5299999999, 0.0, 54585.14000000002, 5618.6900000000005, 4152.29, 120075.58000000002, 75.0, 6241.35, 36178.869999999995, 285.0, 44493.76999999999, 26665.459999999995, 20864.519999999997, 20864.519999999997, 21992.130000000005, 8614.740000000002, 41229.19, 15035.24, 1462.1000000000001, 33220.670000000006, 16469.04, 8322.73, 217.4, 1405.47, 162245.67999999996, 165876.3200000001, 0.0, 2037.01, 1313.44, 500.0, 7622.710000000001, 38065.94000000001, 1541.08, 0.0, 59434.150000000016, 79775.7, 6092.1900000000005, 92475.31000000003, 362284.48000000004, 362284.48000000004, 549989.4599999997, 151720.8299999999, 25491.349999999995, 23359.68, 1547.5, 22547.04, 4660.4800000000005, 59337.34000000002, 8413.369999999999, 42695.820000000014, 125812.62000000001, 0.0, 121357.86000000004, 0.0, 882.91, 53911.32000000001, 206901.58999999997, 12598.109999999999, 7332.11, 68334.52, 70371.61000000002, 40.38, 3756.03, 240613.47000000012, 15585.800000000001, 40.0, 27838.83000000001, 63921.12999999999, 39941.719999999994, 91791.58000000002, 43817.62, 19053.15, 3271.0, 546.45, 4584.32, 73843.27000000002, 61356.09000000002, 14216.69, 2303.34, 2500.8500000000004, 5575.74, 3962.5, 3216.2, 46658.71999999999, 143664.34999999998, 60601.45999999999, 22996.44, 29574.160000000003, 2619.41, 99131.51000000001, 8461.78, 29526.949999999983, 50584.789999999986, 8545.54, 25445.31, 1188.18, 128769.02, 95015.91000000002, 88528.49000000002, 124119.81, 132376.09999999998, 60677.85999999999, 32571.84999999999, 941.74, 0.0, 24608.34, 24608.34, 10587.029999999995, 50095.979999999996, 1188.18, 12966.9, 89127.88000000002, 36164.45000000001, 57273.03999999998, 328.0, 17525.32, 8145.04, 138386.31000000008, 219113.57, 44643.28, 4495.85, 378271.0699999999, 136578.14000000007, 9610.559999999998, 8447.310000000001, 100067.51999999995, 2497.95, 6401.809999999998, 13599.199999999999, 0.0, 7779.070000000001, 320.9, 170674.86000000007, 693747.1999999993, 7583.79, 168182.21000000014, 653.08, 103281.51000000001, 216892.50999999995, 38713.91000000002, 157556.91999999995, 287356.06999999983, 287356.06999999983, 13200.13, 36111.280000000006, 3664.4200000000005, 39005.530000000035, 32719.289999999997, 31620.959999999992, 95015.91000000002, 5521.709999999999, 274191.6899999999, 51564.63999999999, 203691.90000000008, 28529.350000000002, 2005.8, 10174.13, 2087.64, 1504.8400000000001, 409.1, 0.0, 1504.8400000000001, 2591.3, 13331.839999999998, 29275.37000000001, 82108.40000000001, 9373.569999999998, 137668.41, 4403.4800000000005, 62410.36000000001, 244503.39999999994, 26441.32, 2787.2999999999997, 205284.21999999997, 115290.94999999995, 114269.16, 22119.260000000002, 10423.830000000002, 194876.29999999984, 194876.29999999984, 0.0, 101032.11999999998, 5312.39, 1962.24, 18309.34, 717349.1700000004, 3228.8199999999993, 41261.740000000005, 4045.9200000000005, 31970.270000000004, 7751.2699999999995, 21458.650000000005, 41080.840000000004, 0.0, 13325.78, 13357.599999999995, 6593.66, 126135.22000000003, 1682.3600000000001, 171311.25000000006, 109763.92999999998, 23355.45, 1006.75, 108837.11000000002, 24084.03, 27594.270000000008, 11813.999999999998, 3874.99, 271392.4999999999, 10316.819999999998, 8112.989999999998, 0.5, 547850.6399999995, 40900.619999999995, 11560.48, 55586.259999999995, 103638.23000000001, 101.22, 10657.08, 34290.9, 47098.6, 52698.36, 1782.2, 54046.460000000014, 54046.460000000014, 32535.690000000002, 3532.6, 2034.2700000000002, 67232.08999999997, 3790.4599999999996, 1291.87, 13124.94, 3711.0, 3928.11, 124.0, 40952.39, 18000.42, 77889.81000000001, 0.0, 632661.1899999996, 39507.65, 20643.89, 0.0, 46358.76, 131845.5, 7575.199999999998, 10522.549999999997, 0.0, 5594.33, 171117.57000000007, 19141.069999999996, 169.99, 66930.76, 4858.81, 34144.33, 50554.38, 2565.4, 0.0, 13193.910000000002, 33482.780000000006, 92690.8, 0.0, 4148.66, 7634.2, 0.0, 141602.91000000003, 16539.65, 10441.140000000001, 0.0, 47534.28, 1040.8600000000001, 6931.8099999999995, 16738.09, 7224.279999999999, 877.23, 13049.6, 19265.1, 53952.010000000024, 32968.33, 15645.93, 4439.0, 929.0, 1440.98, 4920.3, 25592.429999999997, 3266.0000000000005, 24506.410000000003, 230.4, 4916.29, 19550.730000000003, 2925.96, 0.0, 141110.60000000003, 15132.68, 11454.82, 2647.97, 29098.950000000004, 465.0, 0.0, 74111.36, 410.0, 50.0, 743.0, 42.9, 3648.7999999999997, 513001.38, 27342.809999999998, 513001.38, 154.0, 5162.27, 61874.73000000002, 79744.22000000002, 649.02, 134236.6599999999, 0.0, 0.0, 55924.24000000002, 66.0, 11809.92, 38118.649999999994, 14481.82, 94878.9, 35399.97, 34218.61, 1949.77, 0.0, 0.0, 4095.3399999999997, 223406.11999999988, 324115.8400000001, 2386.73, 102675.48000000003, 38699.079999999994, 678.4, 6442.98, 10702.87, 0.0, 104511.28000000001, 69884.61, 168651.59999999998, 43393.68, 87525.39, 47326.70999999999, 11992.09, 6487.969999999999, 61800.36000000003, 324147.49, 1940.85, 11075.92, 729.0, 30219.030000000013, 110748.22, 22379.519999999997, 40753.000000000015, 9789.759999999998, 18925.44, 5256.94, 33282.83, 38201.950000000004, 29127.959999999995, 13391.199999999999, 23911.42000000001, 0.0, 251990.7599999999, 36791.43, 29606.290000000008, 35463.86, 2543.77, 139585.72999999998, 0.0, 6498.889999999999, 6790.849999999999, 289280.91000000003, 368.0, 2587.6100000000006, 24315.730000000007, 222619.13000000006, 10841.509999999998, 364921.41999999975, 33.95, 31623.169999999995, 4557.12, 35891.52999999999, 38626.59999999999, 0.0, 237.0, 0.0, 1509.51, 7357.800000000001, 33050.18000000001, 273671.3300000001, 0.0, 338649.0999999996, 101292.48, 71765.24999999999, 3572.78, 2414.35, 2414.35, 11424.399999999998, 41280.22, 112998.85999999993, 252297.41000000012, 0.0, 70.0, 25384.320000000007, 36296.14000000001, 0.0, 0.0, 219070.07999999993, 3082.0, 0.0, 7624.309999999998, 169.5, 46770.18, 35.0, 29780.0, 14056.910000000003, 47729.23, 0.0, 213.15, 7867.74, 32351.2, 2021.55, 3860.2999999999997, 4203.92, 1131.97, 5162.01, 1927.9, 0.0, 187794.92999999996, 68212.71, 0.0, 6054.879999999997, 8863.72, 6857.199999999999, 7601.6900000000005, 1945.77, 32.9, 532252.6699999993, 2835.79, 0.0, 0.0, 19280.739999999998, 215778.08000000002, 2647.6899999999996, 523.56, 0.0, 12532.47, 1228.0, 48388.33999999999, 0.0, 6263.629999999999, 36075.89000000001, 31345.940000000002, 11348.809999999998, 526.1, 0.0, 35243.64000000001, 1335.67, 0.0, 5960.62, 1643.9500000000003, 2137.48, 0.0, 15457.58, 55145.24, 54219.10000000002, 1011.1, 291.89, 148.0, 0.0, 7505.509999999999, 7142.330000000001, 18139.050000000003, 0.0, 1225.99, 0.0, 10730.59, 570.0, 10389.2, 2706.67, 4660.6900000000005, 276.0, 1068.3999999999999, 21464.65, 79.9, 52070.08999999999, 32638.830000000005, 869.8199999999999, 9462.21, 7175.639999999999, 488.94000000000005, 2150.5, 196894.18, 137839.3599999999, 130830.70999999993, 157.79, 4942.5599999999995, 1554.9, 555.98, 555.46, 3091.88, 172345.36000000004, 13245.29, 0.0, 87845.97, 6429.030000000001, 9492.779999999999, 1453.42, 53485.910000000025, 1087.9, 20984.530000000002, 87514.55000000002, 8484.96, 332.0, 2348.89, 25069.379999999997, 3642.0399999999995, 2675.82, 0.0, 3082.9699999999993, 225042.96999999994, 632.4, 1082.51, 5300.68, 49326.48, 93188.24000000006, 285501.98999999993, 65822.87999999998, 111679.59999999999, 4877.98, 10659.210000000001, 9997.44, 10056.42, 33005.520000000004, 13426.439999999997, 5616.0, 744.0, 19013.58, 0.0, 14375.659999999998, 10173.759999999998, 2975.58, 50256.219999999994, 43093.48, 20833.940000000002, 1037.72, 6988.63, 22003.540000000005, 147967.63000000003, 6341.5, 2573.73, 843.06, 4506.76, 60313.51, 600.0, 44018.920000000006, 615.0, 35659.63, 2284.8, 304738.94, 0.0, 117.0, 189.0, 107824.85000000005, 16969.34, 60387.87999999998, 191.7, 27726.729999999996, 7903.400000000001, 23295.98, 0.0, 9103.960000000001, 32532.2, 3163.21, 4110.9, 99537.85999999996, 16973.56, 16706.35, 11038.96, 127678.38, 677.5, 5731.260000000001, 269420.41999999975, 3558.2299999999996, 0.0, 626.76, 13073.43, 30376.25, 50320.03000000003, 76051.24, 651970.2899999995, 2607.65, 11769.29, 14606.950000000004, 0.0, 3873.44, 3810.5299999999997, 13046.7, 1788.6999999999998, 74388.9, 180905.3, 2932.2900000000004, 14811.290000000003, 33422.93, 244.0, 60180.48000000002, 6156.86, 3615.4, 12786.91, 5943.58, 84896.65000000001, 21909.7, 669.01, 0.0, 5793.44, 48558.65000000001, 557.9, 5793.44, 23433.86, 5654.0, 0.0, 6883.73, 5262.099999999999, 8551.18, 62.99, 50554.38, 712.0, 38413.91, 3068.45, 17095.879999999997, 1348.38, 1348.38, 2773.7699999999995, 413521.8199999996, 61514.57000000001, 226.0, 50596.69999999999, 13135.590000000002, 0.0, 31036.150000000005, 5878.349999999999, 9565.009999999998, 2070.18, 0.0, 9054.93, 21018.599999999995, 144282.84999999998, 25770.850000000002, 72003.83999999998, 19080.510000000002, 40034.28999999999, 38414.479999999996, 7744.950000000001, 306.0, 42917.34000000002, 45201.50999999999, 4920.3, 11409.71, 280167.6, 683.0, 2918.5699999999997, 70867.42, 24454.140000000003, 5760.069999999999, 60469.63000000002, 13135.81, 152134.52000000002, 13135.81, 225.9, 0.0, 115518.06999999998, 61874.73000000002, 4434.89, 12731.52, 0.0, 10887.8, 46379.09, 217988.2099999999, 27404.420000000002, 5967.160000000001, 2468.2100000000005, 15552.42, 0.0, 300820.1499999998, 13610.619999999999, 648.1, 85472.27999999998, 1200.0, 15837.160000000002, 48107.530000000006, 145.0, 478056.1299999996, 6024.07, 173607.58000000005, 44509.63000000001, 114293.63000000002, 283243.9699999999, 30428.490000000013, 11256.619999999999, 1807.5, 31791.059999999998, 17632.21, 91571.02, 8124.899999999999, 13712.829999999998, 12507.330000000002, 2776.9399999999996, 298247.33999999985, 1435.1200000000001, 5937.330000000001, 3039.36, 138441.12000000002, 0.0, 22717.53, 65453.36000000004, 29334.2, 2316.0, 271.0, 1222.0, 27512.630000000016, 6888.069999999999, 0.0, 116532.00000000003, 14586.92, 20491.42, 0.0, 4949.19, 6973.5999999999985, 111631.81, 7130.38, 5014.93, 4551.039999999999, 76307.34999999999, 15973.67, 8347.460000000001, 121114.87000000005, 36754.88, 856.57, 127.0, 33819.399999999994, 2746.65, 14976.439999999999, 84.46, 84.46, 49738.78, 38476.16000000001, 144151.2, 5574.0, 1868.47, 6543.91, 59922.97000000001, 2053.47, 2053.47, 27508.329999999998, 0.0, 0.0, 2615.89, 20819.600000000002, 269663.01000000024, 30252.62, 98357.09999999995, 2765.19, 20637.819999999996, 525.0, 1909.9, 7818.33, 18589.560000000005, 18589.560000000005, 0.0, 246051.70999999982, 84724.36000000002, 36022.85, 0.0, 164521.42, 248234.37999999966, 1377.0, 5792.160000000001, 5792.160000000001, 14529.169999999998, 0.0, 0.0, 14529.169999999998, 19669.640000000003, 6062.129999999999, 641.0, 193635.45999999967, 2109.5299999999997, 20442.469999999998, 1228.0, 1228.0, 96.0, 96.0, 2068.3999999999996, 934.9000000000001, 2329.3999999999996, 3830.17, 6512.760000000001, 0.0, 174872.55000000005, 134565.15999999995, 242.2, 7814.16, 3326.55, 243.0, 133793.18999999994, 21464.65, 81743.98999999995, 20477.74, 17364.86, 1286.28, 2964.2599999999998, 34190.20000000001, 251520.06999999975, 3296.37, 56950.720000000016, 3118.4500000000003, 0.0, 312429.51000000007, 4357.67, 0.0, 4452.2, 0.0, 178.0, 25137.79, 9298.6, 383.2, 45906.56000000001, 21378.51, 19665.23, 143728.43999999994, 1676.2, 91427.90999999996, 243.9, 150779.24, 5.0, 8220.27, 10423.13, 8275.07, 93592.56999999999, 58637.049999999996, 26211.300000000003, 157902.8399999999, 157902.8399999999, 0.0, 54845.32, 1896.81, 992.43, 8108.57, 0.0, 16296.779999999999, 161011.4099999999, 116628.05999999991, 12502.769999999999, 130620.85000000002, 4730.14, 29492.710000000003, 34305.52, 0.0, 17570.19, 15927.919999999998, 103469.06999999995, 198.98, 89650.49000000002, 89650.49000000002, 198.98, 15113.12, 132546.76000000004, 1295.3799999999999, 18942.49, 47760.0, 2745.89, 58291.1, 58291.1, 10089.199999999997, 46406.34000000002, 44096.61000000001, 190.0, 5213.5, 3581.4300000000003, 136505.11, 7222.280000000001, 0.0, 4220.49, 3833.96, 40908.02, 3081.52, 8424.25, 3843.93, 21652.0, 3220.3900000000003, 20406.57, 5262.099999999999, 3386.51, 36074.53, 76163.26000000001, 287.97, 12931.060000000003, 10359.93, 1879.96, 41138.45999999999, 9829.710000000003, 0.0, 5194.73, 181566.44999999975, 21376.729999999996, 37745.259999999995, 4148.66, 1524.24, 32259.090000000015, 396.0, 2848.5, 3152.1, 21687.55, 85095.55000000002, 121347.76000000002, 139843.99, 5648.22, 38367.19000000001, 204689.4300000002, 340034.64999999997, 36607.63, 50.0, 295407.8900000002, 34353.36000000001, 3620.2, 31.5, 580.0, 11501.020000000004, 48734.99, 37970.45, 1849.5400000000002, 4868.530000000001, 529.0, 1487.9, 2062.0, 0.0, 416572.2699999997, 0.0, 186675.88, 255129.19999999995, 12757.429999999995, 12671.260000000002, 0.0, 198.3, 41053.08000000001, 42499.04999999999, 3187.13, 25676.49, 3791.2399999999993, 355288.8099999998, 0.0, 103969.36999999998, 21935.769999999997, 41092.82000000001, 86794.35000000002, 27314.9, 113200.18999999996, 36836.04, 13319.199999999997, 0.0, 34226.36, 32268.19, 943.42, 6282.76, 49429.75000000004, 1320.55, 364.0, 34837.39, 10333.199999999999, 6259.04, 12171.219999999996, 2748.5999999999995, 27500.09, 4011.09, 116018.71999999999, 7067.51, 17.98, 14404.300000000001, 28346.610000000015, 524.0, 112944.7, 786.0, 2424.86, 29208.820000000007, 7632.45, 3051.64, 0.0, 0.0, 0.0, 28864.089999999997, 182693.8499999999, 0.0, 0.0, 15754.909999999993, 4322.2699999999995, 371.0, 220453.57999999827, 26283.980000000003, 98043.02000000008, 2874.44, 0.0, 93925.20999999998, 167071.40999999992, 217378.05999999988, 0.0, 243889.41999999972, 30991.8, 43.49, 3427.63, 8515.699999999999, 3082.9699999999993, 6999.639999999999, 435.0, 155419.39999999997, 1453.62, 2553.44, 10057.240000000002, 31486.199999999993, 127870.27999999998, 35776.28, 774.7199999999999, 2240.38, 1148.0, 6823.95, 1153.77, 1462.1000000000001, 0.0, 2870.05, 2179.2799999999997, 20284.61, 20284.61, 111240.14999999998, 60890.65999999999, 48701.01000000002, 45402.0, 3381.7500000000005, 300.77000000000004, 5229.91, 10008.92, 132717.06, 1295.3799999999999, 14316.38, 9596.05, 32835.62999999999, 50386.509999999995, 0.0, 1836.51, 2657.27, 527.7, 55.96, 304603.70999999996, 30880.430000000008, 21008.510000000002, 33229.98999999999, 65669.85999999999, 15057.48, 0.0, 3074.0, 269648.70999999996, 124485.17000000003, 1439.34, 2345.0099999999998, 7329.930000000001, 7329.930000000001, 54774.27000000001, 43620.63999999999, 179495.47999999995, 2295.8599999999997, 69760.79000000001, 3409.85, 11409.71, 14461.619999999999, 199139.62999999995, 639.85, 32066.52000000001, 39122.94, 500898.64999999956, 6023.1, 17671.719999999998, 48241.10999999999, 42973.3, 27981.56, 2821.71, 8493.970000000001, 590.0999999999999, 2158.5, 0.0, 58354.679999999986, 6170.39, 7996.240000000002, 2019.61, 185549.13, 407363.6099999998, 11204.08, 31520.300000000003, 620.0, 0.0, 0.0, 103.38, 2786.0, 9059.279999999999, 142874.65, 21118.68, 156.0, 0.0, 3921.2999999999997, 3123.0299999999997, 1897.85, 3674.0, 19086.889999999992, 5979.07, 943.88, 2064.0, 529.0, 11377.719999999998, 6752.39], \"y\": [175.0, 78472.1, 0.0, 50237.67, 0.0, 0.0, 0.0, 0.0, 2579.6, 0.0, 0.0, 0.0, 0.0, 0.0, 0.0, 0.0, 0.0, 0.0, 0.0, 0.0, 0.0, 0.0, 0.0, 0.0, 0.0, 0.0, 0.0, 0.0, 3055.97, 0.0, 0.0, 0.0, 0.0, 0.0, 0.0, 1677.0, 0.0, 0.0, 0.0, 0.0, 0.0, 0.0, 0.0, 0.0, 0.0, 23530.3, 1269.0, 0.0, 44.0, 0.0, 0.0, 0.0, 0.0, 0.0, 0.0, 2499.9, 0.0, 0.0, 15557.6, 0.0, 316.0, 0.0, 0.0, 0.0, 0.0, 0.0, 0.0, 0.0, 3178.4100000000008, 0.0, 117.0, 0.0, 0.0, 0.0, 0.0, 1075.0, 250.0, 0.0, 0.0, 0.0, 0.0, 0.0, 1199.0, 236.0, 0.0, 0.0, 0.0, 0.0, 0.0, 0.0, 0.0, 0.0, 7046.0, 0.0, 470.0, 0.0, 0.0, 2327.4, 0.0, 1628.0, 0.0, 169.0, 0.0, 2500.0, 1124.0, 0.0, 0.0, 15888.000000000002, 982.0, 0.0, 0.0, 0.0, 0.0, 0.0, 0.0, 852.0, 0.0, 0.0, 0.0, 0.0, 0.0, 0.0, 0.0, 0.0, 0.0, 0.0, 0.0, 0.0, 0.0, 0.0, 5599.4, 18.0, 50.0, 0.0, 1963.5, 0.0, 0.0, 0.0, 0.0, 22126.0, 7000.0, 0.0, 0.0, 0.0, 0.0, 0.0, 0.0, 0.0, 0.0, 0.0, 0.0, 0.0, 0.0, 0.0, 0.0, 0.0, 0.0, 0.0, 810.0, 0.0, 0.0, 0.0, 0.0, 0.0, 0.0, 0.0, 150.0, 0.0, 0.0, 0.0, 0.0, 50.0, 0.0, 0.0, 0.0, 0.0, 0.0, 4021.52, 0.0, 0.0, 0.0, 0.0, 13378.050000000001, 190.0, 0.0, 0.0, 0.0, 0.0, 0.0, 2722.2999999999997, 1005.0, 0.0, 7221.6, 27.0, 650.0, 0.0, 0.0, 0.0, 0.0, 600.0, 0.0, 0.0, 0.0, 950.0, 1654.0, 0.0, 0.0, 0.0, 0.0, 0.0, 0.0, 0.0, 0.0, 0.0, 0.0, 336.0, 12133.0, 0.0, 0.0, 0.0, 0.0, 0.0, 0.0, 0.0, 2290.5, 0.0, 77115.1, 0.0, 0.0, 0.0, 1500.0, 0.0, 0.0, 0.0, 0.0, 310.0, 235.0, 0.0, 5555.5, 0.0, 0.0, 0.0, 0.0, 0.0, 0.0, 7263.0, 0.0, 602.0, 0.0, 0.0, 0.0, 0.0, 0.0, 0.0, 0.0, 0.0, 0.0, 30.0, 0.0, 0.0, 0.0, 0.0, 0.0, 0.0, 0.0, 0.0, 0.0, 0.0, 0.0, 0.0, 0.0, 0.0, 0.0, 0.0, 0.0, 0.0, 0.0, 0.0, 0.0, 0.0, 4460.4, 22.0, 0.0, 0.0, 0.0, 0.0, 0.0, 0.0, 0.0, 0.0, 0.0, 0.0, 0.0, 0.0, 0.0, 0.0, 0.0, 0.0, 0.0, 420.0, 0.0, 0.0, 458.0, 0.0, 0.0, 0.0, 0.0, 5150.0, 0.0, 2440.0, 0.0, 0.0, 10738.6, 0.0, 0.0, 538.5, 0.0, 0.0, 391.0, 5599.8, 0.0, 0.0, 4658.4, 0.0, 0.0, 0.0, 700.0, 6141.6, 0.0, 18281.8, 0.0, 0.0, 0.0, 550.0, 0.0, 0.0, 0.0, 0.0, 41627.36, 0.0, 0.0, 0.0, 0.0, 0.0, 0.0, 77.0, 0.0, 0.0, 0.0, 0.0, 252.0, 0.0, 0.0, 0.0, 0.0, 25.0, 0.0, 0.0, 0.0, 0.0, 2263.6, 0.0, 0.0, 0.0, 1050.0, 0.0, 1132.0, 0.0, 0.0, 0.0, 0.0, 598.0, 301.0, 3290.0, 0.0, 0.0, 0.0, 9744.58, 0.0, 0.0, 0.0, 0.0, 0.0, 1766.0, 0.0, 2408.5, 0.0, 0.0, 0.0, 0.0, 4759.2, 0.0, 6293.0, 22567.0, 0.0, 930.0, 0.0, 0.0, 0.0, 0.0, 0.0, 0.0, 0.0, 3289.19, 0.0, 0.0, 1390.0, 800.0, 0.0, 0.0, 0.0, 0.0, 380.0, 0.0, 0.0, 0.0, 0.0, 0.0, 0.0, 0.0, 2403.0, 0.0, 0.0, 0.0, 19552.500000000004, 0.0, 4731.0, 0.0, 0.0, 0.0, 1640.0, 0.0, 0.0, 0.0, 0.0, 0.0, 24.0, 150.0, 0.0, 0.0, 0.0, 600.0, 0.0, 0.0, 0.0, 0.0, 0.0, 0.0, 0.0, 1536.0, 0.0, 2900.0, 0.0, 0.0, 500.0, 0.0, 280.0, 0.0, 0.0, 0.0, 0.0, 0.0, 0.0, 0.0, 0.0, 0.0, 0.0, 0.0, 770.0, 0.0, 0.0, 594.0, 9602.2, 0.0, 3374.0, 2494.56, 110306.82, 0.0, 5690.0, 504.70000000000005, 0.0, 6230.0, 0.0, 892.0, 28677.000000000004, 283.0, 1405.0, 0.0, 0.0, 0.0, 0.0, 0.0, 0.0, 0.0, 0.0, 0.0, 0.0, 0.0, 0.0, 0.0, 0.0, 0.0, 0.0, 0.0, 0.0, 0.0, 0.0, 0.0, 0.0, 0.0, 0.0, 0.0, 0.0, 0.0, 29337.35, 17691.89, 0.0, 0.0, 710.0, 0.0, 0.0, 0.0, 0.0, 0.0, 0.0, 400.0, 70316.1, 0.0, 0.0, 213.15, 0.0, 0.0, 0.0, 2076.2, 0.0, 0.0, 0.0, 0.0, 17129.0, 0.0, 0.0, 0.0, 0.0, 3767.0, 1284.6, 4310.0, 0.0, 0.0, 0.0, 572.0, 138.0, 7004.85, 0.0, 0.0, 1091.0, 0.0, 0.0, 0.0, 7498.400000000001, 0.0, 0.0, 475.0, 0.0, 20.0, 0.0, 451.0, 0.0, 0.0, 0.0, 0.0, 0.0, 0.0, 1140.0, 0.0, 0.0, 0.0, 0.0, 0.0, 0.0, 43.0, 0.0, 688.0, 0.0, 0.0, 0.0, 250.0, 0.0, 0.0, 360.0, 184.0, 200.0, 7712.0, 360.0, 0.0, 0.0, 0.0, 23613.7, 0.0, 306.0, 0.0, 0.0, 0.0, 156.0, 4264.9, 52.0, 0.0, 944.0, 0.0, 0.0, 0.0, 5288.85, 4855.0, 16414.8, 28992.9, 0.0, 40252.07000000001, 0.0, 0.0, 0.0, 440.0, 0.0, 0.0, 825.0, 350.0, 0.0, 0.0, 0.0, 0.0, 550.0, 0.0, 1630.0, 0.0, 0.0, 0.0, 0.0, 0.0, 0.0, 0.0, 0.0, 0.0, 0.0, 0.0, 0.0, 0.0, 0.0, 0.0, 16930.6, 0.0, 0.0, 0.0, 0.0, 0.0, 0.0, 0.0, 117.0, 5220.0, 0.0, 0.0, 175.0, 5137.5, 0.0, 0.0, 0.0, 0.0, 830.0, 0.0, 0.0, 0.0, 200.0, 0.0, 0.0, 0.0, 0.0, 0.0, 0.0, 0.0, 20801.7, 0.0, 0.0, 0.0, 0.0, 0.0, 0.0, 0.0, 100.0, 0.0, 0.0, 0.0, 0.0, 25.0, 0.0, 0.0, 25.0, 11847.600000000002, 0.0, 0.0, 0.0, 0.0, 3046.48, 0.0, 0.0, 0.0, 0.0, 0.0, 2456.95, 41859.899999999994, 0.0, 0.0, 370.0, 0.0, 250.0, 0.0, 0.0, 0.0, 0.0, 0.0, 50.0, 25.0, 0.0, 0.0, 0.0, 0.0, 650.0, 0.0, 0.0, 295.0, 3921.0, 0.0, 0.0, 0.0, 0.0, 1049.29, 0.0, 460.0, 300.0, 3432.0, 0.0, 0.0, 0.0, 0.0, 270.0, 210.0, 435.0, 150.0, 0.0, 0.0, 12356.0, 0.0, 0.0, 0.0, 2756.0, 0.0, 0.0, 0.0, 0.0, 0.0, 0.0, 0.0, 13980.0, 12399.0, 0.0, 479.0, 2232.05, 6947.0, 0.0, 0.0, 0.0, 0.0, 1159.0, 0.0, 1630.7, 0.0, 690.0, 0.0, 0.0, 0.0, 902.0, 0.0, 0.0, 552.0, 0.0, 0.0, 2662.0, 10133.05, 0.0, 6082.0, 0.0, 0.0, 0.0, 0.0, 0.0, 0.0, 0.0, 0.0, 0.0, 0.0, 0.0, 0.0, 0.0, 0.0, 0.0, 0.0, 0.0, 0.0, 0.0, 70.0, 0.0, 0.0, 0.0, 0.0, 0.0, 450.0, 22334.1, 0.0, 0.0, 250.0, 0.0, 0.0, 0.0, 0.0, 0.0, 6182.0, 0.0, 0.0, 0.0, 0.0, 0.0, 0.0, 0.0, 0.0, 0.0, 0.0, 180.0, 21288.03, 2060.0, 0.0, 0.0, 0.0, 0.0, 0.0, 0.0, 600.0, 0.0, 0.0, 0.0, 0.0, 0.0, 9205.32, 400.0, 0.0, 0.0, 0.0, 0.0, 0.0, 0.0, 480.0, 100.0, 0.0, 0.0, 0.0, 207.0, 0.0, 4539.200000000002, 0.0, 320.0, 320.0, 0.0, 0.0, 18276.0, 23981.079999999998, 0.0, 0.0, 0.0, 0.0, 0.0, 0.0, 0.0, 540.0, 100.0, 0.0, 4460.4, 432.0, 0.0, 0.0, 0.0, 0.0, 0.0, 0.0, 14366.0, 0.0, 13772.900000000001, 2476.0, 0.0, 0.0, 0.0, 54.0, 0.0, 0.0, 50.0, 0.0, 200.0, 0.0, 3523.85, 0.0, 3859.5, 480.0, 0.0, 0.0, 0.0, 0.0, 670.0, 0.0, 0.0, 434.0, 0.0, 0.0, 3630.0, 0.0, 0.0, 0.0, 0.0, 8687.0, 120.0, 0.0, 0.0, 1790.55, 1790.55, 500.0, 22574.550000000003, 0.0, 0.0, 35022.5, 5340.0, 75.0, 0.0, 77.0, 0.0, 0.0, 7437.0, 0.0, 53704.8, 46350.5, 4303.0, 863.0, 0.0, 9143.0, 2917.0, 0.0, 0.0, 920.0, 4647.0, 1107.8, 595.0, 0.0, 0.0, 0.0, 0.0, 0.0, 202.0, 15915.400000000001, 0.0, 0.0, 0.0, 7346.7, 955.0, 2691.0, 0.0, 0.0, 0.0, 0.0, 0.0, 0.0, 0.0, 0.0, 0.0, 0.0, 0.0, 0.0, 0.0, 0.0, 0.0, 0.0, 0.0, 0.0, 0.0, 14882.0, 341.0, 0.0, 0.0, 46.0, 0.0, 11551.0, 0.0, 1525.0, 4666.2, 12374.199999999999, 0.0, 100.0, 1258.0, 2503.0, 5261.120000000002, 208.0, 0.0, 1390.0, 0.0, 0.0, 54014.27000000004, 1918.0, 8442.7, 0.0, 2400.0, 289.0, 3499.62, 9584.8, 0.0, 0.0, 1050.25, 26589.0, 0.0, 0.0, 0.0, 30628.0, 8102.04, 719.0, 0.0, 1200.0, 0.0, 0.0, 13379.0, 799.0, 0.0, 400.0, 2654.8, 179.0, 0.0, 12699.0, 0.0, 25613.6, 12598.179999999998, 1809.56, 0.0, 19177.0, 11285.0, 37251.0, 1731.0, 0.0, 0.0, 1253.0, 0.0, 0.0, 0.0, 550.0, 0.0, 3270.0, 0.0, 0.0, 1250.0, 0.0, 1548.8, 152.0, 8417.0, 0.0, 0.0, 0.0, 0.0, 0.0, 0.0, 0.0, 0.0, 0.0, 40.0, 0.0, 30.0, 4876.75, 0.0, 987.0, 0.0, 57696.83, 4731.0, 14652.5, 0.0, 0.0, 7860.0, 0.0, 0.0, 25984.95, 3193.0, 3407.0, 0.0, 0.0, 0.0, 0.0, 0.0, 0.0, 4034.0, 0.0, 0.0, 9378.88, 0.0, 0.0, 6467.8, 0.0, 0.0, 300.0, 0.0, 0.0, 0.0, 0.0, 33181.19, 0.0, 0.0, 0.0, 0.0, 400.0, 620.0, 0.0, 1710.0, 0.0, 0.0, 0.0, 0.0, 0.0, 0.0, 0.0, 0.0, 380.0, 0.0, 0.0, 60.0, 0.0, 0.0, 0.0, 0.0, 135.0, 0.0, 0.0, 0.0, 2410.2, 0.0, 0.0, 23003.1, 2091.0, 0.0, 224.0, 0.0, 0.0, 0.0, 1289.5800000000002, 1289.5800000000002, 8919.3, 8012.599999999999, 0.0, 230.0, 0.0, 50912.65999999998, 130.0, 0.0, 0.0, 0.0, 0.0, 11887.6, 98.0, 750.0, 0.0, 0.0, 0.0, 0.0, 0.0, 0.0, 13750.150000000001, 0.0, 20833.02, 0.0, 3277.0, 0.0, 25795.4, 0.0, 0.0, 0.0, 0.0, 0.0, 0.0, 22321.5, 21.0, 0.0, 0.0, 0.0, 1585.2, 1585.2, 242.0, 0.0, 0.0, 0.0, 0.0, 0.0, 2938.75, 0.0, 0.0, 60.0, 33345.700000000004, 0.0, 0.0, 0.0, 0.0, 0.0, 0.0, 0.0, 0.0, 1628.0, 0.0, 0.0, 0.0, 0.0, 2440.9700000000003, 130.0, 18306.4, 390.0, 0.0, 3009.5, 0.0, 0.0, 0.0, 602.0, 602.0, 0.0, 0.0, 0.0, 0.0, 0.0, 0.0, 0.0, 0.0, 0.0, 0.0, 0.0, 1861.0, 0.0, 21027.0, 0.0, 0.0, 3095.0, 0.0, 0.0, 0.0, 0.0, 33578.0, 0.0, 0.0, 0.0, 0.0, 0.0, 11881.589999999998, 0.0, 0.0, 0.0, 0.0, 0.0, 0.0, 0.0, 0.0, 0.0, 0.0, 0.0, 0.0, 0.0, 0.0, 27.0, 0.0, 0.0, 0.0, 100.0, 0.0, 2985.0, 20303.4, 20303.4, 13761.49, 0.0, 0.0, 20.0, 0.0, 0.0, 0.0, 0.0, 0.0, 0.0, 0.0, 0.0, 0.0, 0.0, 0.0, 0.0, 0.0, 0.0, 0.0, 0.0, 0.0, 0.0, 0.0, 0.0, 0.0, 0.0, 280.0, 0.0, 2070.0, 0.0, 0.0, 0.0, 0.0, 0.0, 0.0, 0.0, 0.0, 0.0, 0.0, 0.0, 0.0, 0.0, 0.0, 0.0, 0.0, 0.0, 0.0, 433.0, 0.0, 8305.0, 130.0, 0.0, 670.0, 0.0, 0.0, 0.0, 559.0, 1007.6, 2631.0, 30382.0, 0.0, 0.0, 17507.9, 0.0, 0.0, 271.0, 271.0, 0.0, 710.0, 0.0, 1320.0, 0.0, 560.0, 0.0, 0.0, 0.0, 460.0, 1623.4, 562.75, 0.0, 353.0, 18929.0, 2978.0, 0.0, 300.0, 18101.0, 440.0, 0.0, 0.0, 0.0, 0.0, 0.0, 30954.9, 3737.0, 0.0, 870.0, 0.0, 2585.0, 2709.0, 606.0, 540.0, 0.0, 0.0, 0.0, 0.0, 0.0, 0.0, 0.0, 3859.0, 1007.6, 0.0, 4510.0, 0.0, 370.0, 1808.0, 0.0, 0.0, 0.0, 0.0, 0.0, 0.0, 0.0, 0.0, 0.0, 0.0, 0.0, 0.0, 12083.0, 2704.0, 1267.0, 18253.35, 0.0, 0.0, 638.6, 0.0, 3131.1999999999994, 128.0, 580.0, 8594.34, 8594.34, 0.0, 4490.0, 0.0, 0.0, 0.0, 6020.0, 0.0, 3195.0, 0.0, 315.0, 0.0, 0.0, 650.0, 0.0, 0.0, 0.0, 170.0, 5394.2, 0.0, 2293.0, 200.0, 0.0, 0.0, 0.0, 3093.3, 1174.2, 0.0, 98.0, 50.0, 0.0, 0.0, 0.0, 0.0, 0.0, 0.0, 1988.0, 607.3, 0.0, 0.0, 0.0, 0.0, 100.0, 0.0, 0.0, 0.0, 0.0, 0.0, 0.0, 5555.5, 0.0, 0.0, 0.0, 0.0, 60.0, 0.0, 100.0, 1025.0, 1122.0, 0.0, 3711.0, 0.0, 0.0, 0.0, 6376.0, 0.0, 2598.0, 1060.0, 0.0, 0.0, 4019.34, 40.0, 0.0, 0.0, 0.0, 680.0, 0.0, 0.0, 0.0, 0.0, 0.0, 203.5, 0.0, 0.0, 0.0, 0.0, 0.0, 0.0, 725.2, 0.0, 0.0, 0.0, 7903.2, 3141.5, 0.0, 0.0, 0.0, 0.0, 1062.0, 0.0, 80.0, 0.0, 0.0, 0.0, 0.0, 400.0, 77.0, 0.0, 0.0, 458.0, 0.0, 0.0, 0.0, 1771.1, 0.0, 0.0, 0.0, 0.0, 0.0, 504.0, 500.0, 0.0, 0.0, 0.0, 100.0, 0.0, 52409.54999999999, 0.0, 52409.54999999999, 0.0, 457.0, 1230.0, 33499.48, 0.0, 59574.799999999996, 0.0, 0.0, 317.9, 0.0, 0.0, 1057.0, 0.0, 1900.8399999999997, 0.0, 1026.0, 566.0, 0.0, 0.0, 0.0, 4113.0, 8163.99, 0.0, 1088.0, 0.0, 0.0, 0.0, 0.0, 0.0, 4508.8, 700.0, 3322.0, 230.0, 600.0, 30520.27, 0.0, 25.0, 23862.690000000002, 27884.610000000004, 0.0, 1000.0, 11899.0, 0.0, 0.0, 5677.0, 226.60000000000002, 604.0, 115.0, 0.0, 1452.88, 3174.0, 11834.3, 150.0, 0.0, 0.0, 30628.0, 189.0, 976.0, 13903.0, 54.0, 4182.0, 0.0, 0.0, 954.9000000000001, 4701.2, 0.0, 0.0, 0.0, 13320.499999999998, 0.0, 9191.0, 0.0, 3261.0, 0.0, 0.0, 3964.98, 0.0, 0.0, 0.0, 0.0, 0.0, 17053.239999999998, 105351.90000000001, 0.0, 50693.799999999996, 15663.0, 0.0, 0.0, 0.0, 0.0, 0.0, 0.0, 0.0, 1641.0, 0.0, 0.0, 0.0, 0.0, 0.0, 0.0, 46134.36, 0.0, 0.0, 0.0, 0.0, 4001.0, 0.0, 0.0, 0.0, 4128.6, 0.0, 0.0, 0.0, 8321.0, 0.0, 0.0, 0.0, 0.0, 0.0, 0.0, 0.0, 25357.5, 16923.0, 0.0, 0.0, 0.0, 456.0, 0.0, 0.0, 0.0, 0.0, 0.0, 0.0, 0.0, 0.0, 13874.999999999998, 4409.0, 0.0, 0.0, 0.0, 0.0, 3122.0, 0.0, 0.0, 1300.0, 674.0, 0.0, 0.0, 0.0, 580.0, 45.0, 0.0, 0.0, 0.0, 0.0, 0.0, 0.0, 0.0, 0.0, 0.0, 0.0, 0.0, 0.0, 0.0, 0.0, 764.0, 0.0, 0.0, 0.0, 90.0, 0.0, 0.0, 0.0, 0.0, 0.0, 0.0, 0.0, 0.0, 0.0, 0.0, 0.0, 300.0, 0.0, 0.0, 0.0, 2653.0, 2194.0, 159.0, 0.0, 0.0, 141.0, 0.0, 0.0, 0.0, 504.0, 0.0, 0.0, 759.5, 0.0, 0.0, 0.0, 1626.5, 80.0, 0.0, 6934.4, 372.0, 0.0, 0.0, 0.0, 0.0, 0.0, 0.0, 19.0, 12344.0, 0.0, 0.0, 0.0, 952.0, 1983.0, 2984.0, 1160.0, 3099.3, 2880.0, 0.0, 0.0, 50.0, 2196.0, 0.0, 0.0, 27.0, 0.0, 0.0, 0.0, 0.0, 0.0, 0.0, 100.0, 454.0, 0.0, 0.0, 910.0, 5831.2, 0.0, 0.0, 2369.5, 0.0, 100.0, 0.0, 0.0, 0.0, 0.0, 0.0, 0.0, 0.0, 0.0, 0.0, 1500.0, 0.0, 0.0, 0.0, 500.0, 0.0, 8233.2, 0.0, 0.0, 0.0, 0.0, 0.0, 720.0, 0.0, 0.0, 0.0, 615.0, 0.0, 1100.5, 10786.0, 160.0, 0.0, 0.0, 0.0, 910.0, 12146.22, 1510.0, 0.0, 0.0, 0.0, 0.0, 0.0, 0.0, 3244.0, 0.0, 20.0, 602.0, 5978.099999999999, 0.0, 0.0, 0.0, 0.0, 0.0, 0.0, 0.0, 0.0, 0.0, 20782.2, 0.0, 0.0, 0.0, 0.0, 0.0, 80.0, 0.0, 0.0, 0.0, 0.0, 0.0, 0.0, 0.0, 0.0, 0.0, 0.0, 150.0, 0.0, 0.0, 0.0, 0.0, 0.0, 0.0, 0.0, 0.0, 0.0, 0.0, 0.0, 0.0, 0.0, 0.0, 0.0, 0.0, 0.0, 0.0, 2879.5, 0.0, 0.0, 0.0, 0.0, 0.0, 0.0, 0.0, 0.0, 0.0, 0.0, 0.0, 0.0, 0.0, 0.0, 0.0, 500.0, 0.0, 0.0, 955.0, 291.8, 955.0, 0.0, 0.0, 17183.1, 1230.0, 0.0, 0.0, 0.0, 0.0, 0.0, 0.0, 85.0, 0.0, 75.0, 0.0, 0.0, 9147.740000000002, 75.0, 0.0, 16949.9, 0.0, 160.0, 3271.6, 0.0, 17648.6, 0.0, 400.0, 1163.0, 0.0, 0.0, 0.0, 0.0, 0.0, 0.0, 158.0, 0.0, 0.0, 1999.0, 421.0, 0.0, 9607.6, 0.0, 0.0, 1213.0, 7455.0, 0.0, 1918.0, 0.0, 0.0, 0.0, 0.0, 0.0, 0.0, 1127.0, 0.0, 6130.0, 0.0, 3074.0, 0.0, 966.0, 52.0, 54014.27000000004, 0.0, 0.0, 0.0, 192.0, 3374.0, 0.0, 8525.0, 0.0, 0.0, 0.0, 0.0, 0.0, 0.0, 0.0, 0.0, 6961.2, 526.0, 24522.7, 0.0, 0.0, 0.0, 0.0, 921.0, 921.0, 0.0, 0.0, 499.8, 0.0, 0.0, 0.0, 0.0, 0.0, 0.0, 0.0, 0.0, 50.0, 0.0, 836.0, 836.0, 0.0, 8239.5, 0.0, 918.0, 0.0, 28952.3, 7563.8, 0.0, 0.0, 0.0, 0.0, 0.0, 0.0, 0.0, 1160.0, 0.0, 999.75, 10606.6, 0.0, 950.0, 0.0, 0.0, 0.0, 0.0, 0.0, 736.0, 0.0, 0.0, 0.0, 0.0, 0.0, 14064.9, 0.0, 20.0, 0.0, 0.0, 280.0, 0.0, 200.0, 710.0, 0.0, 0.0, 0.0, 0.0, 66311.0, 0.0, 0.0, 0.0, 0.0, 121815.55, 0.0, 0.0, 232.0, 0.0, 0.0, 0.0, 0.0, 0.0, 1671.0, 688.0, 0.0, 1320.0, 183.0, 2021.2, 130.0, 11244.869999999999, 0.0, 425.0, 375.0, 0.0, 0.0, 0.0, 0.0, 10354.4, 10354.4, 0.0, 4224.6, 0.0, 93.0, 0.0, 0.0, 0.0, 0.0, 22291.010000000002, 0.0, 0.0, 0.0, 0.0, 0.0, 0.0, 0.0, 0.0, 0.0, 0.0, 0.0, 0.0, 0.0, 0.0, 500.0, 0.0, 328.0, 435.0, 0.0, 2310.0, 2310.0, 0.0, 0.0, 0.0, 0.0, 0.0, 0.0, 2232.05, 0.0, 0.0, 85.0, 0.0, 1375.5, 0.0, 0.0, 0.0, 0.0, 0.0, 0.0, 0.0, 0.0, 0.0, 0.0, 108.0, 0.0, 810.0, 0.0, 0.0, 0.0, 0.0, 0.0, 0.0, 0.0, 0.0, 0.0, 0.0, 0.0, 0.0, 0.0, 610.0, 0.0, 0.0, 0.0, 22945.0, 0.0, 0.0, 763.0, 0.0, 0.0, 0.0, 5935.5, 0.0, 0.0, 0.0, 0.0, 0.0, 2767.0, 0.0, 0.0, 0.0, 0.0, 0.0, 450.0, 0.0, 4489.0, 0.0, 15706.0, 25.0, 0.0, 0.0, 0.0, 2090.0, 400.0, 12569.3, 0.0, 0.0, 0.0, 5640.0, 0.0, 390.0, 0.0, 1323.0, 0.0, 8059.37, 0.0, 0.0, 420.0, 0.0, 175.0, 0.0, 0.0, 8267.0, 912.0, 0.0, 0.0, 0.0, 0.0, 0.0, 0.0, 0.0, 0.0, 0.0, 0.0, 4731.0, 0.0, 280.0, 3604.65, 0.0, 500.0, 200.0, 0.0, 0.0, 2765.0, 0.0, 0.0, 0.0, 0.0, 3000.0, 1827.0, 0.0, 0.0, 0.0, 0.0, 97.0, 316.0, 468.0, 2605.3, 750.0, 0.0, 0.0, 20833.02, 0.0, 0.0, 20149.0, 20.0, 0.0, 0.0, 84.0, 19.0, 0.0, 0.0, 0.0, 0.0, 0.0, 400.0, 0.0, 600.0, 0.0, 0.0, 0.0, 0.0, 0.0, 0.0, 0.0, 0.0, 0.0, 0.0, 0.0, 0.0, 0.0, 3802.0, 904.3, 0.0, 0.0, 0.0, 0.0, 0.0, 5418.0, 0.0, 0.0, 0.0, 0.0, 170.0, 0.0, 0.0, 0.0, 0.0, 0.0, 40.0, 0.0, 0.0, 0.0, 0.0, 0.0, 0.0, 0.0, 12996.8, 0.0, 0.0, 0.0, 60.0, 60.0, 50.0, 0.0, 300.0, 0.0, 0.0, 0.0, 0.0, 0.0, 660.0, 0.0, 0.0, 0.0, 34731.380000000005, 0.0, 0.0, 0.0, 6846.0, 0.0, 0.0, 0.0, 0.0, 646.2, 0.0, 480.0, 0.0, 0.0, 0.0, 465.0, 0.0, 0.0, 3290.0, 924.0, 0.0, 0.0, 0.0, 0.0, 1386.0, 0.0, 0.0, 0.0, 0.0, 0.0, 0.0, 0.0, 0.0, 0.0, 314.0, 0.0, 0.0, 0.0, 4196.1, 0.0]}],\n",
              "                        {\"height\": 500, \"template\": {\"data\": {\"bar\": [{\"error_x\": {\"color\": \"#2a3f5f\"}, \"error_y\": {\"color\": \"#2a3f5f\"}, \"marker\": {\"line\": {\"color\": \"#E5ECF6\", \"width\": 0.5}}, \"type\": \"bar\"}], \"barpolar\": [{\"marker\": {\"line\": {\"color\": \"#E5ECF6\", \"width\": 0.5}}, \"type\": \"barpolar\"}], \"carpet\": [{\"aaxis\": {\"endlinecolor\": \"#2a3f5f\", \"gridcolor\": \"white\", \"linecolor\": \"white\", \"minorgridcolor\": \"white\", \"startlinecolor\": \"#2a3f5f\"}, \"baxis\": {\"endlinecolor\": \"#2a3f5f\", \"gridcolor\": \"white\", \"linecolor\": \"white\", \"minorgridcolor\": \"white\", \"startlinecolor\": \"#2a3f5f\"}, \"type\": \"carpet\"}], \"choropleth\": [{\"colorbar\": {\"outlinewidth\": 0, \"ticks\": \"\"}, \"type\": \"choropleth\"}], \"contour\": [{\"colorbar\": {\"outlinewidth\": 0, \"ticks\": \"\"}, \"colorscale\": [[0.0, \"#0d0887\"], [0.1111111111111111, \"#46039f\"], [0.2222222222222222, \"#7201a8\"], [0.3333333333333333, \"#9c179e\"], [0.4444444444444444, \"#bd3786\"], [0.5555555555555556, \"#d8576b\"], [0.6666666666666666, \"#ed7953\"], [0.7777777777777778, \"#fb9f3a\"], [0.8888888888888888, \"#fdca26\"], [1.0, \"#f0f921\"]], \"type\": \"contour\"}], \"contourcarpet\": [{\"colorbar\": {\"outlinewidth\": 0, \"ticks\": \"\"}, \"type\": \"contourcarpet\"}], \"heatmap\": [{\"colorbar\": {\"outlinewidth\": 0, \"ticks\": \"\"}, \"colorscale\": [[0.0, \"#0d0887\"], [0.1111111111111111, \"#46039f\"], [0.2222222222222222, \"#7201a8\"], [0.3333333333333333, \"#9c179e\"], [0.4444444444444444, \"#bd3786\"], [0.5555555555555556, \"#d8576b\"], [0.6666666666666666, \"#ed7953\"], [0.7777777777777778, \"#fb9f3a\"], [0.8888888888888888, \"#fdca26\"], [1.0, \"#f0f921\"]], \"type\": \"heatmap\"}], \"heatmapgl\": [{\"colorbar\": {\"outlinewidth\": 0, \"ticks\": \"\"}, \"colorscale\": [[0.0, \"#0d0887\"], [0.1111111111111111, \"#46039f\"], [0.2222222222222222, \"#7201a8\"], [0.3333333333333333, \"#9c179e\"], [0.4444444444444444, \"#bd3786\"], [0.5555555555555556, \"#d8576b\"], [0.6666666666666666, \"#ed7953\"], [0.7777777777777778, \"#fb9f3a\"], [0.8888888888888888, \"#fdca26\"], [1.0, \"#f0f921\"]], \"type\": \"heatmapgl\"}], \"histogram\": [{\"marker\": {\"colorbar\": {\"outlinewidth\": 0, \"ticks\": \"\"}}, \"type\": \"histogram\"}], \"histogram2d\": [{\"colorbar\": {\"outlinewidth\": 0, \"ticks\": \"\"}, \"colorscale\": [[0.0, \"#0d0887\"], [0.1111111111111111, \"#46039f\"], [0.2222222222222222, \"#7201a8\"], [0.3333333333333333, \"#9c179e\"], [0.4444444444444444, \"#bd3786\"], [0.5555555555555556, \"#d8576b\"], [0.6666666666666666, \"#ed7953\"], [0.7777777777777778, \"#fb9f3a\"], [0.8888888888888888, \"#fdca26\"], [1.0, \"#f0f921\"]], \"type\": \"histogram2d\"}], \"histogram2dcontour\": [{\"colorbar\": {\"outlinewidth\": 0, \"ticks\": \"\"}, \"colorscale\": [[0.0, \"#0d0887\"], [0.1111111111111111, \"#46039f\"], [0.2222222222222222, \"#7201a8\"], [0.3333333333333333, \"#9c179e\"], [0.4444444444444444, \"#bd3786\"], [0.5555555555555556, \"#d8576b\"], [0.6666666666666666, \"#ed7953\"], [0.7777777777777778, \"#fb9f3a\"], [0.8888888888888888, \"#fdca26\"], [1.0, \"#f0f921\"]], \"type\": \"histogram2dcontour\"}], \"mesh3d\": [{\"colorbar\": {\"outlinewidth\": 0, \"ticks\": \"\"}, \"type\": \"mesh3d\"}], \"parcoords\": [{\"line\": {\"colorbar\": {\"outlinewidth\": 0, \"ticks\": \"\"}}, \"type\": \"parcoords\"}], \"pie\": [{\"automargin\": true, \"type\": \"pie\"}], \"scatter\": [{\"marker\": {\"colorbar\": {\"outlinewidth\": 0, \"ticks\": \"\"}}, \"type\": \"scatter\"}], \"scatter3d\": [{\"line\": {\"colorbar\": {\"outlinewidth\": 0, \"ticks\": \"\"}}, \"marker\": {\"colorbar\": {\"outlinewidth\": 0, \"ticks\": \"\"}}, \"type\": \"scatter3d\"}], \"scattercarpet\": [{\"marker\": {\"colorbar\": {\"outlinewidth\": 0, \"ticks\": \"\"}}, \"type\": \"scattercarpet\"}], \"scattergeo\": [{\"marker\": {\"colorbar\": {\"outlinewidth\": 0, \"ticks\": \"\"}}, \"type\": \"scattergeo\"}], \"scattergl\": [{\"marker\": {\"colorbar\": {\"outlinewidth\": 0, \"ticks\": \"\"}}, \"type\": \"scattergl\"}], \"scattermapbox\": [{\"marker\": {\"colorbar\": {\"outlinewidth\": 0, \"ticks\": \"\"}}, \"type\": \"scattermapbox\"}], \"scatterpolar\": [{\"marker\": {\"colorbar\": {\"outlinewidth\": 0, \"ticks\": \"\"}}, \"type\": \"scatterpolar\"}], \"scatterpolargl\": [{\"marker\": {\"colorbar\": {\"outlinewidth\": 0, \"ticks\": \"\"}}, \"type\": \"scatterpolargl\"}], \"scatterternary\": [{\"marker\": {\"colorbar\": {\"outlinewidth\": 0, \"ticks\": \"\"}}, \"type\": \"scatterternary\"}], \"surface\": [{\"colorbar\": {\"outlinewidth\": 0, \"ticks\": \"\"}, \"colorscale\": [[0.0, \"#0d0887\"], [0.1111111111111111, \"#46039f\"], [0.2222222222222222, \"#7201a8\"], [0.3333333333333333, \"#9c179e\"], [0.4444444444444444, \"#bd3786\"], [0.5555555555555556, \"#d8576b\"], [0.6666666666666666, \"#ed7953\"], [0.7777777777777778, \"#fb9f3a\"], [0.8888888888888888, \"#fdca26\"], [1.0, \"#f0f921\"]], \"type\": \"surface\"}], \"table\": [{\"cells\": {\"fill\": {\"color\": \"#EBF0F8\"}, \"line\": {\"color\": \"white\"}}, \"header\": {\"fill\": {\"color\": \"#C8D4E3\"}, \"line\": {\"color\": \"white\"}}, \"type\": \"table\"}]}, \"layout\": {\"annotationdefaults\": {\"arrowcolor\": \"#2a3f5f\", \"arrowhead\": 0, \"arrowwidth\": 1}, \"coloraxis\": {\"colorbar\": {\"outlinewidth\": 0, \"ticks\": \"\"}}, \"colorscale\": {\"diverging\": [[0, \"#8e0152\"], [0.1, \"#c51b7d\"], [0.2, \"#de77ae\"], [0.3, \"#f1b6da\"], [0.4, \"#fde0ef\"], [0.5, \"#f7f7f7\"], [0.6, \"#e6f5d0\"], [0.7, \"#b8e186\"], [0.8, \"#7fbc41\"], [0.9, \"#4d9221\"], [1, \"#276419\"]], \"sequential\": [[0.0, \"#0d0887\"], [0.1111111111111111, \"#46039f\"], [0.2222222222222222, \"#7201a8\"], [0.3333333333333333, \"#9c179e\"], [0.4444444444444444, \"#bd3786\"], [0.5555555555555556, \"#d8576b\"], [0.6666666666666666, \"#ed7953\"], [0.7777777777777778, \"#fb9f3a\"], [0.8888888888888888, \"#fdca26\"], [1.0, \"#f0f921\"]], \"sequentialminus\": [[0.0, \"#0d0887\"], [0.1111111111111111, \"#46039f\"], [0.2222222222222222, \"#7201a8\"], [0.3333333333333333, \"#9c179e\"], [0.4444444444444444, \"#bd3786\"], [0.5555555555555556, \"#d8576b\"], [0.6666666666666666, \"#ed7953\"], [0.7777777777777778, \"#fb9f3a\"], [0.8888888888888888, \"#fdca26\"], [1.0, \"#f0f921\"]]}, \"colorway\": [\"#636efa\", \"#EF553B\", \"#00cc96\", \"#ab63fa\", \"#FFA15A\", \"#19d3f3\", \"#FF6692\", \"#B6E880\", \"#FF97FF\", \"#FECB52\"], \"font\": {\"color\": \"#2a3f5f\"}, \"geo\": {\"bgcolor\": \"white\", \"lakecolor\": \"white\", \"landcolor\": \"#E5ECF6\", \"showlakes\": true, \"showland\": true, \"subunitcolor\": \"white\"}, \"hoverlabel\": {\"align\": \"left\"}, \"hovermode\": \"closest\", \"mapbox\": {\"style\": \"light\"}, \"paper_bgcolor\": \"white\", \"plot_bgcolor\": \"#E5ECF6\", \"polar\": {\"angularaxis\": {\"gridcolor\": \"white\", \"linecolor\": \"white\", \"ticks\": \"\"}, \"bgcolor\": \"#E5ECF6\", \"radialaxis\": {\"gridcolor\": \"white\", \"linecolor\": \"white\", \"ticks\": \"\"}}, \"scene\": {\"xaxis\": {\"backgroundcolor\": \"#E5ECF6\", \"gridcolor\": \"white\", \"gridwidth\": 2, \"linecolor\": \"white\", \"showbackground\": true, \"ticks\": \"\", \"zerolinecolor\": \"white\"}, \"yaxis\": {\"backgroundcolor\": \"#E5ECF6\", \"gridcolor\": \"white\", \"gridwidth\": 2, \"linecolor\": \"white\", \"showbackground\": true, \"ticks\": \"\", \"zerolinecolor\": \"white\"}, \"zaxis\": {\"backgroundcolor\": \"#E5ECF6\", \"gridcolor\": \"white\", \"gridwidth\": 2, \"linecolor\": \"white\", \"showbackground\": true, \"ticks\": \"\", \"zerolinecolor\": \"white\"}}, \"shapedefaults\": {\"line\": {\"color\": \"#2a3f5f\"}}, \"ternary\": {\"aaxis\": {\"gridcolor\": \"white\", \"linecolor\": \"white\", \"ticks\": \"\"}, \"baxis\": {\"gridcolor\": \"white\", \"linecolor\": \"white\", \"ticks\": \"\"}, \"bgcolor\": \"#E5ECF6\", \"caxis\": {\"gridcolor\": \"white\", \"linecolor\": \"white\", \"ticks\": \"\"}}, \"title\": {\"x\": 0.05}, \"xaxis\": {\"automargin\": true, \"gridcolor\": \"white\", \"linecolor\": \"white\", \"ticks\": \"\", \"title\": {\"standoff\": 15}, \"zerolinecolor\": \"white\", \"zerolinewidth\": 2}, \"yaxis\": {\"automargin\": true, \"gridcolor\": \"white\", \"linecolor\": \"white\", \"ticks\": \"\", \"title\": {\"standoff\": 15}, \"zerolinecolor\": \"white\", \"zerolinewidth\": 2}}}, \"width\": 1300, \"xaxis\": {\"title\": {\"text\": \"\\u0415\\u0434\\u0430\"}}, \"yaxis\": {\"title\": {\"text\": \"\\u0422\\u0440\\u0430\\u043d\\u0441\\u043f\\u043e\\u0440\\u0442\"}}},\n",
              "                        {\"responsive\": true}\n",
              "                    ).then(function(){\n",
              "                            \n",
              "var gd = document.getElementById('b91d1232-15b0-4199-bc03-520bb7af70be');\n",
              "var x = new MutationObserver(function (mutations, observer) {{\n",
              "        var display = window.getComputedStyle(gd).display;\n",
              "        if (!display || display === 'none') {{\n",
              "            console.log([gd, 'removed!']);\n",
              "            Plotly.purge(gd);\n",
              "            observer.disconnect();\n",
              "        }}\n",
              "}});\n",
              "\n",
              "// Listen for the removal of the full notebook cells\n",
              "var notebookContainer = gd.closest('#notebook-container');\n",
              "if (notebookContainer) {{\n",
              "    x.observe(notebookContainer, {childList: true});\n",
              "}}\n",
              "\n",
              "// Listen for the clearing of the current output cell\n",
              "var outputEl = gd.closest('.output');\n",
              "if (outputEl) {{\n",
              "    x.observe(outputEl, {childList: true});\n",
              "}}\n",
              "\n",
              "                        })\n",
              "                };\n",
              "                \n",
              "            </script>\n",
              "        </div>\n",
              "</body>\n",
              "</html>"
            ]
          },
          "metadata": {}
        }
      ]
    },
    {
      "cell_type": "markdown",
      "source": [
        "## Теперь построим трёхмерный график кластеров:"
      ],
      "metadata": {
        "id": "rZvIcf8rhZQ7"
      }
    },
    {
      "cell_type": "code",
      "source": [
        "X = t.loc[:, ['Еда', 'Транспорт', 'Доход']].values\n",
        "\n",
        "wcss = []\n",
        "for i in range(1,11):\n",
        "  kmeans = KMeans(n_clusters=i, init='k-means++', random_state=42)\n",
        "  kmeans.fit(X)\n",
        "  wcss.append(kmeans.inertia_)\n",
        "plt.plot(range(1,11), wcss)\n",
        "plt.show()"
      ],
      "metadata": {
        "colab": {
          "base_uri": "https://localhost:8080/",
          "height": 276
        },
        "id": "AKHh_K0cTq57",
        "outputId": "28494558-7ed3-49da-f562-7dafce59805f"
      },
      "execution_count": null,
      "outputs": [
        {
          "output_type": "display_data",
          "data": {
            "image/png": "[encoded data removed]",
            "text/plain": [
              "<Figure size 432x288 with 1 Axes>"
            ]
          },
          "metadata": {
            "needs_background": "light"
          }
        }
      ]
    },
    {
      "cell_type": "code",
      "source": [
        "# import plotly as ply\n",
        "import pandas as pd\n",
        "\n",
        "\n",
        "scatter = dict(\n",
        "    mode = \"markers\",\n",
        "    name = \"y\",\n",
        "    type = \"scatter3d\",\n",
        "    x = t['Еда'], y = t['Транспорт'], z = t['Доход'],\n",
        "    marker = dict( size=2, color=\"rgb(23, 190, 207)\" )\n",
        ")\n",
        "clusters = dict(\n",
        "    alphahull = 7,\n",
        "    name = \"y\",\n",
        "    opacity = 0.1,\n",
        "    type = \"mesh3d\",\n",
        "    x = t['Еда'], y = t['Транспорт'], z = t['Доход'],\n",
        ")\n",
        "layout = dict(\n",
        "    scene = dict(\n",
        "        xaxis = dict(title  = 'Еда'),\n",
        "        yaxis = dict(title  = 'Транспорт'),\n",
        "        zaxis = dict(title  = 'Доход')\n",
        "    )\n",
        ")\n",
        "fig = dict( data=[scatter, clusters], layout=layout )\n",
        "py.iplot(fig)"
      ],
      "metadata": {
        "colab": {
          "base_uri": "https://localhost:8080/",
          "height": 542
        },
        "id": "jBq8ZeCUOnHM",
        "outputId": "53fca486-bd9e-4352-b713-1e19cf4f699e"
      },
      "execution_count": null,
      "outputs": [
        {
          "output_type": "display_data",
          "data": {
            "text/html": [
              "<html>\n",
              "<head><meta charset=\"utf-8\" /></head>\n",
              "<body>\n",
              "    <div>\n",
              "            <script src=\"https://cdnjs.cloudflare.com/ajax/libs/mathjax/2.7.5/MathJax.js?config=TeX-AMS-MML_SVG\"></script><script type=\"text/javascript\">if (window.MathJax) {MathJax.Hub.Config({SVG: {font: \"STIX-Web\"}});}</script>\n",
              "                <script type=\"text/javascript\">window.PlotlyConfig = {MathJaxConfig: 'local'};</script>\n",
              "        <script src=\"https://cdn.plot.ly/plotly-latest.min.js\"></script>    \n",
              "            <div id=\"df67f998-96ec-469b-b484-6821294b3831\" class=\"plotly-graph-div\" style=\"height:525px; width:100%;\"></div>\n",
              "            <script type=\"text/javascript\">\n",
              "                \n",
              "                    window.PLOTLYENV=window.PLOTLYENV || {};\n",
              "                    \n",
              "                if (document.getElementById(\"df67f998-96ec-469b-b484-6821294b3831\")) {\n",
              "                    Plotly.newPlot(\n",
              "                        'df67f998-96ec-469b-b484-6821294b3831',\n",
              "                        [{\"marker\": {\"color\": \"rgb(23, 190, 207)\", \"size\": 2}, \"mode\": \"markers\", \"name\": \"y\", \"type\": \"scatter3d\", \"x\": [1501.0300000000002, 323821.22, 1834.4, 28665.86, 324.0, 10089.56, 54119.95, 2598.08, 5595.889999999999, 766.8, 0.0, 31406.56, 87913.68000000001, 13861.18, 7785.640000000002, 0.0, 0.0, 1523.96, 101003.27000000006, 27956.340000000007, 10934.639999999998, 6584.86, 33122.15, 11911.95, 0.0, 1213.28, 15511.329999999998, 22118.429999999997, 4832.28, 2690.9, 3083.0, 1953.98, 53742.46000000001, 0.0, 6971.01, 9498.650000000001, 120.5, 716.98, 9027.24, 0.0, 11422.960000000001, 2891.08, 1111.1999999999998, 938.53, 146.8, 81614.54, 22611.11, 0.0, 3243.72, 472.7, 472.7, 53104.649999999994, 2419.99, 151.3, 54602.910000000025, 13238.07, 8693.06, 4683.8, 60549.55999999999, 790.59, 220453.57999999827, 59.8, 0.0, 90.0, 1583.0, 7334.72, 438.0, 0.0, 27249.170000000002, 208.4, 26665.11, 2334.8100000000004, 0.0, 0.0, 0.0, 62598.71000000002, 181262.66999999975, 58848.46000000002, 416.08, 42301.13, 0.0, 705.2, 26299.010000000013, 1822.11, 0.0, 6323.430000000001, 1766.1899999999998, 646.96, 1766.1899999999998, 4600.299999999999, 125672.81999999993, 3420.9, 82144.36000000002, 13334.74, 21900.639999999996, 27933.450000000004, 699.1, 106948.81000000001, 0.0, 70816.65000000005, 0.0, 56865.49999999999, 1993.94, 67147.93999999999, 0.0, 835.1700000000001, 153.99, 12701.439999999999, 16642.19, 6089.93, 1570.0, 48888.59, 37909.840000000004, 24166.62, 102.0, 36669.44, 1724.8200000000002, 14375.659999999998, 280.95, 18078.579999999998, 180.37, 1369.99, 43860.200000000004, 17585.219999999998, 424.0, 90468.73, 47176.18, 1311.9, 9943.82, 0.0, 41128.05, 67053.66, 24508.78, 30144.770000000004, 95712.04000000002, 2540.78, 0.0, 23963.16, 23963.16, 379216.3700000003, 159813.65999999997, 27489.440000000002, 0.0, 12456.910000000002, 2175.8500000000004, 112247.85000000002, 22836.95, 2964.43, 1153.77, 53596.67, 6394.76, 106.0, 106.0, 2243.0, 67482.81, 6599.59, 19381.870000000003, 35695.99, 71334.08000000003, 77097.36000000002, 1728.44, 29855.679999999997, 155714.14999999997, 6404.3, 912.81, 155.0, 65309.999999999985, 0.0, 2202.0, 1314.17, 20736.51, 128804.88999999997, 36726.590000000004, 1678.0, 1334.17, 7387.0, 1167.94, 35163.49999999999, 18656.46, 81998.65999999999, 51643.66, 269.5, 484123.8599999996, 49139.22, 6363.6, 1264.99, 888.45, 498.92999999999995, 1298.19, 197488.37999999992, 3499.73, 1316.48, 9430.02, 43427.1, 12843.319999999998, 89873.91, 22548.58, 3504.880000000001, 39729.95, 43968.619999999995, 14683.460000000003, 1841.7900000000004, 35045.73999999998, 25542.449999999997, 108044.21000000002, 6872.999999999999, 6872.999999999999, 15372.51, 4949.820000000001, 6401.809999999998, 477.62, 99987.47, 4073.42, 19199.280000000002, 39858.91000000001, 23759.969999999998, 312629.7399999997, 11238.409999999998, 11908.569999999996, 979.0, 270.37, 78793.7799999992, 564.52, 24732.499999999996, 59317.35999999999, 0.0, 4148564.9000000027, 3724.0, 8247.43, 12784.0, 0.0, 20584.220000000005, 42353.24000000003, 1153.3, 132.38, 68598.17000000001, 21688.809999999994, 3926.9000000000005, 67232.08999999997, 7557.820000000001, 266.0, 16643.519999999997, 9292.099999999999, 4347.09, 4043.0299999999997, 48439.19000000002, 2894.06, 18109.72, 5318.79, 0.0, 68344.48, 9659.57, 0.0, 25945.350000000006, 15555.609999999999, 7231.14, 2961.7, 37125.98, 1987.9599999999998, 6021.459999999997, 36768.31, 0.0, 3076.68, 12609.07, 13582.850000000002, 37425.33, 1041.7, 0.0, 2436.27, 611.0, 59705.7, 60873.40000000001, 1025.98, 540.9, 2424.4, 826.9, 3248.28, 0.0, 0.0, 2335.4600000000005, 47625.260000000046, 93666.14000000009, 2942.56, 422.8, 17814.5, 26979.129999999997, 15249.05, 432891.94999999995, 4983.0, 2522.5, 42998.94000000002, 1462.5, 3752.5, 200.0, 95419.88000000002, 47.0, 47.0, 24665.269999999997, 91980.48000000001, 55447.600000000006, 4535.21, 2331.82, 4916.29, 142.88, 94914.45999999999, 4039.3200000000006, 51734.810000000005, 300301.19999999995, 30884.850000000006, 58707.08, 998.0, 25289.0, 61716.95999999999, 3032.13, 240.0, 26745.560000000005, 240.0, 0.0, 25932.69, 0.0, 2167.5499999999997, 21023.460000000003, 76223.91999999998, 0.0, 37738.079999999994, 2915.8, 6772.75, 68445.37, 2136.8, 35174.33, 3648.7999999999997, 384.0, 2175.0, 9246.089999999998, 908.0, 85580.67, 3155.3, 0.0, 1083491.5899999999, 199731.43999999986, 1167.73, 1452.0, 18873.68, 4240.25, 38296.030000000006, 8697.87, 0.0, 34469.52, 16.0, 0.0, 179850.51000000013, 28321.780000000006, 29013.43, 4142.660000000001, 577.84, 174555.47, 6442.98, 9354.0, 549.0, 10393.199999999997, 31555.079999999998, 11040.219999999998, 1628.0, 2413.0, 124323.09999999999, 0.0, 5411.19, 2131.4300000000003, 21925.869999999995, 936.1, 691.9200000000001, 2639.9, 6893.139999999999, 31520.300000000003, 54119.95, 630.0, 0.0, 297405.82000000007, 0.0, 5131.400000000001, 0.0, 216.0, 14744.96, 25772.77999999999, 460.9, 23140.97, 4174.0, 7118.599999999999, 6795.96, 51295.66, 22630.610000000004, 30344.410000000003, 115573.51000000002, 44734.91, 665.0, 33401.850000000006, 665.0, 17320.920000000002, 13817.23, 438.0, 1957.89, 2208.0, 21825.940000000006, 190600.41000000003, 1945.31, 107659.31, 67801.09, 1963.23, 6262.91, 6141.01, 11765.830000000002, 704.0, 288447.47999999986, 2558.03, 8799.76, 0.0, 255.95, 1362.8, 953.1300000000001, 0.0, 2170.4700000000003, 11511.68, 4114.95, 17000.239999999998, 124609.31, 5814.8499999999985, 7067.51, 1831.6999999999998, 15107.44, 5277.46, 2782.2700000000004, 2136.0, 388.78, 232.07999999999998, 8663.7, 0.0, 0.0, 24272.479999999996, 15018.059999999998, 505.4, 125.1, 23422.069999999996, 266.0, 15765.739999999996, 2645.8, 855.0, 855.0, 29780.0, 94.8, 0.0, 192.0, 9165.09, 5946.820000000001, 2298.5699999999997, 99.0, 1945.77, 39742.91000000002, 0.0, 0.0, 6671.35, 4612.84, 31413.36, 3390.12, 5394.759999999999, 0.0, 438.0, 5732.0, 3346.0, 438.0, 1215.62, 38740.61000000001, 27109.02000000001, 152690.28999999986, 19280.739999999998, 15973.67, 59885.890000000014, 462922.1000000003, 12334.29, 212482.09, 1304.3200000000002, 13363.15, 220382.94000000015, 0.0, 65058.03000000003, 196779.09999999998, 134499.84999999995, 117519.71000000004, 0.0, 125999.06999999993, 1620.3999999999999, 3446.91, 493517.4499999997, 1111.96, 593907.1000000002, 19433.51, 531.0, 1111.96, 0.0, 7425.17, 5002.349999999999, 0.0, 103362.7, 1602.9099999999999, 0.0, 14356.869999999999, 1001.29, 3048.9, 1409.22, 541.5, 23734.849999999995, 130683.41000000006, 66855.59000000001, 21611.149999999998, 0.0, 254277.57999999996, 65869.34000000001, 0.0, 18912.620000000003, 20477.74, 26347.97, 9097.74, 1199.0, 4282.099999999999, 835.6, 835.0, 52374.94999999999, 150437.70000000004, 3808.58, 18261.060000000005, 17343.4, 356.0, 28003.5, 0.0, 14644.509999999998, 90.0, 1901.42, 4327.82, 409.0, 510486.05000000016, 9230.689999999997, 8785.779999999999, 326.71, 6476.600000000001, 45036.950000000004, 68346.78000000001, 135240.16999999995, 0.0, 0.0, 279.46, 85585.54999999999, 101324.39999999994, 45709.01000000003, 0.0, 0.0, 179849.44999999998, 1055.29, 17523.819999999996, 5726.970000000001, 24397.230000000003, 39209.320000000014, 0.0, 91503.05999999997, 2143.4, 35637.47, 390.0, 0.0, 11264.599999999999, 30.0, 49.0, 1253.73, 130693.74000000003, 7137.320000000001, 10501.609999999997, 2747.6399999999994, 44976.68000000001, 350.0, 0.0, 13489.799999999997, 433.85, 35779.11, 1162.1599999999999, 21378.51, 1626.6200000000001, 5012.4, 6403.69, 27512.679999999997, 4986.369999999999, 4986.369999999999, 364586.44, 87292.24000000002, 5937.049999999999, 161900.61000000007, 364586.44, 834.6499999999999, 430.8, 625.3, 31007.320000000003, 5863.69, 106030.49999999997, 20228.7, 0.0, 2944.19, 265.86, 307214.13999999996, 3884.37, 17014.55, 170323.8999999999, 0.0, 0.0, 119.0, 374526.34000000014, 71516.94000000005, 219918.21000000014, 484230.2900000001, 137968.85000000003, 285777.9500000001, 231971.41999999993, 5377.62, 0.0, 3814.2000000000007, 68405.11999999998, 435.0, 28853.31, 7661.8099999999995, 830.0, 6375.999999999999, 106557.41, 11058.009999999998, 287645.36999999994, 19678.349999999995, 18332.149999999994, 405.44, 7599.0, 10633.130000000001, 7446.43, 1725.97, 2823.0, 8855.57, 0.0, 0.0, 2821.71, 2445.37, 5104.5, 3358.0, 6217.17, 7249.2, 9846.49, 13817.23, 4936.09, 824.97, 0.0, 5691.2, 3010.98, 4951.7, 115697.17000000001, 29546.999999999996, 75.0, 41062.180000000015, 1533923.6399999987, 133127.58000000007, 0.0, 10564.52, 98966.43000000005, 98966.43000000005, 2145.0, 2035.0, 1167.71, 0.0, 62771.820000000014, 4044.47, 299145.2199999997, 719.0, 3764.11, 46670.55000000002, 0.0, 0.0, 52803.04, 8534.75, 458.0, 938.0, 19336.68, 131617.73000000004, 500.0, 6067.21, 139015.30000000005, 29255.070000000007, 220.0, 220.0, 194.0, 41010.759999999995, 5269.72, 30455.32, 12765.65, 341683.2800000001, 43.0, 3526.51, 684.22, 173810.23, 434491.32999999967, 32836.72000000001, 45240.89000000001, 14293.119999999997, 0.0, 12502.769999999999, 64025.39000000005, 473613.0100000001, 120412.88000000008, 3356.37, 9776.8, 33713.149999999994, 19023.84, 2558.55, 5743.91, 0.0, 351.0, 67277.15000000002, 92861.65999999999, 108589.51000000004, 0.0, 604.4, 0.0, 16138.630000000001, 12843.319999999998, 8175.700000000001, 24803.62000000001, 14230.36, 34355.049999999996, 951.55, 3885.12, 15484.54, 34246.49, 127995.86, 12928.3, 8145.04, 8447.310000000001, 269486.06000000023, 42723.60000000001, 9626.07, 604.13, 34697.590000000004, 345235.06000000006, 8531.52, 47760.0, 2123.5099999999998, 806.7, 506.0899999999999, 102872.24999999997, 4027.4100000000003, 692.67, 0.0, 77172.36, 35.6, 5163.129999999999, 163973.65999999992, 47175.700000000004, 59.0, 39476.91, 104143.87999999999, 183995.33999999982, 420221.69, 8765.59, 55810.66000000002, 136505.11, 64791.99000000001, 24865.389999999996, 70064.83999999997, 11116.499999999996, 1399.38, 171408.58999999994, 6604.46, 77450.1, 9073.43, 58210.53999999999, 37736.72, 25585.85, 62636.97, 2047.56, 1326.52, 11767.219999999998, 26290.14, 6496.66, 34990.51, 310529.5999999997, 78638.64000000001, 781.9300000000001, 252901.86999999968, 4150.360000000001, 2874.73, 30991.729999999992, 199.0, 0.0, 12754.999999999998, 6787.66, 109103.83000000005, 196.0, 192615.34999999995, 25137.059999999987, 40981.6, 2657.27, 51982.86000000001, 70289.07000000004, 19113.540000000005, 23532.25, 70289.07000000004, 28368.280000000006, 105547.63, 1482.3899999999999, 12588.0, 75521.30999999998, 0.0, 6666.33, 61037.85000000001, 9963.03, 18688.589999999997, 0.0, 913.04, 70548.03, 2700.79, 400.0, 15504.69, 27213.0, 105391.12999999999, 1285.08, 11233.76, 2686.35, 2912.51, 123.0, 5233.0, 5233.0, 5233.0, 1396.7699999999998, 5388.78, 14020.5, 115773.41000000005, 46970.82, 0.0, 454.8, 21643.93, 12972.299999999996, 31581.66, 3787.8899999999994, 13841.17, 6338.36, 3581.79, 1909.0, 8645.87, 2686.35, 35219.630000000005, 8450.89, 218171.49999999997, 897.6800000000001, 1041.7, 3983.45, 42801.60000000002, 36521.86999999999, 198262.1699999999, 171135.81000000003, 215.0, 13193.910000000002, 5194.73, 8776.669999999998, 0.0, 113127.93, 7231.51, 14201.479999999996, 14201.479999999996, 23838.50999999999, 862.4000000000001, 532212.3800000001, 102358.21999999994, 36202.77999999999, 0.0, 7706.26, 162194.82999999987, 74375.48000000001, 17430.96, 74231.31000000003, 82903.65000000004, 327631.2399999998, 28382.860000000008, 47625.260000000046, 316610.1000000001, 107273.15999999996, 72998.97999999998, 1259.8000000000002, 10719.46, 11272.300000000003, 0.0, 2189.0, 206652.27000000002, 227037.35999999996, 111897.92, 5029.179999999999, 5029.179999999999, 5029.179999999999, 108343.72999999998, 7967.32, 977.0, 11748.099999999999, 174.0, 32186.33, 12867.22, 145380.17, 331343.92999999964, 80847.80000000005, 36716.11999999999, 55491.72000000003, 19282.21, 150696.91, 4920.3, 160439.2700000001, 1416.33, 7232.5, 41093.96, 90729.67000000003, 3669.73, 151297.28, 54429.65, 41837.86, 4178.360000000001, 20284.6, 30751.21, 79746.80000000003, 17363.920000000002, 62469.46000000001, 40449.12, 40449.12, 80138.57, 226744.11999999988, 338.82, 14195.500000000002, 121056.87999999993, 46924.860000000015, 62270.400000000016, 0.0, 114137.56999999995, 693.0, 18835.829999999998, 46039.020000000004, 33683.56, 260.0, 57657.7, 398259.5200000002, 12641.02, 3411.14, 57555.979999999996, 169361.31000000003, 1406.1, 5311.91, 5365.79, 782236.9199999998, 1898.8999999999999, 117058.39000000009, 0.0, 259.98, 217988.2099999999, 11130.449999999997, 21701.859999999993, 2012.0, 838927.5800000002, 19551.590000000004, 900.0, 12654.989999999998, 10634.21, 121382.72000000003, 6780.84, 43874.92000000001, 0.0, 3859.9, 467.0, 2553.19, 0.0, 91216.70000000001, 4142.660000000001, 1077.26, 18399.87, 17087.21, 194226.69000000015, 20524.8, 9589.08, 1807.5, 20027.85, 0.0, 1752.6799999999998, 429.65999999999997, 554998.5499999992, 261454.51000000004, 86794.35000000002, 6483.479999999999, 3231.3700000000003, 8045.62, 409885.37000000017, 48453.409999999974, 142150.81000000008, 139961.16000000003, 52591.00000000001, 1871.0, 3081.08, 43219.189999999995, 99274.58, 90819.23, 38498.68, 0.0, 259839.68000000005, 0.0, 40976.41, 111631.81, 22717.53, 65573.39000000001, 2310.0, 123832.62000000002, 15137.030000000002, 195428.28999999986, 79053.84, 5393.520000000001, 3598.2199999999993, 108457.67000000001, 67087.83, 13203.0, 2403.01, 9392.7, 251990.7599999999, 96181.07000000002, 28807.01, 0.0, 55603.38000000003, 434.0, 3453.0699999999997, 56182.14000000001, 39954.46000000001, 479.0, 12263.789999999997, 759951.3500000011, 174426.12, 0.0, 10708.18, 0.0, 151770.17, 6779.14, 44040.719999999994, 15853.02, 84953.70000000001, 176814.82000000007, 65247.920000000035, 108868.32000000004, 142874.65, 165459.66000000006, 1487.33, 92256.27999999997, 39135.18, 0.0, 85003.13000000002, 10509.460000000001, 45700.56000000002, 3607.4900000000002, 25284.239999999998, 139491.5, 0.0, 24628.870000000003, 9729.44, 153966.4799999998, 21882.93, 51239.689999999995, 20097.420000000002, 672136.32, 0.0, 0.0, 4572.57, 0.0, 82.0, 2073.99, 175.0, 5243.87, 5549.6, 6170.27, 2934.5, 661970.3400000004, 101387.64000000001, 7067.51, 175698.97999999995, 98723.55000000005, 999.99, 106863.30000000002, 16504.309999999998, 29870.839999999982, 156595.06, 26394.79000000001, 136891.84, 0.0, 129.9, 0.0, 3410.89, 333.0, 143487.36000000007, 380520.5699999994, 1160.9, 9146.72, 14608.68, 0.0, 2121.4300000000003, 44492.5, 336.0, 26420.72, 47622.57, 100596.60000000002, 10720.51, 111866.07, 0.0, 9246.7, 14907.0, 0.0, 726.7, 2694.24, 55205.84, 166518.23999999993, 51117.62, 7163.900000000001, 1771.48, 1826.03, 5916.37, 0.0, 68.0, 68.0, 1746.0, 48364.58, 29633.42, 1715.0, 136941.74000000008, 2634.9, 17890.0, 33211.27, 1993.46, 9205.22, 73851.93000000002, 134180.1999999999, 4781.9, 21883.380000000005, 4203.0599999999995, 125.0, 182954.63999999996, 73028.78000000001, 62341.240000000005, 4635.570000000001, 81209.26, 99.9, 120.5, 615.98, 5507.59, 5507.59, 14710.649999999996, 55116.549999999996, 2029.9, 61688.22000000001, 0.0, 115119.49999999996, 48414.64000000002, 85015.08999999995, 203650.3899999999, 0.0, 15812.8, 580850.3399999994, 6782.04, 2874.44, 7232.9800000000005, 45415.24, 0.0, 809.0, 313.8, 3726.4, 56156.06000000002, 363.99, 167071.40999999992, 0.0, 53326.76, 16716.87, 50488.64000000001, 94365.27000000005, 19031.73999999999, 175880.5, 3350.17, 207.0, 26493.520000000004, 282782.33999999973, 188651.22, 36059.220000000016, 2831.6100000000006, 64099.65, 7075.379999999999, 7075.379999999999, 0.0, 9992.759999999998, 13949.04999999999, 0.0, 1565.52, 17523.819999999996, 114998.39999999986, 39945.92000000001, 0.0, 3729.5800000000013, 86697.24999999996, 1980.1200000000001, 546.44, 152.7, 9052.85, 16756.839999999997, 1999.52, 25833.559999999994, 1634.0, 70816.65000000005, 4022.5, 61368.57, 11875.75, 2798.8, 91850.59999999998, 32938.90000000001, 12734.599999999995, 2692.23, 0.0, 0.0, 435.0, 465.0, 1215.0, 30907.570000000007, 30907.570000000007, 8540.61, 4444.889999999999, 68207.73999999999, 394.0, 6709.99, 0.0, 0.0, 0.0, 183313.70000000022, 69875.06, 22732.689999999995, 182367.5299999999, 0.0, 54585.14000000002, 5618.6900000000005, 4152.29, 120075.58000000002, 75.0, 6241.35, 36178.869999999995, 285.0, 44493.76999999999, 26665.459999999995, 20864.519999999997, 20864.519999999997, 21992.130000000005, 8614.740000000002, 41229.19, 15035.24, 1462.1000000000001, 33220.670000000006, 16469.04, 8322.73, 217.4, 1405.47, 162245.67999999996, 165876.3200000001, 0.0, 2037.01, 1313.44, 500.0, 7622.710000000001, 38065.94000000001, 1541.08, 0.0, 59434.150000000016, 79775.7, 6092.1900000000005, 92475.31000000003, 362284.48000000004, 362284.48000000004, 549989.4599999997, 151720.8299999999, 25491.349999999995, 23359.68, 1547.5, 22547.04, 4660.4800000000005, 59337.34000000002, 8413.369999999999, 42695.820000000014, 125812.62000000001, 0.0, 121357.86000000004, 0.0, 882.91, 53911.32000000001, 206901.58999999997, 12598.109999999999, 7332.11, 68334.52, 70371.61000000002, 40.38, 3756.03, 240613.47000000012, 15585.800000000001, 40.0, 27838.83000000001, 63921.12999999999, 39941.719999999994, 91791.58000000002, 43817.62, 19053.15, 3271.0, 546.45, 4584.32, 73843.27000000002, 61356.09000000002, 14216.69, 2303.34, 2500.8500000000004, 5575.74, 3962.5, 3216.2, 46658.71999999999, 143664.34999999998, 60601.45999999999, 22996.44, 29574.160000000003, 2619.41, 99131.51000000001, 8461.78, 29526.949999999983, 50584.789999999986, 8545.54, 25445.31, 1188.18, 128769.02, 95015.91000000002, 88528.49000000002, 124119.81, 132376.09999999998, 60677.85999999999, 32571.84999999999, 941.74, 0.0, 24608.34, 24608.34, 10587.029999999995, 50095.979999999996, 1188.18, 12966.9, 89127.88000000002, 36164.45000000001, 57273.03999999998, 328.0, 17525.32, 8145.04, 138386.31000000008, 219113.57, 44643.28, 4495.85, 378271.0699999999, 136578.14000000007, 9610.559999999998, 8447.310000000001, 100067.51999999995, 2497.95, 6401.809999999998, 13599.199999999999, 0.0, 7779.070000000001, 320.9, 170674.86000000007, 693747.1999999993, 7583.79, 168182.21000000014, 653.08, 103281.51000000001, 216892.50999999995, 38713.91000000002, 157556.91999999995, 287356.06999999983, 287356.06999999983, 13200.13, 36111.280000000006, 3664.4200000000005, 39005.530000000035, 32719.289999999997, 31620.959999999992, 95015.91000000002, 5521.709999999999, 274191.6899999999, 51564.63999999999, 203691.90000000008, 28529.350000000002, 2005.8, 10174.13, 2087.64, 1504.8400000000001, 409.1, 0.0, 1504.8400000000001, 2591.3, 13331.839999999998, 29275.37000000001, 82108.40000000001, 9373.569999999998, 137668.41, 4403.4800000000005, 62410.36000000001, 244503.39999999994, 26441.32, 2787.2999999999997, 205284.21999999997, 115290.94999999995, 114269.16, 22119.260000000002, 10423.830000000002, 194876.29999999984, 194876.29999999984, 0.0, 101032.11999999998, 5312.39, 1962.24, 18309.34, 717349.1700000004, 3228.8199999999993, 41261.740000000005, 4045.9200000000005, 31970.270000000004, 7751.2699999999995, 21458.650000000005, 41080.840000000004, 0.0, 13325.78, 13357.599999999995, 6593.66, 126135.22000000003, 1682.3600000000001, 171311.25000000006, 109763.92999999998, 23355.45, 1006.75, 108837.11000000002, 24084.03, 27594.270000000008, 11813.999999999998, 3874.99, 271392.4999999999, 10316.819999999998, 8112.989999999998, 0.5, 547850.6399999995, 40900.619999999995, 11560.48, 55586.259999999995, 103638.23000000001, 101.22, 10657.08, 34290.9, 47098.6, 52698.36, 1782.2, 54046.460000000014, 54046.460000000014, 32535.690000000002, 3532.6, 2034.2700000000002, 67232.08999999997, 3790.4599999999996, 1291.87, 13124.94, 3711.0, 3928.11, 124.0, 40952.39, 18000.42, 77889.81000000001, 0.0, 632661.1899999996, 39507.65, 20643.89, 0.0, 46358.76, 131845.5, 7575.199999999998, 10522.549999999997, 0.0, 5594.33, 171117.57000000007, 19141.069999999996, 169.99, 66930.76, 4858.81, 34144.33, 50554.38, 2565.4, 0.0, 13193.910000000002, 33482.780000000006, 92690.8, 0.0, 4148.66, 7634.2, 0.0, 141602.91000000003, 16539.65, 10441.140000000001, 0.0, 47534.28, 1040.8600000000001, 6931.8099999999995, 16738.09, 7224.279999999999, 877.23, 13049.6, 19265.1, 53952.010000000024, 32968.33, 15645.93, 4439.0, 929.0, 1440.98, 4920.3, 25592.429999999997, 3266.0000000000005, 24506.410000000003, 230.4, 4916.29, 19550.730000000003, 2925.96, 0.0, 141110.60000000003, 15132.68, 11454.82, 2647.97, 29098.950000000004, 465.0, 0.0, 74111.36, 410.0, 50.0, 743.0, 42.9, 3648.7999999999997, 513001.38, 27342.809999999998, 513001.38, 154.0, 5162.27, 61874.73000000002, 79744.22000000002, 649.02, 134236.6599999999, 0.0, 0.0, 55924.24000000002, 66.0, 11809.92, 38118.649999999994, 14481.82, 94878.9, 35399.97, 34218.61, 1949.77, 0.0, 0.0, 4095.3399999999997, 223406.11999999988, 324115.8400000001, 2386.73, 102675.48000000003, 38699.079999999994, 678.4, 6442.98, 10702.87, 0.0, 104511.28000000001, 69884.61, 168651.59999999998, 43393.68, 87525.39, 47326.70999999999, 11992.09, 6487.969999999999, 61800.36000000003, 324147.49, 1940.85, 11075.92, 729.0, 30219.030000000013, 110748.22, 22379.519999999997, 40753.000000000015, 9789.759999999998, 18925.44, 5256.94, 33282.83, 38201.950000000004, 29127.959999999995, 13391.199999999999, 23911.42000000001, 0.0, 251990.7599999999, 36791.43, 29606.290000000008, 35463.86, 2543.77, 139585.72999999998, 0.0, 6498.889999999999, 6790.849999999999, 289280.91000000003, 368.0, 2587.6100000000006, 24315.730000000007, 222619.13000000006, 10841.509999999998, 364921.41999999975, 33.95, 31623.169999999995, 4557.12, 35891.52999999999, 38626.59999999999, 0.0, 237.0, 0.0, 1509.51, 7357.800000000001, 33050.18000000001, 273671.3300000001, 0.0, 338649.0999999996, 101292.48, 71765.24999999999, 3572.78, 2414.35, 2414.35, 11424.399999999998, 41280.22, 112998.85999999993, 252297.41000000012, 0.0, 70.0, 25384.320000000007, 36296.14000000001, 0.0, 0.0, 219070.07999999993, 3082.0, 0.0, 7624.309999999998, 169.5, 46770.18, 35.0, 29780.0, 14056.910000000003, 47729.23, 0.0, 213.15, 7867.74, 32351.2, 2021.55, 3860.2999999999997, 4203.92, 1131.97, 5162.01, 1927.9, 0.0, 187794.92999999996, 68212.71, 0.0, 6054.879999999997, 8863.72, 6857.199999999999, 7601.6900000000005, 1945.77, 32.9, 532252.6699999993, 2835.79, 0.0, 0.0, 19280.739999999998, 215778.08000000002, 2647.6899999999996, 523.56, 0.0, 12532.47, 1228.0, 48388.33999999999, 0.0, 6263.629999999999, 36075.89000000001, 31345.940000000002, 11348.809999999998, 526.1, 0.0, 35243.64000000001, 1335.67, 0.0, 5960.62, 1643.9500000000003, 2137.48, 0.0, 15457.58, 55145.24, 54219.10000000002, 1011.1, 291.89, 148.0, 0.0, 7505.509999999999, 7142.330000000001, 18139.050000000003, 0.0, 1225.99, 0.0, 10730.59, 570.0, 10389.2, 2706.67, 4660.6900000000005, 276.0, 1068.3999999999999, 21464.65, 79.9, 52070.08999999999, 32638.830000000005, 869.8199999999999, 9462.21, 7175.639999999999, 488.94000000000005, 2150.5, 196894.18, 137839.3599999999, 130830.70999999993, 157.79, 4942.5599999999995, 1554.9, 555.98, 555.46, 3091.88, 172345.36000000004, 13245.29, 0.0, 87845.97, 6429.030000000001, 9492.779999999999, 1453.42, 53485.910000000025, 1087.9, 20984.530000000002, 87514.55000000002, 8484.96, 332.0, 2348.89, 25069.379999999997, 3642.0399999999995, 2675.82, 0.0, 3082.9699999999993, 225042.96999999994, 632.4, 1082.51, 5300.68, 49326.48, 93188.24000000006, 285501.98999999993, 65822.87999999998, 111679.59999999999, 4877.98, 10659.210000000001, 9997.44, 10056.42, 33005.520000000004, 13426.439999999997, 5616.0, 744.0, 19013.58, 0.0, 14375.659999999998, 10173.759999999998, 2975.58, 50256.219999999994, 43093.48, 20833.940000000002, 1037.72, 6988.63, 22003.540000000005, 147967.63000000003, 6341.5, 2573.73, 843.06, 4506.76, 60313.51, 600.0, 44018.920000000006, 615.0, 35659.63, 2284.8, 304738.94, 0.0, 117.0, 189.0, 107824.85000000005, 16969.34, 60387.87999999998, 191.7, 27726.729999999996, 7903.400000000001, 23295.98, 0.0, 9103.960000000001, 32532.2, 3163.21, 4110.9, 99537.85999999996, 16973.56, 16706.35, 11038.96, 127678.38, 677.5, 5731.260000000001, 269420.41999999975, 3558.2299999999996, 0.0, 626.76, 13073.43, 30376.25, 50320.03000000003, 76051.24, 651970.2899999995, 2607.65, 11769.29, 14606.950000000004, 0.0, 3873.44, 3810.5299999999997, 13046.7, 1788.6999999999998, 74388.9, 180905.3, 2932.2900000000004, 14811.290000000003, 33422.93, 244.0, 60180.48000000002, 6156.86, 3615.4, 12786.91, 5943.58, 84896.65000000001, 21909.7, 669.01, 0.0, 5793.44, 48558.65000000001, 557.9, 5793.44, 23433.86, 5654.0, 0.0, 6883.73, 5262.099999999999, 8551.18, 62.99, 50554.38, 712.0, 38413.91, 3068.45, 17095.879999999997, 1348.38, 1348.38, 2773.7699999999995, 413521.8199999996, 61514.57000000001, 226.0, 50596.69999999999, 13135.590000000002, 0.0, 31036.150000000005, 5878.349999999999, 9565.009999999998, 2070.18, 0.0, 9054.93, 21018.599999999995, 144282.84999999998, 25770.850000000002, 72003.83999999998, 19080.510000000002, 40034.28999999999, 38414.479999999996, 7744.950000000001, 306.0, 42917.34000000002, 45201.50999999999, 4920.3, 11409.71, 280167.6, 683.0, 2918.5699999999997, 70867.42, 24454.140000000003, 5760.069999999999, 60469.63000000002, 13135.81, 152134.52000000002, 13135.81, 225.9, 0.0, 115518.06999999998, 61874.73000000002, 4434.89, 12731.52, 0.0, 10887.8, 46379.09, 217988.2099999999, 27404.420000000002, 5967.160000000001, 2468.2100000000005, 15552.42, 0.0, 300820.1499999998, 13610.619999999999, 648.1, 85472.27999999998, 1200.0, 15837.160000000002, 48107.530000000006, 145.0, 478056.1299999996, 6024.07, 173607.58000000005, 44509.63000000001, 114293.63000000002, 283243.9699999999, 30428.490000000013, 11256.619999999999, 1807.5, 31791.059999999998, 17632.21, 91571.02, 8124.899999999999, 13712.829999999998, 12507.330000000002, 2776.9399999999996, 298247.33999999985, 1435.1200000000001, 5937.330000000001, 3039.36, 138441.12000000002, 0.0, 22717.53, 65453.36000000004, 29334.2, 2316.0, 271.0, 1222.0, 27512.630000000016, 6888.069999999999, 0.0, 116532.00000000003, 14586.92, 20491.42, 0.0, 4949.19, 6973.5999999999985, 111631.81, 7130.38, 5014.93, 4551.039999999999, 76307.34999999999, 15973.67, 8347.460000000001, 121114.87000000005, 36754.88, 856.57, 127.0, 33819.399999999994, 2746.65, 14976.439999999999, 84.46, 84.46, 49738.78, 38476.16000000001, 144151.2, 5574.0, 1868.47, 6543.91, 59922.97000000001, 2053.47, 2053.47, 27508.329999999998, 0.0, 0.0, 2615.89, 20819.600000000002, 269663.01000000024, 30252.62, 98357.09999999995, 2765.19, 20637.819999999996, 525.0, 1909.9, 7818.33, 18589.560000000005, 18589.560000000005, 0.0, 246051.70999999982, 84724.36000000002, 36022.85, 0.0, 164521.42, 248234.37999999966, 1377.0, 5792.160000000001, 5792.160000000001, 14529.169999999998, 0.0, 0.0, 14529.169999999998, 19669.640000000003, 6062.129999999999, 641.0, 193635.45999999967, 2109.5299999999997, 20442.469999999998, 1228.0, 1228.0, 96.0, 96.0, 2068.3999999999996, 934.9000000000001, 2329.3999999999996, 3830.17, 6512.760000000001, 0.0, 174872.55000000005, 134565.15999999995, 242.2, 7814.16, 3326.55, 243.0, 133793.18999999994, 21464.65, 81743.98999999995, 20477.74, 17364.86, 1286.28, 2964.2599999999998, 34190.20000000001, 251520.06999999975, 3296.37, 56950.720000000016, 3118.4500000000003, 0.0, 312429.51000000007, 4357.67, 0.0, 4452.2, 0.0, 178.0, 25137.79, 9298.6, 383.2, 45906.56000000001, 21378.51, 19665.23, 143728.43999999994, 1676.2, 91427.90999999996, 243.9, 150779.24, 5.0, 8220.27, 10423.13, 8275.07, 93592.56999999999, 58637.049999999996, 26211.300000000003, 157902.8399999999, 157902.8399999999, 0.0, 54845.32, 1896.81, 992.43, 8108.57, 0.0, 16296.779999999999, 161011.4099999999, 116628.05999999991, 12502.769999999999, 130620.85000000002, 4730.14, 29492.710000000003, 34305.52, 0.0, 17570.19, 15927.919999999998, 103469.06999999995, 198.98, 89650.49000000002, 89650.49000000002, 198.98, 15113.12, 132546.76000000004, 1295.3799999999999, 18942.49, 47760.0, 2745.89, 58291.1, 58291.1, 10089.199999999997, 46406.34000000002, 44096.61000000001, 190.0, 5213.5, 3581.4300000000003, 136505.11, 7222.280000000001, 0.0, 4220.49, 3833.96, 40908.02, 3081.52, 8424.25, 3843.93, 21652.0, 3220.3900000000003, 20406.57, 5262.099999999999, 3386.51, 36074.53, 76163.26000000001, 287.97, 12931.060000000003, 10359.93, 1879.96, 41138.45999999999, 9829.710000000003, 0.0, 5194.73, 181566.44999999975, 21376.729999999996, 37745.259999999995, 4148.66, 1524.24, 32259.090000000015, 396.0, 2848.5, 3152.1, 21687.55, 85095.55000000002, 121347.76000000002, 139843.99, 5648.22, 38367.19000000001, 204689.4300000002, 340034.64999999997, 36607.63, 50.0, 295407.8900000002, 34353.36000000001, 3620.2, 31.5, 580.0, 11501.020000000004, 48734.99, 37970.45, 1849.5400000000002, 4868.530000000001, 529.0, 1487.9, 2062.0, 0.0, 416572.2699999997, 0.0, 186675.88, 255129.19999999995, 12757.429999999995, 12671.260000000002, 0.0, 198.3, 41053.08000000001, 42499.04999999999, 3187.13, 25676.49, 3791.2399999999993, 355288.8099999998, 0.0, 103969.36999999998, 21935.769999999997, 41092.82000000001, 86794.35000000002, 27314.9, 113200.18999999996, 36836.04, 13319.199999999997, 0.0, 34226.36, 32268.19, 943.42, 6282.76, 49429.75000000004, 1320.55, 364.0, 34837.39, 10333.199999999999, 6259.04, 12171.219999999996, 2748.5999999999995, 27500.09, 4011.09, 116018.71999999999, 7067.51, 17.98, 14404.300000000001, 28346.610000000015, 524.0, 112944.7, 786.0, 2424.86, 29208.820000000007, 7632.45, 3051.64, 0.0, 0.0, 0.0, 28864.089999999997, 182693.8499999999, 0.0, 0.0, 15754.909999999993, 4322.2699999999995, 371.0, 220453.57999999827, 26283.980000000003, 98043.02000000008, 2874.44, 0.0, 93925.20999999998, 167071.40999999992, 217378.05999999988, 0.0, 243889.41999999972, 30991.8, 43.49, 3427.63, 8515.699999999999, 3082.9699999999993, 6999.639999999999, 435.0, 155419.39999999997, 1453.62, 2553.44, 10057.240000000002, 31486.199999999993, 127870.27999999998, 35776.28, 774.7199999999999, 2240.38, 1148.0, 6823.95, 1153.77, 1462.1000000000001, 0.0, 2870.05, 2179.2799999999997, 20284.61, 20284.61, 111240.14999999998, 60890.65999999999, 48701.01000000002, 45402.0, 3381.7500000000005, 300.77000000000004, 5229.91, 10008.92, 132717.06, 1295.3799999999999, 14316.38, 9596.05, 32835.62999999999, 50386.509999999995, 0.0, 1836.51, 2657.27, 527.7, 55.96, 304603.70999999996, 30880.430000000008, 21008.510000000002, 33229.98999999999, 65669.85999999999, 15057.48, 0.0, 3074.0, 269648.70999999996, 124485.17000000003, 1439.34, 2345.0099999999998, 7329.930000000001, 7329.930000000001, 54774.27000000001, 43620.63999999999, 179495.47999999995, 2295.8599999999997, 69760.79000000001, 3409.85, 11409.71, 14461.619999999999, 199139.62999999995, 639.85, 32066.52000000001, 39122.94, 500898.64999999956, 6023.1, 17671.719999999998, 48241.10999999999, 42973.3, 27981.56, 2821.71, 8493.970000000001, 590.0999999999999, 2158.5, 0.0, 58354.679999999986, 6170.39, 7996.240000000002, 2019.61, 185549.13, 407363.6099999998, 11204.08, 31520.300000000003, 620.0, 0.0, 0.0, 103.38, 2786.0, 9059.279999999999, 142874.65, 21118.68, 156.0, 0.0, 3921.2999999999997, 3123.0299999999997, 1897.85, 3674.0, 19086.889999999992, 5979.07, 943.88, 2064.0, 529.0, 11377.719999999998, 6752.39], \"y\": [175.0, 78472.1, 0.0, 50237.67, 0.0, 0.0, 0.0, 0.0, 2579.6, 0.0, 0.0, 0.0, 0.0, 0.0, 0.0, 0.0, 0.0, 0.0, 0.0, 0.0, 0.0, 0.0, 0.0, 0.0, 0.0, 0.0, 0.0, 0.0, 3055.97, 0.0, 0.0, 0.0, 0.0, 0.0, 0.0, 1677.0, 0.0, 0.0, 0.0, 0.0, 0.0, 0.0, 0.0, 0.0, 0.0, 23530.3, 1269.0, 0.0, 44.0, 0.0, 0.0, 0.0, 0.0, 0.0, 0.0, 2499.9, 0.0, 0.0, 15557.6, 0.0, 316.0, 0.0, 0.0, 0.0, 0.0, 0.0, 0.0, 0.0, 3178.4100000000008, 0.0, 117.0, 0.0, 0.0, 0.0, 0.0, 1075.0, 250.0, 0.0, 0.0, 0.0, 0.0, 0.0, 1199.0, 236.0, 0.0, 0.0, 0.0, 0.0, 0.0, 0.0, 0.0, 0.0, 7046.0, 0.0, 470.0, 0.0, 0.0, 2327.4, 0.0, 1628.0, 0.0, 169.0, 0.0, 2500.0, 1124.0, 0.0, 0.0, 15888.000000000002, 982.0, 0.0, 0.0, 0.0, 0.0, 0.0, 0.0, 852.0, 0.0, 0.0, 0.0, 0.0, 0.0, 0.0, 0.0, 0.0, 0.0, 0.0, 0.0, 0.0, 0.0, 0.0, 5599.4, 18.0, 50.0, 0.0, 1963.5, 0.0, 0.0, 0.0, 0.0, 22126.0, 7000.0, 0.0, 0.0, 0.0, 0.0, 0.0, 0.0, 0.0, 0.0, 0.0, 0.0, 0.0, 0.0, 0.0, 0.0, 0.0, 0.0, 0.0, 810.0, 0.0, 0.0, 0.0, 0.0, 0.0, 0.0, 0.0, 150.0, 0.0, 0.0, 0.0, 0.0, 50.0, 0.0, 0.0, 0.0, 0.0, 0.0, 4021.52, 0.0, 0.0, 0.0, 0.0, 13378.050000000001, 190.0, 0.0, 0.0, 0.0, 0.0, 0.0, 2722.2999999999997, 1005.0, 0.0, 7221.6, 27.0, 650.0, 0.0, 0.0, 0.0, 0.0, 600.0, 0.0, 0.0, 0.0, 950.0, 1654.0, 0.0, 0.0, 0.0, 0.0, 0.0, 0.0, 0.0, 0.0, 0.0, 0.0, 336.0, 12133.0, 0.0, 0.0, 0.0, 0.0, 0.0, 0.0, 0.0, 2290.5, 0.0, 77115.1, 0.0, 0.0, 0.0, 1500.0, 0.0, 0.0, 0.0, 0.0, 310.0, 235.0, 0.0, 5555.5, 0.0, 0.0, 0.0, 0.0, 0.0, 0.0, 7263.0, 0.0, 602.0, 0.0, 0.0, 0.0, 0.0, 0.0, 0.0, 0.0, 0.0, 0.0, 30.0, 0.0, 0.0, 0.0, 0.0, 0.0, 0.0, 0.0, 0.0, 0.0, 0.0, 0.0, 0.0, 0.0, 0.0, 0.0, 0.0, 0.0, 0.0, 0.0, 0.0, 0.0, 0.0, 4460.4, 22.0, 0.0, 0.0, 0.0, 0.0, 0.0, 0.0, 0.0, 0.0, 0.0, 0.0, 0.0, 0.0, 0.0, 0.0, 0.0, 0.0, 0.0, 420.0, 0.0, 0.0, 458.0, 0.0, 0.0, 0.0, 0.0, 5150.0, 0.0, 2440.0, 0.0, 0.0, 10738.6, 0.0, 0.0, 538.5, 0.0, 0.0, 391.0, 5599.8, 0.0, 0.0, 4658.4, 0.0, 0.0, 0.0, 700.0, 6141.6, 0.0, 18281.8, 0.0, 0.0, 0.0, 550.0, 0.0, 0.0, 0.0, 0.0, 41627.36, 0.0, 0.0, 0.0, 0.0, 0.0, 0.0, 77.0, 0.0, 0.0, 0.0, 0.0, 252.0, 0.0, 0.0, 0.0, 0.0, 25.0, 0.0, 0.0, 0.0, 0.0, 2263.6, 0.0, 0.0, 0.0, 1050.0, 0.0, 1132.0, 0.0, 0.0, 0.0, 0.0, 598.0, 301.0, 3290.0, 0.0, 0.0, 0.0, 9744.58, 0.0, 0.0, 0.0, 0.0, 0.0, 1766.0, 0.0, 2408.5, 0.0, 0.0, 0.0, 0.0, 4759.2, 0.0, 6293.0, 22567.0, 0.0, 930.0, 0.0, 0.0, 0.0, 0.0, 0.0, 0.0, 0.0, 3289.19, 0.0, 0.0, 1390.0, 800.0, 0.0, 0.0, 0.0, 0.0, 380.0, 0.0, 0.0, 0.0, 0.0, 0.0, 0.0, 0.0, 2403.0, 0.0, 0.0, 0.0, 19552.500000000004, 0.0, 4731.0, 0.0, 0.0, 0.0, 1640.0, 0.0, 0.0, 0.0, 0.0, 0.0, 24.0, 150.0, 0.0, 0.0, 0.0, 600.0, 0.0, 0.0, 0.0, 0.0, 0.0, 0.0, 0.0, 1536.0, 0.0, 2900.0, 0.0, 0.0, 500.0, 0.0, 280.0, 0.0, 0.0, 0.0, 0.0, 0.0, 0.0, 0.0, 0.0, 0.0, 0.0, 0.0, 770.0, 0.0, 0.0, 594.0, 9602.2, 0.0, 3374.0, 2494.56, 110306.82, 0.0, 5690.0, 504.70000000000005, 0.0, 6230.0, 0.0, 892.0, 28677.000000000004, 283.0, 1405.0, 0.0, 0.0, 0.0, 0.0, 0.0, 0.0, 0.0, 0.0, 0.0, 0.0, 0.0, 0.0, 0.0, 0.0, 0.0, 0.0, 0.0, 0.0, 0.0, 0.0, 0.0, 0.0, 0.0, 0.0, 0.0, 0.0, 0.0, 29337.35, 17691.89, 0.0, 0.0, 710.0, 0.0, 0.0, 0.0, 0.0, 0.0, 0.0, 400.0, 70316.1, 0.0, 0.0, 213.15, 0.0, 0.0, 0.0, 2076.2, 0.0, 0.0, 0.0, 0.0, 17129.0, 0.0, 0.0, 0.0, 0.0, 3767.0, 1284.6, 4310.0, 0.0, 0.0, 0.0, 572.0, 138.0, 7004.85, 0.0, 0.0, 1091.0, 0.0, 0.0, 0.0, 7498.400000000001, 0.0, 0.0, 475.0, 0.0, 20.0, 0.0, 451.0, 0.0, 0.0, 0.0, 0.0, 0.0, 0.0, 1140.0, 0.0, 0.0, 0.0, 0.0, 0.0, 0.0, 43.0, 0.0, 688.0, 0.0, 0.0, 0.0, 250.0, 0.0, 0.0, 360.0, 184.0, 200.0, 7712.0, 360.0, 0.0, 0.0, 0.0, 23613.7, 0.0, 306.0, 0.0, 0.0, 0.0, 156.0, 4264.9, 52.0, 0.0, 944.0, 0.0, 0.0, 0.0, 5288.85, 4855.0, 16414.8, 28992.9, 0.0, 40252.07000000001, 0.0, 0.0, 0.0, 440.0, 0.0, 0.0, 825.0, 350.0, 0.0, 0.0, 0.0, 0.0, 550.0, 0.0, 1630.0, 0.0, 0.0, 0.0, 0.0, 0.0, 0.0, 0.0, 0.0, 0.0, 0.0, 0.0, 0.0, 0.0, 0.0, 0.0, 16930.6, 0.0, 0.0, 0.0, 0.0, 0.0, 0.0, 0.0, 117.0, 5220.0, 0.0, 0.0, 175.0, 5137.5, 0.0, 0.0, 0.0, 0.0, 830.0, 0.0, 0.0, 0.0, 200.0, 0.0, 0.0, 0.0, 0.0, 0.0, 0.0, 0.0, 20801.7, 0.0, 0.0, 0.0, 0.0, 0.0, 0.0, 0.0, 100.0, 0.0, 0.0, 0.0, 0.0, 25.0, 0.0, 0.0, 25.0, 11847.600000000002, 0.0, 0.0, 0.0, 0.0, 3046.48, 0.0, 0.0, 0.0, 0.0, 0.0, 2456.95, 41859.899999999994, 0.0, 0.0, 370.0, 0.0, 250.0, 0.0, 0.0, 0.0, 0.0, 0.0, 50.0, 25.0, 0.0, 0.0, 0.0, 0.0, 650.0, 0.0, 0.0, 295.0, 3921.0, 0.0, 0.0, 0.0, 0.0, 1049.29, 0.0, 460.0, 300.0, 3432.0, 0.0, 0.0, 0.0, 0.0, 270.0, 210.0, 435.0, 150.0, 0.0, 0.0, 12356.0, 0.0, 0.0, 0.0, 2756.0, 0.0, 0.0, 0.0, 0.0, 0.0, 0.0, 0.0, 13980.0, 12399.0, 0.0, 479.0, 2232.05, 6947.0, 0.0, 0.0, 0.0, 0.0, 1159.0, 0.0, 1630.7, 0.0, 690.0, 0.0, 0.0, 0.0, 902.0, 0.0, 0.0, 552.0, 0.0, 0.0, 2662.0, 10133.05, 0.0, 6082.0, 0.0, 0.0, 0.0, 0.0, 0.0, 0.0, 0.0, 0.0, 0.0, 0.0, 0.0, 0.0, 0.0, 0.0, 0.0, 0.0, 0.0, 0.0, 0.0, 70.0, 0.0, 0.0, 0.0, 0.0, 0.0, 450.0, 22334.1, 0.0, 0.0, 250.0, 0.0, 0.0, 0.0, 0.0, 0.0, 6182.0, 0.0, 0.0, 0.0, 0.0, 0.0, 0.0, 0.0, 0.0, 0.0, 0.0, 180.0, 21288.03, 2060.0, 0.0, 0.0, 0.0, 0.0, 0.0, 0.0, 600.0, 0.0, 0.0, 0.0, 0.0, 0.0, 9205.32, 400.0, 0.0, 0.0, 0.0, 0.0, 0.0, 0.0, 480.0, 100.0, 0.0, 0.0, 0.0, 207.0, 0.0, 4539.200000000002, 0.0, 320.0, 320.0, 0.0, 0.0, 18276.0, 23981.079999999998, 0.0, 0.0, 0.0, 0.0, 0.0, 0.0, 0.0, 540.0, 100.0, 0.0, 4460.4, 432.0, 0.0, 0.0, 0.0, 0.0, 0.0, 0.0, 14366.0, 0.0, 13772.900000000001, 2476.0, 0.0, 0.0, 0.0, 54.0, 0.0, 0.0, 50.0, 0.0, 200.0, 0.0, 3523.85, 0.0, 3859.5, 480.0, 0.0, 0.0, 0.0, 0.0, 670.0, 0.0, 0.0, 434.0, 0.0, 0.0, 3630.0, 0.0, 0.0, 0.0, 0.0, 8687.0, 120.0, 0.0, 0.0, 1790.55, 1790.55, 500.0, 22574.550000000003, 0.0, 0.0, 35022.5, 5340.0, 75.0, 0.0, 77.0, 0.0, 0.0, 7437.0, 0.0, 53704.8, 46350.5, 4303.0, 863.0, 0.0, 9143.0, 2917.0, 0.0, 0.0, 920.0, 4647.0, 1107.8, 595.0, 0.0, 0.0, 0.0, 0.0, 0.0, 202.0, 15915.400000000001, 0.0, 0.0, 0.0, 7346.7, 955.0, 2691.0, 0.0, 0.0, 0.0, 0.0, 0.0, 0.0, 0.0, 0.0, 0.0, 0.0, 0.0, 0.0, 0.0, 0.0, 0.0, 0.0, 0.0, 0.0, 0.0, 14882.0, 341.0, 0.0, 0.0, 46.0, 0.0, 11551.0, 0.0, 1525.0, 4666.2, 12374.199999999999, 0.0, 100.0, 1258.0, 2503.0, 5261.120000000002, 208.0, 0.0, 1390.0, 0.0, 0.0, 54014.27000000004, 1918.0, 8442.7, 0.0, 2400.0, 289.0, 3499.62, 9584.8, 0.0, 0.0, 1050.25, 26589.0, 0.0, 0.0, 0.0, 30628.0, 8102.04, 719.0, 0.0, 1200.0, 0.0, 0.0, 13379.0, 799.0, 0.0, 400.0, 2654.8, 179.0, 0.0, 12699.0, 0.0, 25613.6, 12598.179999999998, 1809.56, 0.0, 19177.0, 11285.0, 37251.0, 1731.0, 0.0, 0.0, 1253.0, 0.0, 0.0, 0.0, 550.0, 0.0, 3270.0, 0.0, 0.0, 1250.0, 0.0, 1548.8, 152.0, 8417.0, 0.0, 0.0, 0.0, 0.0, 0.0, 0.0, 0.0, 0.0, 0.0, 40.0, 0.0, 30.0, 4876.75, 0.0, 987.0, 0.0, 57696.83, 4731.0, 14652.5, 0.0, 0.0, 7860.0, 0.0, 0.0, 25984.95, 3193.0, 3407.0, 0.0, 0.0, 0.0, 0.0, 0.0, 0.0, 4034.0, 0.0, 0.0, 9378.88, 0.0, 0.0, 6467.8, 0.0, 0.0, 300.0, 0.0, 0.0, 0.0, 0.0, 33181.19, 0.0, 0.0, 0.0, 0.0, 400.0, 620.0, 0.0, 1710.0, 0.0, 0.0, 0.0, 0.0, 0.0, 0.0, 0.0, 0.0, 380.0, 0.0, 0.0, 60.0, 0.0, 0.0, 0.0, 0.0, 135.0, 0.0, 0.0, 0.0, 2410.2, 0.0, 0.0, 23003.1, 2091.0, 0.0, 224.0, 0.0, 0.0, 0.0, 1289.5800000000002, 1289.5800000000002, 8919.3, 8012.599999999999, 0.0, 230.0, 0.0, 50912.65999999998, 130.0, 0.0, 0.0, 0.0, 0.0, 11887.6, 98.0, 750.0, 0.0, 0.0, 0.0, 0.0, 0.0, 0.0, 13750.150000000001, 0.0, 20833.02, 0.0, 3277.0, 0.0, 25795.4, 0.0, 0.0, 0.0, 0.0, 0.0, 0.0, 22321.5, 21.0, 0.0, 0.0, 0.0, 1585.2, 1585.2, 242.0, 0.0, 0.0, 0.0, 0.0, 0.0, 2938.75, 0.0, 0.0, 60.0, 33345.700000000004, 0.0, 0.0, 0.0, 0.0, 0.0, 0.0, 0.0, 0.0, 1628.0, 0.0, 0.0, 0.0, 0.0, 2440.9700000000003, 130.0, 18306.4, 390.0, 0.0, 3009.5, 0.0, 0.0, 0.0, 602.0, 602.0, 0.0, 0.0, 0.0, 0.0, 0.0, 0.0, 0.0, 0.0, 0.0, 0.0, 0.0, 1861.0, 0.0, 21027.0, 0.0, 0.0, 3095.0, 0.0, 0.0, 0.0, 0.0, 33578.0, 0.0, 0.0, 0.0, 0.0, 0.0, 11881.589999999998, 0.0, 0.0, 0.0, 0.0, 0.0, 0.0, 0.0, 0.0, 0.0, 0.0, 0.0, 0.0, 0.0, 0.0, 27.0, 0.0, 0.0, 0.0, 100.0, 0.0, 2985.0, 20303.4, 20303.4, 13761.49, 0.0, 0.0, 20.0, 0.0, 0.0, 0.0, 0.0, 0.0, 0.0, 0.0, 0.0, 0.0, 0.0, 0.0, 0.0, 0.0, 0.0, 0.0, 0.0, 0.0, 0.0, 0.0, 0.0, 0.0, 0.0, 280.0, 0.0, 2070.0, 0.0, 0.0, 0.0, 0.0, 0.0, 0.0, 0.0, 0.0, 0.0, 0.0, 0.0, 0.0, 0.0, 0.0, 0.0, 0.0, 0.0, 0.0, 433.0, 0.0, 8305.0, 130.0, 0.0, 670.0, 0.0, 0.0, 0.0, 559.0, 1007.6, 2631.0, 30382.0, 0.0, 0.0, 17507.9, 0.0, 0.0, 271.0, 271.0, 0.0, 710.0, 0.0, 1320.0, 0.0, 560.0, 0.0, 0.0, 0.0, 460.0, 1623.4, 562.75, 0.0, 353.0, 18929.0, 2978.0, 0.0, 300.0, 18101.0, 440.0, 0.0, 0.0, 0.0, 0.0, 0.0, 30954.9, 3737.0, 0.0, 870.0, 0.0, 2585.0, 2709.0, 606.0, 540.0, 0.0, 0.0, 0.0, 0.0, 0.0, 0.0, 0.0, 3859.0, 1007.6, 0.0, 4510.0, 0.0, 370.0, 1808.0, 0.0, 0.0, 0.0, 0.0, 0.0, 0.0, 0.0, 0.0, 0.0, 0.0, 0.0, 0.0, 12083.0, 2704.0, 1267.0, 18253.35, 0.0, 0.0, 638.6, 0.0, 3131.1999999999994, 128.0, 580.0, 8594.34, 8594.34, 0.0, 4490.0, 0.0, 0.0, 0.0, 6020.0, 0.0, 3195.0, 0.0, 315.0, 0.0, 0.0, 650.0, 0.0, 0.0, 0.0, 170.0, 5394.2, 0.0, 2293.0, 200.0, 0.0, 0.0, 0.0, 3093.3, 1174.2, 0.0, 98.0, 50.0, 0.0, 0.0, 0.0, 0.0, 0.0, 0.0, 1988.0, 607.3, 0.0, 0.0, 0.0, 0.0, 100.0, 0.0, 0.0, 0.0, 0.0, 0.0, 0.0, 5555.5, 0.0, 0.0, 0.0, 0.0, 60.0, 0.0, 100.0, 1025.0, 1122.0, 0.0, 3711.0, 0.0, 0.0, 0.0, 6376.0, 0.0, 2598.0, 1060.0, 0.0, 0.0, 4019.34, 40.0, 0.0, 0.0, 0.0, 680.0, 0.0, 0.0, 0.0, 0.0, 0.0, 203.5, 0.0, 0.0, 0.0, 0.0, 0.0, 0.0, 725.2, 0.0, 0.0, 0.0, 7903.2, 3141.5, 0.0, 0.0, 0.0, 0.0, 1062.0, 0.0, 80.0, 0.0, 0.0, 0.0, 0.0, 400.0, 77.0, 0.0, 0.0, 458.0, 0.0, 0.0, 0.0, 1771.1, 0.0, 0.0, 0.0, 0.0, 0.0, 504.0, 500.0, 0.0, 0.0, 0.0, 100.0, 0.0, 52409.54999999999, 0.0, 52409.54999999999, 0.0, 457.0, 1230.0, 33499.48, 0.0, 59574.799999999996, 0.0, 0.0, 317.9, 0.0, 0.0, 1057.0, 0.0, 1900.8399999999997, 0.0, 1026.0, 566.0, 0.0, 0.0, 0.0, 4113.0, 8163.99, 0.0, 1088.0, 0.0, 0.0, 0.0, 0.0, 0.0, 4508.8, 700.0, 3322.0, 230.0, 600.0, 30520.27, 0.0, 25.0, 23862.690000000002, 27884.610000000004, 0.0, 1000.0, 11899.0, 0.0, 0.0, 5677.0, 226.60000000000002, 604.0, 115.0, 0.0, 1452.88, 3174.0, 11834.3, 150.0, 0.0, 0.0, 30628.0, 189.0, 976.0, 13903.0, 54.0, 4182.0, 0.0, 0.0, 954.9000000000001, 4701.2, 0.0, 0.0, 0.0, 13320.499999999998, 0.0, 9191.0, 0.0, 3261.0, 0.0, 0.0, 3964.98, 0.0, 0.0, 0.0, 0.0, 0.0, 17053.239999999998, 105351.90000000001, 0.0, 50693.799999999996, 15663.0, 0.0, 0.0, 0.0, 0.0, 0.0, 0.0, 0.0, 1641.0, 0.0, 0.0, 0.0, 0.0, 0.0, 0.0, 46134.36, 0.0, 0.0, 0.0, 0.0, 4001.0, 0.0, 0.0, 0.0, 4128.6, 0.0, 0.0, 0.0, 8321.0, 0.0, 0.0, 0.0, 0.0, 0.0, 0.0, 0.0, 25357.5, 16923.0, 0.0, 0.0, 0.0, 456.0, 0.0, 0.0, 0.0, 0.0, 0.0, 0.0, 0.0, 0.0, 13874.999999999998, 4409.0, 0.0, 0.0, 0.0, 0.0, 3122.0, 0.0, 0.0, 1300.0, 674.0, 0.0, 0.0, 0.0, 580.0, 45.0, 0.0, 0.0, 0.0, 0.0, 0.0, 0.0, 0.0, 0.0, 0.0, 0.0, 0.0, 0.0, 0.0, 0.0, 764.0, 0.0, 0.0, 0.0, 90.0, 0.0, 0.0, 0.0, 0.0, 0.0, 0.0, 0.0, 0.0, 0.0, 0.0, 0.0, 300.0, 0.0, 0.0, 0.0, 2653.0, 2194.0, 159.0, 0.0, 0.0, 141.0, 0.0, 0.0, 0.0, 504.0, 0.0, 0.0, 759.5, 0.0, 0.0, 0.0, 1626.5, 80.0, 0.0, 6934.4, 372.0, 0.0, 0.0, 0.0, 0.0, 0.0, 0.0, 19.0, 12344.0, 0.0, 0.0, 0.0, 952.0, 1983.0, 2984.0, 1160.0, 3099.3, 2880.0, 0.0, 0.0, 50.0, 2196.0, 0.0, 0.0, 27.0, 0.0, 0.0, 0.0, 0.0, 0.0, 0.0, 100.0, 454.0, 0.0, 0.0, 910.0, 5831.2, 0.0, 0.0, 2369.5, 0.0, 100.0, 0.0, 0.0, 0.0, 0.0, 0.0, 0.0, 0.0, 0.0, 0.0, 1500.0, 0.0, 0.0, 0.0, 500.0, 0.0, 8233.2, 0.0, 0.0, 0.0, 0.0, 0.0, 720.0, 0.0, 0.0, 0.0, 615.0, 0.0, 1100.5, 10786.0, 160.0, 0.0, 0.0, 0.0, 910.0, 12146.22, 1510.0, 0.0, 0.0, 0.0, 0.0, 0.0, 0.0, 3244.0, 0.0, 20.0, 602.0, 5978.099999999999, 0.0, 0.0, 0.0, 0.0, 0.0, 0.0, 0.0, 0.0, 0.0, 20782.2, 0.0, 0.0, 0.0, 0.0, 0.0, 80.0, 0.0, 0.0, 0.0, 0.0, 0.0, 0.0, 0.0, 0.0, 0.0, 0.0, 150.0, 0.0, 0.0, 0.0, 0.0, 0.0, 0.0, 0.0, 0.0, 0.0, 0.0, 0.0, 0.0, 0.0, 0.0, 0.0, 0.0, 0.0, 0.0, 2879.5, 0.0, 0.0, 0.0, 0.0, 0.0, 0.0, 0.0, 0.0, 0.0, 0.0, 0.0, 0.0, 0.0, 0.0, 0.0, 500.0, 0.0, 0.0, 955.0, 291.8, 955.0, 0.0, 0.0, 17183.1, 1230.0, 0.0, 0.0, 0.0, 0.0, 0.0, 0.0, 85.0, 0.0, 75.0, 0.0, 0.0, 9147.740000000002, 75.0, 0.0, 16949.9, 0.0, 160.0, 3271.6, 0.0, 17648.6, 0.0, 400.0, 1163.0, 0.0, 0.0, 0.0, 0.0, 0.0, 0.0, 158.0, 0.0, 0.0, 1999.0, 421.0, 0.0, 9607.6, 0.0, 0.0, 1213.0, 7455.0, 0.0, 1918.0, 0.0, 0.0, 0.0, 0.0, 0.0, 0.0, 1127.0, 0.0, 6130.0, 0.0, 3074.0, 0.0, 966.0, 52.0, 54014.27000000004, 0.0, 0.0, 0.0, 192.0, 3374.0, 0.0, 8525.0, 0.0, 0.0, 0.0, 0.0, 0.0, 0.0, 0.0, 0.0, 6961.2, 526.0, 24522.7, 0.0, 0.0, 0.0, 0.0, 921.0, 921.0, 0.0, 0.0, 499.8, 0.0, 0.0, 0.0, 0.0, 0.0, 0.0, 0.0, 0.0, 50.0, 0.0, 836.0, 836.0, 0.0, 8239.5, 0.0, 918.0, 0.0, 28952.3, 7563.8, 0.0, 0.0, 0.0, 0.0, 0.0, 0.0, 0.0, 1160.0, 0.0, 999.75, 10606.6, 0.0, 950.0, 0.0, 0.0, 0.0, 0.0, 0.0, 736.0, 0.0, 0.0, 0.0, 0.0, 0.0, 14064.9, 0.0, 20.0, 0.0, 0.0, 280.0, 0.0, 200.0, 710.0, 0.0, 0.0, 0.0, 0.0, 66311.0, 0.0, 0.0, 0.0, 0.0, 121815.55, 0.0, 0.0, 232.0, 0.0, 0.0, 0.0, 0.0, 0.0, 1671.0, 688.0, 0.0, 1320.0, 183.0, 2021.2, 130.0, 11244.869999999999, 0.0, 425.0, 375.0, 0.0, 0.0, 0.0, 0.0, 10354.4, 10354.4, 0.0, 4224.6, 0.0, 93.0, 0.0, 0.0, 0.0, 0.0, 22291.010000000002, 0.0, 0.0, 0.0, 0.0, 0.0, 0.0, 0.0, 0.0, 0.0, 0.0, 0.0, 0.0, 0.0, 0.0, 500.0, 0.0, 328.0, 435.0, 0.0, 2310.0, 2310.0, 0.0, 0.0, 0.0, 0.0, 0.0, 0.0, 2232.05, 0.0, 0.0, 85.0, 0.0, 1375.5, 0.0, 0.0, 0.0, 0.0, 0.0, 0.0, 0.0, 0.0, 0.0, 0.0, 108.0, 0.0, 810.0, 0.0, 0.0, 0.0, 0.0, 0.0, 0.0, 0.0, 0.0, 0.0, 0.0, 0.0, 0.0, 0.0, 610.0, 0.0, 0.0, 0.0, 22945.0, 0.0, 0.0, 763.0, 0.0, 0.0, 0.0, 5935.5, 0.0, 0.0, 0.0, 0.0, 0.0, 2767.0, 0.0, 0.0, 0.0, 0.0, 0.0, 450.0, 0.0, 4489.0, 0.0, 15706.0, 25.0, 0.0, 0.0, 0.0, 2090.0, 400.0, 12569.3, 0.0, 0.0, 0.0, 5640.0, 0.0, 390.0, 0.0, 1323.0, 0.0, 8059.37, 0.0, 0.0, 420.0, 0.0, 175.0, 0.0, 0.0, 8267.0, 912.0, 0.0, 0.0, 0.0, 0.0, 0.0, 0.0, 0.0, 0.0, 0.0, 0.0, 4731.0, 0.0, 280.0, 3604.65, 0.0, 500.0, 200.0, 0.0, 0.0, 2765.0, 0.0, 0.0, 0.0, 0.0, 3000.0, 1827.0, 0.0, 0.0, 0.0, 0.0, 97.0, 316.0, 468.0, 2605.3, 750.0, 0.0, 0.0, 20833.02, 0.0, 0.0, 20149.0, 20.0, 0.0, 0.0, 84.0, 19.0, 0.0, 0.0, 0.0, 0.0, 0.0, 400.0, 0.0, 600.0, 0.0, 0.0, 0.0, 0.0, 0.0, 0.0, 0.0, 0.0, 0.0, 0.0, 0.0, 0.0, 0.0, 3802.0, 904.3, 0.0, 0.0, 0.0, 0.0, 0.0, 5418.0, 0.0, 0.0, 0.0, 0.0, 170.0, 0.0, 0.0, 0.0, 0.0, 0.0, 40.0, 0.0, 0.0, 0.0, 0.0, 0.0, 0.0, 0.0, 12996.8, 0.0, 0.0, 0.0, 60.0, 60.0, 50.0, 0.0, 300.0, 0.0, 0.0, 0.0, 0.0, 0.0, 660.0, 0.0, 0.0, 0.0, 34731.380000000005, 0.0, 0.0, 0.0, 6846.0, 0.0, 0.0, 0.0, 0.0, 646.2, 0.0, 480.0, 0.0, 0.0, 0.0, 465.0, 0.0, 0.0, 3290.0, 924.0, 0.0, 0.0, 0.0, 0.0, 1386.0, 0.0, 0.0, 0.0, 0.0, 0.0, 0.0, 0.0, 0.0, 0.0, 314.0, 0.0, 0.0, 0.0, 4196.1, 0.0], \"z\": [42757.16, 75932.43, 42340.0, 355876.44, 50000.0, 30000.0, 65376.56, 30000.0, 163450.8, 55943.32, 50076.25, 28000.0, 29131.83, 24891.59, 42833.0, 34450.0, 20721.82, 23994.6, 32208.65, 31270.98, 21338.78, 27116.13, 25989.29, 36411.83, 24933.06, 38429.97, 22935.65, 38367.0, 30000.0, 17400.0, 34303.25, 25809.33, 21189.79, 35912.7, 36667.88, 40050.88, 42006.67, 23746.36, 92619.02, 7614.46, 40618.56, 66769.8, 39961.05, 22473.0, 31933.79, 52761.36, 50989.25, 49500.0, 61066.02, 45993.95, 45993.95, 28328.22, 16033.57, 40675.31, 31104.48, 52133.62, 85979.13, 17048.69, 66377.25, 31970.84, 14379.35, 24867.96, 12185.24, 59800.48, 8445.63, 26100.0, 34662.83, 48076.17, 79622.58, 45066.0, 31025.85, 51577.95, 37310.43, 37310.43, 19209.74, 37207.29, 11677.87, 200000.0, 50684.52, 24855.33, 26998.62, 70000.0, 48960.58, 22401.23, 26335.24, 21499.9, 25000.0, 38784.22, 25000.0, 57982.06, 26138.92, 47677.4, 62100.82, 36821.2, 30764.48, 58053.32, 53760.42, 55431.98, 26511.76, 54358.87, 132348.06, 77647.5, 82479.12, 75947.0, 66934.0, 32977.3, 60875.74, 52673.32, 26290.47, 19706.49, 40401.64, 18548.16, 19140.0, 21227.81, 26419.0, 29034.21, 34411.84, 32615.89, 20000.0, 18753.0, 30453.51, 34621.0, 27409.33, 22675.2, 14144.79, 15745.22, 43482.12, 4391.76, 16000.0, 26996.63, 61335.0, 30116.5, 35126.14, 24000.0, 34908.07, 33528.08, 23175.06, 21750.0, 21750.0, 37896.48, 50023.48, 39150.0, 16999.03, 33263.9, 40415.9, 10440.0, 43561.68, 137036.67, 50244.73, 32388.08, 22833.19, 2504.65, 3438.05, 18815.5, 42436.81, 32282.0, 28523.97, 22954.69, 37051.06, 40030.77, 21383.67, 32066.6, 60900.0, 19577.9, 21721.48, 22470.69, 38685.36, 43993.0, 23847.67, 8152.4, 21254.96, 49836.31, 34640.5, 48736.7, 9280.78, 21558.09, 26617.55, 13379.43, 56716.02, 50460.0, 16579.35, 45530.99, 57521.29, 21868.0, 49735.0, 28270.88, 26100.0, 38603.35, 24501.64, 68583.43, 49290.88, 18136.57, 30215.87, 40270.27, 23575.61, 25253.19, 34019.3, 28466.77, 41211.65, 41325.0, 38478.81, 38369.39, 38812.71, 33524.85, 50271.56, 56961.51, 56961.51, 21168.84, 16677.02, 52388.65, 35000.0, 44139.43, 26318.88, 52038.55, 19676.0, 16057.13, 105380.99, 30276.0, 29871.8, 29560.27, 22965.25, 36607.62, 34310.03, 27148.65, 30183.02, 37858.39, 19477.43, 22316.12, 46740.94, 28488.55, 21000.65, 23364.59, 38034.37, 35231.0, 32108.64, 54554.54, 28676.45, 26634.96, 44583.8, 30054.07, 44950.0, 90171.86, 54924.7, 40876.08, 30450.0, 42136.01, 112881.56, 23327.74, 95450.37, 54709.93, 17186.83, 64715.68, 37994.74, 32293.01, 31109.63, 99762.02, 34811.04, 85324.57, 29408.1, 18126.58, 17400.0, 52935.54, 12324.97, 31568.54, 20013.45, 39999.92, 35545.13, 56442.46, 30983.23, 32428.53, 19048.81, 22093.71, 21102.04, 24810.23, 39252.4, 16544.75, 24841.48, 62184.75, 55310.0, 19545.11, 12450.29, 31544.21, 34883.67, 45398.14, 32746.22, 24004.7, 36462.68, 18627.26, 30783.5, 121522.88, 50479.64, 21381.1, 66333.62, 32435.83, 28626.27, 21585.47, 21242.55, 53250.41, 17921.3, 81420.65, 32126.82, 28347.93, 31015.38, 39257.01, 41061.39, 35729.87, 42834.23, 43500.0, 26310.75, 25000.0, 38124.09, 37758.0, 28249.8, 45500.0, 36351.36, 20010.0, 36351.36, 48597.65, 26758.33, 40905.38, 21940.0, 41342.0, 59758.6, 33085.12, 165843.0, 41673.44, 24102.44, 79903.0, 80607.55, 31475.97, 35000.0, 58821.11, 35015.29, 82043.66, 37950.43, 50000.0, 43349.82, 31453.14, 160515.0, 45538.0, 43099.15, 192348.57, 18320.02, 17081.32, 25635.59, 23863.4, 21268.32, 28841.67, 19444.0, 51322.26, 58408.74, 50342.09, 27413.33, 41497.57, 13629.63, 37000.0, 51837.22, 28190.05, 24211.9, 14738.02, 27887.73, 34698.47, 33932.01, 31304.82, 51124.22, 35000.0, 30773.7, 31056.52, 30846.54, 26100.0, 37541.66, 30831.46, 26825.0, 59932.41, 63405.01, 18752.11, 14790.0, 12455.5, 29724.99, 40890.0, 73950.0, 14870.92, 51460.5, 25745.75, 29895.27, 42854.42, 23732.09, 44539.64, 49860.29, 14302.66, 22620.0, 29000.0, 52799.26, 68204.97, 29030.37, 41403.15, 28595.59, 55059.93, 57012.72, 12330.31, 29960.28, 22452.73, 23375.02, 59533.04, 9817.95, 27247.26, 35061.0, 27712.36, 28600.0, 11648.0, 30450.0, 54356.15, 61046.85, 14906.0, 39751.75, 40113.53, 34636.78, 32089.95, 20010.0, 48115.01, 40326.0, 45115.65, 96166.9, 38964.67, 49980.37, 73017.36, 46074.53, 63435.43, 57939.64, 32130.66, 50000.0, 76684.71, 45867.23, 35017.5, 30780.0, 56106.03, 46137.27, 27000.0, 26857.14, 47117.75, 56812.0, 45123.33, 28581.77, 53835.0, 75907.63, 31466.65, 31466.65, 44950.0, 20125.58, 82763.19, 56440.0, 69250.02, 19264.95, 103341.0, 216670.0, 77619.0, 184993.84, 49375.45, 92248.15, 32314.43, 54608.63, 36917.63, 43266.24, 61110.0, 66122.79, 47850.0, 76565.33, 70225.5, 69051.28, 40020.0, 48539.36, 42743.1, 37965.01, 93533.4, 40931.81, 26970.0, 35394.68, 42822.72, 37282.86, 54260.45, 73930.84, 76635.0, 59815.0, 61769.24, 96694.55, 78040.85, 22912.42, 54017.0, 52521.84, 42264.31, 41237.49, 84410.04, 30795.33, 41093.0, 25785.06, 20341.06, 33606.5, 18135.88, 10276.0, 20000.0, 29679.64, 24590.34, 32187.45, 36614.53, 23775.52, 26862.98, 34103.0, 21750.0, 26453.66, 27183.98, 58116.0, 40600.0, 30000.0, 23649.19, 36704.66, 37282.71, 82865.0, 57941.47, 253968.0, 25631.51, 36858.77, 70333.33, 28958.32, 11067.0, 30450.0, 40514.71, 57551.4, 116665.55, 20872.66, 22616.0, 32500.0, 20572.13, 29646.5, 21929.81, 70000.0, 24294.32, 43611.52, 15638.0, 120301.31, 40553.59, 28438.85, 44958.01, 45022.5, 60583.33, 91187.93, 52925.0, 85669.67, 35329.44, 21118.3, 35389.97, 40309.58, 32872.38, 62350.0, 62350.0, 69600.0, 21704.98, 15478.75, 16000.0, 39248.0, 27931.44, 32606.2, 30000.0, 42104.86, 42733.15, 60000.0, 51736.26, 63275.25, 8444.62, 17242.4, 24432.21, 44507.63, 34102.83, 63822.14, 29129.06, 50750.0, 68108.99, 37167.18, 27096.43, 51371.19, 37532.07, 69570.7, 37804.17, 26236.85, 38579.0, 28797.43, 22524.99, 43114.3, 43114.3, 61905.94, 49182.0, 28663.46, 29832.34, 68930.303, 27785.43, 150205.32, 25000.0, 60777.02, 42262.49, 59010.5, 35072.79, 21716.32, 22340.91, 26645.9, 43500.0, 12838.31, 49330.73, 30907.03, 36033.57, 126706.21, 37996.5, 48460.29, 57589.64, 102761.49, 209700.0, 52200.63, 50893.0, 12688.0, 59448.28, 157727.0, 120672.04, 9990.5, 43500.0, 24682.0, 58570.79, 51069.3, 37000.0, 28992.0, 30522.5, 30774.0, 29760.38, 16000.0, 10038.0, 21612.0, 19032.98, 13710.33, 24853.43, 40013.18, 12180.0, 30145.38, 30145.38, 12387.06, 41760.0, 20823.7, 12513.06, 44599.16, 11727.51, 32212.37, 43542.3, 35215.91, 22785.02, 27933.76, 18818.14, 40256.08, 19220.56, 50025.0, 28104.62, 26691.6, 45675.0, 34800.0, 27381.05, 27365.23, 64801.04, 30496.28, 30496.28, 56371.5, 44805.0, 25230.0, 15645.5, 43353.55, 75125.0, 40567.75, 12849.75, 35472.32, 22984.59, 30457.02, 29727.4, 36015.0, 33920.39, 14821.0, 33679.51, 33754.78, 39748.85, 47815.6, 34220.0, 60464.68, 19239.38, 29037.85, 29037.85, 36398.07, 24600.76, 52459.55, 39150.0, 38585.4, 24287.86, 70151.0, 33717.0, 15423.8, 50872.0, 26093.22, 26468.0, 55752.5, 19698.83, 43692.47, 40904.12, 39198.86, 49190.55, 18732.65, 33883.68, 37500.0, 52804.09, 42422.57, 50317.1, 15351.07, 35321.23, 21750.0, 35505.56, 44139.66, 42433.64, 17497.73, 25997.89, 30750.28, 25872.03, 23197.5, 26152.54, 25889.15, 40213.57, 38915.1, 49157.61, 27676.44, 31832.39, 56371.32, 48059.22, 45125.0, 46204.83, 41087.0, 47546.58, 25453.78, 41959.0, 37857.82, 79750.0, 33766.6, 26970.0, 115172.48, 30000.0, 47782.61, 52475.29, 146395.13, 9151.19, 193853.69, 49819.0, 52707.5, 36629.9, 17555.67, 35374.99, 43889.0, 10829.18, 39696.17, 19994.38, 47235.93, 75447.96, 61048.73, 19955.63, 35246.6, 69174.0, 17275.83, 48596.06, 21205.89, 22342.37, 20603.22, 57865.62, 25287.6, 14149.09, 31175.3, 46429.22, 36416.07, 99888.6, 64589.01, 39195.0, 22578.84, 34526.82, 33097.78, 44959.22, 104450.21, 20614.36, 24003.29, 22085.28, 14995.9, 36447.57, 53545.42, 50262.25, 15826.75, 58786.13, 37377.56, 26833.0, 49576.15, 38178.0, 27758.1, 52129.68, 38165.0, 10614.49, 37845.86, 36268.35, 41818.0, 35200.84, 22205.0, 51256.39, 31852.45, 35983.08, 32981.78, 49921.7, 13050.0, 34014.47, 24021.14, 27540.0, 40265.14, 50223.91, 32182.3, 36292.0, 38599.68, 251500.69, 39954.66, 83549.97, 81590.2, 37739.54, 185088.8, 35279.0, 17908.66, 8462.3, 8462.3, 8462.3, 37488.91, 45697.8, 10643.0, 83773.31, 41916.85, 22660.15, 47309.3, 30517.55, 37206.25, 58536.0, 74122.09, 33665.61, 38766.52, 36465.78, 9570.0, 25849.34, 181723.3, 46733.5, 35403.44, 36647.81, 11448.0, 38219.0, 43102.79, 27234.78, 56541.52, 39000.0, 61344.43, 97271.35, 34452.0, 46428.18, 36647.8, 37755.1, 7669.0, 193140.0, 37401.59, 37401.59, 31843.88, 76454.13, 72000.0, 79321.77, 36838.45, 85203.06, 51154.14, 24799.65, 9427.9, 44773.25, 24183.89, 80066.26, 41228.72, 30160.0, 18502.36, 34000.0, 23859.7, 29553.46, 9578.19, 57855.0, 25077.93, 38285.94, 112411.17, 50014.52, 45035.61, 74530.0, 40409.89, 40409.89, 43164.1, 25840.45, 59378.15, 48482.93, 31160.17, 44154.15, 51053.18, 22772.54, 67222.94, 60351.99, 59494.37, 27622.5, 39709.54, 31539.0, 24611.0, 45225.5, 58662.07, 51306.0, 63661.79, 30636.29, 24033.91, 31847.0, 34655.06, 30751.82, 26196.78, 44938.0, 31500.0, 24716.0, 56614.24, 53595.74, 41778.0, 55598.31, 54523.14, 46307.0, 96973.51, 65867.56, 24797.62, 30853.38, 114767.85, 25927.44, 34943.73, 30505.25, 39902.42, 38916.04, 40386.07, 12231.72, 82594.57, 83421.64, 53650.0, 27896.0, 44660.64, 49867.93, 87159.0, 27431.0, 80683.33, 73370.88, 264837.5, 33505.76, 35692.77, 24911.6, 96417.74, 19343.0, 10540.33, 43710.25, 46510.05, 60000.0, 22071.0, 30084.35, 26053.8, 23536.25, 55286.0, 42425.49, 14277.71, 20830.76, 35778.64, 36456.01, 16841.75, 28301.0, 32697.07, 50758.0, 43405.12, 43427.45, 15290.34, 39150.0, 37154.95, 23810.53, 27575.94, 34188.05, 28530.3, 25308.0, 82650.0, 49884.5, 69875.31, 61321.01, 32002.08, 33019.45, 111787.06, 104098.54, 43499.43, 59045.45, 38498.25, 33218.66, 21010.68, 38561.09, 55870.02, 52654.31, 107029.19, 36284.77, 117252.0, 50031.95, 46552.17, 39096.41, 153892.98, 61058.21, 27157.84, 28366.33, 51898.02, 34278.0, 32274.76, 15477.0, 38934.29, 25220.53, 53617.06, 30559.7, 30089.7, 62927.43, 61154.85, 49172.97, 51137.22, 39150.0, 32064.31, 37972.0, 48140.0, 35937.82, 48356.6, 39139.41, 43372.0, 23160.85, 37389.85, 50136.29, 110522.53, 29953.93, 47050.93, 31440.75, 217500.0, 79758.0, 14144.36, 38555.0, 42647.0, 20020.46, 24105.0, 66869.44, 50304.39, 77636.78, 33184.35, 29634.54, 26100.0, 32767.02, 195530.0, 27153.86, 72118.72, 51575.78, 57226.0, 62442.22, 55754.63, 55462.0, 31495.88, 75641.46, 47850.0, 19139.37, 68890.0, 44955.0, 15143.59, 85076.56, 106892.1, 81747.43, 181376.9, 164951.3, 82190.77, 131689.27, 41554.0, 128470.0, 103073.53, 44958.06, 62664.83, 37977.65, 39551.97, 24604.39, 47519.59, 55929.42, 58263.4, 27779.51, 25451.43, 38633.96, 44000.0, 51900.96, 51832.54, 49084.09, 27526.48, 44706.55, 45048.6, 55230.51, 38146.32, 147139.33, 55727.78, 34892.97, 60604.59, 49614.49, 219833.34, 41542.5, 72677.29, 51232.88, 20700.0, 14352.87, 141073.87, 47646.65, 19069.06, 31758.0, 47290.12, 45782.88, 114840.0, 87000.0, 41051.99, 10242.0, 31886.64, 43000.0, 35000.0, 52000.0, 50000.0, 109556.6, 28817.0, 49146.4, 30102.0, 46893.0, 35394.68, 31120.0, 25318.95, 19467.32, 14667.0, 34031.0, 32398.26, 17822.95, 32344.53, 27666.35, 16182.14, 20000.0, 54327.0, 93670.0, 56137.22, 16900.0, 44800.0, 44029.0, 45000.0, 23000.0, 21000.0, 38450.83, 60000.0, 45414.0, 54679.13, 68821.85, 34256.36, 30000.0, 25000.0, 30000.0, 54845.34, 20000.0, 50000.0, 23345.38, 24394.51, 46146.45, 15178.53, 30068.09, 20369.75, 85000.0, 25000.0, 35000.0, 38000.0, 76087.0, 38913.0, 1000000.0, 22565.1, 100197.1, 23338.85, 33612.0, 56732.0, 28172.61, 25000.0, 105000.0, 47586.0, 87000.0, 13368.12, 65000.0, 88664.24, 23760.0, 30000.0, 16695.56, 40354.11, 40000.0, 20119.14, 27431.02, 19154.5, 27151.55, 27933.51, 56286.46, 67129.2, 33376.09, 16081.04, 24508.43, 50954.19, 47760.68, 64803.78, 44042.39, 40113.36, 59550.34, 74260.02, 56145.0, 38837.6, 28969.82, 47850.0, 67577.98, 9882.0, 20000.0, 16900.98, 55897.66, 60030.0, 43500.0, 1500000.0, 35406.06, 39599.0, 39599.0, 25037.82, 46045.44, 33319.3, 11918.61, 27329.11, 19192.0, 39804.93, 25282.65, 11796.0, 15778.0, 33367.83, 78221.83, 33393.69, 34592.04, 50802.13, 71072.54, 65000.0, 27000.0, 35000.0, 34800.0, 30447.41, 43500.0, 48105.04, 124633.0, 124632.99, 15190.21, 25000.0, 121058.06, 47769.92, 81246.08, 20000.0, 11280.0, 15000.0, 11000.0, 30000.0, 75026.51, 28363.0, 27240.39, 36542.54, 15706.6, 42929.27, 26100.0, 24103.54, 38240.56, 16426.36, 19000.0, 33539.0, 24377.69, 50000.0, 30000.0, 35000.0, 128470.0, 29000.0, 34800.0, 33930.0, 33148.06, 54938.6, 11371.0, 16000.0, 15000.0, 12000.0, 10300.0, 61248.0, 29131.11, 25484.1, 37000.0, 70000.0, 20000.0, 35000.0, 30000.0, 26500.0, 50000.0, 32000.0, 40000.0, 28000.0, 130000.0, 45000.0, 20000.0, 35000.0, 60000.0, 25000.0, 38053.6, 48488.0, 22704.83, 32829.11, 40597.88, 17487.61, 18028.49, 37195.12, 25000.0, 44036.74, 30479.0, 13038.0, 12000.0, 22000.0, 40000.0, 20000.0, 23407.93, 40000.0, 85000.0, 55000.0, 33000.0, 38845.08, 43500.0, 59762.87, 23000.0, 35000.0, 45000.0, 30000.0, 45000.0, 38000.0, 23000.0, 25000.0, 35000.0, 23498.29, 41887.74, 42630.0, 42630.0, 22743.84, 89436.0, 30450.0, 35177.18, 20000.0, 45000.0, 28269.05, 45000.0, 30000.0, 56538.54, 30000.0, 65000.0, 52000.0, 30000.0, 30000.0, 15000.0, 46241.17, 42014.33, 27000.0, 26000.0, 53817.47, 22952.0, 52026.0, 53527.15, 55000.0, 25000.0, 45000.0, 35000.0, 38000.0, 16000.0, 40000.0, 45000.0, 25000.0, 16000.0, 35000.0, 35000.0, 48811.0, 45730.78, 52273.56, 24000.0, 16000.0, 25000.0, 30000.0, 40000.0, 65000.0, 34000.0, 65000.0, 62499.22, 55000.0, 38000.0, 22000.0, 40000.0, 15329.84, 53674.43, 41108.55, 49038.28, 25000.0, 18000.0, 27000.0, 15249.44, 50000.0, 25000.0, 25000.0, 25000.0, 120000.0, 41000.0, 20000.0, 52000.0, 25000.0, 15000.0, 20000.0, 30000.0, 30000.0, 54125.61, 20900.21, 10400.64, 30363.44, 26863.06, 87398.62, 39081.99, 24879.06, 37178.0, 41203.67, 31208.04, 55786.23, 14208.5, 36175.6, 20000.0, 35000.0, 60000.0, 20000.0, 30000.0, 40000.0, 13500.0, 20000.0, 50000.0, 19000.0, 17898.73, 23907.33, 23041.93, 30599.19, 30339.0, 35000.0, 30000.0, 30000.0, 49000.0, 80000.0, 40000.0, 21000.0, 23000.0, 14117.72, 22205.02, 15000.0, 24461.3, 30000.0, 25000.0, 35000.0, 35000.0, 15904.46, 59450.0, 25503.0, 48218.88, 11820.24, 27530.43, 60846.84, 12945.98, 46784.22, 80362.0, 36485.62, 15093.05, 48732.96, 25170.67, 55835.99, 48580.64, 34756.52, 66645.6, 108750.0, 73746.42, 37735.59, 36218.74, 37575.0, 37211.0, 164595.4, 30151.66, 80203.86, 34909.57, 59750.35, 24533.82, 50966.0, 50853.4, 39150.0, 36337.0, 33375.28, 62633.0, 25297.57, 20118.37, 17227.48, 53429.34, 40107.98, 19833.25, 21573.19, 76147.74, 25885.42, 17439.32, 59654.15, 169925.44, 53397.57, 26354.4, 36088.88, 18577.27, 32889.62, 11539.27, 41206.92, 25000.0, 42731.35, 22214.0, 45588.0, 49024.18, 54145.59, 25111.75, 28728.0, 33522.37, 31752.49, 42509.24, 27260.68, 25108.85, 36369.03, 25230.0, 25352.18, 14326.0, 28657.48, 28798.58, 40757.0, 101385.79, 43173.14, 39000.0, 24853.87, 62500.0, 140117.02, 19962.34, 144083.6, 37734.0, 25979.0, 64680.73, 58383.51, 17683.4, 36270.26, 30270.04, 61299.69, 37317.92, 12162.84, 38562.55, 54979.34, 45369.89, 36738.63, 26814.6, 30716.65, 28627.1, 30802.84, 42764.85, 41838.89, 77556.74, 62946.42, 82650.0, 44597.91, 35501.22, 52110.74, 55767.0, 24704.44, 21866.0, 110181.01, 31433.26, 31358.5, 41392.43, 77139.83, 23677.95, 35194.1, 29139.98, 55220.82, 51421.0, 12006.0, 57735.34, 48971.92, 17661.19, 115751.63, 27991.62, 28092.62, 26774.25, 28720.25, 16976.99, 40000.0, 50906.67, 42547.12, 204241.99, 16611.95, 38881.88, 52946.6, 20910.59, 31031.45, 38000.36, 18190.18, 34311.82, 24260.43, 31030.0, 22929.45, 64640.87, 33920.21, 32600.21, 25872.2, 90327.62, 96643.53, 68633.14, 48340.0, 74239.32, 43297.0, 52916.93, 73044.14, 22051.71, 198998.96, 117197.58, 90958.73, 161401.43, 69132.3, 170596.24, 102131.56, 72328.51, 142000.0, 45000.0, 27212.89, 45688.0, 45688.0, 65000.0, 30000.0, 30000.0, 28000.0, 135669.81, 70668.57, 86978.99, 19253.0, 47609.04, 31246.0, 42824.0, 48319.95, 58260.95, 32000.0, 30000.0, 44245.18, 49731.52, 47415.0, 90000.0, 85032.0, 69550.12, 73819.34, 46019.0, 68667.76, 66063.86, 78037.93, 57741.9, 70537.0, 62240.0, 41720.64, 39799.05, 79520.0, 48461.03, 50000.0, 35000.0, 61849.16, 222256.11, 72835.58, 45540.7, 61575.68, 25000.0, 35000.0, 80322.4, 80000.0, 74320.0, 50206.05, 48300.33, 29914.69, 28467.86, 21750.0, 27437.68, 38883.07, 96781.75, 70000.0, 130281.68, 62885.12, 64258.9, 48221.16, 41394.49, 50558.89, 29600.7, 16134.35, 19136.52, 42706.11, 14883.42, 33056.96, 20500.0, 71692.06, 51241.12, 21787.96, 41621.57, 22629.28, 42657.04, 30399.04, 18000.0, 22803.89, 42614.79, 22486.0, 36152.15, 99529.82, 63165.7, 43672.48, 25601.53, 57518.92, 55733.9, 28668.96, 79104.12, 11808.88, 47420.17, 19735.98, 32070.22, 28474.0, 35028.09, 49130.6, 33471.86, 29213.05, 82650.0, 23607.16, 21566.82, 27199.05, 97903.32, 32797.09, 48418.38, 130103.26, 41643.3, 26208.32, 43500.0, 60900.0, 16961.23, 45615.86, 22284.66, 36622.35, 33934.25, 30370.45, 34433.0, 56727.57, 17655.69, 23613.89, 270263.16, 50224.0, 20435.32, 36222.27, 11904.0, 22823.0, 77603.74, 82841.0, 68122.3, 22252.4, 97043.41, 36857.86, 71548.76, 55692.39, 44378.14, 44266.32, 61577.11, 28078.38, 28366.0, 27167.97, 24656.15, 23558.37, 27464.3, 19020.95, 40075.14, 15092.0, 29707.6, 9646.85, 23804.83, 21055.81, 40800.85, 40482.58, 13197.06, 32348.34, 16346.45, 22427.56, 42362.14, 27811.15, 21041.77, 22795.89, 67138.0, 22117.59, 42751.8, 24577.5, 76511.48, 21526.3, 26598.47, 42450.64, 46268.0, 75221.53, 15641.41, 28072.66, 25590.0, 41531.41, 33323.75, 58451.57, 39173.39, 44298.98, 34800.0, 72641.99, 32332.69, 26766.0, 45653.54, 21638.08, 43868.05, 37845.37, 42323.09, 41542.0, 18460.56, 17092.82, 19195.89, 40218.24, 29913.65, 40076.0, 43021.5, 37700.0, 34502.31, 51598.25, 33019.0, 42378.38, 26453.23, 51353.06, 34133.8, 36602.08, 33296.11, 28108.23, 29551.4, 19085.36, 19868.0, 45625.06, 29980.0, 12622.12, 30160.59, 154231.55, 71185.67, 79876.23, 18118.83, 59058.88, 52688.56, 31813.44, 39000.0, 42434.32, 32902.68, 21589.65, 64366.0, 37247.25, 40005.39, 39150.0, 78082.04, 50534.88, 55138.56, 46608.19, 55964.32, 37699.19, 36639.68, 32856.3, 38441.57, 22383.0, 47517.0, 48479.54, 60698.0, 20933.32, 30563.68, 26507.13, 47364.01, 6192.55, 52125.93, 29752.92, 24069.99, 73899.74, 28341.0, 38161.57, 32816.0, 38850.0, 55171.94, 41746.07, 29671.54, 52292.14, 20246.21, 33478.06, 40639.5, 47821.0, 101759.85, 42446.2, 53529.98, 22311.47, 43919.81, 29932.16, 30562.05, 35090.0, 77121.42, 26667.0, 77121.43, 31925.25, 29588.0, 23156.71, 63021.27, 41070.0, 29352.57, 40000.0, 42232.51, 18270.0, 31013.76, 74522.75, 57364.07, 42259.22, 13657.61, 43500.0, 49812.08, 40790.79, 34811.0, 42102.21, 68776.4, 8689.69, 25905.0, 56300.9, 59868.47, 52666.28, 219167.5, 61921.83, 26322.72, 60000.0, 25666.42, 57428.43, 27426.03, 46712.67, 8869.55, 29008.0, 39936.23, 119000.0, 83772.0, 52787.69, 50339.25, 24535.69, 24993.37, 48517.0, 31939.54, 76998.5, 71715.12, 29940.72, 41057.86, 40890.0, 42050.0, 71560.68, 23317.07, 35249.94, 27690.53, 84904.75, 24650.45, 30500.25, 34065.39, 42835.79, 78039.0, 133412.81, 46288.0, 67804.58, 37064.47, 100264.34, 44699.03, 26640.39, 33694.83, 49991.87, 38648.72, 38814.47, 37356.68, 58524.13, 25022.52, 46314.45, 46314.45, 26943.9, 27022.22, 41658.0, 44735.7, 32197.11, 84707.28, 38402.66, 34970.61, 33651.94, 100260.0, 49321.0, 99362.0, 24138.0, 102107.41, 172723.71, 69210.76, 20907.49, 47794.0, 101226.73, 32098.8, 74547.47, 56230.66, 51123.15, 51123.15, 86004.73, 36234.78, 49155.0, 99526.0, 88657.57, 151380.0, 58203.82, 49579.13, 52144.44, 52114.45, 91959.0, 95700.0, 23180.3, 63031.01, 130500.0, 77444.77, 37349.0, 79790.66, 25141.45, 134165.95, 28694.1, 28694.1, 80453.42, 80453.42, 58909.41, 78000.0, 28667.76, 29518.65, 22550.66, 26024.27, 38628.15, 70054.0, 37410.0, 46714.38, 31023.71, 44448.0, 40946.0, 79104.12, 45371.57, 195160.72, 25963.66, 46827.63, 20803.05, 28986.13, 51863.45, 27722.14, 56015.0, 54372.97, 127413.44, 52389.33, 29722.68, 26000.61, 36565.38, 26238.35, 153743.49, 23313.84, 80116.28, 30865.0, 100616.87, 49337.64, 70692.78, 11239.63, 21797.37, 55034.2, 34765.0, 48467.0, 35039.71, 39304.83, 34096.02, 22756.81, 30537.9, 49236.0, 22678.0, 87740.36, 87740.52, 35663.96, 39824.09, 16612.84, 27073.29, 24934.75, 78332.0, 40314.06, 43553.0, 21170.0, 45327.71, 85959.59, 52193.96, 31529.48, 17910.43, 50860.88, 21396.71, 42827.17, 78183.03, 23078.02, 18096.0, 18096.0, 23078.02, 32742.99, 40041.04, 60000.0, 24229.5, 101614.55, 127080.2, 21960.0, 21960.0, 36913.66, 86689.24, 38305.67, 28022.92, 49090.14, 35605.41, 52710.2, 32021.17, 39937.88, 41788.14, 24709.79, 20843.16, 54289.47, 31910.17, 49608.63, 49655.25, 31420.45, 88457.07, 39150.0, 19633.0, 35900.17, 66682.6, 42158.38, 15466.0, 53728.08, 41660.05, 54304.02, 26791.0, 59312.55, 43826.69, 152034.9, 34095.3, 43380.31, 19650.12, 48800.0, 47731.75, 50460.0, 46439.0, 45938.01, 52648.15, 54300.47, 35923.82, 52722.84, 30335.44, 31131.11, 36356.72, 52514.21, 34615.96, 32269.38, 23826.51, 32765.1, 25950.64, 27089.97, 36799.87, 12191.97, 63721.87, 20253.63, 28771.67, 12115.71, 31758.0, 39340.01, 57455.12, 39651.62, 75308.36, 41521.05, 32748.8, 17400.0, 28776.12, 45692.58, 38882.62, 52591.6, 72591.18, 28038.96, 89554.14, 28560.95, 45144.39, 30433.25, 54105.81, 85967.0, 29755.04, 31236.15, 102948.26, 26417.0, 85016.4, 25797.96, 17149.14, 95324.39, 76446.57, 37780.61, 34315.02, 32346.72, 30589.1, 23354.36, 41211.9, 66575.69, 11983.0, 14800.0, 21785.0, 29746.68, 32375.45, 293246.26, 58291.65, 58287.06, 55245.0, 34500.0, 40751.91, 36201.6, 117112.73, 55665.0, 24188.9, 87155.04, 77777.41, 83394.85, 337782.88, 58794.91, 23180.3, 106966.34, 73248.37, 67797.66, 65579.21, 82592.0, 28346.87, 36754.12, 14702.36, 26505.86, 29878.26, 31201.37, 78169.38, 106773.03, 92145.62, 41777.27, 104018.0, 36934.72, 37150.88, 51595.09, 47270.27, 24092.33, 9743.96, 62154.24, 43500.0, 72870.39, 54395.78, 25952.7, 17075.64, 13447.24, 82650.0, 15393.49, 25055.94, 35415.26, 32879.6, 18667.26, 65021.6, 102895.81, 28381.68, 54047.56, 39343.14, 51809.43, 51809.0, 76823.91, 33064.19, 29979.93, 18618.0, 24102.38, 50420.82, 19638.01, 31645.24, 47854.94, 60000.0, 29493.0, 19817.2, 78055.35, 47937.57, 53940.0, 12482.92, 49360.74, 59819.0, 41695.65, 55223.19, 62647.06, 56970.12, 112311.0, 46726.17, 60154.04, 39150.0, 71352.95, 35000.0, 27110.16, 27599.61, 21052.0, 37109.74, 37109.74, 33850.59, 11310.0, 57484.07, 45610.11, 36487.77, 39150.0, 149789.73, 88216.82, 121800.0, 29687.47, 44093.38, 79041.84, 46855.18, 36479.0, 25859.44, 34400.66, 56550.0, 15551.52, 46555.46, 38106.0, 35042.47, 38775.61, 25711.98, 36045.4, 36005.26, 35945.17, 21522.51, 56450.0, 47121.98, 19440.53, 107782.05, 23686.89, 22730.53, 22730.53, 57984.2, 32617.52, 108838.01, 73436.99, 39425.9, 72385.05, 29719.89, 95962.77, 49870.17, 95515.42, 324778.52, 44712.0, 56598.81, 62060.27, 46005.15, 70551.11, 107748.19, 52200.0]}, {\"alphahull\": 7, \"name\": \"y\", \"opacity\": 0.1, \"type\": \"mesh3d\", \"x\": [1501.0300000000002, 323821.22, 1834.4, 28665.86, 324.0, 10089.56, 54119.95, 2598.08, 5595.889999999999, 766.8, 0.0, 31406.56, 87913.68000000001, 13861.18, 7785.640000000002, 0.0, 0.0, 1523.96, 101003.27000000006, 27956.340000000007, 10934.639999999998, 6584.86, 33122.15, 11911.95, 0.0, 1213.28, 15511.329999999998, 22118.429999999997, 4832.28, 2690.9, 3083.0, 1953.98, 53742.46000000001, 0.0, 6971.01, 9498.650000000001, 120.5, 716.98, 9027.24, 0.0, 11422.960000000001, 2891.08, 1111.1999999999998, 938.53, 146.8, 81614.54, 22611.11, 0.0, 3243.72, 472.7, 472.7, 53104.649999999994, 2419.99, 151.3, 54602.910000000025, 13238.07, 8693.06, 4683.8, 60549.55999999999, 790.59, 220453.57999999827, 59.8, 0.0, 90.0, 1583.0, 7334.72, 438.0, 0.0, 27249.170000000002, 208.4, 26665.11, 2334.8100000000004, 0.0, 0.0, 0.0, 62598.71000000002, 181262.66999999975, 58848.46000000002, 416.08, 42301.13, 0.0, 705.2, 26299.010000000013, 1822.11, 0.0, 6323.430000000001, 1766.1899999999998, 646.96, 1766.1899999999998, 4600.299999999999, 125672.81999999993, 3420.9, 82144.36000000002, 13334.74, 21900.639999999996, 27933.450000000004, 699.1, 106948.81000000001, 0.0, 70816.65000000005, 0.0, 56865.49999999999, 1993.94, 67147.93999999999, 0.0, 835.1700000000001, 153.99, 12701.439999999999, 16642.19, 6089.93, 1570.0, 48888.59, 37909.840000000004, 24166.62, 102.0, 36669.44, 1724.8200000000002, 14375.659999999998, 280.95, 18078.579999999998, 180.37, 1369.99, 43860.200000000004, 17585.219999999998, 424.0, 90468.73, 47176.18, 1311.9, 9943.82, 0.0, 41128.05, 67053.66, 24508.78, 30144.770000000004, 95712.04000000002, 2540.78, 0.0, 23963.16, 23963.16, 379216.3700000003, 159813.65999999997, 27489.440000000002, 0.0, 12456.910000000002, 2175.8500000000004, 112247.85000000002, 22836.95, 2964.43, 1153.77, 53596.67, 6394.76, 106.0, 106.0, 2243.0, 67482.81, 6599.59, 19381.870000000003, 35695.99, 71334.08000000003, 77097.36000000002, 1728.44, 29855.679999999997, 155714.14999999997, 6404.3, 912.81, 155.0, 65309.999999999985, 0.0, 2202.0, 1314.17, 20736.51, 128804.88999999997, 36726.590000000004, 1678.0, 1334.17, 7387.0, 1167.94, 35163.49999999999, 18656.46, 81998.65999999999, 51643.66, 269.5, 484123.8599999996, 49139.22, 6363.6, 1264.99, 888.45, 498.92999999999995, 1298.19, 197488.37999999992, 3499.73, 1316.48, 9430.02, 43427.1, 12843.319999999998, 89873.91, 22548.58, 3504.880000000001, 39729.95, 43968.619999999995, 14683.460000000003, 1841.7900000000004, 35045.73999999998, 25542.449999999997, 108044.21000000002, 6872.999999999999, 6872.999999999999, 15372.51, 4949.820000000001, 6401.809999999998, 477.62, 99987.47, 4073.42, 19199.280000000002, 39858.91000000001, 23759.969999999998, 312629.7399999997, 11238.409999999998, 11908.569999999996, 979.0, 270.37, 78793.7799999992, 564.52, 24732.499999999996, 59317.35999999999, 0.0, 4148564.9000000027, 3724.0, 8247.43, 12784.0, 0.0, 20584.220000000005, 42353.24000000003, 1153.3, 132.38, 68598.17000000001, 21688.809999999994, 3926.9000000000005, 67232.08999999997, 7557.820000000001, 266.0, 16643.519999999997, 9292.099999999999, 4347.09, 4043.0299999999997, 48439.19000000002, 2894.06, 18109.72, 5318.79, 0.0, 68344.48, 9659.57, 0.0, 25945.350000000006, 15555.609999999999, 7231.14, 2961.7, 37125.98, 1987.9599999999998, 6021.459999999997, 36768.31, 0.0, 3076.68, 12609.07, 13582.850000000002, 37425.33, 1041.7, 0.0, 2436.27, 611.0, 59705.7, 60873.40000000001, 1025.98, 540.9, 2424.4, 826.9, 3248.28, 0.0, 0.0, 2335.4600000000005, 47625.260000000046, 93666.14000000009, 2942.56, 422.8, 17814.5, 26979.129999999997, 15249.05, 432891.94999999995, 4983.0, 2522.5, 42998.94000000002, 1462.5, 3752.5, 200.0, 95419.88000000002, 47.0, 47.0, 24665.269999999997, 91980.48000000001, 55447.600000000006, 4535.21, 2331.82, 4916.29, 142.88, 94914.45999999999, 4039.3200000000006, 51734.810000000005, 300301.19999999995, 30884.850000000006, 58707.08, 998.0, 25289.0, 61716.95999999999, 3032.13, 240.0, 26745.560000000005, 240.0, 0.0, 25932.69, 0.0, 2167.5499999999997, 21023.460000000003, 76223.91999999998, 0.0, 37738.079999999994, 2915.8, 6772.75, 68445.37, 2136.8, 35174.33, 3648.7999999999997, 384.0, 2175.0, 9246.089999999998, 908.0, 85580.67, 3155.3, 0.0, 1083491.5899999999, 199731.43999999986, 1167.73, 1452.0, 18873.68, 4240.25, 38296.030000000006, 8697.87, 0.0, 34469.52, 16.0, 0.0, 179850.51000000013, 28321.780000000006, 29013.43, 4142.660000000001, 577.84, 174555.47, 6442.98, 9354.0, 549.0, 10393.199999999997, 31555.079999999998, 11040.219999999998, 1628.0, 2413.0, 124323.09999999999, 0.0, 5411.19, 2131.4300000000003, 21925.869999999995, 936.1, 691.9200000000001, 2639.9, 6893.139999999999, 31520.300000000003, 54119.95, 630.0, 0.0, 297405.82000000007, 0.0, 5131.400000000001, 0.0, 216.0, 14744.96, 25772.77999999999, 460.9, 23140.97, 4174.0, 7118.599999999999, 6795.96, 51295.66, 22630.610000000004, 30344.410000000003, 115573.51000000002, 44734.91, 665.0, 33401.850000000006, 665.0, 17320.920000000002, 13817.23, 438.0, 1957.89, 2208.0, 21825.940000000006, 190600.41000000003, 1945.31, 107659.31, 67801.09, 1963.23, 6262.91, 6141.01, 11765.830000000002, 704.0, 288447.47999999986, 2558.03, 8799.76, 0.0, 255.95, 1362.8, 953.1300000000001, 0.0, 2170.4700000000003, 11511.68, 4114.95, 17000.239999999998, 124609.31, 5814.8499999999985, 7067.51, 1831.6999999999998, 15107.44, 5277.46, 2782.2700000000004, 2136.0, 388.78, 232.07999999999998, 8663.7, 0.0, 0.0, 24272.479999999996, 15018.059999999998, 505.4, 125.1, 23422.069999999996, 266.0, 15765.739999999996, 2645.8, 855.0, 855.0, 29780.0, 94.8, 0.0, 192.0, 9165.09, 5946.820000000001, 2298.5699999999997, 99.0, 1945.77, 39742.91000000002, 0.0, 0.0, 6671.35, 4612.84, 31413.36, 3390.12, 5394.759999999999, 0.0, 438.0, 5732.0, 3346.0, 438.0, 1215.62, 38740.61000000001, 27109.02000000001, 152690.28999999986, 19280.739999999998, 15973.67, 59885.890000000014, 462922.1000000003, 12334.29, 212482.09, 1304.3200000000002, 13363.15, 220382.94000000015, 0.0, 65058.03000000003, 196779.09999999998, 134499.84999999995, 117519.71000000004, 0.0, 125999.06999999993, 1620.3999999999999, 3446.91, 493517.4499999997, 1111.96, 593907.1000000002, 19433.51, 531.0, 1111.96, 0.0, 7425.17, 5002.349999999999, 0.0, 103362.7, 1602.9099999999999, 0.0, 14356.869999999999, 1001.29, 3048.9, 1409.22, 541.5, 23734.849999999995, 130683.41000000006, 66855.59000000001, 21611.149999999998, 0.0, 254277.57999999996, 65869.34000000001, 0.0, 18912.620000000003, 20477.74, 26347.97, 9097.74, 1199.0, 4282.099999999999, 835.6, 835.0, 52374.94999999999, 150437.70000000004, 3808.58, 18261.060000000005, 17343.4, 356.0, 28003.5, 0.0, 14644.509999999998, 90.0, 1901.42, 4327.82, 409.0, 510486.05000000016, 9230.689999999997, 8785.779999999999, 326.71, 6476.600000000001, 45036.950000000004, 68346.78000000001, 135240.16999999995, 0.0, 0.0, 279.46, 85585.54999999999, 101324.39999999994, 45709.01000000003, 0.0, 0.0, 179849.44999999998, 1055.29, 17523.819999999996, 5726.970000000001, 24397.230000000003, 39209.320000000014, 0.0, 91503.05999999997, 2143.4, 35637.47, 390.0, 0.0, 11264.599999999999, 30.0, 49.0, 1253.73, 130693.74000000003, 7137.320000000001, 10501.609999999997, 2747.6399999999994, 44976.68000000001, 350.0, 0.0, 13489.799999999997, 433.85, 35779.11, 1162.1599999999999, 21378.51, 1626.6200000000001, 5012.4, 6403.69, 27512.679999999997, 4986.369999999999, 4986.369999999999, 364586.44, 87292.24000000002, 5937.049999999999, 161900.61000000007, 364586.44, 834.6499999999999, 430.8, 625.3, 31007.320000000003, 5863.69, 106030.49999999997, 20228.7, 0.0, 2944.19, 265.86, 307214.13999999996, 3884.37, 17014.55, 170323.8999999999, 0.0, 0.0, 119.0, 374526.34000000014, 71516.94000000005, 219918.21000000014, 484230.2900000001, 137968.85000000003, 285777.9500000001, 231971.41999999993, 5377.62, 0.0, 3814.2000000000007, 68405.11999999998, 435.0, 28853.31, 7661.8099999999995, 830.0, 6375.999999999999, 106557.41, 11058.009999999998, 287645.36999999994, 19678.349999999995, 18332.149999999994, 405.44, 7599.0, 10633.130000000001, 7446.43, 1725.97, 2823.0, 8855.57, 0.0, 0.0, 2821.71, 2445.37, 5104.5, 3358.0, 6217.17, 7249.2, 9846.49, 13817.23, 4936.09, 824.97, 0.0, 5691.2, 3010.98, 4951.7, 115697.17000000001, 29546.999999999996, 75.0, 41062.180000000015, 1533923.6399999987, 133127.58000000007, 0.0, 10564.52, 98966.43000000005, 98966.43000000005, 2145.0, 2035.0, 1167.71, 0.0, 62771.820000000014, 4044.47, 299145.2199999997, 719.0, 3764.11, 46670.55000000002, 0.0, 0.0, 52803.04, 8534.75, 458.0, 938.0, 19336.68, 131617.73000000004, 500.0, 6067.21, 139015.30000000005, 29255.070000000007, 220.0, 220.0, 194.0, 41010.759999999995, 5269.72, 30455.32, 12765.65, 341683.2800000001, 43.0, 3526.51, 684.22, 173810.23, 434491.32999999967, 32836.72000000001, 45240.89000000001, 14293.119999999997, 0.0, 12502.769999999999, 64025.39000000005, 473613.0100000001, 120412.88000000008, 3356.37, 9776.8, 33713.149999999994, 19023.84, 2558.55, 5743.91, 0.0, 351.0, 67277.15000000002, 92861.65999999999, 108589.51000000004, 0.0, 604.4, 0.0, 16138.630000000001, 12843.319999999998, 8175.700000000001, 24803.62000000001, 14230.36, 34355.049999999996, 951.55, 3885.12, 15484.54, 34246.49, 127995.86, 12928.3, 8145.04, 8447.310000000001, 269486.06000000023, 42723.60000000001, 9626.07, 604.13, 34697.590000000004, 345235.06000000006, 8531.52, 47760.0, 2123.5099999999998, 806.7, 506.0899999999999, 102872.24999999997, 4027.4100000000003, 692.67, 0.0, 77172.36, 35.6, 5163.129999999999, 163973.65999999992, 47175.700000000004, 59.0, 39476.91, 104143.87999999999, 183995.33999999982, 420221.69, 8765.59, 55810.66000000002, 136505.11, 64791.99000000001, 24865.389999999996, 70064.83999999997, 11116.499999999996, 1399.38, 171408.58999999994, 6604.46, 77450.1, 9073.43, 58210.53999999999, 37736.72, 25585.85, 62636.97, 2047.56, 1326.52, 11767.219999999998, 26290.14, 6496.66, 34990.51, 310529.5999999997, 78638.64000000001, 781.9300000000001, 252901.86999999968, 4150.360000000001, 2874.73, 30991.729999999992, 199.0, 0.0, 12754.999999999998, 6787.66, 109103.83000000005, 196.0, 192615.34999999995, 25137.059999999987, 40981.6, 2657.27, 51982.86000000001, 70289.07000000004, 19113.540000000005, 23532.25, 70289.07000000004, 28368.280000000006, 105547.63, 1482.3899999999999, 12588.0, 75521.30999999998, 0.0, 6666.33, 61037.85000000001, 9963.03, 18688.589999999997, 0.0, 913.04, 70548.03, 2700.79, 400.0, 15504.69, 27213.0, 105391.12999999999, 1285.08, 11233.76, 2686.35, 2912.51, 123.0, 5233.0, 5233.0, 5233.0, 1396.7699999999998, 5388.78, 14020.5, 115773.41000000005, 46970.82, 0.0, 454.8, 21643.93, 12972.299999999996, 31581.66, 3787.8899999999994, 13841.17, 6338.36, 3581.79, 1909.0, 8645.87, 2686.35, 35219.630000000005, 8450.89, 218171.49999999997, 897.6800000000001, 1041.7, 3983.45, 42801.60000000002, 36521.86999999999, 198262.1699999999, 171135.81000000003, 215.0, 13193.910000000002, 5194.73, 8776.669999999998, 0.0, 113127.93, 7231.51, 14201.479999999996, 14201.479999999996, 23838.50999999999, 862.4000000000001, 532212.3800000001, 102358.21999999994, 36202.77999999999, 0.0, 7706.26, 162194.82999999987, 74375.48000000001, 17430.96, 74231.31000000003, 82903.65000000004, 327631.2399999998, 28382.860000000008, 47625.260000000046, 316610.1000000001, 107273.15999999996, 72998.97999999998, 1259.8000000000002, 10719.46, 11272.300000000003, 0.0, 2189.0, 206652.27000000002, 227037.35999999996, 111897.92, 5029.179999999999, 5029.179999999999, 5029.179999999999, 108343.72999999998, 7967.32, 977.0, 11748.099999999999, 174.0, 32186.33, 12867.22, 145380.17, 331343.92999999964, 80847.80000000005, 36716.11999999999, 55491.72000000003, 19282.21, 150696.91, 4920.3, 160439.2700000001, 1416.33, 7232.5, 41093.96, 90729.67000000003, 3669.73, 151297.28, 54429.65, 41837.86, 4178.360000000001, 20284.6, 30751.21, 79746.80000000003, 17363.920000000002, 62469.46000000001, 40449.12, 40449.12, 80138.57, 226744.11999999988, 338.82, 14195.500000000002, 121056.87999999993, 46924.860000000015, 62270.400000000016, 0.0, 114137.56999999995, 693.0, 18835.829999999998, 46039.020000000004, 33683.56, 260.0, 57657.7, 398259.5200000002, 12641.02, 3411.14, 57555.979999999996, 169361.31000000003, 1406.1, 5311.91, 5365.79, 782236.9199999998, 1898.8999999999999, 117058.39000000009, 0.0, 259.98, 217988.2099999999, 11130.449999999997, 21701.859999999993, 2012.0, 838927.5800000002, 19551.590000000004, 900.0, 12654.989999999998, 10634.21, 121382.72000000003, 6780.84, 43874.92000000001, 0.0, 3859.9, 467.0, 2553.19, 0.0, 91216.70000000001, 4142.660000000001, 1077.26, 18399.87, 17087.21, 194226.69000000015, 20524.8, 9589.08, 1807.5, 20027.85, 0.0, 1752.6799999999998, 429.65999999999997, 554998.5499999992, 261454.51000000004, 86794.35000000002, 6483.479999999999, 3231.3700000000003, 8045.62, 409885.37000000017, 48453.409999999974, 142150.81000000008, 139961.16000000003, 52591.00000000001, 1871.0, 3081.08, 43219.189999999995, 99274.58, 90819.23, 38498.68, 0.0, 259839.68000000005, 0.0, 40976.41, 111631.81, 22717.53, 65573.39000000001, 2310.0, 123832.62000000002, 15137.030000000002, 195428.28999999986, 79053.84, 5393.520000000001, 3598.2199999999993, 108457.67000000001, 67087.83, 13203.0, 2403.01, 9392.7, 251990.7599999999, 96181.07000000002, 28807.01, 0.0, 55603.38000000003, 434.0, 3453.0699999999997, 56182.14000000001, 39954.46000000001, 479.0, 12263.789999999997, 759951.3500000011, 174426.12, 0.0, 10708.18, 0.0, 151770.17, 6779.14, 44040.719999999994, 15853.02, 84953.70000000001, 176814.82000000007, 65247.920000000035, 108868.32000000004, 142874.65, 165459.66000000006, 1487.33, 92256.27999999997, 39135.18, 0.0, 85003.13000000002, 10509.460000000001, 45700.56000000002, 3607.4900000000002, 25284.239999999998, 139491.5, 0.0, 24628.870000000003, 9729.44, 153966.4799999998, 21882.93, 51239.689999999995, 20097.420000000002, 672136.32, 0.0, 0.0, 4572.57, 0.0, 82.0, 2073.99, 175.0, 5243.87, 5549.6, 6170.27, 2934.5, 661970.3400000004, 101387.64000000001, 7067.51, 175698.97999999995, 98723.55000000005, 999.99, 106863.30000000002, 16504.309999999998, 29870.839999999982, 156595.06, 26394.79000000001, 136891.84, 0.0, 129.9, 0.0, 3410.89, 333.0, 143487.36000000007, 380520.5699999994, 1160.9, 9146.72, 14608.68, 0.0, 2121.4300000000003, 44492.5, 336.0, 26420.72, 47622.57, 100596.60000000002, 10720.51, 111866.07, 0.0, 9246.7, 14907.0, 0.0, 726.7, 2694.24, 55205.84, 166518.23999999993, 51117.62, 7163.900000000001, 1771.48, 1826.03, 5916.37, 0.0, 68.0, 68.0, 1746.0, 48364.58, 29633.42, 1715.0, 136941.74000000008, 2634.9, 17890.0, 33211.27, 1993.46, 9205.22, 73851.93000000002, 134180.1999999999, 4781.9, 21883.380000000005, 4203.0599999999995, 125.0, 182954.63999999996, 73028.78000000001, 62341.240000000005, 4635.570000000001, 81209.26, 99.9, 120.5, 615.98, 5507.59, 5507.59, 14710.649999999996, 55116.549999999996, 2029.9, 61688.22000000001, 0.0, 115119.49999999996, 48414.64000000002, 85015.08999999995, 203650.3899999999, 0.0, 15812.8, 580850.3399999994, 6782.04, 2874.44, 7232.9800000000005, 45415.24, 0.0, 809.0, 313.8, 3726.4, 56156.06000000002, 363.99, 167071.40999999992, 0.0, 53326.76, 16716.87, 50488.64000000001, 94365.27000000005, 19031.73999999999, 175880.5, 3350.17, 207.0, 26493.520000000004, 282782.33999999973, 188651.22, 36059.220000000016, 2831.6100000000006, 64099.65, 7075.379999999999, 7075.379999999999, 0.0, 9992.759999999998, 13949.04999999999, 0.0, 1565.52, 17523.819999999996, 114998.39999999986, 39945.92000000001, 0.0, 3729.5800000000013, 86697.24999999996, 1980.1200000000001, 546.44, 152.7, 9052.85, 16756.839999999997, 1999.52, 25833.559999999994, 1634.0, 70816.65000000005, 4022.5, 61368.57, 11875.75, 2798.8, 91850.59999999998, 32938.90000000001, 12734.599999999995, 2692.23, 0.0, 0.0, 435.0, 465.0, 1215.0, 30907.570000000007, 30907.570000000007, 8540.61, 4444.889999999999, 68207.73999999999, 394.0, 6709.99, 0.0, 0.0, 0.0, 183313.70000000022, 69875.06, 22732.689999999995, 182367.5299999999, 0.0, 54585.14000000002, 5618.6900000000005, 4152.29, 120075.58000000002, 75.0, 6241.35, 36178.869999999995, 285.0, 44493.76999999999, 26665.459999999995, 20864.519999999997, 20864.519999999997, 21992.130000000005, 8614.740000000002, 41229.19, 15035.24, 1462.1000000000001, 33220.670000000006, 16469.04, 8322.73, 217.4, 1405.47, 162245.67999999996, 165876.3200000001, 0.0, 2037.01, 1313.44, 500.0, 7622.710000000001, 38065.94000000001, 1541.08, 0.0, 59434.150000000016, 79775.7, 6092.1900000000005, 92475.31000000003, 362284.48000000004, 362284.48000000004, 549989.4599999997, 151720.8299999999, 25491.349999999995, 23359.68, 1547.5, 22547.04, 4660.4800000000005, 59337.34000000002, 8413.369999999999, 42695.820000000014, 125812.62000000001, 0.0, 121357.86000000004, 0.0, 882.91, 53911.32000000001, 206901.58999999997, 12598.109999999999, 7332.11, 68334.52, 70371.61000000002, 40.38, 3756.03, 240613.47000000012, 15585.800000000001, 40.0, 27838.83000000001, 63921.12999999999, 39941.719999999994, 91791.58000000002, 43817.62, 19053.15, 3271.0, 546.45, 4584.32, 73843.27000000002, 61356.09000000002, 14216.69, 2303.34, 2500.8500000000004, 5575.74, 3962.5, 3216.2, 46658.71999999999, 143664.34999999998, 60601.45999999999, 22996.44, 29574.160000000003, 2619.41, 99131.51000000001, 8461.78, 29526.949999999983, 50584.789999999986, 8545.54, 25445.31, 1188.18, 128769.02, 95015.91000000002, 88528.49000000002, 124119.81, 132376.09999999998, 60677.85999999999, 32571.84999999999, 941.74, 0.0, 24608.34, 24608.34, 10587.029999999995, 50095.979999999996, 1188.18, 12966.9, 89127.88000000002, 36164.45000000001, 57273.03999999998, 328.0, 17525.32, 8145.04, 138386.31000000008, 219113.57, 44643.28, 4495.85, 378271.0699999999, 136578.14000000007, 9610.559999999998, 8447.310000000001, 100067.51999999995, 2497.95, 6401.809999999998, 13599.199999999999, 0.0, 7779.070000000001, 320.9, 170674.86000000007, 693747.1999999993, 7583.79, 168182.21000000014, 653.08, 103281.51000000001, 216892.50999999995, 38713.91000000002, 157556.91999999995, 287356.06999999983, 287356.06999999983, 13200.13, 36111.280000000006, 3664.4200000000005, 39005.530000000035, 32719.289999999997, 31620.959999999992, 95015.91000000002, 5521.709999999999, 274191.6899999999, 51564.63999999999, 203691.90000000008, 28529.350000000002, 2005.8, 10174.13, 2087.64, 1504.8400000000001, 409.1, 0.0, 1504.8400000000001, 2591.3, 13331.839999999998, 29275.37000000001, 82108.40000000001, 9373.569999999998, 137668.41, 4403.4800000000005, 62410.36000000001, 244503.39999999994, 26441.32, 2787.2999999999997, 205284.21999999997, 115290.94999999995, 114269.16, 22119.260000000002, 10423.830000000002, 194876.29999999984, 194876.29999999984, 0.0, 101032.11999999998, 5312.39, 1962.24, 18309.34, 717349.1700000004, 3228.8199999999993, 41261.740000000005, 4045.9200000000005, 31970.270000000004, 7751.2699999999995, 21458.650000000005, 41080.840000000004, 0.0, 13325.78, 13357.599999999995, 6593.66, 126135.22000000003, 1682.3600000000001, 171311.25000000006, 109763.92999999998, 23355.45, 1006.75, 108837.11000000002, 24084.03, 27594.270000000008, 11813.999999999998, 3874.99, 271392.4999999999, 10316.819999999998, 8112.989999999998, 0.5, 547850.6399999995, 40900.619999999995, 11560.48, 55586.259999999995, 103638.23000000001, 101.22, 10657.08, 34290.9, 47098.6, 52698.36, 1782.2, 54046.460000000014, 54046.460000000014, 32535.690000000002, 3532.6, 2034.2700000000002, 67232.08999999997, 3790.4599999999996, 1291.87, 13124.94, 3711.0, 3928.11, 124.0, 40952.39, 18000.42, 77889.81000000001, 0.0, 632661.1899999996, 39507.65, 20643.89, 0.0, 46358.76, 131845.5, 7575.199999999998, 10522.549999999997, 0.0, 5594.33, 171117.57000000007, 19141.069999999996, 169.99, 66930.76, 4858.81, 34144.33, 50554.38, 2565.4, 0.0, 13193.910000000002, 33482.780000000006, 92690.8, 0.0, 4148.66, 7634.2, 0.0, 141602.91000000003, 16539.65, 10441.140000000001, 0.0, 47534.28, 1040.8600000000001, 6931.8099999999995, 16738.09, 7224.279999999999, 877.23, 13049.6, 19265.1, 53952.010000000024, 32968.33, 15645.93, 4439.0, 929.0, 1440.98, 4920.3, 25592.429999999997, 3266.0000000000005, 24506.410000000003, 230.4, 4916.29, 19550.730000000003, 2925.96, 0.0, 141110.60000000003, 15132.68, 11454.82, 2647.97, 29098.950000000004, 465.0, 0.0, 74111.36, 410.0, 50.0, 743.0, 42.9, 3648.7999999999997, 513001.38, 27342.809999999998, 513001.38, 154.0, 5162.27, 61874.73000000002, 79744.22000000002, 649.02, 134236.6599999999, 0.0, 0.0, 55924.24000000002, 66.0, 11809.92, 38118.649999999994, 14481.82, 94878.9, 35399.97, 34218.61, 1949.77, 0.0, 0.0, 4095.3399999999997, 223406.11999999988, 324115.8400000001, 2386.73, 102675.48000000003, 38699.079999999994, 678.4, 6442.98, 10702.87, 0.0, 104511.28000000001, 69884.61, 168651.59999999998, 43393.68, 87525.39, 47326.70999999999, 11992.09, 6487.969999999999, 61800.36000000003, 324147.49, 1940.85, 11075.92, 729.0, 30219.030000000013, 110748.22, 22379.519999999997, 40753.000000000015, 9789.759999999998, 18925.44, 5256.94, 33282.83, 38201.950000000004, 29127.959999999995, 13391.199999999999, 23911.42000000001, 0.0, 251990.7599999999, 36791.43, 29606.290000000008, 35463.86, 2543.77, 139585.72999999998, 0.0, 6498.889999999999, 6790.849999999999, 289280.91000000003, 368.0, 2587.6100000000006, 24315.730000000007, 222619.13000000006, 10841.509999999998, 364921.41999999975, 33.95, 31623.169999999995, 4557.12, 35891.52999999999, 38626.59999999999, 0.0, 237.0, 0.0, 1509.51, 7357.800000000001, 33050.18000000001, 273671.3300000001, 0.0, 338649.0999999996, 101292.48, 71765.24999999999, 3572.78, 2414.35, 2414.35, 11424.399999999998, 41280.22, 112998.85999999993, 252297.41000000012, 0.0, 70.0, 25384.320000000007, 36296.14000000001, 0.0, 0.0, 219070.07999999993, 3082.0, 0.0, 7624.309999999998, 169.5, 46770.18, 35.0, 29780.0, 14056.910000000003, 47729.23, 0.0, 213.15, 7867.74, 32351.2, 2021.55, 3860.2999999999997, 4203.92, 1131.97, 5162.01, 1927.9, 0.0, 187794.92999999996, 68212.71, 0.0, 6054.879999999997, 8863.72, 6857.199999999999, 7601.6900000000005, 1945.77, 32.9, 532252.6699999993, 2835.79, 0.0, 0.0, 19280.739999999998, 215778.08000000002, 2647.6899999999996, 523.56, 0.0, 12532.47, 1228.0, 48388.33999999999, 0.0, 6263.629999999999, 36075.89000000001, 31345.940000000002, 11348.809999999998, 526.1, 0.0, 35243.64000000001, 1335.67, 0.0, 5960.62, 1643.9500000000003, 2137.48, 0.0, 15457.58, 55145.24, 54219.10000000002, 1011.1, 291.89, 148.0, 0.0, 7505.509999999999, 7142.330000000001, 18139.050000000003, 0.0, 1225.99, 0.0, 10730.59, 570.0, 10389.2, 2706.67, 4660.6900000000005, 276.0, 1068.3999999999999, 21464.65, 79.9, 52070.08999999999, 32638.830000000005, 869.8199999999999, 9462.21, 7175.639999999999, 488.94000000000005, 2150.5, 196894.18, 137839.3599999999, 130830.70999999993, 157.79, 4942.5599999999995, 1554.9, 555.98, 555.46, 3091.88, 172345.36000000004, 13245.29, 0.0, 87845.97, 6429.030000000001, 9492.779999999999, 1453.42, 53485.910000000025, 1087.9, 20984.530000000002, 87514.55000000002, 8484.96, 332.0, 2348.89, 25069.379999999997, 3642.0399999999995, 2675.82, 0.0, 3082.9699999999993, 225042.96999999994, 632.4, 1082.51, 5300.68, 49326.48, 93188.24000000006, 285501.98999999993, 65822.87999999998, 111679.59999999999, 4877.98, 10659.210000000001, 9997.44, 10056.42, 33005.520000000004, 13426.439999999997, 5616.0, 744.0, 19013.58, 0.0, 14375.659999999998, 10173.759999999998, 2975.58, 50256.219999999994, 43093.48, 20833.940000000002, 1037.72, 6988.63, 22003.540000000005, 147967.63000000003, 6341.5, 2573.73, 843.06, 4506.76, 60313.51, 600.0, 44018.920000000006, 615.0, 35659.63, 2284.8, 304738.94, 0.0, 117.0, 189.0, 107824.85000000005, 16969.34, 60387.87999999998, 191.7, 27726.729999999996, 7903.400000000001, 23295.98, 0.0, 9103.960000000001, 32532.2, 3163.21, 4110.9, 99537.85999999996, 16973.56, 16706.35, 11038.96, 127678.38, 677.5, 5731.260000000001, 269420.41999999975, 3558.2299999999996, 0.0, 626.76, 13073.43, 30376.25, 50320.03000000003, 76051.24, 651970.2899999995, 2607.65, 11769.29, 14606.950000000004, 0.0, 3873.44, 3810.5299999999997, 13046.7, 1788.6999999999998, 74388.9, 180905.3, 2932.2900000000004, 14811.290000000003, 33422.93, 244.0, 60180.48000000002, 6156.86, 3615.4, 12786.91, 5943.58, 84896.65000000001, 21909.7, 669.01, 0.0, 5793.44, 48558.65000000001, 557.9, 5793.44, 23433.86, 5654.0, 0.0, 6883.73, 5262.099999999999, 8551.18, 62.99, 50554.38, 712.0, 38413.91, 3068.45, 17095.879999999997, 1348.38, 1348.38, 2773.7699999999995, 413521.8199999996, 61514.57000000001, 226.0, 50596.69999999999, 13135.590000000002, 0.0, 31036.150000000005, 5878.349999999999, 9565.009999999998, 2070.18, 0.0, 9054.93, 21018.599999999995, 144282.84999999998, 25770.850000000002, 72003.83999999998, 19080.510000000002, 40034.28999999999, 38414.479999999996, 7744.950000000001, 306.0, 42917.34000000002, 45201.50999999999, 4920.3, 11409.71, 280167.6, 683.0, 2918.5699999999997, 70867.42, 24454.140000000003, 5760.069999999999, 60469.63000000002, 13135.81, 152134.52000000002, 13135.81, 225.9, 0.0, 115518.06999999998, 61874.73000000002, 4434.89, 12731.52, 0.0, 10887.8, 46379.09, 217988.2099999999, 27404.420000000002, 5967.160000000001, 2468.2100000000005, 15552.42, 0.0, 300820.1499999998, 13610.619999999999, 648.1, 85472.27999999998, 1200.0, 15837.160000000002, 48107.530000000006, 145.0, 478056.1299999996, 6024.07, 173607.58000000005, 44509.63000000001, 114293.63000000002, 283243.9699999999, 30428.490000000013, 11256.619999999999, 1807.5, 31791.059999999998, 17632.21, 91571.02, 8124.899999999999, 13712.829999999998, 12507.330000000002, 2776.9399999999996, 298247.33999999985, 1435.1200000000001, 5937.330000000001, 3039.36, 138441.12000000002, 0.0, 22717.53, 65453.36000000004, 29334.2, 2316.0, 271.0, 1222.0, 27512.630000000016, 6888.069999999999, 0.0, 116532.00000000003, 14586.92, 20491.42, 0.0, 4949.19, 6973.5999999999985, 111631.81, 7130.38, 5014.93, 4551.039999999999, 76307.34999999999, 15973.67, 8347.460000000001, 121114.87000000005, 36754.88, 856.57, 127.0, 33819.399999999994, 2746.65, 14976.439999999999, 84.46, 84.46, 49738.78, 38476.16000000001, 144151.2, 5574.0, 1868.47, 6543.91, 59922.97000000001, 2053.47, 2053.47, 27508.329999999998, 0.0, 0.0, 2615.89, 20819.600000000002, 269663.01000000024, 30252.62, 98357.09999999995, 2765.19, 20637.819999999996, 525.0, 1909.9, 7818.33, 18589.560000000005, 18589.560000000005, 0.0, 246051.70999999982, 84724.36000000002, 36022.85, 0.0, 164521.42, 248234.37999999966, 1377.0, 5792.160000000001, 5792.160000000001, 14529.169999999998, 0.0, 0.0, 14529.169999999998, 19669.640000000003, 6062.129999999999, 641.0, 193635.45999999967, 2109.5299999999997, 20442.469999999998, 1228.0, 1228.0, 96.0, 96.0, 2068.3999999999996, 934.9000000000001, 2329.3999999999996, 3830.17, 6512.760000000001, 0.0, 174872.55000000005, 134565.15999999995, 242.2, 7814.16, 3326.55, 243.0, 133793.18999999994, 21464.65, 81743.98999999995, 20477.74, 17364.86, 1286.28, 2964.2599999999998, 34190.20000000001, 251520.06999999975, 3296.37, 56950.720000000016, 3118.4500000000003, 0.0, 312429.51000000007, 4357.67, 0.0, 4452.2, 0.0, 178.0, 25137.79, 9298.6, 383.2, 45906.56000000001, 21378.51, 19665.23, 143728.43999999994, 1676.2, 91427.90999999996, 243.9, 150779.24, 5.0, 8220.27, 10423.13, 8275.07, 93592.56999999999, 58637.049999999996, 26211.300000000003, 157902.8399999999, 157902.8399999999, 0.0, 54845.32, 1896.81, 992.43, 8108.57, 0.0, 16296.779999999999, 161011.4099999999, 116628.05999999991, 12502.769999999999, 130620.85000000002, 4730.14, 29492.710000000003, 34305.52, 0.0, 17570.19, 15927.919999999998, 103469.06999999995, 198.98, 89650.49000000002, 89650.49000000002, 198.98, 15113.12, 132546.76000000004, 1295.3799999999999, 18942.49, 47760.0, 2745.89, 58291.1, 58291.1, 10089.199999999997, 46406.34000000002, 44096.61000000001, 190.0, 5213.5, 3581.4300000000003, 136505.11, 7222.280000000001, 0.0, 4220.49, 3833.96, 40908.02, 3081.52, 8424.25, 3843.93, 21652.0, 3220.3900000000003, 20406.57, 5262.099999999999, 3386.51, 36074.53, 76163.26000000001, 287.97, 12931.060000000003, 10359.93, 1879.96, 41138.45999999999, 9829.710000000003, 0.0, 5194.73, 181566.44999999975, 21376.729999999996, 37745.259999999995, 4148.66, 1524.24, 32259.090000000015, 396.0, 2848.5, 3152.1, 21687.55, 85095.55000000002, 121347.76000000002, 139843.99, 5648.22, 38367.19000000001, 204689.4300000002, 340034.64999999997, 36607.63, 50.0, 295407.8900000002, 34353.36000000001, 3620.2, 31.5, 580.0, 11501.020000000004, 48734.99, 37970.45, 1849.5400000000002, 4868.530000000001, 529.0, 1487.9, 2062.0, 0.0, 416572.2699999997, 0.0, 186675.88, 255129.19999999995, 12757.429999999995, 12671.260000000002, 0.0, 198.3, 41053.08000000001, 42499.04999999999, 3187.13, 25676.49, 3791.2399999999993, 355288.8099999998, 0.0, 103969.36999999998, 21935.769999999997, 41092.82000000001, 86794.35000000002, 27314.9, 113200.18999999996, 36836.04, 13319.199999999997, 0.0, 34226.36, 32268.19, 943.42, 6282.76, 49429.75000000004, 1320.55, 364.0, 34837.39, 10333.199999999999, 6259.04, 12171.219999999996, 2748.5999999999995, 27500.09, 4011.09, 116018.71999999999, 7067.51, 17.98, 14404.300000000001, 28346.610000000015, 524.0, 112944.7, 786.0, 2424.86, 29208.820000000007, 7632.45, 3051.64, 0.0, 0.0, 0.0, 28864.089999999997, 182693.8499999999, 0.0, 0.0, 15754.909999999993, 4322.2699999999995, 371.0, 220453.57999999827, 26283.980000000003, 98043.02000000008, 2874.44, 0.0, 93925.20999999998, 167071.40999999992, 217378.05999999988, 0.0, 243889.41999999972, 30991.8, 43.49, 3427.63, 8515.699999999999, 3082.9699999999993, 6999.639999999999, 435.0, 155419.39999999997, 1453.62, 2553.44, 10057.240000000002, 31486.199999999993, 127870.27999999998, 35776.28, 774.7199999999999, 2240.38, 1148.0, 6823.95, 1153.77, 1462.1000000000001, 0.0, 2870.05, 2179.2799999999997, 20284.61, 20284.61, 111240.14999999998, 60890.65999999999, 48701.01000000002, 45402.0, 3381.7500000000005, 300.77000000000004, 5229.91, 10008.92, 132717.06, 1295.3799999999999, 14316.38, 9596.05, 32835.62999999999, 50386.509999999995, 0.0, 1836.51, 2657.27, 527.7, 55.96, 304603.70999999996, 30880.430000000008, 21008.510000000002, 33229.98999999999, 65669.85999999999, 15057.48, 0.0, 3074.0, 269648.70999999996, 124485.17000000003, 1439.34, 2345.0099999999998, 7329.930000000001, 7329.930000000001, 54774.27000000001, 43620.63999999999, 179495.47999999995, 2295.8599999999997, 69760.79000000001, 3409.85, 11409.71, 14461.619999999999, 199139.62999999995, 639.85, 32066.52000000001, 39122.94, 500898.64999999956, 6023.1, 17671.719999999998, 48241.10999999999, 42973.3, 27981.56, 2821.71, 8493.970000000001, 590.0999999999999, 2158.5, 0.0, 58354.679999999986, 6170.39, 7996.240000000002, 2019.61, 185549.13, 407363.6099999998, 11204.08, 31520.300000000003, 620.0, 0.0, 0.0, 103.38, 2786.0, 9059.279999999999, 142874.65, 21118.68, 156.0, 0.0, 3921.2999999999997, 3123.0299999999997, 1897.85, 3674.0, 19086.889999999992, 5979.07, 943.88, 2064.0, 529.0, 11377.719999999998, 6752.39], \"y\": [175.0, 78472.1, 0.0, 50237.67, 0.0, 0.0, 0.0, 0.0, 2579.6, 0.0, 0.0, 0.0, 0.0, 0.0, 0.0, 0.0, 0.0, 0.0, 0.0, 0.0, 0.0, 0.0, 0.0, 0.0, 0.0, 0.0, 0.0, 0.0, 3055.97, 0.0, 0.0, 0.0, 0.0, 0.0, 0.0, 1677.0, 0.0, 0.0, 0.0, 0.0, 0.0, 0.0, 0.0, 0.0, 0.0, 23530.3, 1269.0, 0.0, 44.0, 0.0, 0.0, 0.0, 0.0, 0.0, 0.0, 2499.9, 0.0, 0.0, 15557.6, 0.0, 316.0, 0.0, 0.0, 0.0, 0.0, 0.0, 0.0, 0.0, 3178.4100000000008, 0.0, 117.0, 0.0, 0.0, 0.0, 0.0, 1075.0, 250.0, 0.0, 0.0, 0.0, 0.0, 0.0, 1199.0, 236.0, 0.0, 0.0, 0.0, 0.0, 0.0, 0.0, 0.0, 0.0, 7046.0, 0.0, 470.0, 0.0, 0.0, 2327.4, 0.0, 1628.0, 0.0, 169.0, 0.0, 2500.0, 1124.0, 0.0, 0.0, 15888.000000000002, 982.0, 0.0, 0.0, 0.0, 0.0, 0.0, 0.0, 852.0, 0.0, 0.0, 0.0, 0.0, 0.0, 0.0, 0.0, 0.0, 0.0, 0.0, 0.0, 0.0, 0.0, 0.0, 5599.4, 18.0, 50.0, 0.0, 1963.5, 0.0, 0.0, 0.0, 0.0, 22126.0, 7000.0, 0.0, 0.0, 0.0, 0.0, 0.0, 0.0, 0.0, 0.0, 0.0, 0.0, 0.0, 0.0, 0.0, 0.0, 0.0, 0.0, 0.0, 810.0, 0.0, 0.0, 0.0, 0.0, 0.0, 0.0, 0.0, 150.0, 0.0, 0.0, 0.0, 0.0, 50.0, 0.0, 0.0, 0.0, 0.0, 0.0, 4021.52, 0.0, 0.0, 0.0, 0.0, 13378.050000000001, 190.0, 0.0, 0.0, 0.0, 0.0, 0.0, 2722.2999999999997, 1005.0, 0.0, 7221.6, 27.0, 650.0, 0.0, 0.0, 0.0, 0.0, 600.0, 0.0, 0.0, 0.0, 950.0, 1654.0, 0.0, 0.0, 0.0, 0.0, 0.0, 0.0, 0.0, 0.0, 0.0, 0.0, 336.0, 12133.0, 0.0, 0.0, 0.0, 0.0, 0.0, 0.0, 0.0, 2290.5, 0.0, 77115.1, 0.0, 0.0, 0.0, 1500.0, 0.0, 0.0, 0.0, 0.0, 310.0, 235.0, 0.0, 5555.5, 0.0, 0.0, 0.0, 0.0, 0.0, 0.0, 7263.0, 0.0, 602.0, 0.0, 0.0, 0.0, 0.0, 0.0, 0.0, 0.0, 0.0, 0.0, 30.0, 0.0, 0.0, 0.0, 0.0, 0.0, 0.0, 0.0, 0.0, 0.0, 0.0, 0.0, 0.0, 0.0, 0.0, 0.0, 0.0, 0.0, 0.0, 0.0, 0.0, 0.0, 0.0, 4460.4, 22.0, 0.0, 0.0, 0.0, 0.0, 0.0, 0.0, 0.0, 0.0, 0.0, 0.0, 0.0, 0.0, 0.0, 0.0, 0.0, 0.0, 0.0, 420.0, 0.0, 0.0, 458.0, 0.0, 0.0, 0.0, 0.0, 5150.0, 0.0, 2440.0, 0.0, 0.0, 10738.6, 0.0, 0.0, 538.5, 0.0, 0.0, 391.0, 5599.8, 0.0, 0.0, 4658.4, 0.0, 0.0, 0.0, 700.0, 6141.6, 0.0, 18281.8, 0.0, 0.0, 0.0, 550.0, 0.0, 0.0, 0.0, 0.0, 41627.36, 0.0, 0.0, 0.0, 0.0, 0.0, 0.0, 77.0, 0.0, 0.0, 0.0, 0.0, 252.0, 0.0, 0.0, 0.0, 0.0, 25.0, 0.0, 0.0, 0.0, 0.0, 2263.6, 0.0, 0.0, 0.0, 1050.0, 0.0, 1132.0, 0.0, 0.0, 0.0, 0.0, 598.0, 301.0, 3290.0, 0.0, 0.0, 0.0, 9744.58, 0.0, 0.0, 0.0, 0.0, 0.0, 1766.0, 0.0, 2408.5, 0.0, 0.0, 0.0, 0.0, 4759.2, 0.0, 6293.0, 22567.0, 0.0, 930.0, 0.0, 0.0, 0.0, 0.0, 0.0, 0.0, 0.0, 3289.19, 0.0, 0.0, 1390.0, 800.0, 0.0, 0.0, 0.0, 0.0, 380.0, 0.0, 0.0, 0.0, 0.0, 0.0, 0.0, 0.0, 2403.0, 0.0, 0.0, 0.0, 19552.500000000004, 0.0, 4731.0, 0.0, 0.0, 0.0, 1640.0, 0.0, 0.0, 0.0, 0.0, 0.0, 24.0, 150.0, 0.0, 0.0, 0.0, 600.0, 0.0, 0.0, 0.0, 0.0, 0.0, 0.0, 0.0, 1536.0, 0.0, 2900.0, 0.0, 0.0, 500.0, 0.0, 280.0, 0.0, 0.0, 0.0, 0.0, 0.0, 0.0, 0.0, 0.0, 0.0, 0.0, 0.0, 770.0, 0.0, 0.0, 594.0, 9602.2, 0.0, 3374.0, 2494.56, 110306.82, 0.0, 5690.0, 504.70000000000005, 0.0, 6230.0, 0.0, 892.0, 28677.000000000004, 283.0, 1405.0, 0.0, 0.0, 0.0, 0.0, 0.0, 0.0, 0.0, 0.0, 0.0, 0.0, 0.0, 0.0, 0.0, 0.0, 0.0, 0.0, 0.0, 0.0, 0.0, 0.0, 0.0, 0.0, 0.0, 0.0, 0.0, 0.0, 0.0, 29337.35, 17691.89, 0.0, 0.0, 710.0, 0.0, 0.0, 0.0, 0.0, 0.0, 0.0, 400.0, 70316.1, 0.0, 0.0, 213.15, 0.0, 0.0, 0.0, 2076.2, 0.0, 0.0, 0.0, 0.0, 17129.0, 0.0, 0.0, 0.0, 0.0, 3767.0, 1284.6, 4310.0, 0.0, 0.0, 0.0, 572.0, 138.0, 7004.85, 0.0, 0.0, 1091.0, 0.0, 0.0, 0.0, 7498.400000000001, 0.0, 0.0, 475.0, 0.0, 20.0, 0.0, 451.0, 0.0, 0.0, 0.0, 0.0, 0.0, 0.0, 1140.0, 0.0, 0.0, 0.0, 0.0, 0.0, 0.0, 43.0, 0.0, 688.0, 0.0, 0.0, 0.0, 250.0, 0.0, 0.0, 360.0, 184.0, 200.0, 7712.0, 360.0, 0.0, 0.0, 0.0, 23613.7, 0.0, 306.0, 0.0, 0.0, 0.0, 156.0, 4264.9, 52.0, 0.0, 944.0, 0.0, 0.0, 0.0, 5288.85, 4855.0, 16414.8, 28992.9, 0.0, 40252.07000000001, 0.0, 0.0, 0.0, 440.0, 0.0, 0.0, 825.0, 350.0, 0.0, 0.0, 0.0, 0.0, 550.0, 0.0, 1630.0, 0.0, 0.0, 0.0, 0.0, 0.0, 0.0, 0.0, 0.0, 0.0, 0.0, 0.0, 0.0, 0.0, 0.0, 0.0, 16930.6, 0.0, 0.0, 0.0, 0.0, 0.0, 0.0, 0.0, 117.0, 5220.0, 0.0, 0.0, 175.0, 5137.5, 0.0, 0.0, 0.0, 0.0, 830.0, 0.0, 0.0, 0.0, 200.0, 0.0, 0.0, 0.0, 0.0, 0.0, 0.0, 0.0, 20801.7, 0.0, 0.0, 0.0, 0.0, 0.0, 0.0, 0.0, 100.0, 0.0, 0.0, 0.0, 0.0, 25.0, 0.0, 0.0, 25.0, 11847.600000000002, 0.0, 0.0, 0.0, 0.0, 3046.48, 0.0, 0.0, 0.0, 0.0, 0.0, 2456.95, 41859.899999999994, 0.0, 0.0, 370.0, 0.0, 250.0, 0.0, 0.0, 0.0, 0.0, 0.0, 50.0, 25.0, 0.0, 0.0, 0.0, 0.0, 650.0, 0.0, 0.0, 295.0, 3921.0, 0.0, 0.0, 0.0, 0.0, 1049.29, 0.0, 460.0, 300.0, 3432.0, 0.0, 0.0, 0.0, 0.0, 270.0, 210.0, 435.0, 150.0, 0.0, 0.0, 12356.0, 0.0, 0.0, 0.0, 2756.0, 0.0, 0.0, 0.0, 0.0, 0.0, 0.0, 0.0, 13980.0, 12399.0, 0.0, 479.0, 2232.05, 6947.0, 0.0, 0.0, 0.0, 0.0, 1159.0, 0.0, 1630.7, 0.0, 690.0, 0.0, 0.0, 0.0, 902.0, 0.0, 0.0, 552.0, 0.0, 0.0, 2662.0, 10133.05, 0.0, 6082.0, 0.0, 0.0, 0.0, 0.0, 0.0, 0.0, 0.0, 0.0, 0.0, 0.0, 0.0, 0.0, 0.0, 0.0, 0.0, 0.0, 0.0, 0.0, 0.0, 70.0, 0.0, 0.0, 0.0, 0.0, 0.0, 450.0, 22334.1, 0.0, 0.0, 250.0, 0.0, 0.0, 0.0, 0.0, 0.0, 6182.0, 0.0, 0.0, 0.0, 0.0, 0.0, 0.0, 0.0, 0.0, 0.0, 0.0, 180.0, 21288.03, 2060.0, 0.0, 0.0, 0.0, 0.0, 0.0, 0.0, 600.0, 0.0, 0.0, 0.0, 0.0, 0.0, 9205.32, 400.0, 0.0, 0.0, 0.0, 0.0, 0.0, 0.0, 480.0, 100.0, 0.0, 0.0, 0.0, 207.0, 0.0, 4539.200000000002, 0.0, 320.0, 320.0, 0.0, 0.0, 18276.0, 23981.079999999998, 0.0, 0.0, 0.0, 0.0, 0.0, 0.0, 0.0, 540.0, 100.0, 0.0, 4460.4, 432.0, 0.0, 0.0, 0.0, 0.0, 0.0, 0.0, 14366.0, 0.0, 13772.900000000001, 2476.0, 0.0, 0.0, 0.0, 54.0, 0.0, 0.0, 50.0, 0.0, 200.0, 0.0, 3523.85, 0.0, 3859.5, 480.0, 0.0, 0.0, 0.0, 0.0, 670.0, 0.0, 0.0, 434.0, 0.0, 0.0, 3630.0, 0.0, 0.0, 0.0, 0.0, 8687.0, 120.0, 0.0, 0.0, 1790.55, 1790.55, 500.0, 22574.550000000003, 0.0, 0.0, 35022.5, 5340.0, 75.0, 0.0, 77.0, 0.0, 0.0, 7437.0, 0.0, 53704.8, 46350.5, 4303.0, 863.0, 0.0, 9143.0, 2917.0, 0.0, 0.0, 920.0, 4647.0, 1107.8, 595.0, 0.0, 0.0, 0.0, 0.0, 0.0, 202.0, 15915.400000000001, 0.0, 0.0, 0.0, 7346.7, 955.0, 2691.0, 0.0, 0.0, 0.0, 0.0, 0.0, 0.0, 0.0, 0.0, 0.0, 0.0, 0.0, 0.0, 0.0, 0.0, 0.0, 0.0, 0.0, 0.0, 0.0, 14882.0, 341.0, 0.0, 0.0, 46.0, 0.0, 11551.0, 0.0, 1525.0, 4666.2, 12374.199999999999, 0.0, 100.0, 1258.0, 2503.0, 5261.120000000002, 208.0, 0.0, 1390.0, 0.0, 0.0, 54014.27000000004, 1918.0, 8442.7, 0.0, 2400.0, 289.0, 3499.62, 9584.8, 0.0, 0.0, 1050.25, 26589.0, 0.0, 0.0, 0.0, 30628.0, 8102.04, 719.0, 0.0, 1200.0, 0.0, 0.0, 13379.0, 799.0, 0.0, 400.0, 2654.8, 179.0, 0.0, 12699.0, 0.0, 25613.6, 12598.179999999998, 1809.56, 0.0, 19177.0, 11285.0, 37251.0, 1731.0, 0.0, 0.0, 1253.0, 0.0, 0.0, 0.0, 550.0, 0.0, 3270.0, 0.0, 0.0, 1250.0, 0.0, 1548.8, 152.0, 8417.0, 0.0, 0.0, 0.0, 0.0, 0.0, 0.0, 0.0, 0.0, 0.0, 40.0, 0.0, 30.0, 4876.75, 0.0, 987.0, 0.0, 57696.83, 4731.0, 14652.5, 0.0, 0.0, 7860.0, 0.0, 0.0, 25984.95, 3193.0, 3407.0, 0.0, 0.0, 0.0, 0.0, 0.0, 0.0, 4034.0, 0.0, 0.0, 9378.88, 0.0, 0.0, 6467.8, 0.0, 0.0, 300.0, 0.0, 0.0, 0.0, 0.0, 33181.19, 0.0, 0.0, 0.0, 0.0, 400.0, 620.0, 0.0, 1710.0, 0.0, 0.0, 0.0, 0.0, 0.0, 0.0, 0.0, 0.0, 380.0, 0.0, 0.0, 60.0, 0.0, 0.0, 0.0, 0.0, 135.0, 0.0, 0.0, 0.0, 2410.2, 0.0, 0.0, 23003.1, 2091.0, 0.0, 224.0, 0.0, 0.0, 0.0, 1289.5800000000002, 1289.5800000000002, 8919.3, 8012.599999999999, 0.0, 230.0, 0.0, 50912.65999999998, 130.0, 0.0, 0.0, 0.0, 0.0, 11887.6, 98.0, 750.0, 0.0, 0.0, 0.0, 0.0, 0.0, 0.0, 13750.150000000001, 0.0, 20833.02, 0.0, 3277.0, 0.0, 25795.4, 0.0, 0.0, 0.0, 0.0, 0.0, 0.0, 22321.5, 21.0, 0.0, 0.0, 0.0, 1585.2, 1585.2, 242.0, 0.0, 0.0, 0.0, 0.0, 0.0, 2938.75, 0.0, 0.0, 60.0, 33345.700000000004, 0.0, 0.0, 0.0, 0.0, 0.0, 0.0, 0.0, 0.0, 1628.0, 0.0, 0.0, 0.0, 0.0, 2440.9700000000003, 130.0, 18306.4, 390.0, 0.0, 3009.5, 0.0, 0.0, 0.0, 602.0, 602.0, 0.0, 0.0, 0.0, 0.0, 0.0, 0.0, 0.0, 0.0, 0.0, 0.0, 0.0, 1861.0, 0.0, 21027.0, 0.0, 0.0, 3095.0, 0.0, 0.0, 0.0, 0.0, 33578.0, 0.0, 0.0, 0.0, 0.0, 0.0, 11881.589999999998, 0.0, 0.0, 0.0, 0.0, 0.0, 0.0, 0.0, 0.0, 0.0, 0.0, 0.0, 0.0, 0.0, 0.0, 27.0, 0.0, 0.0, 0.0, 100.0, 0.0, 2985.0, 20303.4, 20303.4, 13761.49, 0.0, 0.0, 20.0, 0.0, 0.0, 0.0, 0.0, 0.0, 0.0, 0.0, 0.0, 0.0, 0.0, 0.0, 0.0, 0.0, 0.0, 0.0, 0.0, 0.0, 0.0, 0.0, 0.0, 0.0, 0.0, 280.0, 0.0, 2070.0, 0.0, 0.0, 0.0, 0.0, 0.0, 0.0, 0.0, 0.0, 0.0, 0.0, 0.0, 0.0, 0.0, 0.0, 0.0, 0.0, 0.0, 0.0, 433.0, 0.0, 8305.0, 130.0, 0.0, 670.0, 0.0, 0.0, 0.0, 559.0, 1007.6, 2631.0, 30382.0, 0.0, 0.0, 17507.9, 0.0, 0.0, 271.0, 271.0, 0.0, 710.0, 0.0, 1320.0, 0.0, 560.0, 0.0, 0.0, 0.0, 460.0, 1623.4, 562.75, 0.0, 353.0, 18929.0, 2978.0, 0.0, 300.0, 18101.0, 440.0, 0.0, 0.0, 0.0, 0.0, 0.0, 30954.9, 3737.0, 0.0, 870.0, 0.0, 2585.0, 2709.0, 606.0, 540.0, 0.0, 0.0, 0.0, 0.0, 0.0, 0.0, 0.0, 3859.0, 1007.6, 0.0, 4510.0, 0.0, 370.0, 1808.0, 0.0, 0.0, 0.0, 0.0, 0.0, 0.0, 0.0, 0.0, 0.0, 0.0, 0.0, 0.0, 12083.0, 2704.0, 1267.0, 18253.35, 0.0, 0.0, 638.6, 0.0, 3131.1999999999994, 128.0, 580.0, 8594.34, 8594.34, 0.0, 4490.0, 0.0, 0.0, 0.0, 6020.0, 0.0, 3195.0, 0.0, 315.0, 0.0, 0.0, 650.0, 0.0, 0.0, 0.0, 170.0, 5394.2, 0.0, 2293.0, 200.0, 0.0, 0.0, 0.0, 3093.3, 1174.2, 0.0, 98.0, 50.0, 0.0, 0.0, 0.0, 0.0, 0.0, 0.0, 1988.0, 607.3, 0.0, 0.0, 0.0, 0.0, 100.0, 0.0, 0.0, 0.0, 0.0, 0.0, 0.0, 5555.5, 0.0, 0.0, 0.0, 0.0, 60.0, 0.0, 100.0, 1025.0, 1122.0, 0.0, 3711.0, 0.0, 0.0, 0.0, 6376.0, 0.0, 2598.0, 1060.0, 0.0, 0.0, 4019.34, 40.0, 0.0, 0.0, 0.0, 680.0, 0.0, 0.0, 0.0, 0.0, 0.0, 203.5, 0.0, 0.0, 0.0, 0.0, 0.0, 0.0, 725.2, 0.0, 0.0, 0.0, 7903.2, 3141.5, 0.0, 0.0, 0.0, 0.0, 1062.0, 0.0, 80.0, 0.0, 0.0, 0.0, 0.0, 400.0, 77.0, 0.0, 0.0, 458.0, 0.0, 0.0, 0.0, 1771.1, 0.0, 0.0, 0.0, 0.0, 0.0, 504.0, 500.0, 0.0, 0.0, 0.0, 100.0, 0.0, 52409.54999999999, 0.0, 52409.54999999999, 0.0, 457.0, 1230.0, 33499.48, 0.0, 59574.799999999996, 0.0, 0.0, 317.9, 0.0, 0.0, 1057.0, 0.0, 1900.8399999999997, 0.0, 1026.0, 566.0, 0.0, 0.0, 0.0, 4113.0, 8163.99, 0.0, 1088.0, 0.0, 0.0, 0.0, 0.0, 0.0, 4508.8, 700.0, 3322.0, 230.0, 600.0, 30520.27, 0.0, 25.0, 23862.690000000002, 27884.610000000004, 0.0, 1000.0, 11899.0, 0.0, 0.0, 5677.0, 226.60000000000002, 604.0, 115.0, 0.0, 1452.88, 3174.0, 11834.3, 150.0, 0.0, 0.0, 30628.0, 189.0, 976.0, 13903.0, 54.0, 4182.0, 0.0, 0.0, 954.9000000000001, 4701.2, 0.0, 0.0, 0.0, 13320.499999999998, 0.0, 9191.0, 0.0, 3261.0, 0.0, 0.0, 3964.98, 0.0, 0.0, 0.0, 0.0, 0.0, 17053.239999999998, 105351.90000000001, 0.0, 50693.799999999996, 15663.0, 0.0, 0.0, 0.0, 0.0, 0.0, 0.0, 0.0, 1641.0, 0.0, 0.0, 0.0, 0.0, 0.0, 0.0, 46134.36, 0.0, 0.0, 0.0, 0.0, 4001.0, 0.0, 0.0, 0.0, 4128.6, 0.0, 0.0, 0.0, 8321.0, 0.0, 0.0, 0.0, 0.0, 0.0, 0.0, 0.0, 25357.5, 16923.0, 0.0, 0.0, 0.0, 456.0, 0.0, 0.0, 0.0, 0.0, 0.0, 0.0, 0.0, 0.0, 13874.999999999998, 4409.0, 0.0, 0.0, 0.0, 0.0, 3122.0, 0.0, 0.0, 1300.0, 674.0, 0.0, 0.0, 0.0, 580.0, 45.0, 0.0, 0.0, 0.0, 0.0, 0.0, 0.0, 0.0, 0.0, 0.0, 0.0, 0.0, 0.0, 0.0, 0.0, 764.0, 0.0, 0.0, 0.0, 90.0, 0.0, 0.0, 0.0, 0.0, 0.0, 0.0, 0.0, 0.0, 0.0, 0.0, 0.0, 300.0, 0.0, 0.0, 0.0, 2653.0, 2194.0, 159.0, 0.0, 0.0, 141.0, 0.0, 0.0, 0.0, 504.0, 0.0, 0.0, 759.5, 0.0, 0.0, 0.0, 1626.5, 80.0, 0.0, 6934.4, 372.0, 0.0, 0.0, 0.0, 0.0, 0.0, 0.0, 19.0, 12344.0, 0.0, 0.0, 0.0, 952.0, 1983.0, 2984.0, 1160.0, 3099.3, 2880.0, 0.0, 0.0, 50.0, 2196.0, 0.0, 0.0, 27.0, 0.0, 0.0, 0.0, 0.0, 0.0, 0.0, 100.0, 454.0, 0.0, 0.0, 910.0, 5831.2, 0.0, 0.0, 2369.5, 0.0, 100.0, 0.0, 0.0, 0.0, 0.0, 0.0, 0.0, 0.0, 0.0, 0.0, 1500.0, 0.0, 0.0, 0.0, 500.0, 0.0, 8233.2, 0.0, 0.0, 0.0, 0.0, 0.0, 720.0, 0.0, 0.0, 0.0, 615.0, 0.0, 1100.5, 10786.0, 160.0, 0.0, 0.0, 0.0, 910.0, 12146.22, 1510.0, 0.0, 0.0, 0.0, 0.0, 0.0, 0.0, 3244.0, 0.0, 20.0, 602.0, 5978.099999999999, 0.0, 0.0, 0.0, 0.0, 0.0, 0.0, 0.0, 0.0, 0.0, 20782.2, 0.0, 0.0, 0.0, 0.0, 0.0, 80.0, 0.0, 0.0, 0.0, 0.0, 0.0, 0.0, 0.0, 0.0, 0.0, 0.0, 150.0, 0.0, 0.0, 0.0, 0.0, 0.0, 0.0, 0.0, 0.0, 0.0, 0.0, 0.0, 0.0, 0.0, 0.0, 0.0, 0.0, 0.0, 0.0, 2879.5, 0.0, 0.0, 0.0, 0.0, 0.0, 0.0, 0.0, 0.0, 0.0, 0.0, 0.0, 0.0, 0.0, 0.0, 0.0, 500.0, 0.0, 0.0, 955.0, 291.8, 955.0, 0.0, 0.0, 17183.1, 1230.0, 0.0, 0.0, 0.0, 0.0, 0.0, 0.0, 85.0, 0.0, 75.0, 0.0, 0.0, 9147.740000000002, 75.0, 0.0, 16949.9, 0.0, 160.0, 3271.6, 0.0, 17648.6, 0.0, 400.0, 1163.0, 0.0, 0.0, 0.0, 0.0, 0.0, 0.0, 158.0, 0.0, 0.0, 1999.0, 421.0, 0.0, 9607.6, 0.0, 0.0, 1213.0, 7455.0, 0.0, 1918.0, 0.0, 0.0, 0.0, 0.0, 0.0, 0.0, 1127.0, 0.0, 6130.0, 0.0, 3074.0, 0.0, 966.0, 52.0, 54014.27000000004, 0.0, 0.0, 0.0, 192.0, 3374.0, 0.0, 8525.0, 0.0, 0.0, 0.0, 0.0, 0.0, 0.0, 0.0, 0.0, 6961.2, 526.0, 24522.7, 0.0, 0.0, 0.0, 0.0, 921.0, 921.0, 0.0, 0.0, 499.8, 0.0, 0.0, 0.0, 0.0, 0.0, 0.0, 0.0, 0.0, 50.0, 0.0, 836.0, 836.0, 0.0, 8239.5, 0.0, 918.0, 0.0, 28952.3, 7563.8, 0.0, 0.0, 0.0, 0.0, 0.0, 0.0, 0.0, 1160.0, 0.0, 999.75, 10606.6, 0.0, 950.0, 0.0, 0.0, 0.0, 0.0, 0.0, 736.0, 0.0, 0.0, 0.0, 0.0, 0.0, 14064.9, 0.0, 20.0, 0.0, 0.0, 280.0, 0.0, 200.0, 710.0, 0.0, 0.0, 0.0, 0.0, 66311.0, 0.0, 0.0, 0.0, 0.0, 121815.55, 0.0, 0.0, 232.0, 0.0, 0.0, 0.0, 0.0, 0.0, 1671.0, 688.0, 0.0, 1320.0, 183.0, 2021.2, 130.0, 11244.869999999999, 0.0, 425.0, 375.0, 0.0, 0.0, 0.0, 0.0, 10354.4, 10354.4, 0.0, 4224.6, 0.0, 93.0, 0.0, 0.0, 0.0, 0.0, 22291.010000000002, 0.0, 0.0, 0.0, 0.0, 0.0, 0.0, 0.0, 0.0, 0.0, 0.0, 0.0, 0.0, 0.0, 0.0, 500.0, 0.0, 328.0, 435.0, 0.0, 2310.0, 2310.0, 0.0, 0.0, 0.0, 0.0, 0.0, 0.0, 2232.05, 0.0, 0.0, 85.0, 0.0, 1375.5, 0.0, 0.0, 0.0, 0.0, 0.0, 0.0, 0.0, 0.0, 0.0, 0.0, 108.0, 0.0, 810.0, 0.0, 0.0, 0.0, 0.0, 0.0, 0.0, 0.0, 0.0, 0.0, 0.0, 0.0, 0.0, 0.0, 610.0, 0.0, 0.0, 0.0, 22945.0, 0.0, 0.0, 763.0, 0.0, 0.0, 0.0, 5935.5, 0.0, 0.0, 0.0, 0.0, 0.0, 2767.0, 0.0, 0.0, 0.0, 0.0, 0.0, 450.0, 0.0, 4489.0, 0.0, 15706.0, 25.0, 0.0, 0.0, 0.0, 2090.0, 400.0, 12569.3, 0.0, 0.0, 0.0, 5640.0, 0.0, 390.0, 0.0, 1323.0, 0.0, 8059.37, 0.0, 0.0, 420.0, 0.0, 175.0, 0.0, 0.0, 8267.0, 912.0, 0.0, 0.0, 0.0, 0.0, 0.0, 0.0, 0.0, 0.0, 0.0, 0.0, 4731.0, 0.0, 280.0, 3604.65, 0.0, 500.0, 200.0, 0.0, 0.0, 2765.0, 0.0, 0.0, 0.0, 0.0, 3000.0, 1827.0, 0.0, 0.0, 0.0, 0.0, 97.0, 316.0, 468.0, 2605.3, 750.0, 0.0, 0.0, 20833.02, 0.0, 0.0, 20149.0, 20.0, 0.0, 0.0, 84.0, 19.0, 0.0, 0.0, 0.0, 0.0, 0.0, 400.0, 0.0, 600.0, 0.0, 0.0, 0.0, 0.0, 0.0, 0.0, 0.0, 0.0, 0.0, 0.0, 0.0, 0.0, 0.0, 3802.0, 904.3, 0.0, 0.0, 0.0, 0.0, 0.0, 5418.0, 0.0, 0.0, 0.0, 0.0, 170.0, 0.0, 0.0, 0.0, 0.0, 0.0, 40.0, 0.0, 0.0, 0.0, 0.0, 0.0, 0.0, 0.0, 12996.8, 0.0, 0.0, 0.0, 60.0, 60.0, 50.0, 0.0, 300.0, 0.0, 0.0, 0.0, 0.0, 0.0, 660.0, 0.0, 0.0, 0.0, 34731.380000000005, 0.0, 0.0, 0.0, 6846.0, 0.0, 0.0, 0.0, 0.0, 646.2, 0.0, 480.0, 0.0, 0.0, 0.0, 465.0, 0.0, 0.0, 3290.0, 924.0, 0.0, 0.0, 0.0, 0.0, 1386.0, 0.0, 0.0, 0.0, 0.0, 0.0, 0.0, 0.0, 0.0, 0.0, 314.0, 0.0, 0.0, 0.0, 4196.1, 0.0], \"z\": [42757.16, 75932.43, 42340.0, 355876.44, 50000.0, 30000.0, 65376.56, 30000.0, 163450.8, 55943.32, 50076.25, 28000.0, 29131.83, 24891.59, 42833.0, 34450.0, 20721.82, 23994.6, 32208.65, 31270.98, 21338.78, 27116.13, 25989.29, 36411.83, 24933.06, 38429.97, 22935.65, 38367.0, 30000.0, 17400.0, 34303.25, 25809.33, 21189.79, 35912.7, 36667.88, 40050.88, 42006.67, 23746.36, 92619.02, 7614.46, 40618.56, 66769.8, 39961.05, 22473.0, 31933.79, 52761.36, 50989.25, 49500.0, 61066.02, 45993.95, 45993.95, 28328.22, 16033.57, 40675.31, 31104.48, 52133.62, 85979.13, 17048.69, 66377.25, 31970.84, 14379.35, 24867.96, 12185.24, 59800.48, 8445.63, 26100.0, 34662.83, 48076.17, 79622.58, 45066.0, 31025.85, 51577.95, 37310.43, 37310.43, 19209.74, 37207.29, 11677.87, 200000.0, 50684.52, 24855.33, 26998.62, 70000.0, 48960.58, 22401.23, 26335.24, 21499.9, 25000.0, 38784.22, 25000.0, 57982.06, 26138.92, 47677.4, 62100.82, 36821.2, 30764.48, 58053.32, 53760.42, 55431.98, 26511.76, 54358.87, 132348.06, 77647.5, 82479.12, 75947.0, 66934.0, 32977.3, 60875.74, 52673.32, 26290.47, 19706.49, 40401.64, 18548.16, 19140.0, 21227.81, 26419.0, 29034.21, 34411.84, 32615.89, 20000.0, 18753.0, 30453.51, 34621.0, 27409.33, 22675.2, 14144.79, 15745.22, 43482.12, 4391.76, 16000.0, 26996.63, 61335.0, 30116.5, 35126.14, 24000.0, 34908.07, 33528.08, 23175.06, 21750.0, 21750.0, 37896.48, 50023.48, 39150.0, 16999.03, 33263.9, 40415.9, 10440.0, 43561.68, 137036.67, 50244.73, 32388.08, 22833.19, 2504.65, 3438.05, 18815.5, 42436.81, 32282.0, 28523.97, 22954.69, 37051.06, 40030.77, 21383.67, 32066.6, 60900.0, 19577.9, 21721.48, 22470.69, 38685.36, 43993.0, 23847.67, 8152.4, 21254.96, 49836.31, 34640.5, 48736.7, 9280.78, 21558.09, 26617.55, 13379.43, 56716.02, 50460.0, 16579.35, 45530.99, 57521.29, 21868.0, 49735.0, 28270.88, 26100.0, 38603.35, 24501.64, 68583.43, 49290.88, 18136.57, 30215.87, 40270.27, 23575.61, 25253.19, 34019.3, 28466.77, 41211.65, 41325.0, 38478.81, 38369.39, 38812.71, 33524.85, 50271.56, 56961.51, 56961.51, 21168.84, 16677.02, 52388.65, 35000.0, 44139.43, 26318.88, 52038.55, 19676.0, 16057.13, 105380.99, 30276.0, 29871.8, 29560.27, 22965.25, 36607.62, 34310.03, 27148.65, 30183.02, 37858.39, 19477.43, 22316.12, 46740.94, 28488.55, 21000.65, 23364.59, 38034.37, 35231.0, 32108.64, 54554.54, 28676.45, 26634.96, 44583.8, 30054.07, 44950.0, 90171.86, 54924.7, 40876.08, 30450.0, 42136.01, 112881.56, 23327.74, 95450.37, 54709.93, 17186.83, 64715.68, 37994.74, 32293.01, 31109.63, 99762.02, 34811.04, 85324.57, 29408.1, 18126.58, 17400.0, 52935.54, 12324.97, 31568.54, 20013.45, 39999.92, 35545.13, 56442.46, 30983.23, 32428.53, 19048.81, 22093.71, 21102.04, 24810.23, 39252.4, 16544.75, 24841.48, 62184.75, 55310.0, 19545.11, 12450.29, 31544.21, 34883.67, 45398.14, 32746.22, 24004.7, 36462.68, 18627.26, 30783.5, 121522.88, 50479.64, 21381.1, 66333.62, 32435.83, 28626.27, 21585.47, 21242.55, 53250.41, 17921.3, 81420.65, 32126.82, 28347.93, 31015.38, 39257.01, 41061.39, 35729.87, 42834.23, 43500.0, 26310.75, 25000.0, 38124.09, 37758.0, 28249.8, 45500.0, 36351.36, 20010.0, 36351.36, 48597.65, 26758.33, 40905.38, 21940.0, 41342.0, 59758.6, 33085.12, 165843.0, 41673.44, 24102.44, 79903.0, 80607.55, 31475.97, 35000.0, 58821.11, 35015.29, 82043.66, 37950.43, 50000.0, 43349.82, 31453.14, 160515.0, 45538.0, 43099.15, 192348.57, 18320.02, 17081.32, 25635.59, 23863.4, 21268.32, 28841.67, 19444.0, 51322.26, 58408.74, 50342.09, 27413.33, 41497.57, 13629.63, 37000.0, 51837.22, 28190.05, 24211.9, 14738.02, 27887.73, 34698.47, 33932.01, 31304.82, 51124.22, 35000.0, 30773.7, 31056.52, 30846.54, 26100.0, 37541.66, 30831.46, 26825.0, 59932.41, 63405.01, 18752.11, 14790.0, 12455.5, 29724.99, 40890.0, 73950.0, 14870.92, 51460.5, 25745.75, 29895.27, 42854.42, 23732.09, 44539.64, 49860.29, 14302.66, 22620.0, 29000.0, 52799.26, 68204.97, 29030.37, 41403.15, 28595.59, 55059.93, 57012.72, 12330.31, 29960.28, 22452.73, 23375.02, 59533.04, 9817.95, 27247.26, 35061.0, 27712.36, 28600.0, 11648.0, 30450.0, 54356.15, 61046.85, 14906.0, 39751.75, 40113.53, 34636.78, 32089.95, 20010.0, 48115.01, 40326.0, 45115.65, 96166.9, 38964.67, 49980.37, 73017.36, 46074.53, 63435.43, 57939.64, 32130.66, 50000.0, 76684.71, 45867.23, 35017.5, 30780.0, 56106.03, 46137.27, 27000.0, 26857.14, 47117.75, 56812.0, 45123.33, 28581.77, 53835.0, 75907.63, 31466.65, 31466.65, 44950.0, 20125.58, 82763.19, 56440.0, 69250.02, 19264.95, 103341.0, 216670.0, 77619.0, 184993.84, 49375.45, 92248.15, 32314.43, 54608.63, 36917.63, 43266.24, 61110.0, 66122.79, 47850.0, 76565.33, 70225.5, 69051.28, 40020.0, 48539.36, 42743.1, 37965.01, 93533.4, 40931.81, 26970.0, 35394.68, 42822.72, 37282.86, 54260.45, 73930.84, 76635.0, 59815.0, 61769.24, 96694.55, 78040.85, 22912.42, 54017.0, 52521.84, 42264.31, 41237.49, 84410.04, 30795.33, 41093.0, 25785.06, 20341.06, 33606.5, 18135.88, 10276.0, 20000.0, 29679.64, 24590.34, 32187.45, 36614.53, 23775.52, 26862.98, 34103.0, 21750.0, 26453.66, 27183.98, 58116.0, 40600.0, 30000.0, 23649.19, 36704.66, 37282.71, 82865.0, 57941.47, 253968.0, 25631.51, 36858.77, 70333.33, 28958.32, 11067.0, 30450.0, 40514.71, 57551.4, 116665.55, 20872.66, 22616.0, 32500.0, 20572.13, 29646.5, 21929.81, 70000.0, 24294.32, 43611.52, 15638.0, 120301.31, 40553.59, 28438.85, 44958.01, 45022.5, 60583.33, 91187.93, 52925.0, 85669.67, 35329.44, 21118.3, 35389.97, 40309.58, 32872.38, 62350.0, 62350.0, 69600.0, 21704.98, 15478.75, 16000.0, 39248.0, 27931.44, 32606.2, 30000.0, 42104.86, 42733.15, 60000.0, 51736.26, 63275.25, 8444.62, 17242.4, 24432.21, 44507.63, 34102.83, 63822.14, 29129.06, 50750.0, 68108.99, 37167.18, 27096.43, 51371.19, 37532.07, 69570.7, 37804.17, 26236.85, 38579.0, 28797.43, 22524.99, 43114.3, 43114.3, 61905.94, 49182.0, 28663.46, 29832.34, 68930.303, 27785.43, 150205.32, 25000.0, 60777.02, 42262.49, 59010.5, 35072.79, 21716.32, 22340.91, 26645.9, 43500.0, 12838.31, 49330.73, 30907.03, 36033.57, 126706.21, 37996.5, 48460.29, 57589.64, 102761.49, 209700.0, 52200.63, 50893.0, 12688.0, 59448.28, 157727.0, 120672.04, 9990.5, 43500.0, 24682.0, 58570.79, 51069.3, 37000.0, 28992.0, 30522.5, 30774.0, 29760.38, 16000.0, 10038.0, 21612.0, 19032.98, 13710.33, 24853.43, 40013.18, 12180.0, 30145.38, 30145.38, 12387.06, 41760.0, 20823.7, 12513.06, 44599.16, 11727.51, 32212.37, 43542.3, 35215.91, 22785.02, 27933.76, 18818.14, 40256.08, 19220.56, 50025.0, 28104.62, 26691.6, 45675.0, 34800.0, 27381.05, 27365.23, 64801.04, 30496.28, 30496.28, 56371.5, 44805.0, 25230.0, 15645.5, 43353.55, 75125.0, 40567.75, 12849.75, 35472.32, 22984.59, 30457.02, 29727.4, 36015.0, 33920.39, 14821.0, 33679.51, 33754.78, 39748.85, 47815.6, 34220.0, 60464.68, 19239.38, 29037.85, 29037.85, 36398.07, 24600.76, 52459.55, 39150.0, 38585.4, 24287.86, 70151.0, 33717.0, 15423.8, 50872.0, 26093.22, 26468.0, 55752.5, 19698.83, 43692.47, 40904.12, 39198.86, 49190.55, 18732.65, 33883.68, 37500.0, 52804.09, 42422.57, 50317.1, 15351.07, 35321.23, 21750.0, 35505.56, 44139.66, 42433.64, 17497.73, 25997.89, 30750.28, 25872.03, 23197.5, 26152.54, 25889.15, 40213.57, 38915.1, 49157.61, 27676.44, 31832.39, 56371.32, 48059.22, 45125.0, 46204.83, 41087.0, 47546.58, 25453.78, 41959.0, 37857.82, 79750.0, 33766.6, 26970.0, 115172.48, 30000.0, 47782.61, 52475.29, 146395.13, 9151.19, 193853.69, 49819.0, 52707.5, 36629.9, 17555.67, 35374.99, 43889.0, 10829.18, 39696.17, 19994.38, 47235.93, 75447.96, 61048.73, 19955.63, 35246.6, 69174.0, 17275.83, 48596.06, 21205.89, 22342.37, 20603.22, 57865.62, 25287.6, 14149.09, 31175.3, 46429.22, 36416.07, 99888.6, 64589.01, 39195.0, 22578.84, 34526.82, 33097.78, 44959.22, 104450.21, 20614.36, 24003.29, 22085.28, 14995.9, 36447.57, 53545.42, 50262.25, 15826.75, 58786.13, 37377.56, 26833.0, 49576.15, 38178.0, 27758.1, 52129.68, 38165.0, 10614.49, 37845.86, 36268.35, 41818.0, 35200.84, 22205.0, 51256.39, 31852.45, 35983.08, 32981.78, 49921.7, 13050.0, 34014.47, 24021.14, 27540.0, 40265.14, 50223.91, 32182.3, 36292.0, 38599.68, 251500.69, 39954.66, 83549.97, 81590.2, 37739.54, 185088.8, 35279.0, 17908.66, 8462.3, 8462.3, 8462.3, 37488.91, 45697.8, 10643.0, 83773.31, 41916.85, 22660.15, 47309.3, 30517.55, 37206.25, 58536.0, 74122.09, 33665.61, 38766.52, 36465.78, 9570.0, 25849.34, 181723.3, 46733.5, 35403.44, 36647.81, 11448.0, 38219.0, 43102.79, 27234.78, 56541.52, 39000.0, 61344.43, 97271.35, 34452.0, 46428.18, 36647.8, 37755.1, 7669.0, 193140.0, 37401.59, 37401.59, 31843.88, 76454.13, 72000.0, 79321.77, 36838.45, 85203.06, 51154.14, 24799.65, 9427.9, 44773.25, 24183.89, 80066.26, 41228.72, 30160.0, 18502.36, 34000.0, 23859.7, 29553.46, 9578.19, 57855.0, 25077.93, 38285.94, 112411.17, 50014.52, 45035.61, 74530.0, 40409.89, 40409.89, 43164.1, 25840.45, 59378.15, 48482.93, 31160.17, 44154.15, 51053.18, 22772.54, 67222.94, 60351.99, 59494.37, 27622.5, 39709.54, 31539.0, 24611.0, 45225.5, 58662.07, 51306.0, 63661.79, 30636.29, 24033.91, 31847.0, 34655.06, 30751.82, 26196.78, 44938.0, 31500.0, 24716.0, 56614.24, 53595.74, 41778.0, 55598.31, 54523.14, 46307.0, 96973.51, 65867.56, 24797.62, 30853.38, 114767.85, 25927.44, 34943.73, 30505.25, 39902.42, 38916.04, 40386.07, 12231.72, 82594.57, 83421.64, 53650.0, 27896.0, 44660.64, 49867.93, 87159.0, 27431.0, 80683.33, 73370.88, 264837.5, 33505.76, 35692.77, 24911.6, 96417.74, 19343.0, 10540.33, 43710.25, 46510.05, 60000.0, 22071.0, 30084.35, 26053.8, 23536.25, 55286.0, 42425.49, 14277.71, 20830.76, 35778.64, 36456.01, 16841.75, 28301.0, 32697.07, 50758.0, 43405.12, 43427.45, 15290.34, 39150.0, 37154.95, 23810.53, 27575.94, 34188.05, 28530.3, 25308.0, 82650.0, 49884.5, 69875.31, 61321.01, 32002.08, 33019.45, 111787.06, 104098.54, 43499.43, 59045.45, 38498.25, 33218.66, 21010.68, 38561.09, 55870.02, 52654.31, 107029.19, 36284.77, 117252.0, 50031.95, 46552.17, 39096.41, 153892.98, 61058.21, 27157.84, 28366.33, 51898.02, 34278.0, 32274.76, 15477.0, 38934.29, 25220.53, 53617.06, 30559.7, 30089.7, 62927.43, 61154.85, 49172.97, 51137.22, 39150.0, 32064.31, 37972.0, 48140.0, 35937.82, 48356.6, 39139.41, 43372.0, 23160.85, 37389.85, 50136.29, 110522.53, 29953.93, 47050.93, 31440.75, 217500.0, 79758.0, 14144.36, 38555.0, 42647.0, 20020.46, 24105.0, 66869.44, 50304.39, 77636.78, 33184.35, 29634.54, 26100.0, 32767.02, 195530.0, 27153.86, 72118.72, 51575.78, 57226.0, 62442.22, 55754.63, 55462.0, 31495.88, 75641.46, 47850.0, 19139.37, 68890.0, 44955.0, 15143.59, 85076.56, 106892.1, 81747.43, 181376.9, 164951.3, 82190.77, 131689.27, 41554.0, 128470.0, 103073.53, 44958.06, 62664.83, 37977.65, 39551.97, 24604.39, 47519.59, 55929.42, 58263.4, 27779.51, 25451.43, 38633.96, 44000.0, 51900.96, 51832.54, 49084.09, 27526.48, 44706.55, 45048.6, 55230.51, 38146.32, 147139.33, 55727.78, 34892.97, 60604.59, 49614.49, 219833.34, 41542.5, 72677.29, 51232.88, 20700.0, 14352.87, 141073.87, 47646.65, 19069.06, 31758.0, 47290.12, 45782.88, 114840.0, 87000.0, 41051.99, 10242.0, 31886.64, 43000.0, 35000.0, 52000.0, 50000.0, 109556.6, 28817.0, 49146.4, 30102.0, 46893.0, 35394.68, 31120.0, 25318.95, 19467.32, 14667.0, 34031.0, 32398.26, 17822.95, 32344.53, 27666.35, 16182.14, 20000.0, 54327.0, 93670.0, 56137.22, 16900.0, 44800.0, 44029.0, 45000.0, 23000.0, 21000.0, 38450.83, 60000.0, 45414.0, 54679.13, 68821.85, 34256.36, 30000.0, 25000.0, 30000.0, 54845.34, 20000.0, 50000.0, 23345.38, 24394.51, 46146.45, 15178.53, 30068.09, 20369.75, 85000.0, 25000.0, 35000.0, 38000.0, 76087.0, 38913.0, 1000000.0, 22565.1, 100197.1, 23338.85, 33612.0, 56732.0, 28172.61, 25000.0, 105000.0, 47586.0, 87000.0, 13368.12, 65000.0, 88664.24, 23760.0, 30000.0, 16695.56, 40354.11, 40000.0, 20119.14, 27431.02, 19154.5, 27151.55, 27933.51, 56286.46, 67129.2, 33376.09, 16081.04, 24508.43, 50954.19, 47760.68, 64803.78, 44042.39, 40113.36, 59550.34, 74260.02, 56145.0, 38837.6, 28969.82, 47850.0, 67577.98, 9882.0, 20000.0, 16900.98, 55897.66, 60030.0, 43500.0, 1500000.0, 35406.06, 39599.0, 39599.0, 25037.82, 46045.44, 33319.3, 11918.61, 27329.11, 19192.0, 39804.93, 25282.65, 11796.0, 15778.0, 33367.83, 78221.83, 33393.69, 34592.04, 50802.13, 71072.54, 65000.0, 27000.0, 35000.0, 34800.0, 30447.41, 43500.0, 48105.04, 124633.0, 124632.99, 15190.21, 25000.0, 121058.06, 47769.92, 81246.08, 20000.0, 11280.0, 15000.0, 11000.0, 30000.0, 75026.51, 28363.0, 27240.39, 36542.54, 15706.6, 42929.27, 26100.0, 24103.54, 38240.56, 16426.36, 19000.0, 33539.0, 24377.69, 50000.0, 30000.0, 35000.0, 128470.0, 29000.0, 34800.0, 33930.0, 33148.06, 54938.6, 11371.0, 16000.0, 15000.0, 12000.0, 10300.0, 61248.0, 29131.11, 25484.1, 37000.0, 70000.0, 20000.0, 35000.0, 30000.0, 26500.0, 50000.0, 32000.0, 40000.0, 28000.0, 130000.0, 45000.0, 20000.0, 35000.0, 60000.0, 25000.0, 38053.6, 48488.0, 22704.83, 32829.11, 40597.88, 17487.61, 18028.49, 37195.12, 25000.0, 44036.74, 30479.0, 13038.0, 12000.0, 22000.0, 40000.0, 20000.0, 23407.93, 40000.0, 85000.0, 55000.0, 33000.0, 38845.08, 43500.0, 59762.87, 23000.0, 35000.0, 45000.0, 30000.0, 45000.0, 38000.0, 23000.0, 25000.0, 35000.0, 23498.29, 41887.74, 42630.0, 42630.0, 22743.84, 89436.0, 30450.0, 35177.18, 20000.0, 45000.0, 28269.05, 45000.0, 30000.0, 56538.54, 30000.0, 65000.0, 52000.0, 30000.0, 30000.0, 15000.0, 46241.17, 42014.33, 27000.0, 26000.0, 53817.47, 22952.0, 52026.0, 53527.15, 55000.0, 25000.0, 45000.0, 35000.0, 38000.0, 16000.0, 40000.0, 45000.0, 25000.0, 16000.0, 35000.0, 35000.0, 48811.0, 45730.78, 52273.56, 24000.0, 16000.0, 25000.0, 30000.0, 40000.0, 65000.0, 34000.0, 65000.0, 62499.22, 55000.0, 38000.0, 22000.0, 40000.0, 15329.84, 53674.43, 41108.55, 49038.28, 25000.0, 18000.0, 27000.0, 15249.44, 50000.0, 25000.0, 25000.0, 25000.0, 120000.0, 41000.0, 20000.0, 52000.0, 25000.0, 15000.0, 20000.0, 30000.0, 30000.0, 54125.61, 20900.21, 10400.64, 30363.44, 26863.06, 87398.62, 39081.99, 24879.06, 37178.0, 41203.67, 31208.04, 55786.23, 14208.5, 36175.6, 20000.0, 35000.0, 60000.0, 20000.0, 30000.0, 40000.0, 13500.0, 20000.0, 50000.0, 19000.0, 17898.73, 23907.33, 23041.93, 30599.19, 30339.0, 35000.0, 30000.0, 30000.0, 49000.0, 80000.0, 40000.0, 21000.0, 23000.0, 14117.72, 22205.02, 15000.0, 24461.3, 30000.0, 25000.0, 35000.0, 35000.0, 15904.46, 59450.0, 25503.0, 48218.88, 11820.24, 27530.43, 60846.84, 12945.98, 46784.22, 80362.0, 36485.62, 15093.05, 48732.96, 25170.67, 55835.99, 48580.64, 34756.52, 66645.6, 108750.0, 73746.42, 37735.59, 36218.74, 37575.0, 37211.0, 164595.4, 30151.66, 80203.86, 34909.57, 59750.35, 24533.82, 50966.0, 50853.4, 39150.0, 36337.0, 33375.28, 62633.0, 25297.57, 20118.37, 17227.48, 53429.34, 40107.98, 19833.25, 21573.19, 76147.74, 25885.42, 17439.32, 59654.15, 169925.44, 53397.57, 26354.4, 36088.88, 18577.27, 32889.62, 11539.27, 41206.92, 25000.0, 42731.35, 22214.0, 45588.0, 49024.18, 54145.59, 25111.75, 28728.0, 33522.37, 31752.49, 42509.24, 27260.68, 25108.85, 36369.03, 25230.0, 25352.18, 14326.0, 28657.48, 28798.58, 40757.0, 101385.79, 43173.14, 39000.0, 24853.87, 62500.0, 140117.02, 19962.34, 144083.6, 37734.0, 25979.0, 64680.73, 58383.51, 17683.4, 36270.26, 30270.04, 61299.69, 37317.92, 12162.84, 38562.55, 54979.34, 45369.89, 36738.63, 26814.6, 30716.65, 28627.1, 30802.84, 42764.85, 41838.89, 77556.74, 62946.42, 82650.0, 44597.91, 35501.22, 52110.74, 55767.0, 24704.44, 21866.0, 110181.01, 31433.26, 31358.5, 41392.43, 77139.83, 23677.95, 35194.1, 29139.98, 55220.82, 51421.0, 12006.0, 57735.34, 48971.92, 17661.19, 115751.63, 27991.62, 28092.62, 26774.25, 28720.25, 16976.99, 40000.0, 50906.67, 42547.12, 204241.99, 16611.95, 38881.88, 52946.6, 20910.59, 31031.45, 38000.36, 18190.18, 34311.82, 24260.43, 31030.0, 22929.45, 64640.87, 33920.21, 32600.21, 25872.2, 90327.62, 96643.53, 68633.14, 48340.0, 74239.32, 43297.0, 52916.93, 73044.14, 22051.71, 198998.96, 117197.58, 90958.73, 161401.43, 69132.3, 170596.24, 102131.56, 72328.51, 142000.0, 45000.0, 27212.89, 45688.0, 45688.0, 65000.0, 30000.0, 30000.0, 28000.0, 135669.81, 70668.57, 86978.99, 19253.0, 47609.04, 31246.0, 42824.0, 48319.95, 58260.95, 32000.0, 30000.0, 44245.18, 49731.52, 47415.0, 90000.0, 85032.0, 69550.12, 73819.34, 46019.0, 68667.76, 66063.86, 78037.93, 57741.9, 70537.0, 62240.0, 41720.64, 39799.05, 79520.0, 48461.03, 50000.0, 35000.0, 61849.16, 222256.11, 72835.58, 45540.7, 61575.68, 25000.0, 35000.0, 80322.4, 80000.0, 74320.0, 50206.05, 48300.33, 29914.69, 28467.86, 21750.0, 27437.68, 38883.07, 96781.75, 70000.0, 130281.68, 62885.12, 64258.9, 48221.16, 41394.49, 50558.89, 29600.7, 16134.35, 19136.52, 42706.11, 14883.42, 33056.96, 20500.0, 71692.06, 51241.12, 21787.96, 41621.57, 22629.28, 42657.04, 30399.04, 18000.0, 22803.89, 42614.79, 22486.0, 36152.15, 99529.82, 63165.7, 43672.48, 25601.53, 57518.92, 55733.9, 28668.96, 79104.12, 11808.88, 47420.17, 19735.98, 32070.22, 28474.0, 35028.09, 49130.6, 33471.86, 29213.05, 82650.0, 23607.16, 21566.82, 27199.05, 97903.32, 32797.09, 48418.38, 130103.26, 41643.3, 26208.32, 43500.0, 60900.0, 16961.23, 45615.86, 22284.66, 36622.35, 33934.25, 30370.45, 34433.0, 56727.57, 17655.69, 23613.89, 270263.16, 50224.0, 20435.32, 36222.27, 11904.0, 22823.0, 77603.74, 82841.0, 68122.3, 22252.4, 97043.41, 36857.86, 71548.76, 55692.39, 44378.14, 44266.32, 61577.11, 28078.38, 28366.0, 27167.97, 24656.15, 23558.37, 27464.3, 19020.95, 40075.14, 15092.0, 29707.6, 9646.85, 23804.83, 21055.81, 40800.85, 40482.58, 13197.06, 32348.34, 16346.45, 22427.56, 42362.14, 27811.15, 21041.77, 22795.89, 67138.0, 22117.59, 42751.8, 24577.5, 76511.48, 21526.3, 26598.47, 42450.64, 46268.0, 75221.53, 15641.41, 28072.66, 25590.0, 41531.41, 33323.75, 58451.57, 39173.39, 44298.98, 34800.0, 72641.99, 32332.69, 26766.0, 45653.54, 21638.08, 43868.05, 37845.37, 42323.09, 41542.0, 18460.56, 17092.82, 19195.89, 40218.24, 29913.65, 40076.0, 43021.5, 37700.0, 34502.31, 51598.25, 33019.0, 42378.38, 26453.23, 51353.06, 34133.8, 36602.08, 33296.11, 28108.23, 29551.4, 19085.36, 19868.0, 45625.06, 29980.0, 12622.12, 30160.59, 154231.55, 71185.67, 79876.23, 18118.83, 59058.88, 52688.56, 31813.44, 39000.0, 42434.32, 32902.68, 21589.65, 64366.0, 37247.25, 40005.39, 39150.0, 78082.04, 50534.88, 55138.56, 46608.19, 55964.32, 37699.19, 36639.68, 32856.3, 38441.57, 22383.0, 47517.0, 48479.54, 60698.0, 20933.32, 30563.68, 26507.13, 47364.01, 6192.55, 52125.93, 29752.92, 24069.99, 73899.74, 28341.0, 38161.57, 32816.0, 38850.0, 55171.94, 41746.07, 29671.54, 52292.14, 20246.21, 33478.06, 40639.5, 47821.0, 101759.85, 42446.2, 53529.98, 22311.47, 43919.81, 29932.16, 30562.05, 35090.0, 77121.42, 26667.0, 77121.43, 31925.25, 29588.0, 23156.71, 63021.27, 41070.0, 29352.57, 40000.0, 42232.51, 18270.0, 31013.76, 74522.75, 57364.07, 42259.22, 13657.61, 43500.0, 49812.08, 40790.79, 34811.0, 42102.21, 68776.4, 8689.69, 25905.0, 56300.9, 59868.47, 52666.28, 219167.5, 61921.83, 26322.72, 60000.0, 25666.42, 57428.43, 27426.03, 46712.67, 8869.55, 29008.0, 39936.23, 119000.0, 83772.0, 52787.69, 50339.25, 24535.69, 24993.37, 48517.0, 31939.54, 76998.5, 71715.12, 29940.72, 41057.86, 40890.0, 42050.0, 71560.68, 23317.07, 35249.94, 27690.53, 84904.75, 24650.45, 30500.25, 34065.39, 42835.79, 78039.0, 133412.81, 46288.0, 67804.58, 37064.47, 100264.34, 44699.03, 26640.39, 33694.83, 49991.87, 38648.72, 38814.47, 37356.68, 58524.13, 25022.52, 46314.45, 46314.45, 26943.9, 27022.22, 41658.0, 44735.7, 32197.11, 84707.28, 38402.66, 34970.61, 33651.94, 100260.0, 49321.0, 99362.0, 24138.0, 102107.41, 172723.71, 69210.76, 20907.49, 47794.0, 101226.73, 32098.8, 74547.47, 56230.66, 51123.15, 51123.15, 86004.73, 36234.78, 49155.0, 99526.0, 88657.57, 151380.0, 58203.82, 49579.13, 52144.44, 52114.45, 91959.0, 95700.0, 23180.3, 63031.01, 130500.0, 77444.77, 37349.0, 79790.66, 25141.45, 134165.95, 28694.1, 28694.1, 80453.42, 80453.42, 58909.41, 78000.0, 28667.76, 29518.65, 22550.66, 26024.27, 38628.15, 70054.0, 37410.0, 46714.38, 31023.71, 44448.0, 40946.0, 79104.12, 45371.57, 195160.72, 25963.66, 46827.63, 20803.05, 28986.13, 51863.45, 27722.14, 56015.0, 54372.97, 127413.44, 52389.33, 29722.68, 26000.61, 36565.38, 26238.35, 153743.49, 23313.84, 80116.28, 30865.0, 100616.87, 49337.64, 70692.78, 11239.63, 21797.37, 55034.2, 34765.0, 48467.0, 35039.71, 39304.83, 34096.02, 22756.81, 30537.9, 49236.0, 22678.0, 87740.36, 87740.52, 35663.96, 39824.09, 16612.84, 27073.29, 24934.75, 78332.0, 40314.06, 43553.0, 21170.0, 45327.71, 85959.59, 52193.96, 31529.48, 17910.43, 50860.88, 21396.71, 42827.17, 78183.03, 23078.02, 18096.0, 18096.0, 23078.02, 32742.99, 40041.04, 60000.0, 24229.5, 101614.55, 127080.2, 21960.0, 21960.0, 36913.66, 86689.24, 38305.67, 28022.92, 49090.14, 35605.41, 52710.2, 32021.17, 39937.88, 41788.14, 24709.79, 20843.16, 54289.47, 31910.17, 49608.63, 49655.25, 31420.45, 88457.07, 39150.0, 19633.0, 35900.17, 66682.6, 42158.38, 15466.0, 53728.08, 41660.05, 54304.02, 26791.0, 59312.55, 43826.69, 152034.9, 34095.3, 43380.31, 19650.12, 48800.0, 47731.75, 50460.0, 46439.0, 45938.01, 52648.15, 54300.47, 35923.82, 52722.84, 30335.44, 31131.11, 36356.72, 52514.21, 34615.96, 32269.38, 23826.51, 32765.1, 25950.64, 27089.97, 36799.87, 12191.97, 63721.87, 20253.63, 28771.67, 12115.71, 31758.0, 39340.01, 57455.12, 39651.62, 75308.36, 41521.05, 32748.8, 17400.0, 28776.12, 45692.58, 38882.62, 52591.6, 72591.18, 28038.96, 89554.14, 28560.95, 45144.39, 30433.25, 54105.81, 85967.0, 29755.04, 31236.15, 102948.26, 26417.0, 85016.4, 25797.96, 17149.14, 95324.39, 76446.57, 37780.61, 34315.02, 32346.72, 30589.1, 23354.36, 41211.9, 66575.69, 11983.0, 14800.0, 21785.0, 29746.68, 32375.45, 293246.26, 58291.65, 58287.06, 55245.0, 34500.0, 40751.91, 36201.6, 117112.73, 55665.0, 24188.9, 87155.04, 77777.41, 83394.85, 337782.88, 58794.91, 23180.3, 106966.34, 73248.37, 67797.66, 65579.21, 82592.0, 28346.87, 36754.12, 14702.36, 26505.86, 29878.26, 31201.37, 78169.38, 106773.03, 92145.62, 41777.27, 104018.0, 36934.72, 37150.88, 51595.09, 47270.27, 24092.33, 9743.96, 62154.24, 43500.0, 72870.39, 54395.78, 25952.7, 17075.64, 13447.24, 82650.0, 15393.49, 25055.94, 35415.26, 32879.6, 18667.26, 65021.6, 102895.81, 28381.68, 54047.56, 39343.14, 51809.43, 51809.0, 76823.91, 33064.19, 29979.93, 18618.0, 24102.38, 50420.82, 19638.01, 31645.24, 47854.94, 60000.0, 29493.0, 19817.2, 78055.35, 47937.57, 53940.0, 12482.92, 49360.74, 59819.0, 41695.65, 55223.19, 62647.06, 56970.12, 112311.0, 46726.17, 60154.04, 39150.0, 71352.95, 35000.0, 27110.16, 27599.61, 21052.0, 37109.74, 37109.74, 33850.59, 11310.0, 57484.07, 45610.11, 36487.77, 39150.0, 149789.73, 88216.82, 121800.0, 29687.47, 44093.38, 79041.84, 46855.18, 36479.0, 25859.44, 34400.66, 56550.0, 15551.52, 46555.46, 38106.0, 35042.47, 38775.61, 25711.98, 36045.4, 36005.26, 35945.17, 21522.51, 56450.0, 47121.98, 19440.53, 107782.05, 23686.89, 22730.53, 22730.53, 57984.2, 32617.52, 108838.01, 73436.99, 39425.9, 72385.05, 29719.89, 95962.77, 49870.17, 95515.42, 324778.52, 44712.0, 56598.81, 62060.27, 46005.15, 70551.11, 107748.19, 52200.0]}],\n",
              "                        {\"scene\": {\"xaxis\": {\"title\": {\"text\": \"\\u0415\\u0434\\u0430\"}}, \"yaxis\": {\"title\": {\"text\": \"\\u0422\\u0440\\u0430\\u043d\\u0441\\u043f\\u043e\\u0440\\u0442\"}}, \"zaxis\": {\"title\": {\"text\": \"\\u0414\\u043e\\u0445\\u043e\\u0434\"}}}, \"template\": {\"data\": {\"bar\": [{\"error_x\": {\"color\": \"#2a3f5f\"}, \"error_y\": {\"color\": \"#2a3f5f\"}, \"marker\": {\"line\": {\"color\": \"#E5ECF6\", \"width\": 0.5}}, \"type\": \"bar\"}], \"barpolar\": [{\"marker\": {\"line\": {\"color\": \"#E5ECF6\", \"width\": 0.5}}, \"type\": \"barpolar\"}], \"carpet\": [{\"aaxis\": {\"endlinecolor\": \"#2a3f5f\", \"gridcolor\": \"white\", \"linecolor\": \"white\", \"minorgridcolor\": \"white\", \"startlinecolor\": \"#2a3f5f\"}, \"baxis\": {\"endlinecolor\": \"#2a3f5f\", \"gridcolor\": \"white\", \"linecolor\": \"white\", \"minorgridcolor\": \"white\", \"startlinecolor\": \"#2a3f5f\"}, \"type\": \"carpet\"}], \"choropleth\": [{\"colorbar\": {\"outlinewidth\": 0, \"ticks\": \"\"}, \"type\": \"choropleth\"}], \"contour\": [{\"colorbar\": {\"outlinewidth\": 0, \"ticks\": \"\"}, \"colorscale\": [[0.0, \"#0d0887\"], [0.1111111111111111, \"#46039f\"], [0.2222222222222222, \"#7201a8\"], [0.3333333333333333, \"#9c179e\"], [0.4444444444444444, \"#bd3786\"], [0.5555555555555556, \"#d8576b\"], [0.6666666666666666, \"#ed7953\"], [0.7777777777777778, \"#fb9f3a\"], [0.8888888888888888, \"#fdca26\"], [1.0, \"#f0f921\"]], \"type\": \"contour\"}], \"contourcarpet\": [{\"colorbar\": {\"outlinewidth\": 0, \"ticks\": \"\"}, \"type\": \"contourcarpet\"}], \"heatmap\": [{\"colorbar\": {\"outlinewidth\": 0, \"ticks\": \"\"}, \"colorscale\": [[0.0, \"#0d0887\"], [0.1111111111111111, \"#46039f\"], [0.2222222222222222, \"#7201a8\"], [0.3333333333333333, \"#9c179e\"], [0.4444444444444444, \"#bd3786\"], [0.5555555555555556, \"#d8576b\"], [0.6666666666666666, \"#ed7953\"], [0.7777777777777778, \"#fb9f3a\"], [0.8888888888888888, \"#fdca26\"], [1.0, \"#f0f921\"]], \"type\": \"heatmap\"}], \"heatmapgl\": [{\"colorbar\": {\"outlinewidth\": 0, \"ticks\": \"\"}, \"colorscale\": [[0.0, \"#0d0887\"], [0.1111111111111111, \"#46039f\"], [0.2222222222222222, \"#7201a8\"], [0.3333333333333333, \"#9c179e\"], [0.4444444444444444, \"#bd3786\"], [0.5555555555555556, \"#d8576b\"], [0.6666666666666666, \"#ed7953\"], [0.7777777777777778, \"#fb9f3a\"], [0.8888888888888888, \"#fdca26\"], [1.0, \"#f0f921\"]], \"type\": \"heatmapgl\"}], \"histogram\": [{\"marker\": {\"colorbar\": {\"outlinewidth\": 0, \"ticks\": \"\"}}, \"type\": \"histogram\"}], \"histogram2d\": [{\"colorbar\": {\"outlinewidth\": 0, \"ticks\": \"\"}, \"colorscale\": [[0.0, \"#0d0887\"], [0.1111111111111111, \"#46039f\"], [0.2222222222222222, \"#7201a8\"], [0.3333333333333333, \"#9c179e\"], [0.4444444444444444, \"#bd3786\"], [0.5555555555555556, \"#d8576b\"], [0.6666666666666666, \"#ed7953\"], [0.7777777777777778, \"#fb9f3a\"], [0.8888888888888888, \"#fdca26\"], [1.0, \"#f0f921\"]], \"type\": \"histogram2d\"}], \"histogram2dcontour\": [{\"colorbar\": {\"outlinewidth\": 0, \"ticks\": \"\"}, \"colorscale\": [[0.0, \"#0d0887\"], [0.1111111111111111, \"#46039f\"], [0.2222222222222222, \"#7201a8\"], [0.3333333333333333, \"#9c179e\"], [0.4444444444444444, \"#bd3786\"], [0.5555555555555556, \"#d8576b\"], [0.6666666666666666, \"#ed7953\"], [0.7777777777777778, \"#fb9f3a\"], [0.8888888888888888, \"#fdca26\"], [1.0, \"#f0f921\"]], \"type\": \"histogram2dcontour\"}], \"mesh3d\": [{\"colorbar\": {\"outlinewidth\": 0, \"ticks\": \"\"}, \"type\": \"mesh3d\"}], \"parcoords\": [{\"line\": {\"colorbar\": {\"outlinewidth\": 0, \"ticks\": \"\"}}, \"type\": \"parcoords\"}], \"pie\": [{\"automargin\": true, \"type\": \"pie\"}], \"scatter\": [{\"marker\": {\"colorbar\": {\"outlinewidth\": 0, \"ticks\": \"\"}}, \"type\": \"scatter\"}], \"scatter3d\": [{\"line\": {\"colorbar\": {\"outlinewidth\": 0, \"ticks\": \"\"}}, \"marker\": {\"colorbar\": {\"outlinewidth\": 0, \"ticks\": \"\"}}, \"type\": \"scatter3d\"}], \"scattercarpet\": [{\"marker\": {\"colorbar\": {\"outlinewidth\": 0, \"ticks\": \"\"}}, \"type\": \"scattercarpet\"}], \"scattergeo\": [{\"marker\": {\"colorbar\": {\"outlinewidth\": 0, \"ticks\": \"\"}}, \"type\": \"scattergeo\"}], \"scattergl\": [{\"marker\": {\"colorbar\": {\"outlinewidth\": 0, \"ticks\": \"\"}}, \"type\": \"scattergl\"}], \"scattermapbox\": [{\"marker\": {\"colorbar\": {\"outlinewidth\": 0, \"ticks\": \"\"}}, \"type\": \"scattermapbox\"}], \"scatterpolar\": [{\"marker\": {\"colorbar\": {\"outlinewidth\": 0, \"ticks\": \"\"}}, \"type\": \"scatterpolar\"}], \"scatterpolargl\": [{\"marker\": {\"colorbar\": {\"outlinewidth\": 0, \"ticks\": \"\"}}, \"type\": \"scatterpolargl\"}], \"scatterternary\": [{\"marker\": {\"colorbar\": {\"outlinewidth\": 0, \"ticks\": \"\"}}, \"type\": \"scatterternary\"}], \"surface\": [{\"colorbar\": {\"outlinewidth\": 0, \"ticks\": \"\"}, \"colorscale\": [[0.0, \"#0d0887\"], [0.1111111111111111, \"#46039f\"], [0.2222222222222222, \"#7201a8\"], [0.3333333333333333, \"#9c179e\"], [0.4444444444444444, \"#bd3786\"], [0.5555555555555556, \"#d8576b\"], [0.6666666666666666, \"#ed7953\"], [0.7777777777777778, \"#fb9f3a\"], [0.8888888888888888, \"#fdca26\"], [1.0, \"#f0f921\"]], \"type\": \"surface\"}], \"table\": [{\"cells\": {\"fill\": {\"color\": \"#EBF0F8\"}, \"line\": {\"color\": \"white\"}}, \"header\": {\"fill\": {\"color\": \"#C8D4E3\"}, \"line\": {\"color\": \"white\"}}, \"type\": \"table\"}]}, \"layout\": {\"annotationdefaults\": {\"arrowcolor\": \"#2a3f5f\", \"arrowhead\": 0, \"arrowwidth\": 1}, \"coloraxis\": {\"colorbar\": {\"outlinewidth\": 0, \"ticks\": \"\"}}, \"colorscale\": {\"diverging\": [[0, \"#8e0152\"], [0.1, \"#c51b7d\"], [0.2, \"#de77ae\"], [0.3, \"#f1b6da\"], [0.4, \"#fde0ef\"], [0.5, \"#f7f7f7\"], [0.6, \"#e6f5d0\"], [0.7, \"#b8e186\"], [0.8, \"#7fbc41\"], [0.9, \"#4d9221\"], [1, \"#276419\"]], \"sequential\": [[0.0, \"#0d0887\"], [0.1111111111111111, \"#46039f\"], [0.2222222222222222, \"#7201a8\"], [0.3333333333333333, \"#9c179e\"], [0.4444444444444444, \"#bd3786\"], [0.5555555555555556, \"#d8576b\"], [0.6666666666666666, \"#ed7953\"], [0.7777777777777778, \"#fb9f3a\"], [0.8888888888888888, \"#fdca26\"], [1.0, \"#f0f921\"]], \"sequentialminus\": [[0.0, \"#0d0887\"], [0.1111111111111111, \"#46039f\"], [0.2222222222222222, \"#7201a8\"], [0.3333333333333333, \"#9c179e\"], [0.4444444444444444, \"#bd3786\"], [0.5555555555555556, \"#d8576b\"], [0.6666666666666666, \"#ed7953\"], [0.7777777777777778, \"#fb9f3a\"], [0.8888888888888888, \"#fdca26\"], [1.0, \"#f0f921\"]]}, \"colorway\": [\"#636efa\", \"#EF553B\", \"#00cc96\", \"#ab63fa\", \"#FFA15A\", \"#19d3f3\", \"#FF6692\", \"#B6E880\", \"#FF97FF\", \"#FECB52\"], \"font\": {\"color\": \"#2a3f5f\"}, \"geo\": {\"bgcolor\": \"white\", \"lakecolor\": \"white\", \"landcolor\": \"#E5ECF6\", \"showlakes\": true, \"showland\": true, \"subunitcolor\": \"white\"}, \"hoverlabel\": {\"align\": \"left\"}, \"hovermode\": \"closest\", \"mapbox\": {\"style\": \"light\"}, \"paper_bgcolor\": \"white\", \"plot_bgcolor\": \"#E5ECF6\", \"polar\": {\"angularaxis\": {\"gridcolor\": \"white\", \"linecolor\": \"white\", \"ticks\": \"\"}, \"bgcolor\": \"#E5ECF6\", \"radialaxis\": {\"gridcolor\": \"white\", \"linecolor\": \"white\", \"ticks\": \"\"}}, \"scene\": {\"xaxis\": {\"backgroundcolor\": \"#E5ECF6\", \"gridcolor\": \"white\", \"gridwidth\": 2, \"linecolor\": \"white\", \"showbackground\": true, \"ticks\": \"\", \"zerolinecolor\": \"white\"}, \"yaxis\": {\"backgroundcolor\": \"#E5ECF6\", \"gridcolor\": \"white\", \"gridwidth\": 2, \"linecolor\": \"white\", \"showbackground\": true, \"ticks\": \"\", \"zerolinecolor\": \"white\"}, \"zaxis\": {\"backgroundcolor\": \"#E5ECF6\", \"gridcolor\": \"white\", \"gridwidth\": 2, \"linecolor\": \"white\", \"showbackground\": true, \"ticks\": \"\", \"zerolinecolor\": \"white\"}}, \"shapedefaults\": {\"line\": {\"color\": \"#2a3f5f\"}}, \"ternary\": {\"aaxis\": {\"gridcolor\": \"white\", \"linecolor\": \"white\", \"ticks\": \"\"}, \"baxis\": {\"gridcolor\": \"white\", \"linecolor\": \"white\", \"ticks\": \"\"}, \"bgcolor\": \"#E5ECF6\", \"caxis\": {\"gridcolor\": \"white\", \"linecolor\": \"white\", \"ticks\": \"\"}}, \"title\": {\"x\": 0.05}, \"xaxis\": {\"automargin\": true, \"gridcolor\": \"white\", \"linecolor\": \"white\", \"ticks\": \"\", \"title\": {\"standoff\": 15}, \"zerolinecolor\": \"white\", \"zerolinewidth\": 2}, \"yaxis\": {\"automargin\": true, \"gridcolor\": \"white\", \"linecolor\": \"white\", \"ticks\": \"\", \"title\": {\"standoff\": 15}, \"zerolinecolor\": \"white\", \"zerolinewidth\": 2}}}},\n",
              "                        {\"responsive\": true}\n",
              "                    ).then(function(){\n",
              "                            \n",
              "var gd = document.getElementById('df67f998-96ec-469b-b484-6821294b3831');\n",
              "var x = new MutationObserver(function (mutations, observer) {{\n",
              "        var display = window.getComputedStyle(gd).display;\n",
              "        if (!display || display === 'none') {{\n",
              "            console.log([gd, 'removed!']);\n",
              "            Plotly.purge(gd);\n",
              "            observer.disconnect();\n",
              "        }}\n",
              "}});\n",
              "\n",
              "// Listen for the removal of the full notebook cells\n",
              "var notebookContainer = gd.closest('#notebook-container');\n",
              "if (notebookContainer) {{\n",
              "    x.observe(notebookContainer, {childList: true});\n",
              "}}\n",
              "\n",
              "// Listen for the clearing of the current output cell\n",
              "var outputEl = gd.closest('.output');\n",
              "if (outputEl) {{\n",
              "    x.observe(outputEl, {childList: true});\n",
              "}}\n",
              "\n",
              "                        })\n",
              "                };\n",
              "                \n",
              "            </script>\n",
              "        </div>\n",
              "</body>\n",
              "</html>"
            ]
          },
          "metadata": {}
        }
      ]
    },
    {
      "cell_type": "markdown",
      "source": [
        "Видим что есть выбросы"
      ],
      "metadata": {
        "id": "uJ8mTpbIhdKV"
      }
    }
  ]
}